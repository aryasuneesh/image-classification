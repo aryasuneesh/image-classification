{
 "cells": [
  {
   "cell_type": "markdown",
   "metadata": {
    "papermill": {
     "duration": 0.018159,
     "end_time": "2023-04-06T09:10:33.426996",
     "exception": false,
     "start_time": "2023-04-06T09:10:33.408837",
     "status": "completed"
    },
    "tags": []
   },
   "source": [
    "# SageMaker Debugger Profiling Report\n",
    "\n",
    "SageMaker Debugger auto generated this report. You can generate similar reports on all supported training jobs. The report provides summary of training job, system resource usage statistics, framework metrics, rules summary, and detailed analysis from each rule. The graphs and tables are interactive. \n",
    "\n",
    "**Legal disclaimer:** This report and any recommendations are provided for informational purposes only and are not definitive. You are responsible for making your own independent assessment of the information.\n"
   ]
  },
  {
   "cell_type": "code",
   "execution_count": 1,
   "metadata": {
    "execution": {
     "iopub.execute_input": "2023-04-06T09:10:33.468613Z",
     "iopub.status.busy": "2023-04-06T09:10:33.468060Z",
     "iopub.status.idle": "2023-04-06T09:10:34.035275Z",
     "shell.execute_reply": "2023-04-06T09:10:34.034694Z"
    },
    "papermill": {
     "duration": 0.591451,
     "end_time": "2023-04-06T09:10:34.035399",
     "exception": false,
     "start_time": "2023-04-06T09:10:33.443948",
     "status": "completed"
    },
    "tags": [
     "hide-output",
     "hide-input"
    ]
   },
   "outputs": [
    {
     "name": "stdout",
     "output_type": "stream",
     "text": [
      "[2023-04-06 09:10:34.027 ip-10-0-228-78.ec2.internal:1001 INFO utils.py:27] RULE_JOB_STOP_SIGNAL_FILENAME: /opt/ml/processing/input/profiler/signals/ProfilerReport\n"
     ]
    }
   ],
   "source": [
    "import json\n",
    "import pandas as pd\n",
    "import glob\n",
    "import matplotlib.pyplot as plt\n",
    "import numpy as np\n",
    "import datetime\n",
    "from smdebug.profiler.utils import us_since_epoch_to_human_readable_time, ns_since_epoch_to_human_readable_time\n",
    "from smdebug.core.utils import setup_profiler_report\n"
   ]
  },
  {
   "cell_type": "code",
   "execution_count": 2,
   "metadata": {
    "execution": {
     "iopub.execute_input": "2023-04-06T09:10:34.075217Z",
     "iopub.status.busy": "2023-04-06T09:10:34.074678Z",
     "iopub.status.idle": "2023-04-06T09:10:34.269728Z",
     "shell.execute_reply": "2023-04-06T09:10:34.269272Z"
    },
    "papermill": {
     "duration": 0.216938,
     "end_time": "2023-04-06T09:10:34.269849",
     "exception": false,
     "start_time": "2023-04-06T09:10:34.052911",
     "status": "completed"
    },
    "tags": [
     "hide-input"
    ]
   },
   "outputs": [
    {
     "data": {
      "application/javascript": [
       "\n",
       "(function(root) {\n",
       "  function now() {\n",
       "    return new Date();\n",
       "  }\n",
       "\n",
       "  var force = true;\n",
       "\n",
       "  if (typeof root._bokeh_onload_callbacks === \"undefined\" || force === true) {\n",
       "    root._bokeh_onload_callbacks = [];\n",
       "    root._bokeh_is_loading = undefined;\n",
       "  }\n",
       "\n",
       "  var JS_MIME_TYPE = 'application/javascript';\n",
       "  var HTML_MIME_TYPE = 'text/html';\n",
       "  var EXEC_MIME_TYPE = 'application/vnd.bokehjs_exec.v0+json';\n",
       "  var CLASS_NAME = 'output_bokeh rendered_html';\n",
       "\n",
       "  /**\n",
       "   * Render data to the DOM node\n",
       "   */\n",
       "  function render(props, node) {\n",
       "    var script = document.createElement(\"script\");\n",
       "    node.appendChild(script);\n",
       "  }\n",
       "\n",
       "  /**\n",
       "   * Handle when an output is cleared or removed\n",
       "   */\n",
       "  function handleClearOutput(event, handle) {\n",
       "    var cell = handle.cell;\n",
       "\n",
       "    var id = cell.output_area._bokeh_element_id;\n",
       "    var server_id = cell.output_area._bokeh_server_id;\n",
       "    // Clean up Bokeh references\n",
       "    if (id != null && id in Bokeh.index) {\n",
       "      Bokeh.index[id].model.document.clear();\n",
       "      delete Bokeh.index[id];\n",
       "    }\n",
       "\n",
       "    if (server_id !== undefined) {\n",
       "      // Clean up Bokeh references\n",
       "      var cmd = \"from bokeh.io.state import curstate; print(curstate().uuid_to_server['\" + server_id + \"'].get_sessions()[0].document.roots[0]._id)\";\n",
       "      cell.notebook.kernel.execute(cmd, {\n",
       "        iopub: {\n",
       "          output: function(msg) {\n",
       "            var id = msg.content.text.trim();\n",
       "            if (id in Bokeh.index) {\n",
       "              Bokeh.index[id].model.document.clear();\n",
       "              delete Bokeh.index[id];\n",
       "            }\n",
       "          }\n",
       "        }\n",
       "      });\n",
       "      // Destroy server and session\n",
       "      var cmd = \"import bokeh.io.notebook as ion; ion.destroy_server('\" + server_id + \"')\";\n",
       "      cell.notebook.kernel.execute(cmd);\n",
       "    }\n",
       "  }\n",
       "\n",
       "  /**\n",
       "   * Handle when a new output is added\n",
       "   */\n",
       "  function handleAddOutput(event, handle) {\n",
       "    var output_area = handle.output_area;\n",
       "    var output = handle.output;\n",
       "\n",
       "    // limit handleAddOutput to display_data with EXEC_MIME_TYPE content only\n",
       "    if ((output.output_type != \"display_data\") || (!output.data.hasOwnProperty(EXEC_MIME_TYPE))) {\n",
       "      return\n",
       "    }\n",
       "\n",
       "    var toinsert = output_area.element.find(\".\" + CLASS_NAME.split(' ')[0]);\n",
       "\n",
       "    if (output.metadata[EXEC_MIME_TYPE][\"id\"] !== undefined) {\n",
       "      toinsert[toinsert.length - 1].firstChild.textContent = output.data[JS_MIME_TYPE];\n",
       "      // store reference to embed id on output_area\n",
       "      output_area._bokeh_element_id = output.metadata[EXEC_MIME_TYPE][\"id\"];\n",
       "    }\n",
       "    if (output.metadata[EXEC_MIME_TYPE][\"server_id\"] !== undefined) {\n",
       "      var bk_div = document.createElement(\"div\");\n",
       "      bk_div.innerHTML = output.data[HTML_MIME_TYPE];\n",
       "      var script_attrs = bk_div.children[0].attributes;\n",
       "      for (var i = 0; i < script_attrs.length; i++) {\n",
       "        toinsert[toinsert.length - 1].firstChild.setAttribute(script_attrs[i].name, script_attrs[i].value);\n",
       "        toinsert[toinsert.length - 1].firstChild.textContent = bk_div.children[0].textContent\n",
       "      }\n",
       "      // store reference to server id on output_area\n",
       "      output_area._bokeh_server_id = output.metadata[EXEC_MIME_TYPE][\"server_id\"];\n",
       "    }\n",
       "  }\n",
       "\n",
       "  function register_renderer(events, OutputArea) {\n",
       "\n",
       "    function append_mime(data, metadata, element) {\n",
       "      // create a DOM node to render to\n",
       "      var toinsert = this.create_output_subarea(\n",
       "        metadata,\n",
       "        CLASS_NAME,\n",
       "        EXEC_MIME_TYPE\n",
       "      );\n",
       "      this.keyboard_manager.register_events(toinsert);\n",
       "      // Render to node\n",
       "      var props = {data: data, metadata: metadata[EXEC_MIME_TYPE]};\n",
       "      render(props, toinsert[toinsert.length - 1]);\n",
       "      element.append(toinsert);\n",
       "      return toinsert\n",
       "    }\n",
       "\n",
       "    /* Handle when an output is cleared or removed */\n",
       "    events.on('clear_output.CodeCell', handleClearOutput);\n",
       "    events.on('delete.Cell', handleClearOutput);\n",
       "\n",
       "    /* Handle when a new output is added */\n",
       "    events.on('output_added.OutputArea', handleAddOutput);\n",
       "\n",
       "    /**\n",
       "     * Register the mime type and append_mime function with output_area\n",
       "     */\n",
       "    OutputArea.prototype.register_mime_type(EXEC_MIME_TYPE, append_mime, {\n",
       "      /* Is output safe? */\n",
       "      safe: true,\n",
       "      /* Index of renderer in `output_area.display_order` */\n",
       "      index: 0\n",
       "    });\n",
       "  }\n",
       "\n",
       "  // register the mime type if in Jupyter Notebook environment and previously unregistered\n",
       "  if (root.Jupyter !== undefined) {\n",
       "    var events = require('base/js/events');\n",
       "    var OutputArea = require('notebook/js/outputarea').OutputArea;\n",
       "\n",
       "    if (OutputArea.prototype.mime_types().indexOf(EXEC_MIME_TYPE) == -1) {\n",
       "      register_renderer(events, OutputArea);\n",
       "    }\n",
       "  }\n",
       "\n",
       "  \n",
       "  if (typeof (root._bokeh_timeout) === \"undefined\" || force === true) {\n",
       "    root._bokeh_timeout = Date.now() + 5000;\n",
       "    root._bokeh_failed_load = false;\n",
       "  }\n",
       "\n",
       "  var NB_LOAD_WARNING = {'data': {'text/html':\n",
       "     \"<div style='background-color: #fdd'>\\n\"+\n",
       "     \"<p>\\n\"+\n",
       "     \"BokehJS does not appear to have successfully loaded. If loading BokehJS from CDN, this \\n\"+\n",
       "     \"may be due to a slow or bad network connection. Possible fixes:\\n\"+\n",
       "     \"</p>\\n\"+\n",
       "     \"<ul>\\n\"+\n",
       "     \"<li>re-rerun `output_notebook()` to attempt to load from CDN again, or</li>\\n\"+\n",
       "     \"<li>use INLINE resources instead, as so:</li>\\n\"+\n",
       "     \"</ul>\\n\"+\n",
       "     \"<code>\\n\"+\n",
       "     \"from bokeh.resources import INLINE\\n\"+\n",
       "     \"output_notebook(resources=INLINE)\\n\"+\n",
       "     \"</code>\\n\"+\n",
       "     \"</div>\"}};\n",
       "\n",
       "  function display_loaded() {\n",
       "    var el = document.getElementById(null);\n",
       "    if (el != null) {\n",
       "      el.textContent = \"BokehJS is loading...\";\n",
       "    }\n",
       "    if (root.Bokeh !== undefined) {\n",
       "      if (el != null) {\n",
       "        el.textContent = \"BokehJS \" + root.Bokeh.version + \" successfully loaded.\";\n",
       "      }\n",
       "    } else if (Date.now() < root._bokeh_timeout) {\n",
       "      setTimeout(display_loaded, 100)\n",
       "    }\n",
       "  }\n",
       "\n",
       "\n",
       "  function run_callbacks() {\n",
       "    try {\n",
       "      root._bokeh_onload_callbacks.forEach(function(callback) {\n",
       "        if (callback != null)\n",
       "          callback();\n",
       "      });\n",
       "    } finally {\n",
       "      delete root._bokeh_onload_callbacks\n",
       "    }\n",
       "    console.debug(\"Bokeh: all callbacks have finished\");\n",
       "  }\n",
       "\n",
       "  function load_libs(css_urls, js_urls, callback) {\n",
       "    if (css_urls == null) css_urls = [];\n",
       "    if (js_urls == null) js_urls = [];\n",
       "\n",
       "    root._bokeh_onload_callbacks.push(callback);\n",
       "    if (root._bokeh_is_loading > 0) {\n",
       "      console.debug(\"Bokeh: BokehJS is being loaded, scheduling callback at\", now());\n",
       "      return null;\n",
       "    }\n",
       "    if (js_urls == null || js_urls.length === 0) {\n",
       "      run_callbacks();\n",
       "      return null;\n",
       "    }\n",
       "    console.debug(\"Bokeh: BokehJS not loaded, scheduling load and callback at\", now());\n",
       "    root._bokeh_is_loading = css_urls.length + js_urls.length;\n",
       "\n",
       "    function on_load() {\n",
       "      root._bokeh_is_loading--;\n",
       "      if (root._bokeh_is_loading === 0) {\n",
       "        console.debug(\"Bokeh: all BokehJS libraries/stylesheets loaded\");\n",
       "        run_callbacks()\n",
       "      }\n",
       "    }\n",
       "\n",
       "    function on_error() {\n",
       "      console.error(\"failed to load \" + url);\n",
       "    }\n",
       "\n",
       "    for (var i = 0; i < css_urls.length; i++) {\n",
       "      var url = css_urls[i];\n",
       "      const element = document.createElement(\"link\");\n",
       "      element.onload = on_load;\n",
       "      element.onerror = on_error;\n",
       "      element.rel = \"stylesheet\";\n",
       "      element.type = \"text/css\";\n",
       "      element.href = url;\n",
       "      console.debug(\"Bokeh: injecting link tag for BokehJS stylesheet: \", url);\n",
       "      document.body.appendChild(element);\n",
       "    }\n",
       "\n",
       "    const hashes = {\"https://cdn.bokeh.org/bokeh/release/bokeh-2.2.3.min.js\": \"T2yuo9Oe71Cz/I4X9Ac5+gpEa5a8PpJCDlqKYO0CfAuEszu1JrXLl8YugMqYe3sM\", \"https://cdn.bokeh.org/bokeh/release/bokeh-widgets-2.2.3.min.js\": \"98GDGJ0kOMCUMUePhksaQ/GYgB3+NH9h996V88sh3aOiUNX3N+fLXAtry6xctSZ6\", \"https://cdn.bokeh.org/bokeh/release/bokeh-tables-2.2.3.min.js\": \"89bArO+nlbP3sgakeHjCo1JYxYR5wufVgA3IbUvDY+K7w4zyxJqssu7wVnfeKCq8\"};\n",
       "\n",
       "    for (var i = 0; i < js_urls.length; i++) {\n",
       "      var url = js_urls[i];\n",
       "      var element = document.createElement('script');\n",
       "      element.onload = on_load;\n",
       "      element.onerror = on_error;\n",
       "      element.async = false;\n",
       "      element.src = url;\n",
       "      if (url in hashes) {\n",
       "        element.crossOrigin = \"anonymous\";\n",
       "        element.integrity = \"sha384-\" + hashes[url];\n",
       "      }\n",
       "      console.debug(\"Bokeh: injecting script tag for BokehJS library: \", url);\n",
       "      document.head.appendChild(element);\n",
       "    }\n",
       "  };\n",
       "\n",
       "  function inject_raw_css(css) {\n",
       "    const element = document.createElement(\"style\");\n",
       "    element.appendChild(document.createTextNode(css));\n",
       "    document.body.appendChild(element);\n",
       "  }\n",
       "\n",
       "  \n",
       "  var js_urls = [\"https://cdn.bokeh.org/bokeh/release/bokeh-2.2.3.min.js\", \"https://cdn.bokeh.org/bokeh/release/bokeh-widgets-2.2.3.min.js\", \"https://cdn.bokeh.org/bokeh/release/bokeh-tables-2.2.3.min.js\"];\n",
       "  var css_urls = [];\n",
       "  \n",
       "\n",
       "  var inline_js = [\n",
       "    function(Bokeh) {\n",
       "      Bokeh.set_log_level(\"info\");\n",
       "    },\n",
       "    function(Bokeh) {\n",
       "    \n",
       "    \n",
       "    }\n",
       "  ];\n",
       "\n",
       "  function run_inline_js() {\n",
       "    \n",
       "    if (root.Bokeh !== undefined || force === true) {\n",
       "      \n",
       "    for (var i = 0; i < inline_js.length; i++) {\n",
       "      inline_js[i].call(root, root.Bokeh);\n",
       "    }\n",
       "    } else if (Date.now() < root._bokeh_timeout) {\n",
       "      setTimeout(run_inline_js, 100);\n",
       "    } else if (!root._bokeh_failed_load) {\n",
       "      console.log(\"Bokeh: BokehJS failed to load within specified timeout.\");\n",
       "      root._bokeh_failed_load = true;\n",
       "    } else if (force !== true) {\n",
       "      var cell = $(document.getElementById(null)).parents('.cell').data().cell;\n",
       "      cell.output_area.append_execute_result(NB_LOAD_WARNING)\n",
       "    }\n",
       "\n",
       "  }\n",
       "\n",
       "  if (root._bokeh_is_loading === 0) {\n",
       "    console.debug(\"Bokeh: BokehJS loaded, going straight to plotting\");\n",
       "    run_inline_js();\n",
       "  } else {\n",
       "    load_libs(css_urls, js_urls, function() {\n",
       "      console.debug(\"Bokeh: BokehJS plotting callback run at\", now());\n",
       "      run_inline_js();\n",
       "    });\n",
       "  }\n",
       "}(window));"
      ],
      "application/vnd.bokehjs_load.v0+json": "\n(function(root) {\n  function now() {\n    return new Date();\n  }\n\n  var force = true;\n\n  if (typeof root._bokeh_onload_callbacks === \"undefined\" || force === true) {\n    root._bokeh_onload_callbacks = [];\n    root._bokeh_is_loading = undefined;\n  }\n\n  \n\n  \n  if (typeof (root._bokeh_timeout) === \"undefined\" || force === true) {\n    root._bokeh_timeout = Date.now() + 5000;\n    root._bokeh_failed_load = false;\n  }\n\n  var NB_LOAD_WARNING = {'data': {'text/html':\n     \"<div style='background-color: #fdd'>\\n\"+\n     \"<p>\\n\"+\n     \"BokehJS does not appear to have successfully loaded. If loading BokehJS from CDN, this \\n\"+\n     \"may be due to a slow or bad network connection. Possible fixes:\\n\"+\n     \"</p>\\n\"+\n     \"<ul>\\n\"+\n     \"<li>re-rerun `output_notebook()` to attempt to load from CDN again, or</li>\\n\"+\n     \"<li>use INLINE resources instead, as so:</li>\\n\"+\n     \"</ul>\\n\"+\n     \"<code>\\n\"+\n     \"from bokeh.resources import INLINE\\n\"+\n     \"output_notebook(resources=INLINE)\\n\"+\n     \"</code>\\n\"+\n     \"</div>\"}};\n\n  function display_loaded() {\n    var el = document.getElementById(null);\n    if (el != null) {\n      el.textContent = \"BokehJS is loading...\";\n    }\n    if (root.Bokeh !== undefined) {\n      if (el != null) {\n        el.textContent = \"BokehJS \" + root.Bokeh.version + \" successfully loaded.\";\n      }\n    } else if (Date.now() < root._bokeh_timeout) {\n      setTimeout(display_loaded, 100)\n    }\n  }\n\n\n  function run_callbacks() {\n    try {\n      root._bokeh_onload_callbacks.forEach(function(callback) {\n        if (callback != null)\n          callback();\n      });\n    } finally {\n      delete root._bokeh_onload_callbacks\n    }\n    console.debug(\"Bokeh: all callbacks have finished\");\n  }\n\n  function load_libs(css_urls, js_urls, callback) {\n    if (css_urls == null) css_urls = [];\n    if (js_urls == null) js_urls = [];\n\n    root._bokeh_onload_callbacks.push(callback);\n    if (root._bokeh_is_loading > 0) {\n      console.debug(\"Bokeh: BokehJS is being loaded, scheduling callback at\", now());\n      return null;\n    }\n    if (js_urls == null || js_urls.length === 0) {\n      run_callbacks();\n      return null;\n    }\n    console.debug(\"Bokeh: BokehJS not loaded, scheduling load and callback at\", now());\n    root._bokeh_is_loading = css_urls.length + js_urls.length;\n\n    function on_load() {\n      root._bokeh_is_loading--;\n      if (root._bokeh_is_loading === 0) {\n        console.debug(\"Bokeh: all BokehJS libraries/stylesheets loaded\");\n        run_callbacks()\n      }\n    }\n\n    function on_error() {\n      console.error(\"failed to load \" + url);\n    }\n\n    for (var i = 0; i < css_urls.length; i++) {\n      var url = css_urls[i];\n      const element = document.createElement(\"link\");\n      element.onload = on_load;\n      element.onerror = on_error;\n      element.rel = \"stylesheet\";\n      element.type = \"text/css\";\n      element.href = url;\n      console.debug(\"Bokeh: injecting link tag for BokehJS stylesheet: \", url);\n      document.body.appendChild(element);\n    }\n\n    const hashes = {\"https://cdn.bokeh.org/bokeh/release/bokeh-2.2.3.min.js\": \"T2yuo9Oe71Cz/I4X9Ac5+gpEa5a8PpJCDlqKYO0CfAuEszu1JrXLl8YugMqYe3sM\", \"https://cdn.bokeh.org/bokeh/release/bokeh-widgets-2.2.3.min.js\": \"98GDGJ0kOMCUMUePhksaQ/GYgB3+NH9h996V88sh3aOiUNX3N+fLXAtry6xctSZ6\", \"https://cdn.bokeh.org/bokeh/release/bokeh-tables-2.2.3.min.js\": \"89bArO+nlbP3sgakeHjCo1JYxYR5wufVgA3IbUvDY+K7w4zyxJqssu7wVnfeKCq8\"};\n\n    for (var i = 0; i < js_urls.length; i++) {\n      var url = js_urls[i];\n      var element = document.createElement('script');\n      element.onload = on_load;\n      element.onerror = on_error;\n      element.async = false;\n      element.src = url;\n      if (url in hashes) {\n        element.crossOrigin = \"anonymous\";\n        element.integrity = \"sha384-\" + hashes[url];\n      }\n      console.debug(\"Bokeh: injecting script tag for BokehJS library: \", url);\n      document.head.appendChild(element);\n    }\n  };\n\n  function inject_raw_css(css) {\n    const element = document.createElement(\"style\");\n    element.appendChild(document.createTextNode(css));\n    document.body.appendChild(element);\n  }\n\n  \n  var js_urls = [\"https://cdn.bokeh.org/bokeh/release/bokeh-2.2.3.min.js\", \"https://cdn.bokeh.org/bokeh/release/bokeh-widgets-2.2.3.min.js\", \"https://cdn.bokeh.org/bokeh/release/bokeh-tables-2.2.3.min.js\"];\n  var css_urls = [];\n  \n\n  var inline_js = [\n    function(Bokeh) {\n      Bokeh.set_log_level(\"info\");\n    },\n    function(Bokeh) {\n    \n    \n    }\n  ];\n\n  function run_inline_js() {\n    \n    if (root.Bokeh !== undefined || force === true) {\n      \n    for (var i = 0; i < inline_js.length; i++) {\n      inline_js[i].call(root, root.Bokeh);\n    }\n    } else if (Date.now() < root._bokeh_timeout) {\n      setTimeout(run_inline_js, 100);\n    } else if (!root._bokeh_failed_load) {\n      console.log(\"Bokeh: BokehJS failed to load within specified timeout.\");\n      root._bokeh_failed_load = true;\n    } else if (force !== true) {\n      var cell = $(document.getElementById(null)).parents('.cell').data().cell;\n      cell.output_area.append_execute_result(NB_LOAD_WARNING)\n    }\n\n  }\n\n  if (root._bokeh_is_loading === 0) {\n    console.debug(\"Bokeh: BokehJS loaded, going straight to plotting\");\n    run_inline_js();\n  } else {\n    load_libs(css_urls, js_urls, function() {\n      console.debug(\"Bokeh: BokehJS plotting callback run at\", now());\n      run_inline_js();\n    });\n  }\n}(window));"
     },
     "metadata": {},
     "output_type": "display_data"
    }
   ],
   "source": [
    "import bokeh\n",
    "from bokeh.io import output_notebook, show\n",
    "from bokeh.layouts import column, row\n",
    "from bokeh.plotting import figure\n",
    "from bokeh.models.widgets import DataTable, DateFormatter, TableColumn\n",
    "from bokeh.models import ColumnDataSource, PreText\n",
    "from math import pi\n",
    "from bokeh.transform import cumsum\n",
    "import warnings\n",
    "from bokeh.models.widgets import Paragraph\n",
    "from bokeh.models import Legend\n",
    "from bokeh.util.warnings import BokehDeprecationWarning, BokehUserWarning\n",
    "warnings.simplefilter('ignore', BokehDeprecationWarning)\n",
    "warnings.simplefilter('ignore', BokehUserWarning)\n",
    "\n",
    "output_notebook(hide_banner=True)"
   ]
  },
  {
   "cell_type": "code",
   "execution_count": 3,
   "metadata": {
    "execution": {
     "iopub.execute_input": "2023-04-06T09:10:34.313205Z",
     "iopub.status.busy": "2023-04-06T09:10:34.312711Z",
     "iopub.status.idle": "2023-04-06T09:10:34.314503Z",
     "shell.execute_reply": "2023-04-06T09:10:34.314900Z"
    },
    "papermill": {
     "duration": 0.026626,
     "end_time": "2023-04-06T09:10:34.315028",
     "exception": false,
     "start_time": "2023-04-06T09:10:34.288402",
     "status": "completed"
    },
    "tags": [
     "parameters",
     "hide-input",
     "hide-output"
    ]
   },
   "outputs": [],
   "source": [
    "processing_job_arn = \"\""
   ]
  },
  {
   "cell_type": "code",
   "execution_count": 4,
   "id": "d8bc94b7",
   "metadata": {
    "execution": {
     "iopub.execute_input": "2023-04-06T09:10:34.354262Z",
     "iopub.status.busy": "2023-04-06T09:10:34.353744Z",
     "iopub.status.idle": "2023-04-06T09:10:34.355868Z",
     "shell.execute_reply": "2023-04-06T09:10:34.355366Z"
    },
    "papermill": {
     "duration": 0.022858,
     "end_time": "2023-04-06T09:10:34.355971",
     "exception": false,
     "start_time": "2023-04-06T09:10:34.333113",
     "status": "completed"
    },
    "tags": [
     "injected-parameters"
    ]
   },
   "outputs": [],
   "source": [
    "# Parameters\n",
    "processing_job_arn = \"arn:aws:sagemaker:us-east-1:432255178055:processing-job/main-2023-04-06-08-31-59-8-profilerreport-7d29c6cc\"\n"
   ]
  },
  {
   "cell_type": "code",
   "execution_count": 5,
   "metadata": {
    "execution": {
     "iopub.execute_input": "2023-04-06T09:10:34.401003Z",
     "iopub.status.busy": "2023-04-06T09:10:34.400515Z",
     "iopub.status.idle": "2023-04-06T09:10:34.402355Z",
     "shell.execute_reply": "2023-04-06T09:10:34.402748Z"
    },
    "papermill": {
     "duration": 0.023603,
     "end_time": "2023-04-06T09:10:34.402862",
     "exception": false,
     "start_time": "2023-04-06T09:10:34.379259",
     "status": "completed"
    },
    "tags": [
     "hide-input",
     "hide-output"
    ]
   },
   "outputs": [],
   "source": [
    "setup_profiler_report(processing_job_arn)"
   ]
  },
  {
   "cell_type": "code",
   "execution_count": 6,
   "metadata": {
    "execution": {
     "iopub.execute_input": "2023-04-06T09:10:34.446124Z",
     "iopub.status.busy": "2023-04-06T09:10:34.445620Z",
     "iopub.status.idle": "2023-04-06T09:10:34.447392Z",
     "shell.execute_reply": "2023-04-06T09:10:34.447802Z"
    },
    "papermill": {
     "duration": 0.026994,
     "end_time": "2023-04-06T09:10:34.447915",
     "exception": false,
     "start_time": "2023-04-06T09:10:34.420921",
     "status": "completed"
    },
    "tags": [
     "hide-input"
    ]
   },
   "outputs": [],
   "source": [
    "def create_piechart(data_dict, title=None, height=400, width=400, x1=0, x2=0.1, radius=0.4, toolbar_location='right'):\n",
    "   \n",
    "    plot = figure(plot_height=height, \n",
    "                  plot_width=width,\n",
    "                  toolbar_location=toolbar_location,\n",
    "                  tools=\"hover,wheel_zoom,reset,pan\", \n",
    "                  tooltips=\"@phase:@value\", \n",
    "                  title=title,\n",
    "                  x_range=(-radius-x1, radius+x2))\n",
    "\n",
    "    data = pd.Series(data_dict).reset_index(name='value').rename(columns={'index':'phase'})\n",
    "    data['angle'] = data['value']/data['value'].sum() * 2*pi\n",
    "    data['color'] = bokeh.palettes.viridis(len(data_dict))\n",
    "\n",
    "    plot.wedge(x=0, y=0., radius=radius,\n",
    "        start_angle=cumsum('angle', include_zero=True), \n",
    "        end_angle=cumsum('angle'),\n",
    "        line_color=\"white\", \n",
    "        source=data, \n",
    "        fill_color='color', \n",
    "        legend='phase'\n",
    "              )\n",
    "    plot.legend.label_text_font_size = \"8pt\"\n",
    "    plot.legend.location = 'center_right'\n",
    "    plot.axis.axis_label=None\n",
    "    plot.axis.visible=False\n",
    "    plot.grid.grid_line_color = None\n",
    "    plot.outline_line_color = \"white\"\n",
    "    \n",
    "    return plot"
   ]
  },
  {
   "cell_type": "code",
   "execution_count": 7,
   "metadata": {
    "execution": {
     "iopub.execute_input": "2023-04-06T09:10:34.487792Z",
     "iopub.status.busy": "2023-04-06T09:10:34.487307Z",
     "iopub.status.idle": "2023-04-06T09:10:34.489068Z",
     "shell.execute_reply": "2023-04-06T09:10:34.489504Z"
    },
    "papermill": {
     "duration": 0.02379,
     "end_time": "2023-04-06T09:10:34.489617",
     "exception": false,
     "start_time": "2023-04-06T09:10:34.465827",
     "status": "completed"
    },
    "tags": [
     "hide-input"
    ]
   },
   "outputs": [],
   "source": [
    "from IPython.display import display, HTML, Markdown, Image\n",
    "def pretty_print(df):\n",
    "    raw_html = df.to_html().replace(\"\\\\n\",\"<br>\").replace('<tr>','<tr style=\"text-align: left;\">')\n",
    "    return display(HTML(raw_html))"
   ]
  },
  {
   "cell_type": "markdown",
   "metadata": {
    "papermill": {
     "duration": 0.018012,
     "end_time": "2023-04-06T09:10:34.525497",
     "exception": false,
     "start_time": "2023-04-06T09:10:34.507485",
     "status": "completed"
    },
    "tags": []
   },
   "source": [
    "## Training job summary"
   ]
  },
  {
   "cell_type": "code",
   "execution_count": 8,
   "metadata": {
    "execution": {
     "iopub.execute_input": "2023-04-06T09:10:34.565501Z",
     "iopub.status.busy": "2023-04-06T09:10:34.564983Z",
     "iopub.status.idle": "2023-04-06T09:10:34.566799Z",
     "shell.execute_reply": "2023-04-06T09:10:34.567185Z"
    },
    "papermill": {
     "duration": 0.023588,
     "end_time": "2023-04-06T09:10:34.567297",
     "exception": false,
     "start_time": "2023-04-06T09:10:34.543709",
     "status": "completed"
    },
    "tags": [
     "hide-input"
    ]
   },
   "outputs": [],
   "source": [
    "def load_report(rule_name):\n",
    "    try:\n",
    "        report = json.load(open('/opt/ml/processing/output/rule/profiler-output/profiler-reports/'+rule_name+'.json'))\n",
    "        return report\n",
    "    except FileNotFoundError:\n",
    "        print (rule_name + ' not triggered')"
   ]
  },
  {
   "cell_type": "code",
   "execution_count": 9,
   "metadata": {
    "execution": {
     "iopub.execute_input": "2023-04-06T09:10:34.613710Z",
     "iopub.status.busy": "2023-04-06T09:10:34.605574Z",
     "iopub.status.idle": "2023-04-06T09:10:34.617617Z",
     "shell.execute_reply": "2023-04-06T09:10:34.617110Z"
    },
    "papermill": {
     "duration": 0.032361,
     "end_time": "2023-04-06T09:10:34.617716",
     "exception": false,
     "start_time": "2023-04-06T09:10:34.585355",
     "status": "completed"
    },
    "tags": [
     "hide-input",
     "hide-output"
    ]
   },
   "outputs": [],
   "source": [
    "\n",
    "job_statistics = {}\n",
    "report = load_report('MaxInitializationTime')\n",
    "if report:\n",
    "    if \"first\" in report['Details'][\"step_num\"] and \"last\" in report['Details'][\"step_num\"]:\n",
    "        first_step = report['Details'][\"step_num\"][\"first\"]\n",
    "        last_step = report['Details'][\"step_num\"][\"last\"]\n",
    "    tmp = us_since_epoch_to_human_readable_time(report['Details']['job_start'] * 1000000)\n",
    "    date = datetime.datetime.strptime(tmp, '%Y-%m-%dT%H:%M:%S:%f')\n",
    "    day = date.date().strftime(\"%m/%d/%Y\")\n",
    "    hour = date.time().strftime(\"%H:%M:%S\")\n",
    "    job_statistics[\"Start time\"] = f\"{hour} {day}\"\n",
    "    tmp = us_since_epoch_to_human_readable_time(report['Details']['job_end'] * 1000000)\n",
    "    date = datetime.datetime.strptime(tmp, '%Y-%m-%dT%H:%M:%S:%f')\n",
    "    day = date.date().strftime(\"%m/%d/%Y\")\n",
    "    hour = date.time().strftime(\"%H:%M:%S\")\n",
    "    job_statistics[\"End time\"] = f\"{hour} {day}\"\n",
    "    job_duration_in_seconds = int(report['Details']['job_end'] - report['Details']['job_start']) \n",
    "    job_statistics[\"Job duration\"] = f\"{job_duration_in_seconds} seconds\"\n",
    "    if \"first\" in report['Details'][\"step_num\"] and \"last\" in report['Details'][\"step_num\"]:\n",
    "        tmp = us_since_epoch_to_human_readable_time(first_step)\n",
    "        date = datetime.datetime.strptime(tmp, '%Y-%m-%dT%H:%M:%S:%f')\n",
    "        day = date.date().strftime(\"%m/%d/%Y\")\n",
    "        hour = date.time().strftime(\"%H:%M:%S\")\n",
    "        job_statistics[\"Training loop start\"] = f\"{hour} {day}\"\n",
    "        tmp = us_since_epoch_to_human_readable_time(last_step)\n",
    "        date = datetime.datetime.strptime(tmp, '%Y-%m-%dT%H:%M:%S:%f')\n",
    "        day = date.date().strftime(\"%m/%d/%Y\")\n",
    "        hour = date.time().strftime(\"%H:%M:%S\")\n",
    "        job_statistics[\"Training loop end\"] = f\"{hour} {day}\"\n",
    "        training_loop_duration_in_seconds = int((last_step - first_step) / 1000000)\n",
    "        job_statistics[\"Training loop duration\"] = f\"{training_loop_duration_in_seconds} seconds\"\n",
    "        initialization_in_seconds = int(first_step/1000000 - report['Details']['job_start'])\n",
    "        job_statistics[\"Initialization time\"] = f\"{initialization_in_seconds} seconds\"\n",
    "        finalization_in_seconds = int(np.abs(report['Details']['job_end'] - last_step/1000000))\n",
    "        job_statistics[\"Finalization time\"] = f\"{finalization_in_seconds} seconds\"\n",
    "        initialization_perc = int(initialization_in_seconds / job_duration_in_seconds * 100)\n",
    "        job_statistics[\"Initialization\"] = f\"{initialization_perc} %\"\n",
    "        training_loop_perc = int(training_loop_duration_in_seconds / job_duration_in_seconds * 100)\n",
    "        job_statistics[\"Training loop\"] = f\"{training_loop_perc} %\"\n",
    "        finalization_perc = int(finalization_in_seconds / job_duration_in_seconds * 100)\n",
    "        job_statistics[\"Finalization\"] = f\"{finalization_perc} %\""
   ]
  },
  {
   "cell_type": "code",
   "execution_count": 10,
   "metadata": {
    "execution": {
     "iopub.execute_input": "2023-04-06T09:10:34.666375Z",
     "iopub.status.busy": "2023-04-06T09:10:34.665320Z",
     "iopub.status.idle": "2023-04-06T09:10:34.701606Z",
     "shell.execute_reply": "2023-04-06T09:10:34.701177Z"
    },
    "papermill": {
     "duration": 0.06576,
     "end_time": "2023-04-06T09:10:34.701704",
     "exception": false,
     "start_time": "2023-04-06T09:10:34.635944",
     "status": "completed"
    },
    "tags": [
     "hide-input"
    ]
   },
   "outputs": [
    {
     "data": {
      "text/html": [
       "\n",
       "\n",
       "\n",
       "\n",
       "\n",
       "\n",
       "  <div class=\"bk-root\" id=\"6457fbea-44ff-4462-9067-1709e107eb88\" data-root-id=\"1052\"></div>\n"
      ]
     },
     "metadata": {},
     "output_type": "display_data"
    },
    {
     "data": {
      "application/javascript": [
       "(function(root) {\n",
       "  function embed_document(root) {\n",
       "    \n",
       "  var docs_json = {\"1bde8fee-0921-4e90-98a3-803badbbb67f\":{\"roots\":{\"references\":[{\"attributes\":{\"children\":[{\"id\":\"1050\"},{\"id\":\"1051\"}]},\"id\":\"1052\",\"type\":\"Column\"},{\"attributes\":{\"editor\":{\"id\":\"1056\"},\"field\":\"0\",\"formatter\":{\"id\":\"1057\"},\"title\":\"\"},\"id\":\"1002\",\"type\":\"TableColumn\"},{\"attributes\":{},\"id\":\"1058\",\"type\":\"StringEditor\"},{\"attributes\":{\"callback\":null,\"tooltips\":\"@phase:@value\"},\"id\":\"1024\",\"type\":\"HoverTool\"},{\"attributes\":{},\"id\":\"1054\",\"type\":\"UnionRenderers\"},{\"attributes\":{},\"id\":\"1025\",\"type\":\"WheelZoomTool\"},{\"attributes\":{\"axis_label\":null,\"formatter\":{\"id\":\"1045\"},\"ticker\":{\"id\":\"1017\"},\"visible\":false},\"id\":\"1016\",\"type\":\"LinearAxis\"},{\"attributes\":{},\"id\":\"1055\",\"type\":\"Selection\"},{\"attributes\":{\"below\":[{\"id\":\"1016\"}],\"center\":[{\"id\":\"1019\"},{\"id\":\"1023\"},{\"id\":\"1048\"}],\"left\":[{\"id\":\"1020\"}],\"outline_line_color\":\"white\",\"plot_height\":350,\"plot_width\":500,\"renderers\":[{\"id\":\"1039\"}],\"title\":null,\"toolbar\":{\"id\":\"1028\"},\"toolbar_location\":null,\"x_range\":{\"id\":\"1008\"},\"x_scale\":{\"id\":\"1012\"},\"y_range\":{\"id\":\"1010\"},\"y_scale\":{\"id\":\"1014\"}},\"id\":\"1006\",\"subtype\":\"Figure\",\"type\":\"Plot\"},{\"attributes\":{},\"id\":\"1026\",\"type\":\"ResetTool\"},{\"attributes\":{\"source\":{\"id\":\"1001\"}},\"id\":\"1005\",\"type\":\"CDSView\"},{\"attributes\":{},\"id\":\"1056\",\"type\":\"StringEditor\"},{\"attributes\":{},\"id\":\"1027\",\"type\":\"PanTool\"},{\"attributes\":{},\"id\":\"1057\",\"type\":\"StringFormatter\"},{\"attributes\":{\"text\":\"The following table gives a summary about the training job. The table includes information about when the training job started and ended, how much time initialization, training loop and finalization took. \\n Your training job started on 04/06/2023 at 08:33:14 and ran for 2205 seconds.\",\"width\":800},\"id\":\"1050\",\"type\":\"Paragraph\"},{\"attributes\":{},\"id\":\"1059\",\"type\":\"StringFormatter\"},{\"attributes\":{},\"id\":\"1046\",\"type\":\"UnionRenderers\"},{\"attributes\":{\"end_angle\":{\"expr\":{\"id\":\"1034\"},\"units\":\"rad\"},\"fill_alpha\":{\"value\":0.1},\"fill_color\":{\"field\":\"color\"},\"line_alpha\":{\"value\":0.1},\"line_color\":{\"value\":\"white\"},\"radius\":{\"units\":\"data\",\"value\":0.15},\"start_angle\":{\"expr\":{\"id\":\"1033\"},\"units\":\"rad\"},\"x\":{\"value\":0},\"y\":{\"value\":0.0}},\"id\":\"1038\",\"type\":\"Wedge\"},{\"attributes\":{\"field\":\"angle\",\"include_zero\":true},\"id\":\"1033\",\"type\":\"CumSum\"},{\"attributes\":{\"axis\":{\"id\":\"1016\"},\"grid_line_color\":null,\"ticker\":null},\"id\":\"1019\",\"type\":\"Grid\"},{\"attributes\":{\"items\":[{\"id\":\"1049\"}],\"label_text_font_size\":\"8pt\",\"location\":\"center_right\"},\"id\":\"1048\",\"type\":\"Legend\"},{\"attributes\":{\"columns\":[{\"id\":\"1002\"},{\"id\":\"1003\"}],\"height\":380,\"source\":{\"id\":\"1001\"},\"view\":{\"id\":\"1005\"},\"width\":450},\"id\":\"1004\",\"type\":\"DataTable\"},{\"attributes\":{\"data\":{\"0\":[\"Start time\",\"End time\",\"Job duration\",\"Training loop start\",\"Training loop end\",\"Training loop duration\",\"Initialization time\",\"Finalization time\",\"Initialization\",\"Training loop\",\"Finalization\"],\"1\":[\"08:33:14 04/06/2023\",\"09:09:59 04/06/2023\",\"2205 seconds\",\"08:37:31 04/06/2023\",\"09:09:59 04/06/2023\",\"1948 seconds\",\"256 seconds\",\"0 seconds\",\"11 %\",\"88 %\",\"0 %\"],\"index\":[0,1,2,3,4,5,6,7,8,9,10]},\"selected\":{\"id\":\"1055\"},\"selection_policy\":{\"id\":\"1054\"}},\"id\":\"1001\",\"type\":\"ColumnDataSource\"},{\"attributes\":{},\"id\":\"1017\",\"type\":\"BasicTicker\"},{\"attributes\":{\"end_angle\":{\"expr\":{\"id\":\"1034\"},\"units\":\"rad\"},\"fill_color\":{\"field\":\"color\"},\"line_color\":{\"value\":\"white\"},\"radius\":{\"units\":\"data\",\"value\":0.15},\"start_angle\":{\"expr\":{\"id\":\"1033\"},\"units\":\"rad\"},\"x\":{\"value\":0},\"y\":{\"value\":0.0}},\"id\":\"1037\",\"type\":\"Wedge\"},{\"attributes\":{\"data_source\":{\"id\":\"1035\"},\"glyph\":{\"id\":\"1037\"},\"hover_glyph\":null,\"muted_glyph\":null,\"nonselection_glyph\":{\"id\":\"1038\"},\"selection_glyph\":null,\"view\":{\"id\":\"1040\"}},\"id\":\"1039\",\"type\":\"GlyphRenderer\"},{\"attributes\":{},\"id\":\"1012\",\"type\":\"LinearScale\"},{\"attributes\":{\"data\":{\"angle\":{\"__ndarray__\":\"h0TnShhX5j+HROdKGFcWQAAAAAAAAAAA\",\"dtype\":\"float64\",\"order\":\"little\",\"shape\":[3]},\"color\":[\"#440154\",\"#208F8C\",\"#FDE724\"],\"index\":[0,1,2],\"phase\":[\"Initialization\",\"Training loop\",\"Finalization\"],\"value\":[11,88,0]},\"selected\":{\"id\":\"1047\"},\"selection_policy\":{\"id\":\"1046\"}},\"id\":\"1035\",\"type\":\"ColumnDataSource\"},{\"attributes\":{\"editor\":{\"id\":\"1058\"},\"field\":\"1\",\"formatter\":{\"id\":\"1059\"},\"title\":\"Job Statistics\"},\"id\":\"1003\",\"type\":\"TableColumn\"},{\"attributes\":{},\"id\":\"1021\",\"type\":\"BasicTicker\"},{\"attributes\":{},\"id\":\"1043\",\"type\":\"BasicTickFormatter\"},{\"attributes\":{\"axis\":{\"id\":\"1020\"},\"dimension\":1,\"grid_line_color\":null,\"ticker\":null},\"id\":\"1023\",\"type\":\"Grid\"},{\"attributes\":{\"end\":0.3,\"start\":-0.3},\"id\":\"1008\",\"type\":\"Range1d\"},{\"attributes\":{\"source\":{\"id\":\"1035\"}},\"id\":\"1040\",\"type\":\"CDSView\"},{\"attributes\":{},\"id\":\"1047\",\"type\":\"Selection\"},{\"attributes\":{\"axis_label\":null,\"formatter\":{\"id\":\"1043\"},\"ticker\":{\"id\":\"1021\"},\"visible\":false},\"id\":\"1020\",\"type\":\"LinearAxis\"},{\"attributes\":{\"active_drag\":\"auto\",\"active_inspect\":\"auto\",\"active_multi\":null,\"active_scroll\":\"auto\",\"active_tap\":\"auto\",\"tools\":[{\"id\":\"1024\"},{\"id\":\"1025\"},{\"id\":\"1026\"},{\"id\":\"1027\"}]},\"id\":\"1028\",\"type\":\"Toolbar\"},{\"attributes\":{\"field\":\"angle\"},\"id\":\"1034\",\"type\":\"CumSum\"},{\"attributes\":{},\"id\":\"1045\",\"type\":\"BasicTickFormatter\"},{\"attributes\":{},\"id\":\"1014\",\"type\":\"LinearScale\"},{\"attributes\":{\"label\":{\"field\":\"phase\"},\"renderers\":[{\"id\":\"1039\"}]},\"id\":\"1049\",\"type\":\"LegendItem\"},{\"attributes\":{},\"id\":\"1010\",\"type\":\"DataRange1d\"},{\"attributes\":{\"children\":[{\"id\":\"1004\"},{\"id\":\"1006\"}]},\"id\":\"1051\",\"type\":\"Row\"}],\"root_ids\":[\"1052\"]},\"title\":\"Bokeh Application\",\"version\":\"2.2.3\"}};\n",
       "  var render_items = [{\"docid\":\"1bde8fee-0921-4e90-98a3-803badbbb67f\",\"root_ids\":[\"1052\"],\"roots\":{\"1052\":\"6457fbea-44ff-4462-9067-1709e107eb88\"}}];\n",
       "  root.Bokeh.embed.embed_items_notebook(docs_json, render_items);\n",
       "\n",
       "  }\n",
       "  if (root.Bokeh !== undefined) {\n",
       "    embed_document(root);\n",
       "  } else {\n",
       "    var attempts = 0;\n",
       "    var timer = setInterval(function(root) {\n",
       "      if (root.Bokeh !== undefined) {\n",
       "        clearInterval(timer);\n",
       "        embed_document(root);\n",
       "      } else {\n",
       "        attempts++;\n",
       "        if (attempts > 100) {\n",
       "          clearInterval(timer);\n",
       "          console.log(\"Bokeh: ERROR: Unable to run BokehJS code because BokehJS library is missing\");\n",
       "        }\n",
       "      }\n",
       "    }, 10, root)\n",
       "  }\n",
       "})(window);"
      ],
      "application/vnd.bokehjs_exec.v0+json": ""
     },
     "metadata": {
      "application/vnd.bokehjs_exec.v0+json": {
       "id": "1052"
      }
     },
     "output_type": "display_data"
    }
   ],
   "source": [
    "if report:\n",
    "    text =  \"\"\"The following table gives a summary about the training job. The table includes information about when the training job started and ended, how much time initialization, training loop and finalization took.\"\"\"\n",
    "    if len(job_statistics) > 0:\n",
    "        df = pd.DataFrame.from_dict(job_statistics, orient='index')\n",
    "        start_time = us_since_epoch_to_human_readable_time(report['Details']['job_start'] * 1000000)\n",
    "        date = datetime.datetime.strptime(start_time, '%Y-%m-%dT%H:%M:%S:%f')\n",
    "        day = date.date().strftime(\"%m/%d/%Y\")\n",
    "        hour = date.time().strftime(\"%H:%M:%S\")\n",
    "        duration = job_duration_in_seconds\n",
    "        text = f\"\"\"{text} \\n Your training job started on {day} at {hour} and ran for {duration} seconds.\"\"\"\n",
    "\n",
    "        #pretty_print(df)\n",
    "        if \"first\" in report['Details'][\"step_num\"] and \"last\" in report['Details'][\"step_num\"]:\n",
    "            if finalization_perc  < 0:\n",
    "                job_statistics[\"Finalization%\"]  = 0\n",
    "            if training_loop_perc < 0:\n",
    "                job_statistics[\"Training loop\"] = 0\n",
    "            if initialization_perc < 0:\n",
    "                job_statistics[\"Initialization\"] = 0\n",
    "        else:\n",
    "            text = f\"\"\"{text} \\n Your training job started on {day} at {hour} and ran for {duration} seconds.\"\"\"\n",
    "            \n",
    "    if len(job_statistics) > 0:\n",
    "        df2 = df.reset_index()\n",
    "        df2.columns = [\"0\", \"1\"]\n",
    "        source = ColumnDataSource(data=df2)\n",
    "        columns = [TableColumn(field='0', title=\"\"),\n",
    "                   TableColumn(field='1', title=\"Job Statistics\"),]\n",
    "        table = DataTable(source=source, columns=columns, width=450, height=380)\n",
    "\n",
    "    plot = None\n",
    "\n",
    "    if \"Initialization\" in job_statistics:\n",
    "        piechart_data = {}\n",
    "        piechart_data[\"Initialization\"] = initialization_perc  \n",
    "        piechart_data[\"Training loop\"]  = training_loop_perc\n",
    "        piechart_data[\"Finalization\"]  = finalization_perc \n",
    "\n",
    "        plot = create_piechart(piechart_data, \n",
    "                               height=350,\n",
    "                               width=500,\n",
    "                               x1=0.15,\n",
    "                               x2=0.15,\n",
    "                               radius=0.15, \n",
    "                               toolbar_location=None)\n",
    "\n",
    "    if plot != None:\n",
    "        paragraph = Paragraph(text=f\"\"\"{text}\"\"\", width = 800)\n",
    "        show(column(paragraph, row(table, plot)))\n",
    "    else:\n",
    "        paragraph = Paragraph(text=f\"\"\"{text}. No step information was profiled from your training job. The time spent on initialization and finalization cannot be computed.\"\"\" , width = 800)\n",
    "        show(column(paragraph, row(table)))"
   ]
  },
  {
   "cell_type": "markdown",
   "metadata": {
    "papermill": {
     "duration": 0.018917,
     "end_time": "2023-04-06T09:10:34.739735",
     "exception": false,
     "start_time": "2023-04-06T09:10:34.720818",
     "status": "completed"
    },
    "tags": []
   },
   "source": [
    "## System usage statistics"
   ]
  },
  {
   "cell_type": "code",
   "execution_count": 11,
   "metadata": {
    "execution": {
     "iopub.execute_input": "2023-04-06T09:10:34.780677Z",
     "iopub.status.busy": "2023-04-06T09:10:34.780208Z",
     "iopub.status.idle": "2023-04-06T09:10:34.782331Z",
     "shell.execute_reply": "2023-04-06T09:10:34.782706Z"
    },
    "papermill": {
     "duration": 0.024186,
     "end_time": "2023-04-06T09:10:34.782818",
     "exception": false,
     "start_time": "2023-04-06T09:10:34.758632",
     "status": "completed"
    },
    "tags": [
     "hide-input"
    ]
   },
   "outputs": [],
   "source": [
    "report = load_report('OverallSystemUsage')"
   ]
  },
  {
   "cell_type": "code",
   "execution_count": 12,
   "metadata": {
    "execution": {
     "iopub.execute_input": "2023-04-06T09:10:34.828343Z",
     "iopub.status.busy": "2023-04-06T09:10:34.822784Z",
     "iopub.status.idle": "2023-04-06T09:10:34.830497Z",
     "shell.execute_reply": "2023-04-06T09:10:34.830095Z"
    },
    "papermill": {
     "duration": 0.028818,
     "end_time": "2023-04-06T09:10:34.830595",
     "exception": false,
     "start_time": "2023-04-06T09:10:34.801777",
     "status": "completed"
    },
    "tags": [
     "hide-input"
    ]
   },
   "outputs": [],
   "source": [
    "text1 = ''\n",
    "if report:\n",
    "    if \"GPU\" in report[\"Details\"]:\n",
    "        for node_id in report[\"Details\"][\"GPU\"]:\n",
    "            gpu_p95 = report[\"Details\"][\"GPU\"][node_id][\"p95\"]\n",
    "            gpu_p50 = report[\"Details\"][\"GPU\"][node_id][\"p50\"]\n",
    "            cpu_p95 = report[\"Details\"][\"CPU\"][node_id][\"p95\"]\n",
    "            cpu_p50 = report[\"Details\"][\"CPU\"][node_id][\"p50\"]\n",
    "            \n",
    "            if gpu_p95 < 70 and cpu_p95 < 70:\n",
    "                text1 = f\"\"\"{text1}The 95th percentile of the total GPU utilization on node {node_id} is only {int(gpu_p95)}%. \n",
    "                The 95th percentile of the total CPU utilization is only {int(cpu_p95)}%. Node {node_id} is underutilized. \n",
    "                You may want to consider switching to a smaller instance type.\"\"\"\n",
    "            elif gpu_p95 < 70 and cpu_p95 > 70:\n",
    "                text1 = f\"\"\"{text1}The 95th percentile of the total GPU utilization on node {node_id} is only {int(gpu_p95)}%. \n",
    "                However, the 95th percentile of the total CPU utilization is {int(cpu_p95)}%. GPUs on node {node_id} are underutilized, \n",
    "                likely because of CPU bottlenecks.\"\"\"\n",
    "            elif gpu_p50 > 70:\n",
    "                text1 = f\"\"\"{text1}The median total GPU utilization on node {node_id} is {int(gpu_p50)}%. \n",
    "                GPUs on node {node_id} are well utilized.\"\"\"\n",
    "            else:\n",
    "                text1 = f\"\"\"{text1}The median total GPU utilization on node {node_id} is {int(gpu_p50)}%. \n",
    "                The median total CPU utilization is {int(cpu_p50)}%.\"\"\"\n",
    "    else:\n",
    "        for node_id in report[\"Details\"][\"CPU\"]:\n",
    "            cpu_p95 = report[\"Details\"][\"CPU\"][node_id][\"p95\"]\n",
    "            if cpu_p95 > 70:\n",
    "                text1 = f\"\"\"{text1}The 95th percentile of the total CPU utilization on node {node_id} is {int**(cpu_p95)}%. CPUs on node {node_id} are well utilized.\"\"\"\n",
    "    text1 = Paragraph(text=f\"\"\"{text1}\"\"\", width=1100)\n",
    "    text2 = Paragraph(text=f\"\"\"The following table shows statistics of resource utilization per worker (node), \n",
    "    such as the total CPU and GPU utilization, and the memory utilization on CPU and GPU. \n",
    "    The table also includes the total I/O wait time and the total amount of data sent or received in bytes.\n",
    "    The table shows min and max values as well as p99, p90 and p50 percentiles.\"\"\", width=900)\n"
   ]
  },
  {
   "cell_type": "code",
   "execution_count": 13,
   "metadata": {
    "execution": {
     "iopub.execute_input": "2023-04-06T09:10:34.896875Z",
     "iopub.status.busy": "2023-04-06T09:10:34.880132Z",
     "iopub.status.idle": "2023-04-06T09:10:34.900440Z",
     "shell.execute_reply": "2023-04-06T09:10:34.900821Z"
    },
    "papermill": {
     "duration": 0.05108,
     "end_time": "2023-04-06T09:10:34.900937",
     "exception": false,
     "start_time": "2023-04-06T09:10:34.849857",
     "status": "completed"
    },
    "tags": [
     "hide-input"
    ]
   },
   "outputs": [
    {
     "data": {
      "text/html": [
       "\n",
       "\n",
       "\n",
       "\n",
       "\n",
       "\n",
       "  <div class=\"bk-root\" id=\"03caf4d0-dea6-4b1e-9fda-d239e2d13f49\" data-root-id=\"1145\"></div>\n"
      ]
     },
     "metadata": {},
     "output_type": "display_data"
    },
    {
     "data": {
      "application/javascript": [
       "(function(root) {\n",
       "  function embed_document(root) {\n",
       "    \n",
       "  var docs_json = {\"794f386f-1f5b-44e3-99db-e51f89165c06\":{\"roots\":{\"references\":[{\"attributes\":{\"children\":[{\"id\":\"1131\"},{\"id\":\"1132\"},{\"id\":\"1144\"}]},\"id\":\"1145\",\"type\":\"Column\"},{\"attributes\":{\"editor\":{\"id\":\"1167\"},\"field\":\"max\",\"formatter\":{\"id\":\"1168\"},\"title\":\"max\"},\"id\":\"1137\",\"type\":\"TableColumn\"},{\"attributes\":{},\"id\":\"1160\",\"type\":\"Selection\"},{\"attributes\":{},\"id\":\"1166\",\"type\":\"StringFormatter\"},{\"attributes\":{\"editor\":{\"id\":\"1175\"},\"field\":\"min\",\"formatter\":{\"id\":\"1176\"},\"title\":\"min\"},\"id\":\"1141\",\"type\":\"TableColumn\"},{\"attributes\":{},\"id\":\"1162\",\"type\":\"StringFormatter\"},{\"attributes\":{},\"id\":\"1175\",\"type\":\"StringEditor\"},{\"attributes\":{},\"id\":\"1168\",\"type\":\"StringFormatter\"},{\"attributes\":{},\"id\":\"1164\",\"type\":\"StringFormatter\"},{\"attributes\":{\"columns\":[{\"id\":\"1134\"},{\"id\":\"1135\"},{\"id\":\"1136\"},{\"id\":\"1137\"},{\"id\":\"1138\"},{\"id\":\"1139\"},{\"id\":\"1140\"},{\"id\":\"1141\"}],\"height\":360,\"source\":{\"id\":\"1133\"},\"view\":{\"id\":\"1143\"},\"width\":800},\"id\":\"1142\",\"type\":\"DataTable\"},{\"attributes\":{},\"id\":\"1165\",\"type\":\"StringEditor\"},{\"attributes\":{},\"id\":\"1173\",\"type\":\"StringEditor\"},{\"attributes\":{\"editor\":{\"id\":\"1169\"},\"field\":\"p99\",\"formatter\":{\"id\":\"1170\"},\"title\":\"p99\"},\"id\":\"1138\",\"type\":\"TableColumn\"},{\"attributes\":{\"editor\":{\"id\":\"1171\"},\"field\":\"p95\",\"formatter\":{\"id\":\"1172\"},\"title\":\"p95\"},\"id\":\"1139\",\"type\":\"TableColumn\"},{\"attributes\":{},\"id\":\"1161\",\"type\":\"StringEditor\"},{\"attributes\":{},\"id\":\"1172\",\"type\":\"StringFormatter\"},{\"attributes\":{\"editor\":{\"id\":\"1165\"},\"field\":\"unit\",\"formatter\":{\"id\":\"1166\"},\"title\":\"unit\"},\"id\":\"1136\",\"type\":\"TableColumn\"},{\"attributes\":{},\"id\":\"1174\",\"type\":\"StringFormatter\"},{\"attributes\":{\"children\":[{\"id\":\"1142\"}]},\"id\":\"1144\",\"type\":\"Row\"},{\"attributes\":{\"editor\":{\"id\":\"1161\"},\"field\":\"Node\",\"formatter\":{\"id\":\"1162\"},\"title\":\"node\"},\"id\":\"1134\",\"type\":\"TableColumn\"},{\"attributes\":{\"source\":{\"id\":\"1133\"}},\"id\":\"1143\",\"type\":\"CDSView\"},{\"attributes\":{\"data\":{\"Node\":[\"algo-1\",\"algo-2\",\"algo-1\",\"algo-2\",\"algo-1\",\"algo-2\",\"algo-1\",\"algo-2\",\"algo-1\",\"algo-2\",\"algo-1\",\"algo-2\"],\"index\":[0,1,2,3,4,5,6,7,8,9,10,11],\"level_0\":[0,1,2,3,4,5,6,7,8,9,10,11],\"max\":{\"__ndarray__\":\"w/Uo1swDlkG4HoUgXs+UQQAAAAAAAEZAAAAAAACARUA9CtejcD1YQNejcD0K91dAUrgehesRPUCF61G4HkU9QAAAAAAAAEJAAAAAAAAAQkD2KFyPwrVAQHE9CtejcEBA\",\"dtype\":\"float64\",\"order\":\"little\",\"shape\":[12]},\"metric\":[\"Network\",\"Network\",\"GPU\",\"GPU\",\"CPU\",\"CPU\",\"CPU memory\",\"CPU memory\",\"GPU memory\",\"GPU memory\",\"I/O\",\"I/O\"],\"min\":{\"__ndarray__\":\"AAAAAAAAAAAAAAAAAAAAAAAAAAAAAAAAAAAAAAAAAAApXI/C9SjwPwAAAAAAAOA/w/UoXI/CD0BSuB6F61EQQAAAAAAAAAAAAAAAAAAAAAAAAAAAAAAAAAAAAAAAAAAA\",\"dtype\":\"float64\",\"order\":\"little\",\"shape\":[12]},\"p50\":{\"__ndarray__\":\"AAAAAAAAAAAAAAAAAAAAAAAAAAAAADVAAAAAAAAANUApXI/C9ahCQHE9CtejsEJAZmZmZmbmO0DhehSuR+E7QAAAAAAAADJAAAAAAAAAMkAAAAAAAAAAAAAAAAAAAAAA\",\"dtype\":\"float64\",\"order\":\"little\",\"shape\":[12]},\"p95\":{\"__ndarray__\":\"AAAAAAAAAAAAAAAAAAAAAAAAAAAAgEJAAAAAAAAAQkAUrkfheuRQQBSuR+F65FBAXI/C9SgcPEAfhetRuB48QAAAAAAAAD9AAAAAAAAAP0B7FK5H4XonQFyPwvUo3ChA\",\"dtype\":\"float64\",\"order\":\"little\",\"shape\":[12]},\"p99\":{\"__ndarray__\":\"AAAAAAAAAAAAAAAAAAAAAAAAAAAAAEVAAAAAAAAARUDsUbgehTtTQAAAAAAAcFNApHA9CtdjPEDXo3A9Clc8QAAAAAAAgEFAAAAAAACAQUAK16NwPYo1QFyPwvUoXDZA\",\"dtype\":\"float64\",\"order\":\"little\",\"shape\":[12]},\"unit\":[\"bytes\",\"bytes\",\"percentage\",\"percentage\",\"percentage\",\"percentage\",\"percentage\",\"percentage\",\"percentage\",\"percentage\",\"percentage\",\"percentage\"]},\"selected\":{\"id\":\"1160\"},\"selection_policy\":{\"id\":\"1159\"}},\"id\":\"1133\",\"type\":\"ColumnDataSource\"},{\"attributes\":{\"text\":\"The 95th percentile of the total GPU utilization on node algo-1 is only 37%. \\n                The 95th percentile of the total CPU utilization is only 67%. Node algo-1 is underutilized. \\n                You may want to consider switching to a smaller instance type.The 95th percentile of the total GPU utilization on node algo-2 is only 36%. \\n                The 95th percentile of the total CPU utilization is only 67%. Node algo-2 is underutilized. \\n                You may want to consider switching to a smaller instance type.\",\"width\":1100},\"id\":\"1131\",\"type\":\"Paragraph\"},{\"attributes\":{\"editor\":{\"id\":\"1163\"},\"field\":\"metric\",\"formatter\":{\"id\":\"1164\"},\"title\":\"metric\"},\"id\":\"1135\",\"type\":\"TableColumn\"},{\"attributes\":{},\"id\":\"1159\",\"type\":\"UnionRenderers\"},{\"attributes\":{},\"id\":\"1176\",\"type\":\"StringFormatter\"},{\"attributes\":{},\"id\":\"1171\",\"type\":\"StringEditor\"},{\"attributes\":{\"editor\":{\"id\":\"1173\"},\"field\":\"p50\",\"formatter\":{\"id\":\"1174\"},\"title\":\"p50\"},\"id\":\"1140\",\"type\":\"TableColumn\"},{\"attributes\":{},\"id\":\"1170\",\"type\":\"StringFormatter\"},{\"attributes\":{},\"id\":\"1163\",\"type\":\"StringEditor\"},{\"attributes\":{},\"id\":\"1169\",\"type\":\"StringEditor\"},{\"attributes\":{},\"id\":\"1167\",\"type\":\"StringEditor\"},{\"attributes\":{\"text\":\"The following table shows statistics of resource utilization per worker (node), \\n    such as the total CPU and GPU utilization, and the memory utilization on CPU and GPU. \\n    The table also includes the total I/O wait time and the total amount of data sent or received in bytes.\\n    The table shows min and max values as well as p99, p90 and p50 percentiles.\",\"width\":900},\"id\":\"1132\",\"type\":\"Paragraph\"}],\"root_ids\":[\"1145\"]},\"title\":\"Bokeh Application\",\"version\":\"2.2.3\"}};\n",
       "  var render_items = [{\"docid\":\"794f386f-1f5b-44e3-99db-e51f89165c06\",\"root_ids\":[\"1145\"],\"roots\":{\"1145\":\"03caf4d0-dea6-4b1e-9fda-d239e2d13f49\"}}];\n",
       "  root.Bokeh.embed.embed_items_notebook(docs_json, render_items);\n",
       "\n",
       "  }\n",
       "  if (root.Bokeh !== undefined) {\n",
       "    embed_document(root);\n",
       "  } else {\n",
       "    var attempts = 0;\n",
       "    var timer = setInterval(function(root) {\n",
       "      if (root.Bokeh !== undefined) {\n",
       "        clearInterval(timer);\n",
       "        embed_document(root);\n",
       "      } else {\n",
       "        attempts++;\n",
       "        if (attempts > 100) {\n",
       "          clearInterval(timer);\n",
       "          console.log(\"Bokeh: ERROR: Unable to run BokehJS code because BokehJS library is missing\");\n",
       "        }\n",
       "      }\n",
       "    }, 10, root)\n",
       "  }\n",
       "})(window);"
      ],
      "application/vnd.bokehjs_exec.v0+json": ""
     },
     "metadata": {
      "application/vnd.bokehjs_exec.v0+json": {
       "id": "1145"
      }
     },
     "output_type": "display_data"
    }
   ],
   "source": [
    "pd.set_option('display.float_format', lambda x: '%.2f' % x)\n",
    "rows = [] \n",
    "units = {\"CPU\": \"percentage\", \"CPU memory\": \"percentage\", \"GPU\": \"percentage\", \"Network\": \"bytes\", \"GPU memory\": \"percentage\", \"I/O\": \"percentage\"}\n",
    "if report:\n",
    "    for metric in report['Details']:\n",
    "        for node_id in report['Details'][metric]:\n",
    "            values = report['Details'][metric][node_id]\n",
    "            rows.append([node_id, metric, units[metric], values['max'], values['p99'], values['p95'], values['p50'], values['min']])\n",
    "\n",
    "    df = pd.DataFrame(rows) \n",
    "    df.columns = ['Node', 'metric', 'unit', 'max', 'p99', 'p95', 'p50', 'min']\n",
    "    df2 = df.reset_index()\n",
    "    source = ColumnDataSource(data=df2)\n",
    "    columns = [TableColumn(field='Node', title=\"node\"),\n",
    "               TableColumn(field='metric', title=\"metric\"),\n",
    "               TableColumn(field='unit', title=\"unit\"),\n",
    "               TableColumn(field='max', title=\"max\"),\n",
    "               TableColumn(field='p99', title=\"p99\"),\n",
    "               TableColumn(field='p95', title=\"p95\"),\n",
    "               TableColumn(field='p50', title=\"p50\"),\n",
    "               TableColumn(field='min', title=\"min\"),]\n",
    "    table = DataTable(source=source, columns=columns, width=800, height=df2.shape[0]*30)\n",
    "\n",
    "    show(column( text1, text2, row(table)))"
   ]
  },
  {
   "cell_type": "code",
   "execution_count": 14,
   "metadata": {
    "execution": {
     "iopub.execute_input": "2023-04-06T09:10:34.956198Z",
     "iopub.status.busy": "2023-04-06T09:10:34.955685Z",
     "iopub.status.idle": "2023-04-06T09:10:35.042404Z",
     "shell.execute_reply": "2023-04-06T09:10:35.042785Z"
    },
    "papermill": {
     "duration": 0.122076,
     "end_time": "2023-04-06T09:10:35.042923",
     "exception": false,
     "start_time": "2023-04-06T09:10:34.920847",
     "status": "completed"
    },
    "tags": [
     "hide-input"
    ]
   },
   "outputs": [
    {
     "data": {
      "text/markdown": [
       "## Framework metrics summary"
      ],
      "text/plain": [
       "<IPython.core.display.Markdown object>"
      ]
     },
     "metadata": {},
     "output_type": "display_data"
    },
    {
     "data": {
      "text/html": [
       "\n",
       "\n",
       "\n",
       "\n",
       "\n",
       "\n",
       "  <div class=\"bk-root\" id=\"faa6e207-2339-4806-b81f-cc6f9b89a27d\" data-root-id=\"1314\"></div>\n"
      ]
     },
     "metadata": {},
     "output_type": "display_data"
    },
    {
     "data": {
      "application/javascript": [
       "(function(root) {\n",
       "  function embed_document(root) {\n",
       "    \n",
       "  var docs_json = {\"5018992a-44e1-47ee-ad96-0b21a237a08a\":{\"roots\":{\"references\":[{\"attributes\":{\"children\":[{\"id\":\"1312\"},{\"id\":\"1313\"}]},\"id\":\"1314\",\"type\":\"Column\"},{\"attributes\":{\"end\":0.8999999999999999,\"start\":-0.5},\"id\":\"1270\",\"type\":\"Range1d\"},{\"attributes\":{},\"id\":\"1305\",\"type\":\"BasicTickFormatter\"},{\"attributes\":{},\"id\":\"1274\",\"type\":\"LinearScale\"},{\"attributes\":{},\"id\":\"1308\",\"type\":\"UnionRenderers\"},{\"attributes\":{},\"id\":\"1309\",\"type\":\"Selection\"},{\"attributes\":{\"below\":[{\"id\":\"1278\"}],\"center\":[{\"id\":\"1281\"},{\"id\":\"1285\"},{\"id\":\"1310\"}],\"left\":[{\"id\":\"1282\"}],\"outline_line_color\":\"white\",\"plot_height\":350,\"renderers\":[{\"id\":\"1301\"}],\"title\":{\"id\":\"1268\"},\"toolbar\":{\"id\":\"1290\"},\"x_range\":{\"id\":\"1270\"},\"x_scale\":{\"id\":\"1274\"},\"y_range\":{\"id\":\"1272\"},\"y_scale\":{\"id\":\"1276\"}},\"id\":\"1267\",\"subtype\":\"Figure\",\"type\":\"Plot\"},{\"attributes\":{},\"id\":\"1276\",\"type\":\"LinearScale\"},{\"attributes\":{\"axis_label\":null,\"formatter\":{\"id\":\"1307\"},\"ticker\":{\"id\":\"1279\"},\"visible\":false},\"id\":\"1278\",\"type\":\"LinearAxis\"},{\"attributes\":{\"text\":\"The ratio between the time spent on the TRAIN/EVAL phase and others\"},\"id\":\"1268\",\"type\":\"Title\"},{\"attributes\":{},\"id\":\"1283\",\"type\":\"BasicTicker\"},{\"attributes\":{\"items\":[{\"id\":\"1311\"}],\"label_text_font_size\":\"8pt\",\"location\":\"center_right\"},\"id\":\"1310\",\"type\":\"Legend\"},{\"attributes\":{},\"id\":\"1279\",\"type\":\"BasicTicker\"},{\"attributes\":{\"axis\":{\"id\":\"1278\"},\"grid_line_color\":null,\"ticker\":null},\"id\":\"1281\",\"type\":\"Grid\"},{\"attributes\":{},\"id\":\"1307\",\"type\":\"BasicTickFormatter\"},{\"attributes\":{\"label\":{\"field\":\"phase\"},\"renderers\":[{\"id\":\"1301\"}]},\"id\":\"1311\",\"type\":\"LegendItem\"},{\"attributes\":{\"field\":\"angle\"},\"id\":\"1296\",\"type\":\"CumSum\"},{\"attributes\":{\"text\":\"The following two pie charts show the time spent on the TRAIN phase, the EVAL phase, \\n            and others. The 'others' includes the time spent between steps (after one step has finished and before\\n            the next step has started). Ideally, most of the training time should be spent on the \\n            TRAIN and EVAL phases. If TRAIN/EVAL were not specified in the training script, steps will be recorded as \\n            GLOBAL. Your training job spent quite a significant amount of time (40.86%) in phase \\\"others\\\".\\n                    You should check what is happening in between the steps.\",\"width\":1100},\"id\":\"1312\",\"type\":\"Paragraph\"},{\"attributes\":{\"axis\":{\"id\":\"1282\"},\"dimension\":1,\"grid_line_color\":null,\"ticker\":null},\"id\":\"1285\",\"type\":\"Grid\"},{\"attributes\":{\"end_angle\":{\"expr\":{\"id\":\"1296\"},\"units\":\"rad\"},\"fill_alpha\":{\"value\":0.1},\"fill_color\":{\"field\":\"color\"},\"line_alpha\":{\"value\":0.1},\"line_color\":{\"value\":\"white\"},\"radius\":{\"units\":\"data\",\"value\":0.3},\"start_angle\":{\"expr\":{\"id\":\"1295\"},\"units\":\"rad\"},\"x\":{\"value\":0},\"y\":{\"value\":0.0}},\"id\":\"1300\",\"type\":\"Wedge\"},{\"attributes\":{\"axis_label\":null,\"formatter\":{\"id\":\"1305\"},\"ticker\":{\"id\":\"1283\"},\"visible\":false},\"id\":\"1282\",\"type\":\"LinearAxis\"},{\"attributes\":{\"field\":\"angle\",\"include_zero\":true},\"id\":\"1295\",\"type\":\"CumSum\"},{\"attributes\":{},\"id\":\"1272\",\"type\":\"DataRange1d\"},{\"attributes\":{\"data_source\":{\"id\":\"1297\"},\"glyph\":{\"id\":\"1299\"},\"hover_glyph\":null,\"muted_glyph\":null,\"nonselection_glyph\":{\"id\":\"1300\"},\"selection_glyph\":null,\"view\":{\"id\":\"1302\"}},\"id\":\"1301\",\"type\":\"GlyphRenderer\"},{\"attributes\":{\"active_drag\":\"auto\",\"active_inspect\":\"auto\",\"active_multi\":null,\"active_scroll\":\"auto\",\"active_tap\":\"auto\",\"tools\":[{\"id\":\"1286\"},{\"id\":\"1287\"},{\"id\":\"1288\"},{\"id\":\"1289\"}]},\"id\":\"1290\",\"type\":\"Toolbar\"},{\"attributes\":{\"children\":[{\"id\":\"1267\"}]},\"id\":\"1313\",\"type\":\"Row\"},{\"attributes\":{\"callback\":null,\"tooltips\":\"@phase:@value\"},\"id\":\"1286\",\"type\":\"HoverTool\"},{\"attributes\":{},\"id\":\"1287\",\"type\":\"WheelZoomTool\"},{\"attributes\":{\"end_angle\":{\"expr\":{\"id\":\"1296\"},\"units\":\"rad\"},\"fill_color\":{\"field\":\"color\"},\"line_color\":{\"value\":\"white\"},\"radius\":{\"units\":\"data\",\"value\":0.3},\"start_angle\":{\"expr\":{\"id\":\"1295\"},\"units\":\"rad\"},\"x\":{\"value\":0},\"y\":{\"value\":0.0}},\"id\":\"1299\",\"type\":\"Wedge\"},{\"attributes\":{\"data\":{\"angle\":{\"__ndarray__\":\"HCuBGROIDUDMVb5peYkEQFejbKQSNZk/\",\"dtype\":\"float64\",\"order\":\"little\",\"shape\":[3]},\"color\":[\"#440154\",\"#208F8C\",\"#FDE724\"],\"index\":[0,1,2],\"phase\":[\"Step:ModeKeys.TRAIN\",\"others\",\"Step:ModeKeys.EVAL\"],\"value\":{\"__ndarray__\":\"VWe9MCVgTUAHd0LUtG1EQLfSEID9Etk/\",\"dtype\":\"float64\",\"order\":\"little\",\"shape\":[3]}},\"selected\":{\"id\":\"1309\"},\"selection_policy\":{\"id\":\"1308\"}},\"id\":\"1297\",\"type\":\"ColumnDataSource\"},{\"attributes\":{},\"id\":\"1288\",\"type\":\"ResetTool\"},{\"attributes\":{\"source\":{\"id\":\"1297\"}},\"id\":\"1302\",\"type\":\"CDSView\"},{\"attributes\":{},\"id\":\"1289\",\"type\":\"PanTool\"}],\"root_ids\":[\"1314\"]},\"title\":\"Bokeh Application\",\"version\":\"2.2.3\"}};\n",
       "  var render_items = [{\"docid\":\"5018992a-44e1-47ee-ad96-0b21a237a08a\",\"root_ids\":[\"1314\"],\"roots\":{\"1314\":\"faa6e207-2339-4806-b81f-cc6f9b89a27d\"}}];\n",
       "  root.Bokeh.embed.embed_items_notebook(docs_json, render_items);\n",
       "\n",
       "  }\n",
       "  if (root.Bokeh !== undefined) {\n",
       "    embed_document(root);\n",
       "  } else {\n",
       "    var attempts = 0;\n",
       "    var timer = setInterval(function(root) {\n",
       "      if (root.Bokeh !== undefined) {\n",
       "        clearInterval(timer);\n",
       "        embed_document(root);\n",
       "      } else {\n",
       "        attempts++;\n",
       "        if (attempts > 100) {\n",
       "          clearInterval(timer);\n",
       "          console.log(\"Bokeh: ERROR: Unable to run BokehJS code because BokehJS library is missing\");\n",
       "        }\n",
       "      }\n",
       "    }, 10, root)\n",
       "  }\n",
       "})(window);"
      ],
      "application/vnd.bokehjs_exec.v0+json": ""
     },
     "metadata": {
      "application/vnd.bokehjs_exec.v0+json": {
       "id": "1314"
      }
     },
     "output_type": "display_data"
    },
    {
     "data": {
      "text/html": [
       "\n",
       "\n",
       "\n",
       "\n",
       "\n",
       "\n",
       "  <div class=\"bk-root\" id=\"288f70a0-061a-4bc1-a27e-41708983b1ba\" data-root-id=\"1480\"></div>\n"
      ]
     },
     "metadata": {},
     "output_type": "display_data"
    },
    {
     "data": {
      "application/javascript": [
       "(function(root) {\n",
       "  function embed_document(root) {\n",
       "    \n",
       "  var docs_json = {\"8054d9de-ccf9-4ae7-96d0-8d2a7a59660a\":{\"roots\":{\"references\":[{\"attributes\":{\"children\":[{\"id\":\"1478\"},{\"id\":\"1479\"}]},\"id\":\"1480\",\"type\":\"Column\"},{\"attributes\":{\"axis_label\":null,\"formatter\":{\"id\":\"1471\"},\"ticker\":{\"id\":\"1449\"},\"visible\":false},\"id\":\"1448\",\"type\":\"LinearAxis\"},{\"attributes\":{},\"id\":\"1395\",\"type\":\"LinearScale\"},{\"attributes\":{},\"id\":\"1440\",\"type\":\"LinearScale\"},{\"attributes\":{\"field\":\"angle\",\"include_zero\":true},\"id\":\"1461\",\"type\":\"CumSum\"},{\"attributes\":{\"source\":{\"id\":\"1418\"}},\"id\":\"1423\",\"type\":\"CDSView\"},{\"attributes\":{},\"id\":\"1474\",\"type\":\"UnionRenderers\"},{\"attributes\":{},\"id\":\"1397\",\"type\":\"LinearScale\"},{\"attributes\":{\"active_drag\":\"auto\",\"active_inspect\":\"auto\",\"active_multi\":null,\"active_scroll\":\"auto\",\"active_tap\":\"auto\",\"tools\":[{\"id\":\"1452\"},{\"id\":\"1453\"},{\"id\":\"1454\"},{\"id\":\"1455\"}]},\"id\":\"1456\",\"type\":\"Toolbar\"},{\"attributes\":{},\"id\":\"1428\",\"type\":\"BasicTickFormatter\"},{\"attributes\":{\"axis_label\":null,\"formatter\":{\"id\":\"1428\"},\"ticker\":{\"id\":\"1400\"},\"visible\":false},\"id\":\"1399\",\"type\":\"LinearAxis\"},{\"attributes\":{\"below\":[{\"id\":\"1399\"}],\"center\":[{\"id\":\"1402\"},{\"id\":\"1406\"},{\"id\":\"1431\"}],\"left\":[{\"id\":\"1403\"}],\"outline_line_color\":\"white\",\"plot_height\":350,\"renderers\":[{\"id\":\"1422\"}],\"title\":{\"id\":\"1389\"},\"toolbar\":{\"id\":\"1411\"},\"x_range\":{\"id\":\"1391\"},\"x_scale\":{\"id\":\"1395\"},\"y_range\":{\"id\":\"1393\"},\"y_scale\":{\"id\":\"1397\"}},\"id\":\"1388\",\"subtype\":\"Figure\",\"type\":\"Plot\"},{\"attributes\":{},\"id\":\"1426\",\"type\":\"BasicTickFormatter\"},{\"attributes\":{\"callback\":null,\"tooltips\":\"@phase:@value\"},\"id\":\"1452\",\"type\":\"HoverTool\"},{\"attributes\":{\"field\":\"angle\"},\"id\":\"1462\",\"type\":\"CumSum\"},{\"attributes\":{\"axis\":{\"id\":\"1399\"},\"grid_line_color\":null,\"ticker\":null},\"id\":\"1402\",\"type\":\"Grid\"},{\"attributes\":{\"items\":[{\"id\":\"1432\"}],\"label_text_font_size\":\"8pt\",\"location\":\"center_right\"},\"id\":\"1431\",\"type\":\"Legend\"},{\"attributes\":{},\"id\":\"1400\",\"type\":\"BasicTicker\"},{\"attributes\":{\"source\":{\"id\":\"1463\"}},\"id\":\"1468\",\"type\":\"CDSView\"},{\"attributes\":{\"field\":\"angle\"},\"id\":\"1417\",\"type\":\"CumSum\"},{\"attributes\":{},\"id\":\"1404\",\"type\":\"BasicTicker\"},{\"attributes\":{},\"id\":\"1454\",\"type\":\"ResetTool\"},{\"attributes\":{},\"id\":\"1473\",\"type\":\"BasicTickFormatter\"},{\"attributes\":{\"text\":\"General framework operations\"},\"id\":\"1434\",\"type\":\"Title\"},{\"attributes\":{},\"id\":\"1453\",\"type\":\"WheelZoomTool\"},{\"attributes\":{},\"id\":\"1429\",\"type\":\"UnionRenderers\"},{\"attributes\":{},\"id\":\"1455\",\"type\":\"PanTool\"},{\"attributes\":{},\"id\":\"1430\",\"type\":\"Selection\"},{\"attributes\":{\"data\":{\"angle\":{\"__ndarray__\":\"fVLoHowrCUCyB6CJahgJQA==\",\"dtype\":\"float64\",\"order\":\"little\",\"shape\":[2]},\"color\":[\"#440154\",\"#FDE724\"],\"index\":[0,1],\"phase\":[\"gpu_functions-dev:0\",\"cpu_functions\"],\"value\":{\"__ndarray__\":\"Puum24MJSUDBFFkkfPZIQA==\",\"dtype\":\"float64\",\"order\":\"little\",\"shape\":[2]}},\"selected\":{\"id\":\"1430\"},\"selection_policy\":{\"id\":\"1429\"}},\"id\":\"1418\",\"type\":\"ColumnDataSource\"},{\"attributes\":{},\"id\":\"1471\",\"type\":\"BasicTickFormatter\"},{\"attributes\":{\"label\":{\"field\":\"phase\"},\"renderers\":[{\"id\":\"1422\"}]},\"id\":\"1432\",\"type\":\"LegendItem\"},{\"attributes\":{},\"id\":\"1410\",\"type\":\"PanTool\"},{\"attributes\":{},\"id\":\"1438\",\"type\":\"DataRange1d\"},{\"attributes\":{\"active_drag\":\"auto\",\"active_inspect\":\"auto\",\"active_multi\":null,\"active_scroll\":\"auto\",\"active_tap\":\"auto\",\"tools\":[{\"id\":\"1407\"},{\"id\":\"1408\"},{\"id\":\"1409\"},{\"id\":\"1410\"}]},\"id\":\"1411\",\"type\":\"Toolbar\"},{\"attributes\":{\"data_source\":{\"id\":\"1418\"},\"glyph\":{\"id\":\"1420\"},\"hover_glyph\":null,\"muted_glyph\":null,\"nonselection_glyph\":{\"id\":\"1421\"},\"selection_glyph\":null,\"view\":{\"id\":\"1423\"}},\"id\":\"1422\",\"type\":\"GlyphRenderer\"},{\"attributes\":{\"data\":{\"angle\":{\"__ndarray__\":\"/+HbzU/cFj/orFK5Mk9yP5EKRqtQHRlA\",\"dtype\":\"float64\",\"order\":\"little\",\"shape\":[3]},\"color\":[\"#440154\",\"#208F8C\",\"#FDE724\"],\"index\":[0,1,2],\"phase\":[\"DataLoaderIterInitialize\",\"DataLoaderIter\",\"Forward\"],\"value\":{\"__ndarray__\":\"cfof8ma9Vj84L4s0cTayPxTrS6Zb+1hA\",\"dtype\":\"float64\",\"order\":\"little\",\"shape\":[3]}},\"selected\":{\"id\":\"1475\"},\"selection_policy\":{\"id\":\"1474\"}},\"id\":\"1463\",\"type\":\"ColumnDataSource\"},{\"attributes\":{},\"id\":\"1409\",\"type\":\"ResetTool\"},{\"attributes\":{\"items\":[{\"id\":\"1477\"}],\"label_text_font_size\":\"8pt\",\"location\":\"center_right\"},\"id\":\"1476\",\"type\":\"Legend\"},{\"attributes\":{\"end_angle\":{\"expr\":{\"id\":\"1417\"},\"units\":\"rad\"},\"fill_alpha\":{\"value\":0.1},\"fill_color\":{\"field\":\"color\"},\"line_alpha\":{\"value\":0.1},\"line_color\":{\"value\":\"white\"},\"radius\":{\"units\":\"data\",\"value\":0.3},\"start_angle\":{\"expr\":{\"id\":\"1416\"},\"units\":\"rad\"},\"x\":{\"value\":0},\"y\":{\"value\":0.0}},\"id\":\"1421\",\"type\":\"Wedge\"},{\"attributes\":{},\"id\":\"1393\",\"type\":\"DataRange1d\"},{\"attributes\":{},\"id\":\"1408\",\"type\":\"WheelZoomTool\"},{\"attributes\":{\"label\":{\"field\":\"phase\"},\"renderers\":[{\"id\":\"1467\"}]},\"id\":\"1477\",\"type\":\"LegendItem\"},{\"attributes\":{\"text\":\"The following piechart shows a breakdown of the CPU/GPU operators. \\n                It shows that 50% of training time was spent on executing the \\\"gpu_functions-dev:0\\\" operator.\",\"width\":1100},\"id\":\"1478\",\"type\":\"Paragraph\"},{\"attributes\":{\"children\":[{\"id\":\"1388\"},{\"id\":\"1433\"}]},\"id\":\"1479\",\"type\":\"Row\"},{\"attributes\":{},\"id\":\"1442\",\"type\":\"LinearScale\"},{\"attributes\":{\"callback\":null,\"tooltips\":\"@phase:@value\"},\"id\":\"1407\",\"type\":\"HoverTool\"},{\"attributes\":{\"end_angle\":{\"expr\":{\"id\":\"1462\"},\"units\":\"rad\"},\"fill_color\":{\"field\":\"color\"},\"line_color\":{\"value\":\"white\"},\"radius\":{\"units\":\"data\",\"value\":0.3},\"start_angle\":{\"expr\":{\"id\":\"1461\"},\"units\":\"rad\"},\"x\":{\"value\":0},\"y\":{\"value\":0.0}},\"id\":\"1465\",\"type\":\"Wedge\"},{\"attributes\":{\"end\":0.8999999999999999,\"start\":-0.5},\"id\":\"1391\",\"type\":\"Range1d\"},{\"attributes\":{\"text\":\"The ratio between the time spent on CPU/GPU operators\"},\"id\":\"1389\",\"type\":\"Title\"},{\"attributes\":{\"data_source\":{\"id\":\"1463\"},\"glyph\":{\"id\":\"1465\"},\"hover_glyph\":null,\"muted_glyph\":null,\"nonselection_glyph\":{\"id\":\"1466\"},\"selection_glyph\":null,\"view\":{\"id\":\"1468\"}},\"id\":\"1467\",\"type\":\"GlyphRenderer\"},{\"attributes\":{\"end_angle\":{\"expr\":{\"id\":\"1417\"},\"units\":\"rad\"},\"fill_color\":{\"field\":\"color\"},\"line_color\":{\"value\":\"white\"},\"radius\":{\"units\":\"data\",\"value\":0.3},\"start_angle\":{\"expr\":{\"id\":\"1416\"},\"units\":\"rad\"},\"x\":{\"value\":0},\"y\":{\"value\":0.0}},\"id\":\"1420\",\"type\":\"Wedge\"},{\"attributes\":{\"axis\":{\"id\":\"1403\"},\"dimension\":1,\"grid_line_color\":null,\"ticker\":null},\"id\":\"1406\",\"type\":\"Grid\"},{\"attributes\":{\"end\":0.8999999999999999,\"start\":-0.5},\"id\":\"1436\",\"type\":\"Range1d\"},{\"attributes\":{},\"id\":\"1445\",\"type\":\"BasicTicker\"},{\"attributes\":{\"axis_label\":null,\"formatter\":{\"id\":\"1473\"},\"ticker\":{\"id\":\"1445\"},\"visible\":false},\"id\":\"1444\",\"type\":\"LinearAxis\"},{\"attributes\":{\"field\":\"angle\",\"include_zero\":true},\"id\":\"1416\",\"type\":\"CumSum\"},{\"attributes\":{\"axis\":{\"id\":\"1444\"},\"grid_line_color\":null,\"ticker\":null},\"id\":\"1447\",\"type\":\"Grid\"},{\"attributes\":{},\"id\":\"1449\",\"type\":\"BasicTicker\"},{\"attributes\":{\"end_angle\":{\"expr\":{\"id\":\"1462\"},\"units\":\"rad\"},\"fill_alpha\":{\"value\":0.1},\"fill_color\":{\"field\":\"color\"},\"line_alpha\":{\"value\":0.1},\"line_color\":{\"value\":\"white\"},\"radius\":{\"units\":\"data\",\"value\":0.3},\"start_angle\":{\"expr\":{\"id\":\"1461\"},\"units\":\"rad\"},\"x\":{\"value\":0},\"y\":{\"value\":0.0}},\"id\":\"1466\",\"type\":\"Wedge\"},{\"attributes\":{\"axis_label\":null,\"formatter\":{\"id\":\"1426\"},\"ticker\":{\"id\":\"1404\"},\"visible\":false},\"id\":\"1403\",\"type\":\"LinearAxis\"},{\"attributes\":{},\"id\":\"1475\",\"type\":\"Selection\"},{\"attributes\":{\"below\":[{\"id\":\"1444\"}],\"center\":[{\"id\":\"1447\"},{\"id\":\"1451\"},{\"id\":\"1476\"}],\"left\":[{\"id\":\"1448\"}],\"outline_line_color\":\"white\",\"plot_height\":350,\"renderers\":[{\"id\":\"1467\"}],\"title\":{\"id\":\"1434\"},\"toolbar\":{\"id\":\"1456\"},\"x_range\":{\"id\":\"1436\"},\"x_scale\":{\"id\":\"1440\"},\"y_range\":{\"id\":\"1438\"},\"y_scale\":{\"id\":\"1442\"}},\"id\":\"1433\",\"subtype\":\"Figure\",\"type\":\"Plot\"},{\"attributes\":{\"axis\":{\"id\":\"1448\"},\"dimension\":1,\"grid_line_color\":null,\"ticker\":null},\"id\":\"1451\",\"type\":\"Grid\"}],\"root_ids\":[\"1480\"]},\"title\":\"Bokeh Application\",\"version\":\"2.2.3\"}};\n",
       "  var render_items = [{\"docid\":\"8054d9de-ccf9-4ae7-96d0-8d2a7a59660a\",\"root_ids\":[\"1480\"],\"roots\":{\"1480\":\"288f70a0-061a-4bc1-a27e-41708983b1ba\"}}];\n",
       "  root.Bokeh.embed.embed_items_notebook(docs_json, render_items);\n",
       "\n",
       "  }\n",
       "  if (root.Bokeh !== undefined) {\n",
       "    embed_document(root);\n",
       "  } else {\n",
       "    var attempts = 0;\n",
       "    var timer = setInterval(function(root) {\n",
       "      if (root.Bokeh !== undefined) {\n",
       "        clearInterval(timer);\n",
       "        embed_document(root);\n",
       "      } else {\n",
       "        attempts++;\n",
       "        if (attempts > 100) {\n",
       "          clearInterval(timer);\n",
       "          console.log(\"Bokeh: ERROR: Unable to run BokehJS code because BokehJS library is missing\");\n",
       "        }\n",
       "      }\n",
       "    }, 10, root)\n",
       "  }\n",
       "})(window);"
      ],
      "application/vnd.bokehjs_exec.v0+json": ""
     },
     "metadata": {
      "application/vnd.bokehjs_exec.v0+json": {
       "id": "1480"
      }
     },
     "output_type": "display_data"
    }
   ],
   "source": [
    "report = load_report('OverallFrameworkMetrics')\n",
    "if report:\n",
    "    if 'Details' in report:\n",
    "\n",
    "        display(Markdown(f\"\"\"## Framework metrics summary\"\"\"))\n",
    "        plots = []\n",
    "        text = ''\n",
    "        if 'phase' in report['Details']:\n",
    "            text = f\"\"\"The following two pie charts show the time spent on the TRAIN phase, the EVAL phase, \n",
    "            and others. The 'others' includes the time spent between steps (after one step has finished and before\n",
    "            the next step has started). Ideally, most of the training time should be spent on the \n",
    "            TRAIN and EVAL phases. If TRAIN/EVAL were not specified in the training script, steps will be recorded as \n",
    "            GLOBAL.\"\"\"\n",
    "\n",
    "            if 'others' in report['Details']['phase']:\n",
    "                others = float(report['Details']['phase']['others'])\n",
    "\n",
    "                if others > 25:\n",
    "                    text = f\"\"\"{text} Your training job spent quite a significant amount of time ({round(others,2)}%) in phase \"others\".\n",
    "                    You should check what is happening in between the steps.\"\"\"\n",
    "\n",
    "                plot = create_piechart(report['Details']['phase'], \n",
    "                                    height=350,\n",
    "                                    width=600,\n",
    "                                    x1=0.2,\n",
    "                                    x2=0.6,\n",
    "                                    radius=0.3, \n",
    "                                    title=\"The ratio between the time spent on the TRAIN/EVAL phase and others\")\n",
    "                plots.append(plot)\n",
    "\n",
    "        if 'forward_backward' in report['Details']:\n",
    "\n",
    "            event = max(report['Details']['forward_backward'], key=report['Details']['forward_backward'].get)\n",
    "            perc = report['Details']['forward_backward'][event]\n",
    "\n",
    "            text = f\"\"\"{text} The pie chart on the right shows a more detailed breakdown. \n",
    "            It shows that {int(perc)}% of the time was spent in event \"{event}\".\"\"\"\n",
    "\n",
    "            if perc > 70:\n",
    "                text = f\"\"\"There is quite a significant difference between the time spent on forward and backward\n",
    "                pass.\"\"\"\n",
    "            else:\n",
    "                text = f\"\"\"{text} It shows that {int(perc)}% of the training time\n",
    "                was spent on \"{event}\".\"\"\"\n",
    "\n",
    "            plot = create_piechart(report['Details']['forward_backward'], \n",
    "                                height=350,\n",
    "                                width=600,\n",
    "                                x1=0.2,\n",
    "                                x2=0.6,\n",
    "                                radius=0.3, \n",
    "                                title=\"The ratio between forward and backward pass\") \n",
    "            plots.append(plot)\n",
    "\n",
    "        if len(plots) > 0:\n",
    "            paragraph = Paragraph(text=text, width=1100)\n",
    "            show(column(paragraph, row(plots)))\n",
    "\n",
    "        plots = []\n",
    "        text=''\n",
    "        if 'ratio' in report['Details'] and len(report['Details']['ratio']) > 0:\n",
    "\n",
    "            key = list(report['Details']['ratio'].keys())[0]\n",
    "            ratio = report['Details']['ratio'][key]\n",
    "\n",
    "            text = f\"\"\"The following piechart shows a breakdown of the CPU/GPU operators. \n",
    "                It shows that {int(ratio)}% of training time was spent on executing the \"{key}\" operator.\"\"\"\n",
    "\n",
    "            plot = create_piechart(report['Details']['ratio'], \n",
    "                                    height=350,\n",
    "                                    width=600,\n",
    "                                    x1=0.2,\n",
    "                                    x2=0.6,\n",
    "                                    radius=0.3, \n",
    "                                    title=\"The ratio between the time spent on CPU/GPU operators\")\n",
    "            plots.append(plot)\n",
    "\n",
    "\n",
    "        if 'general' in report['Details']:\n",
    "            event = max(report['Details']['general'], key=report['Details']['general'].get)\n",
    "            perc = report['Details']['general'][event]\n",
    "\n",
    "            plot = create_piechart(report['Details']['general'], \n",
    "                                height=350,\n",
    "                                width=600,\n",
    "                                x1=0.2,\n",
    "                                x2=0.6,\n",
    "                                radius=0.3, \n",
    "                                title=\"General framework operations\")\n",
    "            plots.append(plot)\n",
    "\n",
    "        if len(plots) > 0:\n",
    "            paragraph = Paragraph(text=text, width=1100)\n",
    "            show(column(paragraph, row(plots)))\n",
    "\n",
    "        plots = []\n",
    "        text = ''\n",
    "        if 'horovod' in report['Details']:\n",
    "            display(Markdown(f\"\"\"#### Overview: Horovod metrics\"\"\"))\n",
    "            event = max(report['Details']['horovod'], key=report['Details']['horovod'].get)\n",
    "            perc = report['Details']['horovod'][event]\n",
    "            text = f\"\"\"{text} The following pie chart shows a detailed breakdown of the Horovod metrics profiled\n",
    "            from your training job. The most expensive function was \"{event}\" with {int(perc)}%.\"\"\"\n",
    "\n",
    "            plot = create_piechart(report['Details']['horovod'], \n",
    "                                height=350,\n",
    "                                width=600,\n",
    "                                x1=0.2,\n",
    "                                x2=0.6,\n",
    "                                radius=0.3, \n",
    "                                title=\"Horovod metrics \")\n",
    "\n",
    "            paragraph = Paragraph(text=text, width=1100)\n",
    "            show(column(paragraph, row(plot)))\n"
   ]
  },
  {
   "cell_type": "code",
   "execution_count": 15,
   "metadata": {
    "execution": {
     "iopub.execute_input": "2023-04-06T09:10:35.095443Z",
     "iopub.status.busy": "2023-04-06T09:10:35.094729Z",
     "iopub.status.idle": "2023-04-06T09:10:35.139041Z",
     "shell.execute_reply": "2023-04-06T09:10:35.139426Z"
    },
    "papermill": {
     "duration": 0.074554,
     "end_time": "2023-04-06T09:10:35.139561",
     "exception": false,
     "start_time": "2023-04-06T09:10:35.065007",
     "status": "completed"
    },
    "tags": [
     "hide-input"
    ]
   },
   "outputs": [
    {
     "data": {
      "text/markdown": [
       "#### Overview: CPU operators"
      ],
      "text/plain": [
       "<IPython.core.display.Markdown object>"
      ]
     },
     "metadata": {},
     "output_type": "display_data"
    },
    {
     "data": {
      "text/html": [
       "\n",
       "\n",
       "\n",
       "\n",
       "\n",
       "\n",
       "  <div class=\"bk-root\" id=\"2a4b6fc2-0dda-4c1a-bdcb-9a70cd1e8a2f\" data-root-id=\"1655\"></div>\n"
      ]
     },
     "metadata": {},
     "output_type": "display_data"
    },
    {
     "data": {
      "application/javascript": [
       "(function(root) {\n",
       "  function embed_document(root) {\n",
       "    \n",
       "  var docs_json = {\"3de54ff0-98fe-493b-b4b7-6518a227f8c1\":{\"roots\":{\"references\":[{\"attributes\":{\"children\":[{\"id\":\"1609\"},{\"id\":\"1654\"}]},\"id\":\"1655\",\"type\":\"Column\"},{\"attributes\":{\"data_source\":{\"id\":\"1639\"},\"glyph\":{\"id\":\"1641\"},\"hover_glyph\":null,\"muted_glyph\":null,\"nonselection_glyph\":{\"id\":\"1642\"},\"selection_glyph\":null,\"view\":{\"id\":\"1644\"}},\"id\":\"1643\",\"type\":\"GlyphRenderer\"},{\"attributes\":{\"editor\":{\"id\":\"1713\"},\"field\":\"time\",\"formatter\":{\"id\":\"1714\"},\"title\":\"Cumulative time in microseconds\"},\"id\":\"1605\",\"type\":\"TableColumn\"},{\"attributes\":{\"items\":[{\"id\":\"1653\"}],\"label_text_font_size\":\"8pt\",\"location\":\"center_right\"},\"id\":\"1652\",\"type\":\"Legend\"},{\"attributes\":{\"end\":0.8999999999999999,\"start\":-0.5},\"id\":\"1612\",\"type\":\"Range1d\"},{\"attributes\":{},\"id\":\"1651\",\"type\":\"Selection\"},{\"attributes\":{\"editor\":{\"id\":\"1711\"},\"field\":\"percentage\",\"formatter\":{\"id\":\"1712\"},\"title\":\"Percentage\"},\"id\":\"1604\",\"type\":\"TableColumn\"},{\"attributes\":{},\"id\":\"1614\",\"type\":\"DataRange1d\"},{\"attributes\":{\"source\":{\"id\":\"1639\"}},\"id\":\"1644\",\"type\":\"CDSView\"},{\"attributes\":{\"data\":{\"angle\":{\"__ndarray__\":\"re/61pdn9z/YI0EI22b3P0BiufBQZvc/eC4eDqRl9z/2bCSzVLbLPw4UxOTWtcs/\",\"dtype\":\"float64\",\"order\":\"little\",\"shape\":[6]},\"color\":[\"#440154\",\"#404387\",\"#29788E\",\"#22A784\",\"#79D151\",\"#FDE724\"],\"index\":[0,1,2,3,4,5],\"phase\":[\"aten::conv2d\",\"aten::convolution\",\"aten::_convolution\",\"aten::cudnn_convolution\",\"aten::linear\",\"aten::addmm\"],\"value\":{\"__ndarray__\":\"6hkKqfJHN0BZQZnZNkc3QKT8x3ytRjdAPXPugwFGN0DUBbyE3JALQPmgdWBfkAtA\",\"dtype\":\"float64\",\"order\":\"little\",\"shape\":[6]}},\"selected\":{\"id\":\"1651\"},\"selection_policy\":{\"id\":\"1650\"}},\"id\":\"1639\",\"type\":\"ColumnDataSource\"},{\"attributes\":{},\"id\":\"1713\",\"type\":\"StringEditor\"},{\"attributes\":{},\"id\":\"1647\",\"type\":\"BasicTickFormatter\"},{\"attributes\":{},\"id\":\"1625\",\"type\":\"BasicTicker\"},{\"attributes\":{},\"id\":\"1616\",\"type\":\"LinearScale\"},{\"attributes\":{\"label\":{\"field\":\"phase\"},\"renderers\":[{\"id\":\"1643\"}]},\"id\":\"1653\",\"type\":\"LegendItem\"},{\"attributes\":{},\"id\":\"1631\",\"type\":\"PanTool\"},{\"attributes\":{\"columns\":[{\"id\":\"1604\"},{\"id\":\"1605\"},{\"id\":\"1606\"}],\"height\":350,\"source\":{\"id\":\"1603\"},\"view\":{\"id\":\"1608\"},\"width\":550},\"id\":\"1607\",\"type\":\"DataTable\"},{\"attributes\":{},\"id\":\"1618\",\"type\":\"LinearScale\"},{\"attributes\":{\"field\":\"angle\",\"include_zero\":true},\"id\":\"1637\",\"type\":\"CumSum\"},{\"attributes\":{\"axis\":{\"id\":\"1620\"},\"grid_line_color\":null,\"ticker\":null},\"id\":\"1623\",\"type\":\"Grid\"},{\"attributes\":{\"children\":[{\"id\":\"1607\"},{\"id\":\"1610\"}]},\"id\":\"1654\",\"type\":\"Row\"},{\"attributes\":{\"text\":\"The following table shows a list of operators that ran on the CPUs.\\n        The most expensive operator on the CPUs was \\\"aten::conv2d\\\" with 23 %.\"},\"id\":\"1609\",\"type\":\"Paragraph\"},{\"attributes\":{},\"id\":\"1709\",\"type\":\"UnionRenderers\"},{\"attributes\":{},\"id\":\"1629\",\"type\":\"WheelZoomTool\"},{\"attributes\":{},\"id\":\"1711\",\"type\":\"StringEditor\"},{\"attributes\":{},\"id\":\"1710\",\"type\":\"Selection\"},{\"attributes\":{},\"id\":\"1715\",\"type\":\"StringEditor\"},{\"attributes\":{\"callback\":null,\"tooltips\":\"@phase:@value\"},\"id\":\"1628\",\"type\":\"HoverTool\"},{\"attributes\":{},\"id\":\"1712\",\"type\":\"StringFormatter\"},{\"attributes\":{},\"id\":\"1714\",\"type\":\"StringFormatter\"},{\"attributes\":{\"active_drag\":\"auto\",\"active_inspect\":\"auto\",\"active_multi\":null,\"active_scroll\":\"auto\",\"active_tap\":\"auto\",\"tools\":[{\"id\":\"1628\"},{\"id\":\"1629\"},{\"id\":\"1630\"},{\"id\":\"1631\"}]},\"id\":\"1632\",\"type\":\"Toolbar\"},{\"attributes\":{\"axis_label\":null,\"formatter\":{\"id\":\"1647\"},\"ticker\":{\"id\":\"1625\"},\"visible\":false},\"id\":\"1624\",\"type\":\"LinearAxis\"},{\"attributes\":{\"axis_label\":null,\"formatter\":{\"id\":\"1649\"},\"ticker\":{\"id\":\"1621\"},\"visible\":false},\"id\":\"1620\",\"type\":\"LinearAxis\"},{\"attributes\":{\"source\":{\"id\":\"1603\"}},\"id\":\"1608\",\"type\":\"CDSView\"},{\"attributes\":{},\"id\":\"1630\",\"type\":\"ResetTool\"},{\"attributes\":{\"field\":\"angle\"},\"id\":\"1638\",\"type\":\"CumSum\"},{\"attributes\":{\"end_angle\":{\"expr\":{\"id\":\"1638\"},\"units\":\"rad\"},\"fill_color\":{\"field\":\"color\"},\"line_color\":{\"value\":\"white\"},\"radius\":{\"units\":\"data\",\"value\":0.3},\"start_angle\":{\"expr\":{\"id\":\"1637\"},\"units\":\"rad\"},\"x\":{\"value\":0},\"y\":{\"value\":0.0}},\"id\":\"1641\",\"type\":\"Wedge\"},{\"attributes\":{},\"id\":\"1621\",\"type\":\"BasicTicker\"},{\"attributes\":{},\"id\":\"1650\",\"type\":\"UnionRenderers\"},{\"attributes\":{\"axis\":{\"id\":\"1624\"},\"dimension\":1,\"grid_line_color\":null,\"ticker\":null},\"id\":\"1627\",\"type\":\"Grid\"},{\"attributes\":{\"editor\":{\"id\":\"1715\"},\"field\":\"operator\",\"formatter\":{\"id\":\"1716\"},\"title\":\"CPU operator\"},\"id\":\"1606\",\"type\":\"TableColumn\"},{\"attributes\":{\"below\":[{\"id\":\"1620\"}],\"center\":[{\"id\":\"1623\"},{\"id\":\"1627\"},{\"id\":\"1652\"}],\"left\":[{\"id\":\"1624\"}],\"outline_line_color\":\"white\",\"plot_height\":350,\"renderers\":[{\"id\":\"1643\"}],\"title\":null,\"toolbar\":{\"id\":\"1632\"},\"x_range\":{\"id\":\"1612\"},\"x_scale\":{\"id\":\"1616\"},\"y_range\":{\"id\":\"1614\"},\"y_scale\":{\"id\":\"1618\"}},\"id\":\"1610\",\"subtype\":\"Figure\",\"type\":\"Plot\"},{\"attributes\":{\"data\":{\"index\":[0,1,2,3,4,5],\"operator\":[\"aten::conv2d\",\"aten::convolution\",\"aten::_convolution\",\"aten::cudnn_convolution\",\"aten::linear\",\"aten::addmm\"],\"percentage\":{\"__ndarray__\":\"SOF6FK5HN0BI4XoUrkc3QEjhehSuRzdAhetRuB5FN0CamZmZmZkLQJqZmZmZmQtA\",\"dtype\":\"float64\",\"order\":\"little\",\"shape\":[6]},\"time\":[15605955,15604034,15602629,15600870,2309774,2309614]},\"selected\":{\"id\":\"1710\"},\"selection_policy\":{\"id\":\"1709\"}},\"id\":\"1603\",\"type\":\"ColumnDataSource\"},{\"attributes\":{\"end_angle\":{\"expr\":{\"id\":\"1638\"},\"units\":\"rad\"},\"fill_alpha\":{\"value\":0.1},\"fill_color\":{\"field\":\"color\"},\"line_alpha\":{\"value\":0.1},\"line_color\":{\"value\":\"white\"},\"radius\":{\"units\":\"data\",\"value\":0.3},\"start_angle\":{\"expr\":{\"id\":\"1637\"},\"units\":\"rad\"},\"x\":{\"value\":0},\"y\":{\"value\":0.0}},\"id\":\"1642\",\"type\":\"Wedge\"},{\"attributes\":{},\"id\":\"1649\",\"type\":\"BasicTickFormatter\"},{\"attributes\":{},\"id\":\"1716\",\"type\":\"StringFormatter\"}],\"root_ids\":[\"1655\"]},\"title\":\"Bokeh Application\",\"version\":\"2.2.3\"}};\n",
       "  var render_items = [{\"docid\":\"3de54ff0-98fe-493b-b4b7-6518a227f8c1\",\"root_ids\":[\"1655\"],\"roots\":{\"1655\":\"2a4b6fc2-0dda-4c1a-bdcb-9a70cd1e8a2f\"}}];\n",
       "  root.Bokeh.embed.embed_items_notebook(docs_json, render_items);\n",
       "\n",
       "  }\n",
       "  if (root.Bokeh !== undefined) {\n",
       "    embed_document(root);\n",
       "  } else {\n",
       "    var attempts = 0;\n",
       "    var timer = setInterval(function(root) {\n",
       "      if (root.Bokeh !== undefined) {\n",
       "        clearInterval(timer);\n",
       "        embed_document(root);\n",
       "      } else {\n",
       "        attempts++;\n",
       "        if (attempts > 100) {\n",
       "          clearInterval(timer);\n",
       "          console.log(\"Bokeh: ERROR: Unable to run BokehJS code because BokehJS library is missing\");\n",
       "        }\n",
       "      }\n",
       "    }, 10, root)\n",
       "  }\n",
       "})(window);"
      ],
      "application/vnd.bokehjs_exec.v0+json": ""
     },
     "metadata": {
      "application/vnd.bokehjs_exec.v0+json": {
       "id": "1655"
      }
     },
     "output_type": "display_data"
    }
   ],
   "source": [
    "pd.set_option('display.float_format', lambda x: '%.2f' % x)\n",
    "rows = [] \n",
    "values = []\n",
    "if report:\n",
    "    if 'CPU_total' in report['Details']:\n",
    "        display(Markdown(f\"\"\"#### Overview: CPU operators\"\"\"))\n",
    "        event = max(report['Details']['CPU'], key=report['Details']['CPU'].get)\n",
    "        perc = report['Details']['CPU'][event]\n",
    "\n",
    "        for function in report['Details']['CPU']:\n",
    "            percentage = round(report['Details']['CPU'][function],2)\n",
    "            time = report['Details']['CPU_total'][function]               \n",
    "            rows.append([percentage, time, function])\n",
    "\n",
    "        df = pd.DataFrame(rows) \n",
    "        df.columns = ['percentage', 'time', 'operator']\n",
    "\n",
    "        df = df.sort_values(by=['percentage'], ascending=False)\n",
    "        source = ColumnDataSource(data=df)\n",
    "        columns = [TableColumn(field='percentage', title=\"Percentage\"),\n",
    "                   TableColumn(field='time', title=\"Cumulative time in microseconds\"),\n",
    "                  TableColumn(field='operator', title=\"CPU operator\"),]\n",
    "\n",
    "        table = DataTable(source=source, columns=columns, width=550, height=350)\n",
    "\n",
    "        text = Paragraph(text=f\"\"\"The following table shows a list of operators that ran on the CPUs.\n",
    "        The most expensive operator on the CPUs was \"{event}\" with {int(perc)} %.\"\"\")\n",
    "\n",
    "        plot = create_piechart(report['Details']['CPU'],\n",
    "                                height=350,\n",
    "                                width=600,\n",
    "                                x1=0.2,\n",
    "                                x2=0.6,\n",
    "                                radius=0.3, \n",
    "                               )\n",
    "\n",
    "        show(column(text, row(table, plot)))\n"
   ]
  },
  {
   "cell_type": "code",
   "execution_count": 16,
   "metadata": {
    "execution": {
     "iopub.execute_input": "2023-04-06T09:10:35.194018Z",
     "iopub.status.busy": "2023-04-06T09:10:35.193521Z",
     "iopub.status.idle": "2023-04-06T09:10:35.239231Z",
     "shell.execute_reply": "2023-04-06T09:10:35.239613Z"
    },
    "papermill": {
     "duration": 0.077478,
     "end_time": "2023-04-06T09:10:35.239744",
     "exception": false,
     "start_time": "2023-04-06T09:10:35.162266",
     "status": "completed"
    },
    "tags": [
     "hide-input"
    ]
   },
   "outputs": [
    {
     "data": {
      "text/markdown": [
       "#### Overview: GPU operators"
      ],
      "text/plain": [
       "<IPython.core.display.Markdown object>"
      ]
     },
     "metadata": {},
     "output_type": "display_data"
    },
    {
     "data": {
      "text/html": [
       "\n",
       "\n",
       "\n",
       "\n",
       "\n",
       "\n",
       "  <div class=\"bk-root\" id=\"9d7fa455-3012-45ec-9a83-6de2ccc3dff6\" data-root-id=\"1850\"></div>\n"
      ]
     },
     "metadata": {},
     "output_type": "display_data"
    },
    {
     "data": {
      "application/javascript": [
       "(function(root) {\n",
       "  function embed_document(root) {\n",
       "    \n",
       "  var docs_json = {\"00eab192-5474-4766-a8cd-3cc6ff26dc14\":{\"roots\":{\"references\":[{\"attributes\":{\"children\":[{\"id\":\"1804\"},{\"id\":\"1849\"}]},\"id\":\"1850\",\"type\":\"Column\"},{\"attributes\":{\"field\":\"angle\",\"include_zero\":true},\"id\":\"1832\",\"type\":\"CumSum\"},{\"attributes\":{\"editor\":{\"id\":\"1923\"},\"field\":\"time\",\"formatter\":{\"id\":\"1924\"},\"title\":\"Cumulative time in microseconds\"},\"id\":\"1800\",\"type\":\"TableColumn\"},{\"attributes\":{\"callback\":null,\"tooltips\":\"@phase:@value\"},\"id\":\"1823\",\"type\":\"HoverTool\"},{\"attributes\":{},\"id\":\"1846\",\"type\":\"Selection\"},{\"attributes\":{},\"id\":\"1919\",\"type\":\"UnionRenderers\"},{\"attributes\":{},\"id\":\"1923\",\"type\":\"StringEditor\"},{\"attributes\":{},\"id\":\"1811\",\"type\":\"LinearScale\"},{\"attributes\":{},\"id\":\"1920\",\"type\":\"Selection\"},{\"attributes\":{\"columns\":[{\"id\":\"1799\"},{\"id\":\"1800\"},{\"id\":\"1801\"}],\"height\":350,\"source\":{\"id\":\"1798\"},\"view\":{\"id\":\"1803\"},\"width\":450},\"id\":\"1802\",\"type\":\"DataTable\"},{\"attributes\":{\"end\":0.8999999999999999,\"start\":-0.5},\"id\":\"1807\",\"type\":\"Range1d\"},{\"attributes\":{\"field\":\"angle\"},\"id\":\"1833\",\"type\":\"CumSum\"},{\"attributes\":{\"below\":[{\"id\":\"1815\"}],\"center\":[{\"id\":\"1818\"},{\"id\":\"1822\"},{\"id\":\"1847\"}],\"left\":[{\"id\":\"1819\"}],\"outline_line_color\":\"white\",\"plot_height\":350,\"renderers\":[{\"id\":\"1838\"}],\"title\":null,\"toolbar\":{\"id\":\"1827\"},\"x_range\":{\"id\":\"1807\"},\"x_scale\":{\"id\":\"1811\"},\"y_range\":{\"id\":\"1809\"},\"y_scale\":{\"id\":\"1813\"}},\"id\":\"1805\",\"subtype\":\"Figure\",\"type\":\"Plot\"},{\"attributes\":{},\"id\":\"1921\",\"type\":\"StringEditor\"},{\"attributes\":{},\"id\":\"1809\",\"type\":\"DataRange1d\"},{\"attributes\":{},\"id\":\"1922\",\"type\":\"StringFormatter\"},{\"attributes\":{\"label\":{\"field\":\"phase\"},\"renderers\":[{\"id\":\"1838\"}]},\"id\":\"1848\",\"type\":\"LegendItem\"},{\"attributes\":{\"data\":{\"index\":[0,1,2,3,4,5],\"operator\":[\"aten::conv2d\",\"aten::convolution\",\"aten::_convolution\",\"aten::cudnn_convolution\",\"aten::linear\",\"aten::addmm\"],\"percentage\":{\"__ndarray__\":\"SOF6FK5HN0BI4XoUrkc3QEjhehSuRzdASOF6FK5HN0CF61G4HoULQIXrUbgehQtA\",\"dtype\":\"float64\",\"order\":\"little\",\"shape\":[6]},\"time\":[15643357,15642234,15641348,15639957,2309831,2309672]},\"selected\":{\"id\":\"1920\"},\"selection_policy\":{\"id\":\"1919\"}},\"id\":\"1798\",\"type\":\"ColumnDataSource\"},{\"attributes\":{\"data_source\":{\"id\":\"1834\"},\"glyph\":{\"id\":\"1836\"},\"hover_glyph\":null,\"muted_glyph\":null,\"nonselection_glyph\":{\"id\":\"1837\"},\"selection_glyph\":null,\"view\":{\"id\":\"1839\"}},\"id\":\"1838\",\"type\":\"GlyphRenderer\"},{\"attributes\":{},\"id\":\"1824\",\"type\":\"WheelZoomTool\"},{\"attributes\":{},\"id\":\"1845\",\"type\":\"UnionRenderers\"},{\"attributes\":{},\"id\":\"1924\",\"type\":\"StringFormatter\"},{\"attributes\":{\"children\":[{\"id\":\"1802\"},{\"id\":\"1805\"}]},\"id\":\"1849\",\"type\":\"Row\"},{\"attributes\":{},\"id\":\"1813\",\"type\":\"LinearScale\"},{\"attributes\":{},\"id\":\"1925\",\"type\":\"StringEditor\"},{\"attributes\":{\"source\":{\"id\":\"1798\"}},\"id\":\"1803\",\"type\":\"CDSView\"},{\"attributes\":{\"editor\":{\"id\":\"1925\"},\"field\":\"operator\",\"formatter\":{\"id\":\"1926\"},\"title\":\"GPU operator\"},\"id\":\"1801\",\"type\":\"TableColumn\"},{\"attributes\":{\"axis_label\":null,\"formatter\":{\"id\":\"1844\"},\"ticker\":{\"id\":\"1816\"},\"visible\":false},\"id\":\"1815\",\"type\":\"LinearAxis\"},{\"attributes\":{\"source\":{\"id\":\"1834\"}},\"id\":\"1839\",\"type\":\"CDSView\"},{\"attributes\":{\"editor\":{\"id\":\"1921\"},\"field\":\"percentage\",\"formatter\":{\"id\":\"1922\"},\"title\":\"Percentage\"},\"id\":\"1799\",\"type\":\"TableColumn\"},{\"attributes\":{},\"id\":\"1926\",\"type\":\"StringFormatter\"},{\"attributes\":{},\"id\":\"1820\",\"type\":\"BasicTicker\"},{\"attributes\":{\"items\":[{\"id\":\"1848\"}],\"label_text_font_size\":\"8pt\",\"location\":\"center_right\"},\"id\":\"1847\",\"type\":\"Legend\"},{\"attributes\":{\"end_angle\":{\"expr\":{\"id\":\"1833\"},\"units\":\"rad\"},\"fill_color\":{\"field\":\"color\"},\"line_color\":{\"value\":\"white\"},\"radius\":{\"units\":\"data\",\"value\":0.3},\"start_angle\":{\"expr\":{\"id\":\"1832\"},\"units\":\"rad\"},\"x\":{\"value\":0},\"y\":{\"value\":0.0}},\"id\":\"1836\",\"type\":\"Wedge\"},{\"attributes\":{},\"id\":\"1816\",\"type\":\"BasicTicker\"},{\"attributes\":{\"axis\":{\"id\":\"1815\"},\"grid_line_color\":null,\"ticker\":null},\"id\":\"1818\",\"type\":\"Grid\"},{\"attributes\":{\"end_angle\":{\"expr\":{\"id\":\"1833\"},\"units\":\"rad\"},\"fill_alpha\":{\"value\":0.1},\"fill_color\":{\"field\":\"color\"},\"line_alpha\":{\"value\":0.1},\"line_color\":{\"value\":\"white\"},\"radius\":{\"units\":\"data\",\"value\":0.3},\"start_angle\":{\"expr\":{\"id\":\"1832\"},\"units\":\"rad\"},\"x\":{\"value\":0},\"y\":{\"value\":0.0}},\"id\":\"1837\",\"type\":\"Wedge\"},{\"attributes\":{},\"id\":\"1844\",\"type\":\"BasicTickFormatter\"},{\"attributes\":{\"axis\":{\"id\":\"1819\"},\"dimension\":1,\"grid_line_color\":null,\"ticker\":null},\"id\":\"1822\",\"type\":\"Grid\"},{\"attributes\":{\"axis_label\":null,\"formatter\":{\"id\":\"1842\"},\"ticker\":{\"id\":\"1820\"},\"visible\":false},\"id\":\"1819\",\"type\":\"LinearAxis\"},{\"attributes\":{},\"id\":\"1825\",\"type\":\"ResetTool\"},{\"attributes\":{},\"id\":\"1842\",\"type\":\"BasicTickFormatter\"},{\"attributes\":{\"data\":{\"angle\":{\"__ndarray__\":\"GnQvpTpo9z/VNrCFzGf3PzHtxqN1Z/c/3Xl6PO1m9z+Yorh1S6bLP1pwxLnOpcs/\",\"dtype\":\"float64\",\"order\":\"little\",\"shape\":[6]},\"color\":[\"#440154\",\"#404387\",\"#29788E\",\"#22A784\",\"#79D151\",\"#FDE724\"],\"index\":[0,1,2,3,4,5],\"phase\":[\"aten::conv2d\",\"aten::convolution\",\"aten::_convolution\",\"aten::cudnn_convolution\",\"aten::linear\",\"aten::addmm\"],\"value\":{\"__ndarray__\":\"5+Mdm5RIN0AwH4QQJ0g3QGXsE6TQRzdAT4s19UhHN0CTufj16IALQBRwq+JsgAtA\",\"dtype\":\"float64\",\"order\":\"little\",\"shape\":[6]}},\"selected\":{\"id\":\"1846\"},\"selection_policy\":{\"id\":\"1845\"}},\"id\":\"1834\",\"type\":\"ColumnDataSource\"},{\"attributes\":{\"text\":\"The following table shows a list of operators that your training job ran on GPU.\\n        The most expensive operator on GPU was \\\"aten::conv2d\\\" with 23 %\"},\"id\":\"1804\",\"type\":\"Paragraph\"},{\"attributes\":{},\"id\":\"1826\",\"type\":\"PanTool\"},{\"attributes\":{\"active_drag\":\"auto\",\"active_inspect\":\"auto\",\"active_multi\":null,\"active_scroll\":\"auto\",\"active_tap\":\"auto\",\"tools\":[{\"id\":\"1823\"},{\"id\":\"1824\"},{\"id\":\"1825\"},{\"id\":\"1826\"}]},\"id\":\"1827\",\"type\":\"Toolbar\"}],\"root_ids\":[\"1850\"]},\"title\":\"Bokeh Application\",\"version\":\"2.2.3\"}};\n",
       "  var render_items = [{\"docid\":\"00eab192-5474-4766-a8cd-3cc6ff26dc14\",\"root_ids\":[\"1850\"],\"roots\":{\"1850\":\"9d7fa455-3012-45ec-9a83-6de2ccc3dff6\"}}];\n",
       "  root.Bokeh.embed.embed_items_notebook(docs_json, render_items);\n",
       "\n",
       "  }\n",
       "  if (root.Bokeh !== undefined) {\n",
       "    embed_document(root);\n",
       "  } else {\n",
       "    var attempts = 0;\n",
       "    var timer = setInterval(function(root) {\n",
       "      if (root.Bokeh !== undefined) {\n",
       "        clearInterval(timer);\n",
       "        embed_document(root);\n",
       "      } else {\n",
       "        attempts++;\n",
       "        if (attempts > 100) {\n",
       "          clearInterval(timer);\n",
       "          console.log(\"Bokeh: ERROR: Unable to run BokehJS code because BokehJS library is missing\");\n",
       "        }\n",
       "      }\n",
       "    }, 10, root)\n",
       "  }\n",
       "})(window);"
      ],
      "application/vnd.bokehjs_exec.v0+json": ""
     },
     "metadata": {
      "application/vnd.bokehjs_exec.v0+json": {
       "id": "1850"
      }
     },
     "output_type": "display_data"
    }
   ],
   "source": [
    "pd.set_option('display.float_format', lambda x: '%.2f' % x)\n",
    "rows = [] \n",
    "values = []\n",
    "if report:\n",
    "    if 'GPU_total' in report['Details']:\n",
    "        display(Markdown(f\"\"\"#### Overview: GPU operators\"\"\"))\n",
    "        event = max(report['Details']['GPU'], key=report['Details']['GPU'].get)\n",
    "        perc = report['Details']['GPU'][event]\n",
    "\n",
    "        for function in report['Details']['GPU']:\n",
    "            percentage = round(report['Details']['GPU'][function],2)\n",
    "            time = report['Details']['GPU_total'][function]               \n",
    "            rows.append([percentage, time, function])\n",
    "\n",
    "        df = pd.DataFrame(rows) \n",
    "        df.columns = ['percentage', 'time', 'operator']\n",
    "\n",
    "        df = df.sort_values(by=['percentage'], ascending=False)\n",
    "        source = ColumnDataSource(data=df)\n",
    "        columns = [TableColumn(field='percentage', title=\"Percentage\"),\n",
    "                   TableColumn(field='time', title=\"Cumulative time in microseconds\"),\n",
    "                  TableColumn(field='operator', title=\"GPU operator\"),]\n",
    "        table = DataTable(source=source, columns=columns, width=450, height=350)\n",
    "\n",
    "        text = Paragraph(text=f\"\"\"The following table shows a list of operators that your training job ran on GPU.\n",
    "        The most expensive operator on GPU was \"{event}\" with {int(perc)} %\"\"\")\n",
    "\n",
    "        plot = create_piechart(report['Details']['GPU'],\n",
    "                                height=350,\n",
    "                                width=600,\n",
    "                                x1=0.2,\n",
    "                                x2=0.6,\n",
    "                                radius=0.3, \n",
    "                               )\n",
    "\n",
    "        show(column(text, row(table, plot)))"
   ]
  },
  {
   "cell_type": "markdown",
   "metadata": {
    "papermill": {
     "duration": 0.023388,
     "end_time": "2023-04-06T09:10:35.287405",
     "exception": false,
     "start_time": "2023-04-06T09:10:35.264017",
     "status": "completed"
    },
    "tags": []
   },
   "source": [
    "## Rules summary"
   ]
  },
  {
   "cell_type": "code",
   "execution_count": 17,
   "metadata": {
    "execution": {
     "iopub.execute_input": "2023-04-06T09:10:35.339836Z",
     "iopub.status.busy": "2023-04-06T09:10:35.336291Z",
     "iopub.status.idle": "2023-04-06T09:10:35.341608Z",
     "shell.execute_reply": "2023-04-06T09:10:35.341988Z"
    },
    "papermill": {
     "duration": 0.03135,
     "end_time": "2023-04-06T09:10:35.342118",
     "exception": false,
     "start_time": "2023-04-06T09:10:35.310768",
     "status": "completed"
    },
    "tags": [
     "hide-input"
    ]
   },
   "outputs": [],
   "source": [
    "description = {}\n",
    "description['CPUBottleneck'] = 'Checks if the CPU utilization is high and the GPU utilization is low. \\\n",
    "It might indicate CPU bottlenecks, where the GPUs are waiting for data to arrive \\\n",
    "from the CPUs. The rule evaluates the CPU and GPU utilization rates, and triggers the issue \\\n",
    "if the time spent on the CPU bottlenecks exceeds a threshold percent of the total training time. The default threshold is 50 percent.'\n",
    "description['IOBottleneck'] =  'Checks if the data I/O wait time is high and the GPU utilization is low. \\\n",
    "It might indicate IO bottlenecks where GPU is waiting for data to arrive from storage. \\\n",
    "The rule evaluates the I/O and GPU utilization rates and triggers the issue \\\n",
    "if the time spent on the IO bottlenecks exceeds a threshold percent of the total training time. The default threshold is 50 percent.'\n",
    "description['Dataloader'] = 'Checks how many data loaders are running in parallel and whether the total number is equal the number \\\n",
    "of available CPU cores. The rule triggers if number is much smaller or larger than the number of available cores. \\\n",
    "If too small, it might lead to low GPU utilization. If too large, it might impact other compute intensive operations on CPU.'\n",
    "description['GPUMemoryIncrease'] = 'Measures the average GPU memory footprint and triggers if there is a large increase.'\n",
    "description['BatchSize'] = 'Checks if GPUs are underutilized because the batch size is too small. \\\n",
    "To detect this problem, the rule analyzes the average GPU memory footprint, \\\n",
    "the CPU and the GPU utilization. '\n",
    "description['LowGPUUtilization'] = 'Checks if the GPU utilization is low or fluctuating. \\\n",
    "This can happen due to bottlenecks, blocking calls for synchronizations, \\\n",
    "or a small batch size.'\n",
    "description['MaxInitializationTime'] = 'Checks if the time spent on initialization exceeds a threshold percent of the total training time. \\\n",
    "The rule waits until the first step of training loop starts. The initialization can take longer \\\n",
    "if downloading the entire dataset from Amazon S3 in File mode. The default threshold is 20 minutes.'\n",
    "description['LoadBalancing'] = 'Detects workload balancing issues across GPUs. \\\n",
    "Workload imbalance can occur in training jobs with data parallelism. \\\n",
    "The gradients are accumulated on a primary GPU, and this GPU might be overused \\\n",
    "with regard to other GPUs, resulting in reducing the efficiency of data parallelization.'\n",
    "description['StepOutlier'] = 'Detects outliers in step duration. The step duration for forward and backward pass should be \\\n",
    "roughly the same throughout the training. If there are significant outliers, \\\n",
    "it may indicate a system stall or bottleneck issues.'"
   ]
  },
  {
   "cell_type": "code",
   "execution_count": 18,
   "metadata": {
    "execution": {
     "iopub.execute_input": "2023-04-06T09:10:35.394888Z",
     "iopub.status.busy": "2023-04-06T09:10:35.394382Z",
     "iopub.status.idle": "2023-04-06T09:10:35.396636Z",
     "shell.execute_reply": "2023-04-06T09:10:35.396226Z"
    },
    "papermill": {
     "duration": 0.030862,
     "end_time": "2023-04-06T09:10:35.396745",
     "exception": false,
     "start_time": "2023-04-06T09:10:35.365883",
     "status": "completed"
    },
    "tags": [
     "hide-input"
    ]
   },
   "outputs": [],
   "source": [
    "recommendation = {}\n",
    "recommendation['CPUBottleneck'] = 'Consider increasing the number of data loaders \\\n",
    "or applying data pre-fetching.'\n",
    "recommendation['IOBottleneck'] = 'Pre-fetch data or choose different file formats, such as binary formats that \\\n",
    "improve I/O performance.'\n",
    "recommendation['Dataloader'] = 'Change the number of data loader processes.'\n",
    "recommendation['GPUMemoryIncrease'] = 'Choose a larger instance type with more memory if footprint is close to maximum available memory.'\n",
    "recommendation['BatchSize'] = 'The batch size is too small, and GPUs are underutilized. Consider running on a smaller instance type or increasing the batch size.'\n",
    "recommendation['LowGPUUtilization'] = 'Check if there are bottlenecks, minimize blocking calls, \\\n",
    "change distributed training strategy, or increase the batch size.'\n",
    "recommendation['MaxInitializationTime'] = 'Initialization takes too long. \\\n",
    "If using File mode, consider switching to Pipe mode in case you are using TensorFlow framework.'\n",
    "recommendation['LoadBalancing'] = 'Choose a different distributed training strategy or \\\n",
    "a different distributed training framework.'\n",
    "recommendation['StepOutlier'] = 'Check if there are any bottlenecks (CPU, I/O) correlated to the step outliers.'"
   ]
  },
  {
   "cell_type": "code",
   "execution_count": 19,
   "metadata": {
    "execution": {
     "iopub.execute_input": "2023-04-06T09:10:35.454241Z",
     "iopub.status.busy": "2023-04-06T09:10:35.453747Z",
     "iopub.status.idle": "2023-04-06T09:10:35.464027Z",
     "shell.execute_reply": "2023-04-06T09:10:35.464414Z"
    },
    "papermill": {
     "duration": 0.040825,
     "end_time": "2023-04-06T09:10:35.464532",
     "exception": false,
     "start_time": "2023-04-06T09:10:35.423707",
     "status": "completed"
    },
    "tags": [
     "hide-input"
    ]
   },
   "outputs": [
    {
     "data": {
      "text/markdown": [
       "The following table shows a profiling summary of the Debugger built-in rules. \n",
       "The table is sorted by the rules that triggered the most frequently. During your training job, the BatchSize rule\n",
       "was the most frequently triggered. It processed 4410 datapoints and was triggered 58 times."
      ],
      "text/plain": [
       "<IPython.core.display.Markdown object>"
      ]
     },
     "metadata": {},
     "output_type": "display_data"
    },
    {
     "data": {
      "text/html": [
       "<table border=\"1\" class=\"dataframe\">\n",
       "  <thead>\n",
       "    <tr style=\"text-align: left;\">\n",
       "      <th></th>\n",
       "      <th>Description</th>\n",
       "      <th>Recommendation</th>\n",
       "      <th>Number of times rule triggered</th>\n",
       "      <th>Number of datapoints</th>\n",
       "      <th>Rule parameters</th>\n",
       "    </tr>\n",
       "  </thead>\n",
       "  <tbody>\n",
       "    <tr style=\"text-align: left;\">\n",
       "      <th>BatchSize</th>\n",
       "      <td>Checks if GPUs are underutilized because the batch size is too small. To detect this problem, the rule analyzes the average GPU memory footprint, the CPU and the GPU utilization.</td>\n",
       "      <td>The batch size is too small, and GPUs are underutilized. Consider running on a smaller instance type or increasing the batch size.</td>\n",
       "      <td>58</td>\n",
       "      <td>4410</td>\n",
       "      <td>cpu_threshold_p95:70<br>gpu_threshold_p95:70<br>gpu_memory_threshold_p95:70<br>patience:1000<br>window:500</td>\n",
       "    </tr>\n",
       "    <tr style=\"text-align: left;\">\n",
       "      <th>LowGPUUtilization</th>\n",
       "      <td>Checks if the GPU utilization is low or fluctuating. This can happen due to bottlenecks, blocking calls for synchronizations, or a small batch size.</td>\n",
       "      <td>Check if there are bottlenecks, minimize blocking calls, change distributed training strategy, or increase the batch size.</td>\n",
       "      <td>58</td>\n",
       "      <td>4411</td>\n",
       "      <td>threshold_p95:70<br>threshold_p5:10<br>window:500<br>patience:1000</td>\n",
       "    </tr>\n",
       "    <tr style=\"text-align: left;\">\n",
       "      <th>StepOutlier</th>\n",
       "      <td>Detects outliers in step duration. The step duration for forward and backward pass should be roughly the same throughout the training. If there are significant outliers, it may indicate a system stall or bottleneck issues.</td>\n",
       "      <td>Check if there are any bottlenecks (CPU, I/O) correlated to the step outliers.</td>\n",
       "      <td>36</td>\n",
       "      <td>18876</td>\n",
       "      <td>threshold:3<br>mode:None<br>n_outliers:10<br>stddev:3</td>\n",
       "    </tr>\n",
       "    <tr style=\"text-align: left;\">\n",
       "      <th>GPUMemoryIncrease</th>\n",
       "      <td>Measures the average GPU memory footprint and triggers if there is a large increase.</td>\n",
       "      <td>Choose a larger instance type with more memory if footprint is close to maximum available memory.</td>\n",
       "      <td>1</td>\n",
       "      <td>4411</td>\n",
       "      <td>increase:5<br>patience:1000<br>window:10</td>\n",
       "    </tr>\n",
       "    <tr style=\"text-align: left;\">\n",
       "      <th>MaxInitializationTime</th>\n",
       "      <td>Checks if the time spent on initialization exceeds a threshold percent of the total training time. The rule waits until the first step of training loop starts. The initialization can take longer if downloading the entire dataset from Amazon S3 in File mode. The default threshold is 20 minutes.</td>\n",
       "      <td>Initialization takes too long. If using File mode, consider switching to Pipe mode in case you are using TensorFlow framework.</td>\n",
       "      <td>0</td>\n",
       "      <td>18876</td>\n",
       "      <td>threshold:20</td>\n",
       "    </tr>\n",
       "    <tr style=\"text-align: left;\">\n",
       "      <th>CPUBottleneck</th>\n",
       "      <td>Checks if the CPU utilization is high and the GPU utilization is low. It might indicate CPU bottlenecks, where the GPUs are waiting for data to arrive from the CPUs. The rule evaluates the CPU and GPU utilization rates, and triggers the issue if the time spent on the CPU bottlenecks exceeds a threshold percent of the total training time. The default threshold is 50 percent.</td>\n",
       "      <td>Consider increasing the number of data loaders or applying data pre-fetching.</td>\n",
       "      <td>0</td>\n",
       "      <td>8824</td>\n",
       "      <td>threshold:50<br>cpu_threshold:90<br>gpu_threshold:10<br>patience:1000</td>\n",
       "    </tr>\n",
       "    <tr style=\"text-align: left;\">\n",
       "      <th>IOBottleneck</th>\n",
       "      <td>Checks if the data I/O wait time is high and the GPU utilization is low. It might indicate IO bottlenecks where GPU is waiting for data to arrive from storage. The rule evaluates the I/O and GPU utilization rates and triggers the issue if the time spent on the IO bottlenecks exceeds a threshold percent of the total training time. The default threshold is 50 percent.</td>\n",
       "      <td>Pre-fetch data or choose different file formats, such as binary formats that improve I/O performance.</td>\n",
       "      <td>0</td>\n",
       "      <td>8824</td>\n",
       "      <td>threshold:50<br>io_threshold:50<br>gpu_threshold:10<br>patience:1000</td>\n",
       "    </tr>\n",
       "    <tr style=\"text-align: left;\">\n",
       "      <th>Dataloader</th>\n",
       "      <td>Checks how many data loaders are running in parallel and whether the total number is equal the number of available CPU cores. The rule triggers if number is much smaller or larger than the number of available cores. If too small, it might lead to low GPU utilization. If too large, it might impact other compute intensive operations on CPU.</td>\n",
       "      <td>Change the number of data loader processes.</td>\n",
       "      <td>0</td>\n",
       "      <td>2</td>\n",
       "      <td>min_threshold:70<br>max_threshold:200</td>\n",
       "    </tr>\n",
       "    <tr style=\"text-align: left;\">\n",
       "      <th>LoadBalancing</th>\n",
       "      <td>Detects workload balancing issues across GPUs. Workload imbalance can occur in training jobs with data parallelism. The gradients are accumulated on a primary GPU, and this GPU might be overused with regard to other GPUs, resulting in reducing the efficiency of data parallelization.</td>\n",
       "      <td>Choose a different distributed training strategy or a different distributed training framework.</td>\n",
       "      <td>0</td>\n",
       "      <td>4411</td>\n",
       "      <td>threshold:0.2<br>patience:1000</td>\n",
       "    </tr>\n",
       "  </tbody>\n",
       "</table>"
      ],
      "text/plain": [
       "<IPython.core.display.HTML object>"
      ]
     },
     "metadata": {},
     "output_type": "display_data"
    }
   ],
   "source": [
    "files = glob.glob('/opt/ml/processing/output/rule/profiler-output/profiler-reports/*json')\n",
    "summary = {}\n",
    "for i in files:\n",
    "    rule_name = i.split('/')[-1].replace('.json','')\n",
    "    if rule_name == \"OverallSystemUsage\" or rule_name == \"OverallFrameworkMetrics\":\n",
    "        continue\n",
    "    rule_report = json.load(open(i))\n",
    "    summary[rule_name] = {}\n",
    "    summary[rule_name]['Description'] = description[rule_name]\n",
    "    summary[rule_name]['Recommendation'] = recommendation[rule_name]\n",
    "    summary[rule_name]['Number of times rule triggered'] = rule_report['RuleTriggered'] \n",
    "    #summary[rule_name]['Number of violations'] = rule_report['Violations'] \n",
    "    summary[rule_name]['Number of datapoints'] = rule_report['Datapoints']\n",
    "    summary[rule_name]['Rule parameters'] = rule_report['RuleParameters']\n",
    "\n",
    "df = pd.DataFrame.from_dict(summary, orient='index')\n",
    "df = df.sort_values(by=['Number of times rule triggered'], ascending=False)\n",
    "\n",
    "\n",
    "display(Markdown(f\"\"\"The following table shows a profiling summary of the Debugger built-in rules. \n",
    "The table is sorted by the rules that triggered the most frequently. During your training job, the {df.index[0]} rule\n",
    "was the most frequently triggered. It processed {df.values[0,3]} datapoints and was triggered {df.values[0,2]} times.\"\"\"))\n",
    "\n",
    "with pd.option_context('display.colheader_justify','left'):    \n",
    "    pretty_print(df)"
   ]
  },
  {
   "cell_type": "code",
   "execution_count": 20,
   "metadata": {
    "execution": {
     "iopub.execute_input": "2023-04-06T09:10:35.519320Z",
     "iopub.status.busy": "2023-04-06T09:10:35.518813Z",
     "iopub.status.idle": "2023-04-06T09:10:35.521623Z",
     "shell.execute_reply": "2023-04-06T09:10:35.522010Z"
    },
    "papermill": {
     "duration": 0.032836,
     "end_time": "2023-04-06T09:10:35.522135",
     "exception": false,
     "start_time": "2023-04-06T09:10:35.489299",
     "status": "completed"
    },
    "tags": [
     "hide-input"
    ]
   },
   "outputs": [
    {
     "data": {
      "text/markdown": [
       "## Analyzing the training loop\n",
       "\n"
      ],
      "text/plain": [
       "<IPython.core.display.Markdown object>"
      ]
     },
     "metadata": {},
     "output_type": "display_data"
    }
   ],
   "source": [
    "analyse_phase = \"training\"\n",
    "if job_statistics and \"initialization_in_seconds\" in job_statistics:\n",
    "    if job_statistics[\"initialization_in_seconds\"] > job_statistics[\"training_loop_duration_in_seconds\"]:\n",
    "        analyse_phase = \"initialization\"\n",
    "        time = job_statistics[\"initialization_in_seconds\"]\n",
    "        perc = job_statistics[\"initialization_%\"]\n",
    "        display(Markdown(f\"\"\"The initialization phase took {int(time)} seconds, which is {int(perc)}%*\n",
    "        of the total training time. Since the training loop has taken the most time, \n",
    "        we dive deep into the events occurring during this phase\"\"\"))\n",
    "        display(Markdown(\"\"\"## Analyzing initialization\\n\\n\"\"\"))\n",
    "    time = job_statistics[\"training_loop_duration_in_seconds\"]\n",
    "    perc = job_statistics[\"training_loop_%\"]\n",
    "    display(Markdown(f\"\"\"The training loop lasted for {int(time)} seconds which is {int(perc)}% of the training job time.\n",
    "                    Since the training loop has taken the most time, we dive deep into the events occured during this phase.\"\"\"))\n",
    "if analyse_phase == 'training':\n",
    "    display(Markdown(\"\"\"## Analyzing the training loop\\n\\n\"\"\"))"
   ]
  },
  {
   "cell_type": "code",
   "execution_count": 21,
   "metadata": {
    "execution": {
     "iopub.execute_input": "2023-04-06T09:10:35.575506Z",
     "iopub.status.busy": "2023-04-06T09:10:35.575032Z",
     "iopub.status.idle": "2023-04-06T09:10:35.577378Z",
     "shell.execute_reply": "2023-04-06T09:10:35.576953Z"
    },
    "papermill": {
     "duration": 0.030379,
     "end_time": "2023-04-06T09:10:35.577476",
     "exception": false,
     "start_time": "2023-04-06T09:10:35.547097",
     "status": "completed"
    },
    "tags": [
     "hide-input"
    ]
   },
   "outputs": [],
   "source": [
    "if analyse_phase == \"initialization\":\n",
    "    display(Markdown(\"\"\"### MaxInitializationTime\\n\\nThis rule helps to detect if the training initialization is taking too much time. \\nThe rule waits until first step is available. The rule takes the parameter `threshold` that defines how many minutes to wait for the first step to become available. Default is 20 minutes.\\nYou can run the rule locally in the following way:\n",
    "    \"\"\"))\n",
    "    \n",
    "    _ = load_report(\"MaxInitializationTime\")"
   ]
  },
  {
   "cell_type": "code",
   "execution_count": 22,
   "metadata": {
    "execution": {
     "iopub.execute_input": "2023-04-06T09:10:35.646331Z",
     "iopub.status.busy": "2023-04-06T09:10:35.629985Z",
     "iopub.status.idle": "2023-04-06T09:10:35.810734Z",
     "shell.execute_reply": "2023-04-06T09:10:35.811125Z"
    },
    "papermill": {
     "duration": 0.208672,
     "end_time": "2023-04-06T09:10:35.811266",
     "exception": false,
     "start_time": "2023-04-06T09:10:35.602594",
     "status": "completed"
    },
    "tags": [
     "hide-input"
    ]
   },
   "outputs": [
    {
     "data": {
      "text/markdown": [
       "### Step duration analysis"
      ],
      "text/plain": [
       "<IPython.core.display.Markdown object>"
      ]
     },
     "metadata": {},
     "output_type": "display_data"
    },
    {
     "data": {
      "text/html": [
       "\n",
       "\n",
       "\n",
       "\n",
       "\n",
       "\n",
       "  <div class=\"bk-root\" id=\"9a73f16f-0695-44c6-90b2-62b8b6d03060\" data-root-id=\"2009\"></div>\n"
      ]
     },
     "metadata": {},
     "output_type": "display_data"
    },
    {
     "data": {
      "application/javascript": [
       "(function(root) {\n",
       "  function embed_document(root) {\n",
       "    \n",
       "  var docs_json = {\"21b7652e-5991-42f5-ae56-9b8ec5fcd2ad\":{\"roots\":{\"references\":[{\"attributes\":{\"children\":[{\"id\":\"2008\"}]},\"id\":\"2009\",\"type\":\"Column\"},{\"attributes\":{\"text\":\"The StepOutlier rule measures step durations and checks for outliers. The rule \\n        returns True if duration is larger than 3 times the standard deviation. The rule \\n        also takes the parameter mode, that specifies whether steps from training or validation phase \\n        should be checked. In your processing job mode was specified as None. \\n        Typically the first step is taking significantly more time and to avoid the \\n        rule triggering immediately, one can use n_outliers to specify the number of outliers to ignore. \\n        n_outliers was set to 10.\\n        The rule analysed 18876 datapoints and triggered 36 times.\\n        \",\"width\":900},\"id\":\"2008\",\"type\":\"Paragraph\"}],\"root_ids\":[\"2009\"]},\"title\":\"Bokeh Application\",\"version\":\"2.2.3\"}};\n",
       "  var render_items = [{\"docid\":\"21b7652e-5991-42f5-ae56-9b8ec5fcd2ad\",\"root_ids\":[\"2009\"],\"roots\":{\"2009\":\"9a73f16f-0695-44c6-90b2-62b8b6d03060\"}}];\n",
       "  root.Bokeh.embed.embed_items_notebook(docs_json, render_items);\n",
       "\n",
       "  }\n",
       "  if (root.Bokeh !== undefined) {\n",
       "    embed_document(root);\n",
       "  } else {\n",
       "    var attempts = 0;\n",
       "    var timer = setInterval(function(root) {\n",
       "      if (root.Bokeh !== undefined) {\n",
       "        clearInterval(timer);\n",
       "        embed_document(root);\n",
       "      } else {\n",
       "        attempts++;\n",
       "        if (attempts > 100) {\n",
       "          clearInterval(timer);\n",
       "          console.log(\"Bokeh: ERROR: Unable to run BokehJS code because BokehJS library is missing\");\n",
       "        }\n",
       "      }\n",
       "    }, 10, root)\n",
       "  }\n",
       "})(window);"
      ],
      "application/vnd.bokehjs_exec.v0+json": ""
     },
     "metadata": {
      "application/vnd.bokehjs_exec.v0+json": {
       "id": "2009"
      }
     },
     "output_type": "display_data"
    },
    {
     "data": {
      "text/markdown": [
       "**Step durations on node algo-2-27:**"
      ],
      "text/plain": [
       "<IPython.core.display.Markdown object>"
      ]
     },
     "metadata": {},
     "output_type": "display_data"
    },
    {
     "data": {
      "text/markdown": [
       "The following table is a summary of the statistics of step durations measured on node algo-2-27.\n",
       "                The rule has analyzed the step duration from Step:ModeKeys.TRAIN phase.\n",
       "                The average step duration on node algo-2-27 was 0.03s. \n",
       "                The rule detected 20 outliers, where step duration was larger than 3 times the standard deviation of 0.13s\n",
       "                                 \n"
      ],
      "text/plain": [
       "<IPython.core.display.Markdown object>"
      ]
     },
     "metadata": {},
     "output_type": "display_data"
    },
    {
     "data": {
      "text/html": [
       "<table border=\"1\" class=\"dataframe\">\n",
       "  <thead>\n",
       "    <tr style=\"text-align: right;\">\n",
       "      <th></th>\n",
       "      <th>mean</th>\n",
       "      <th>max</th>\n",
       "      <th>p99</th>\n",
       "      <th>p95</th>\n",
       "      <th>p50</th>\n",
       "      <th>min</th>\n",
       "    </tr>\n",
       "  </thead>\n",
       "  <tbody>\n",
       "    <tr style=\"text-align: left;\">\n",
       "      <th>Step Durations in [s]</th>\n",
       "      <td>0.03</td>\n",
       "      <td>10.99</td>\n",
       "      <td>0.03</td>\n",
       "      <td>0.03</td>\n",
       "      <td>0.02</td>\n",
       "      <td>0.02</td>\n",
       "    </tr>\n",
       "  </tbody>\n",
       "</table>"
      ],
      "text/plain": [
       "<IPython.core.display.HTML object>"
      ]
     },
     "metadata": {},
     "output_type": "display_data"
    },
    {
     "data": {
      "text/markdown": [
       "**Step durations on node algo-1-27:**"
      ],
      "text/plain": [
       "<IPython.core.display.Markdown object>"
      ]
     },
     "metadata": {},
     "output_type": "display_data"
    },
    {
     "data": {
      "text/markdown": [
       "The following table is a summary of the statistics of step durations measured on node algo-1-27.\n",
       "                The rule has analyzed the step duration from Step:ModeKeys.TRAIN phase.\n",
       "                The average step duration on node algo-1-27 was 0.03s. \n",
       "                The rule detected 22 outliers, where step duration was larger than 3 times the standard deviation of 0.13s\n",
       "                                 \n"
      ],
      "text/plain": [
       "<IPython.core.display.Markdown object>"
      ]
     },
     "metadata": {},
     "output_type": "display_data"
    },
    {
     "data": {
      "text/html": [
       "<table border=\"1\" class=\"dataframe\">\n",
       "  <thead>\n",
       "    <tr style=\"text-align: right;\">\n",
       "      <th></th>\n",
       "      <th>mean</th>\n",
       "      <th>max</th>\n",
       "      <th>p99</th>\n",
       "      <th>p95</th>\n",
       "      <th>p50</th>\n",
       "      <th>min</th>\n",
       "    </tr>\n",
       "  </thead>\n",
       "  <tbody>\n",
       "    <tr style=\"text-align: left;\">\n",
       "      <th>Step Durations in [s]</th>\n",
       "      <td>0.03</td>\n",
       "      <td>10.56</td>\n",
       "      <td>0.03</td>\n",
       "      <td>0.03</td>\n",
       "      <td>0.02</td>\n",
       "      <td>0.02</td>\n",
       "    </tr>\n",
       "  </tbody>\n",
       "</table>"
      ],
      "text/plain": [
       "<IPython.core.display.HTML object>"
      ]
     },
     "metadata": {},
     "output_type": "display_data"
    },
    {
     "data": {
      "text/markdown": [
       "The following histogram shows the step durations measured on the different nodes. \n",
       "                You can turn on or turn off the visualization of histograms by selecting or unselecting the labels in the legend."
      ],
      "text/plain": [
       "<IPython.core.display.Markdown object>"
      ]
     },
     "metadata": {},
     "output_type": "display_data"
    },
    {
     "data": {
      "text/html": [
       "\n",
       "\n",
       "\n",
       "\n",
       "\n",
       "\n",
       "  <div class=\"bk-root\" id=\"497fb502-c74e-4990-86f9-2db355f8e47d\" data-root-id=\"2092\"></div>\n"
      ]
     },
     "metadata": {},
     "output_type": "display_data"
    },
    {
     "data": {
      "application/javascript": [
       "(function(root) {\n",
       "  function embed_document(root) {\n",
       "    \n",
       "  var docs_json = {\"8da6694b-80e2-46bf-b0d3-efb24adba784\":{\"roots\":{\"references\":[{\"attributes\":{\"below\":[{\"id\":\"2103\"}],\"center\":[{\"id\":\"2106\"},{\"id\":\"2110\"},{\"id\":\"2138\"}],\"left\":[{\"id\":\"2107\"}],\"plot_height\":450,\"plot_width\":850,\"renderers\":[{\"id\":\"2128\"},{\"id\":\"2143\"}],\"right\":[{\"id\":\"2156\"}],\"title\":{\"id\":\"2093\"},\"toolbar\":{\"id\":\"2118\"},\"x_range\":{\"id\":\"2095\"},\"x_scale\":{\"id\":\"2099\"},\"y_range\":{\"id\":\"2097\"},\"y_scale\":{\"id\":\"2101\"}},\"id\":\"2092\",\"subtype\":\"Figure\",\"type\":\"Plot\"},{\"attributes\":{},\"id\":\"2114\",\"type\":\"SaveTool\"},{\"attributes\":{},\"id\":\"2134\",\"type\":\"BasicTickFormatter\"},{\"attributes\":{},\"id\":\"2115\",\"type\":\"ResetTool\"},{\"attributes\":{},\"id\":\"2132\",\"type\":\"BasicTickFormatter\"},{\"attributes\":{},\"id\":\"2154\",\"type\":\"Selection\"},{\"attributes\":{\"bottom\":{\"value\":0},\"fill_alpha\":{\"value\":0.1},\"fill_color\":{\"value\":\"#440154\"},\"left\":{\"field\":\"left\"},\"line_alpha\":{\"value\":0.1},\"line_color\":{\"value\":\"white\"},\"right\":{\"field\":\"right\"},\"top\":{\"field\":\"top\"}},\"id\":\"2127\",\"type\":\"Quad\"},{\"attributes\":{},\"id\":\"2095\",\"type\":\"DataRange1d\"},{\"attributes\":{},\"id\":\"2116\",\"type\":\"HelpTool\"},{\"attributes\":{},\"id\":\"2136\",\"type\":\"UnionRenderers\"},{\"attributes\":{},\"id\":\"2101\",\"type\":\"LinearScale\"},{\"attributes\":{},\"id\":\"2137\",\"type\":\"Selection\"},{\"attributes\":{\"bottom\":{\"value\":0},\"fill_alpha\":{\"value\":0.7},\"fill_color\":{\"value\":\"#FDE724\"},\"left\":{\"field\":\"left\"},\"line_color\":{\"value\":\"white\"},\"right\":{\"field\":\"right\"},\"top\":{\"field\":\"top\"}},\"id\":\"2141\",\"type\":\"Quad\"},{\"attributes\":{\"axis\":{\"id\":\"2103\"},\"grid_line_color\":\"white\",\"ticker\":null},\"id\":\"2106\",\"type\":\"Grid\"},{\"attributes\":{\"axis_label\":\"Step durations in [s]\",\"formatter\":{\"id\":\"2134\"},\"ticker\":{\"id\":\"2104\"}},\"id\":\"2103\",\"type\":\"LinearAxis\"},{\"attributes\":{\"label\":{\"value\":\"algo-1-27\"},\"renderers\":[{\"id\":\"2143\"}]},\"id\":\"2155\",\"type\":\"LegendItem\"},{\"attributes\":{},\"id\":\"2108\",\"type\":\"BasicTicker\"},{\"attributes\":{},\"id\":\"2104\",\"type\":\"BasicTicker\"},{\"attributes\":{\"axis_label\":\"Occurrences\",\"formatter\":{\"id\":\"2132\"},\"ticker\":{\"id\":\"2108\"}},\"id\":\"2107\",\"type\":\"LinearAxis\"},{\"attributes\":{\"data\":{\"left\":[0.016572,0.01679905,0.0170261,0.01725315,0.0174802,0.01770725,0.0179343,0.01816135,0.0183884,0.01861545,0.018842499999999998,0.01906955,0.0192966,0.01952365,0.0197507,0.01997775,0.0202048,0.02043185,0.0206589,0.02088595,0.021113,0.02134005,0.0215671,0.021794149999999998,0.022021199999999998,0.02224825,0.0224753,0.02270235,0.0229294,0.02315645,0.0233835,0.02361055,0.0238376,0.02406465,0.0242917,0.02451875,0.0247458,0.024972849999999998,0.025199899999999997,0.02542695,0.025654,0.02588105,0.0261081,0.02633515,0.0265622,0.02678925,0.0270163,0.02724335,0.0274704,0.02769745,0.027924499999999998,0.028151549999999997,0.028378599999999997,0.02860565,0.0288327,0.02905975,0.0292868,0.02951385,0.0297409,0.02996795,0.030195,0.03042205,0.0306491,0.030876149999999998,0.031103199999999998,0.03133025,0.031557299999999996,0.03178435,0.032011399999999995,0.03223845,0.032465499999999994,0.03269255,0.0329196,0.03314665,0.0333737,0.03360075,0.0338278,0.03405485,0.034281900000000004,0.03450895,0.034736,0.034963049999999996,0.0351901,0.035417149999999994,0.0356442,0.03587125,0.0360983,0.03632535,0.0365524,0.03677945,0.0370065,0.037233550000000004,0.0374606,0.03768765,0.037914699999999996,0.03814175,0.038368799999999995,0.03859585,0.0388229,0.03904995],\"right\":[0.01679905,0.0170261,0.01725315,0.0174802,0.01770725,0.0179343,0.01816135,0.0183884,0.01861545,0.018842499999999998,0.01906955,0.0192966,0.01952365,0.0197507,0.01997775,0.0202048,0.02043185,0.0206589,0.02088595,0.021113,0.02134005,0.0215671,0.021794149999999998,0.022021199999999998,0.02224825,0.0224753,0.02270235,0.0229294,0.02315645,0.0233835,0.02361055,0.0238376,0.02406465,0.0242917,0.02451875,0.0247458,0.024972849999999998,0.025199899999999997,0.02542695,0.025654,0.02588105,0.0261081,0.02633515,0.0265622,0.02678925,0.0270163,0.02724335,0.0274704,0.02769745,0.027924499999999998,0.028151549999999997,0.028378599999999997,0.02860565,0.0288327,0.02905975,0.0292868,0.02951385,0.0297409,0.02996795,0.030195,0.03042205,0.0306491,0.030876149999999998,0.031103199999999998,0.03133025,0.031557299999999996,0.03178435,0.032011399999999995,0.03223845,0.032465499999999994,0.03269255,0.0329196,0.03314665,0.0333737,0.03360075,0.0338278,0.03405485,0.034281900000000004,0.03450895,0.034736,0.034963049999999996,0.0351901,0.035417149999999994,0.0356442,0.03587125,0.0360983,0.03632535,0.0365524,0.03677945,0.0370065,0.037233550000000004,0.0374606,0.03768765,0.037914699999999996,0.03814175,0.038368799999999995,0.03859585,0.0388229,0.03904995,0.039277],\"top\":[2,2,6,1,1,1,0,1,1,2,1,3,5,72,211,167,61,33,27,43,32,27,31,36,122,987,1812,973,479,386,339,314,249,246,210,185,294,734,588,216,85,45,34,22,28,17,19,19,17,14,13,15,14,5,11,12,13,8,9,9,6,7,10,9,8,4,5,6,3,0,5,2,1,1,7,4,0,0,0,1,3,1,0,1,2,1,1,0,1,0,1,1,0,2,0,0,0,0,0,1]},\"selected\":{\"id\":\"2154\"},\"selection_policy\":{\"id\":\"2153\"}},\"id\":\"2140\",\"type\":\"ColumnDataSource\"},{\"attributes\":{\"label\":{\"value\":\"algo-2-27\"},\"renderers\":[{\"id\":\"2128\"}]},\"id\":\"2139\",\"type\":\"LegendItem\"},{\"attributes\":{\"click_policy\":\"hide\",\"location\":\"center_right\"},\"id\":\"2156\",\"type\":\"Legend\"},{\"attributes\":{\"bottom\":{\"value\":0},\"fill_alpha\":{\"value\":0.1},\"fill_color\":{\"value\":\"#FDE724\"},\"left\":{\"field\":\"left\"},\"line_alpha\":{\"value\":0.1},\"line_color\":{\"value\":\"white\"},\"right\":{\"field\":\"right\"},\"top\":{\"field\":\"top\"}},\"id\":\"2142\",\"type\":\"Quad\"},{\"attributes\":{\"axis\":{\"id\":\"2107\"},\"dimension\":1,\"grid_line_color\":\"white\",\"ticker\":null},\"id\":\"2110\",\"type\":\"Grid\"},{\"attributes\":{\"start\":0},\"id\":\"2097\",\"type\":\"DataRange1d\"},{\"attributes\":{\"overlay\":{\"id\":\"2117\"}},\"id\":\"2113\",\"type\":\"BoxZoomTool\"},{\"attributes\":{\"bottom_units\":\"screen\",\"fill_alpha\":0.5,\"fill_color\":\"lightgrey\",\"left_units\":\"screen\",\"level\":\"overlay\",\"line_alpha\":1.0,\"line_color\":\"black\",\"line_dash\":[4,4],\"line_width\":2,\"right_units\":\"screen\",\"top_units\":\"screen\"},\"id\":\"2117\",\"type\":\"BoxAnnotation\"},{\"attributes\":{\"data_source\":{\"id\":\"2140\"},\"glyph\":{\"id\":\"2141\"},\"hover_glyph\":null,\"muted_glyph\":null,\"nonselection_glyph\":{\"id\":\"2142\"},\"selection_glyph\":null,\"view\":{\"id\":\"2144\"}},\"id\":\"2143\",\"type\":\"GlyphRenderer\"},{\"attributes\":{},\"id\":\"2153\",\"type\":\"UnionRenderers\"},{\"attributes\":{\"source\":{\"id\":\"2140\"}},\"id\":\"2144\",\"type\":\"CDSView\"},{\"attributes\":{\"active_drag\":\"auto\",\"active_inspect\":\"auto\",\"active_multi\":null,\"active_scroll\":\"auto\",\"active_tap\":\"auto\",\"tools\":[{\"id\":\"2111\"},{\"id\":\"2112\"},{\"id\":\"2113\"},{\"id\":\"2114\"},{\"id\":\"2115\"},{\"id\":\"2116\"}]},\"id\":\"2118\",\"type\":\"Toolbar\"},{\"attributes\":{\"bottom\":{\"value\":0},\"fill_alpha\":{\"value\":0.7},\"fill_color\":{\"value\":\"#440154\"},\"left\":{\"field\":\"left\"},\"line_color\":{\"value\":\"white\"},\"right\":{\"field\":\"right\"},\"top\":{\"field\":\"top\"}},\"id\":\"2126\",\"type\":\"Quad\"},{\"attributes\":{\"data\":{\"left\":[0.016582,0.01688193,0.01718186,0.01748179,0.01778172,0.018081649999999998,0.018381579999999998,0.01868151,0.01898144,0.01928137,0.0195813,0.01988123,0.02018116,0.02048109,0.02078102,0.02108095,0.021380879999999998,0.021680810000000002,0.02198074,0.02228067,0.0225806,0.02288053,0.02318046,0.02348039,0.02378032,0.02408025,0.02438018,0.024680109999999998,0.024980040000000002,0.02527997,0.0255799,0.02587983,0.02617976,0.02647969,0.02677962,0.02707955,0.027379479999999998,0.02767941,0.02797934,0.028279270000000002,0.0285792,0.02887913,0.02917906,0.02947899,0.02977892,0.03007885,0.03037878,0.030678709999999998,0.03097864,0.03127857,0.0315785,0.03187843,0.03217836,0.03247829,0.03277822,0.03307815,0.033378080000000004,0.03367801,0.03397794,0.03427787,0.0345778,0.034877729999999996,0.03517766,0.03547759,0.03577752,0.03607745,0.03637738,0.036677310000000005,0.03697724,0.03727717,0.0375771,0.03787703,0.038176959999999996,0.03847689,0.038776820000000004,0.03907675,0.03937668,0.03967661,0.039976540000000005,0.04027647,0.0405764,0.04087633,0.04117626,0.041476189999999996,0.04177612,0.042076050000000004,0.04237598,0.04267591,0.04297584,0.043275770000000005,0.0435757,0.04387563,0.04417556,0.04447549,0.044775419999999996,0.04507535,0.045375280000000004,0.04567521,0.04597514,0.04627507],\"right\":[0.01688193,0.01718186,0.01748179,0.01778172,0.018081649999999998,0.018381579999999998,0.01868151,0.01898144,0.01928137,0.0195813,0.01988123,0.02018116,0.02048109,0.02078102,0.02108095,0.021380879999999998,0.021680810000000002,0.02198074,0.02228067,0.0225806,0.02288053,0.02318046,0.02348039,0.02378032,0.02408025,0.02438018,0.024680109999999998,0.024980040000000002,0.02527997,0.0255799,0.02587983,0.02617976,0.02647969,0.02677962,0.02707955,0.027379479999999998,0.02767941,0.02797934,0.028279270000000002,0.0285792,0.02887913,0.02917906,0.02947899,0.02977892,0.03007885,0.03037878,0.030678709999999998,0.03097864,0.03127857,0.0315785,0.03187843,0.03217836,0.03247829,0.03277822,0.03307815,0.033378080000000004,0.03367801,0.03397794,0.03427787,0.0345778,0.034877729999999996,0.03517766,0.03547759,0.03577752,0.03607745,0.03637738,0.036677310000000005,0.03697724,0.03727717,0.0375771,0.03787703,0.038176959999999996,0.03847689,0.038776820000000004,0.03907675,0.03937668,0.03967661,0.039976540000000005,0.04027647,0.0405764,0.04087633,0.04117626,0.041476189999999996,0.04177612,0.042076050000000004,0.04237598,0.04267591,0.04297584,0.043275770000000005,0.0435757,0.04387563,0.04417556,0.04447549,0.044775419999999996,0.04507535,0.045375280000000004,0.04567521,0.04597514,0.04627507,0.046575],\"top\":[4,7,3,1,0,1,2,0,0,5,91,206,163,78,62,45,45,35,66,622,1779,1404,618,451,348,364,272,241,406,815,619,196,81,36,31,17,30,23,17,12,20,14,19,17,11,18,15,18,6,6,7,11,6,6,7,5,1,0,5,1,3,2,2,3,0,0,1,1,0,1,0,1,0,0,0,1,0,0,0,0,0,0,0,0,0,0,0,0,0,0,0,0,0,0,0,0,0,0,0,1]},\"selected\":{\"id\":\"2137\"},\"selection_policy\":{\"id\":\"2136\"}},\"id\":\"2125\",\"type\":\"ColumnDataSource\"},{\"attributes\":{},\"id\":\"2099\",\"type\":\"LinearScale\"},{\"attributes\":{},\"id\":\"2111\",\"type\":\"PanTool\"},{\"attributes\":{\"data_source\":{\"id\":\"2125\"},\"glyph\":{\"id\":\"2126\"},\"hover_glyph\":null,\"muted_glyph\":null,\"nonselection_glyph\":{\"id\":\"2127\"},\"selection_glyph\":null,\"view\":{\"id\":\"2129\"}},\"id\":\"2128\",\"type\":\"GlyphRenderer\"},{\"attributes\":{},\"id\":\"2112\",\"type\":\"WheelZoomTool\"},{\"attributes\":{\"source\":{\"id\":\"2125\"}},\"id\":\"2129\",\"type\":\"CDSView\"},{\"attributes\":{\"text\":\"Step durations\"},\"id\":\"2093\",\"type\":\"Title\"},{\"attributes\":{\"click_policy\":\"hide\",\"items\":[{\"id\":\"2139\"},{\"id\":\"2155\"}],\"location\":\"center_right\"},\"id\":\"2138\",\"type\":\"Legend\"}],\"root_ids\":[\"2092\"]},\"title\":\"Bokeh Application\",\"version\":\"2.2.3\"}};\n",
       "  var render_items = [{\"docid\":\"8da6694b-80e2-46bf-b0d3-efb24adba784\",\"root_ids\":[\"2092\"],\"roots\":{\"2092\":\"497fb502-c74e-4990-86f9-2db355f8e47d\"}}];\n",
       "  root.Bokeh.embed.embed_items_notebook(docs_json, render_items);\n",
       "\n",
       "  }\n",
       "  if (root.Bokeh !== undefined) {\n",
       "    embed_document(root);\n",
       "  } else {\n",
       "    var attempts = 0;\n",
       "    var timer = setInterval(function(root) {\n",
       "      if (root.Bokeh !== undefined) {\n",
       "        clearInterval(timer);\n",
       "        embed_document(root);\n",
       "      } else {\n",
       "        attempts++;\n",
       "        if (attempts > 100) {\n",
       "          clearInterval(timer);\n",
       "          console.log(\"Bokeh: ERROR: Unable to run BokehJS code because BokehJS library is missing\");\n",
       "        }\n",
       "      }\n",
       "    }, 10, root)\n",
       "  }\n",
       "})(window);"
      ],
      "application/vnd.bokehjs_exec.v0+json": ""
     },
     "metadata": {
      "application/vnd.bokehjs_exec.v0+json": {
       "id": "2092"
      }
     },
     "output_type": "display_data"
    },
    {
     "data": {
      "text/html": [
       "\n",
       "\n",
       "\n",
       "\n",
       "\n",
       "\n",
       "  <div class=\"bk-root\" id=\"f1f974e9-7a84-4431-a59f-3c4c90a423da\" data-root-id=\"2346\"></div>\n"
      ]
     },
     "metadata": {},
     "output_type": "display_data"
    },
    {
     "data": {
      "application/javascript": [
       "(function(root) {\n",
       "  function embed_document(root) {\n",
       "    \n",
       "  var docs_json = {\"8dc19544-3e9f-4ede-a659-032fa398dc6d\":{\"roots\":{\"references\":[{\"attributes\":{\"children\":[{\"id\":\"2344\"},{\"id\":\"2345\"}]},\"id\":\"2346\",\"type\":\"Column\"},{\"attributes\":{},\"id\":\"2337\",\"type\":\"BasicTickFormatter\"},{\"attributes\":{\"axis_label\":null,\"formatter\":{\"id\":\"2337\"},\"ticker\":{\"id\":\"2315\"},\"visible\":false},\"id\":\"2314\",\"type\":\"LinearAxis\"},{\"attributes\":{\"axis\":{\"id\":\"2310\"},\"grid_line_color\":null,\"ticker\":null},\"id\":\"2313\",\"type\":\"Grid\"},{\"attributes\":{},\"id\":\"2315\",\"type\":\"BasicTicker\"},{\"attributes\":{},\"id\":\"2311\",\"type\":\"BasicTicker\"},{\"attributes\":{},\"id\":\"2339\",\"type\":\"BasicTickFormatter\"},{\"attributes\":{\"axis_label\":null,\"formatter\":{\"id\":\"2339\"},\"ticker\":{\"id\":\"2311\"},\"visible\":false},\"id\":\"2310\",\"type\":\"LinearAxis\"},{\"attributes\":{\"children\":[{\"id\":\"2299\"}]},\"id\":\"2345\",\"type\":\"Row\"},{\"attributes\":{},\"id\":\"2340\",\"type\":\"UnionRenderers\"},{\"attributes\":{\"data_source\":{\"id\":\"2329\"},\"glyph\":{\"id\":\"2331\"},\"hover_glyph\":null,\"muted_glyph\":null,\"nonselection_glyph\":{\"id\":\"2332\"},\"selection_glyph\":null,\"view\":{\"id\":\"2334\"}},\"id\":\"2333\",\"type\":\"GlyphRenderer\"},{\"attributes\":{\"end_angle\":{\"expr\":{\"id\":\"2328\"},\"units\":\"rad\"},\"fill_alpha\":{\"value\":0.1},\"fill_color\":{\"field\":\"color\"},\"line_alpha\":{\"value\":0.1},\"line_color\":{\"value\":\"white\"},\"radius\":{\"units\":\"data\",\"value\":0.3},\"start_angle\":{\"expr\":{\"id\":\"2327\"},\"units\":\"rad\"},\"x\":{\"value\":0},\"y\":{\"value\":0.0}},\"id\":\"2332\",\"type\":\"Wedge\"},{\"attributes\":{},\"id\":\"2308\",\"type\":\"LinearScale\"},{\"attributes\":{\"label\":{\"field\":\"phase\"},\"renderers\":[{\"id\":\"2333\"}]},\"id\":\"2343\",\"type\":\"LegendItem\"},{\"attributes\":{},\"id\":\"2306\",\"type\":\"LinearScale\"},{\"attributes\":{\"source\":{\"id\":\"2329\"}},\"id\":\"2334\",\"type\":\"CDSView\"},{\"attributes\":{\"active_drag\":\"auto\",\"active_inspect\":\"auto\",\"active_multi\":null,\"active_scroll\":\"auto\",\"active_tap\":\"auto\",\"tools\":[{\"id\":\"2318\"},{\"id\":\"2319\"},{\"id\":\"2320\"},{\"id\":\"2321\"}]},\"id\":\"2322\",\"type\":\"Toolbar\"},{\"attributes\":{\"end_angle\":{\"expr\":{\"id\":\"2328\"},\"units\":\"rad\"},\"fill_color\":{\"field\":\"color\"},\"line_color\":{\"value\":\"white\"},\"radius\":{\"units\":\"data\",\"value\":0.3},\"start_angle\":{\"expr\":{\"id\":\"2327\"},\"units\":\"rad\"},\"x\":{\"value\":0},\"y\":{\"value\":0.0}},\"id\":\"2331\",\"type\":\"Wedge\"},{\"attributes\":{},\"id\":\"2304\",\"type\":\"DataRange1d\"},{\"attributes\":{\"data\":{\"angle\":{\"__ndarray__\":\"capSfyu5F0BxKhhP/YzWPw==\",\"dtype\":\"float64\",\"order\":\"little\",\"shape\":[2]},\"color\":[\"#440154\",\"#FDE724\"],\"index\":[0,1],\"phase\":[\"Step:ModeKeys.TRAIN\",\"Step:ModeKeys.EVAL\"],\"value\":{\"__ndarray__\":\"7ovGBBiZV0AfQZezf24WQA==\",\"dtype\":\"float64\",\"order\":\"little\",\"shape\":[2]}},\"selected\":{\"id\":\"2341\"},\"selection_policy\":{\"id\":\"2340\"}},\"id\":\"2329\",\"type\":\"ColumnDataSource\"},{\"attributes\":{\"end\":0.8999999999999999,\"start\":-0.5},\"id\":\"2302\",\"type\":\"Range1d\"},{\"attributes\":{\"below\":[{\"id\":\"2310\"}],\"center\":[{\"id\":\"2313\"},{\"id\":\"2317\"},{\"id\":\"2342\"}],\"left\":[{\"id\":\"2314\"}],\"outline_line_color\":\"white\",\"plot_height\":350,\"renderers\":[{\"id\":\"2333\"}],\"title\":{\"id\":\"2300\"},\"toolbar\":{\"id\":\"2322\"},\"x_range\":{\"id\":\"2302\"},\"x_scale\":{\"id\":\"2306\"},\"y_range\":{\"id\":\"2304\"},\"y_scale\":{\"id\":\"2308\"}},\"id\":\"2299\",\"subtype\":\"Figure\",\"type\":\"Plot\"},{\"attributes\":{\"text\":\"The ratio between the time spent on the TRAIN/EVAL phase\"},\"id\":\"2300\",\"type\":\"Title\"},{\"attributes\":{\"callback\":null,\"tooltips\":\"@phase:@value\"},\"id\":\"2318\",\"type\":\"HoverTool\"},{\"attributes\":{\"text\":\"To get a better understanding of what may have caused those outliers,\\n            we correlate the timestamps of step outliers with other framework metrics that happened at the same time.\\n            The left chart shows how much time was spent in the different framework\\n            metrics aggregated by event phase. The chart on the right shows the histogram of normal step durations (without\\n            outliers). The following chart shows how much time was spent in the different \\n            framework metrics when step outliers occurred. In this chart framework metrics are not aggregated byphase. The chart (in the middle) shows whether step outliers mainly happened during TRAIN or EVAL phase.\\n                \",\"width\":900},\"id\":\"2344\",\"type\":\"Paragraph\"},{\"attributes\":{},\"id\":\"2320\",\"type\":\"ResetTool\"},{\"attributes\":{\"axis\":{\"id\":\"2314\"},\"dimension\":1,\"grid_line_color\":null,\"ticker\":null},\"id\":\"2317\",\"type\":\"Grid\"},{\"attributes\":{},\"id\":\"2319\",\"type\":\"WheelZoomTool\"},{\"attributes\":{},\"id\":\"2341\",\"type\":\"Selection\"},{\"attributes\":{},\"id\":\"2321\",\"type\":\"PanTool\"},{\"attributes\":{\"field\":\"angle\",\"include_zero\":true},\"id\":\"2327\",\"type\":\"CumSum\"},{\"attributes\":{\"field\":\"angle\"},\"id\":\"2328\",\"type\":\"CumSum\"},{\"attributes\":{\"items\":[{\"id\":\"2343\"}],\"label_text_font_size\":\"8pt\",\"location\":\"center_right\"},\"id\":\"2342\",\"type\":\"Legend\"}],\"root_ids\":[\"2346\"]},\"title\":\"Bokeh Application\",\"version\":\"2.2.3\"}};\n",
       "  var render_items = [{\"docid\":\"8dc19544-3e9f-4ede-a659-032fa398dc6d\",\"root_ids\":[\"2346\"],\"roots\":{\"2346\":\"f1f974e9-7a84-4431-a59f-3c4c90a423da\"}}];\n",
       "  root.Bokeh.embed.embed_items_notebook(docs_json, render_items);\n",
       "\n",
       "  }\n",
       "  if (root.Bokeh !== undefined) {\n",
       "    embed_document(root);\n",
       "  } else {\n",
       "    var attempts = 0;\n",
       "    var timer = setInterval(function(root) {\n",
       "      if (root.Bokeh !== undefined) {\n",
       "        clearInterval(timer);\n",
       "        embed_document(root);\n",
       "      } else {\n",
       "        attempts++;\n",
       "        if (attempts > 100) {\n",
       "          clearInterval(timer);\n",
       "          console.log(\"Bokeh: ERROR: Unable to run BokehJS code because BokehJS library is missing\");\n",
       "        }\n",
       "      }\n",
       "    }, 10, root)\n",
       "  }\n",
       "})(window);"
      ],
      "application/vnd.bokehjs_exec.v0+json": ""
     },
     "metadata": {
      "application/vnd.bokehjs_exec.v0+json": {
       "id": "2346"
      }
     },
     "output_type": "display_data"
    },
    {
     "data": {
      "text/html": [
       "\n",
       "\n",
       "\n",
       "\n",
       "\n",
       "\n",
       "  <div class=\"bk-root\" id=\"b17b8284-7899-4022-9fd9-852ea27111c7\" data-root-id=\"2528\"></div>\n"
      ]
     },
     "metadata": {},
     "output_type": "display_data"
    },
    {
     "data": {
      "application/javascript": [
       "(function(root) {\n",
       "  function embed_document(root) {\n",
       "    \n",
       "  var docs_json = {\"27d7355f-a8ba-4ff5-aa64-11760862f61b\":{\"roots\":{\"references\":[{\"attributes\":{\"children\":[{\"id\":\"2526\"},{\"id\":\"2527\"}]},\"id\":\"2528\",\"type\":\"Column\"},{\"attributes\":{\"end\":0.8999999999999999,\"start\":-0.5},\"id\":\"2484\",\"type\":\"Range1d\"},{\"attributes\":{},\"id\":\"2486\",\"type\":\"DataRange1d\"},{\"attributes\":{},\"id\":\"2488\",\"type\":\"LinearScale\"},{\"attributes\":{},\"id\":\"2519\",\"type\":\"BasicTickFormatter\"},{\"attributes\":{\"items\":[{\"id\":\"2525\"}],\"label_text_font_size\":\"8pt\",\"location\":\"center_right\"},\"id\":\"2524\",\"type\":\"Legend\"},{\"attributes\":{},\"id\":\"2497\",\"type\":\"BasicTicker\"},{\"attributes\":{\"data_source\":{\"id\":\"2511\"},\"glyph\":{\"id\":\"2513\"},\"hover_glyph\":null,\"muted_glyph\":null,\"nonselection_glyph\":{\"id\":\"2514\"},\"selection_glyph\":null,\"view\":{\"id\":\"2516\"}},\"id\":\"2515\",\"type\":\"GlyphRenderer\"},{\"attributes\":{},\"id\":\"2490\",\"type\":\"LinearScale\"},{\"attributes\":{\"callback\":null,\"tooltips\":\"@phase:@value\"},\"id\":\"2500\",\"type\":\"HoverTool\"},{\"attributes\":{\"active_drag\":\"auto\",\"active_inspect\":\"auto\",\"active_multi\":null,\"active_scroll\":\"auto\",\"active_tap\":\"auto\",\"tools\":[{\"id\":\"2500\"},{\"id\":\"2501\"},{\"id\":\"2502\"},{\"id\":\"2503\"}]},\"id\":\"2504\",\"type\":\"Toolbar\"},{\"attributes\":{\"end_angle\":{\"expr\":{\"id\":\"2510\"},\"units\":\"rad\"},\"fill_alpha\":{\"value\":0.1},\"fill_color\":{\"field\":\"color\"},\"line_alpha\":{\"value\":0.1},\"line_color\":{\"value\":\"white\"},\"radius\":{\"units\":\"data\",\"value\":0.3},\"start_angle\":{\"expr\":{\"id\":\"2509\"},\"units\":\"rad\"},\"x\":{\"value\":0},\"y\":{\"value\":0.0}},\"id\":\"2514\",\"type\":\"Wedge\"},{\"attributes\":{\"label\":{\"field\":\"phase\"},\"renderers\":[{\"id\":\"2515\"}]},\"id\":\"2525\",\"type\":\"LegendItem\"},{\"attributes\":{},\"id\":\"2503\",\"type\":\"PanTool\"},{\"attributes\":{\"text\":\"General metrics recorded in framework \"},\"id\":\"2482\",\"type\":\"Title\"},{\"attributes\":{\"axis_label\":null,\"formatter\":{\"id\":\"2521\"},\"ticker\":{\"id\":\"2493\"},\"visible\":false},\"id\":\"2492\",\"type\":\"LinearAxis\"},{\"attributes\":{},\"id\":\"2501\",\"type\":\"WheelZoomTool\"},{\"attributes\":{},\"id\":\"2523\",\"type\":\"Selection\"},{\"attributes\":{},\"id\":\"2522\",\"type\":\"UnionRenderers\"},{\"attributes\":{\"axis\":{\"id\":\"2496\"},\"dimension\":1,\"grid_line_color\":null,\"ticker\":null},\"id\":\"2499\",\"type\":\"Grid\"},{\"attributes\":{\"children\":[{\"id\":\"2481\"}]},\"id\":\"2527\",\"type\":\"Row\"},{\"attributes\":{},\"id\":\"2493\",\"type\":\"BasicTicker\"},{\"attributes\":{\"field\":\"angle\"},\"id\":\"2510\",\"type\":\"CumSum\"},{\"attributes\":{\"axis\":{\"id\":\"2492\"},\"grid_line_color\":null,\"ticker\":null},\"id\":\"2495\",\"type\":\"Grid\"},{\"attributes\":{\"below\":[{\"id\":\"2492\"}],\"center\":[{\"id\":\"2495\"},{\"id\":\"2499\"},{\"id\":\"2524\"}],\"left\":[{\"id\":\"2496\"}],\"outline_line_color\":\"white\",\"plot_height\":350,\"renderers\":[{\"id\":\"2515\"}],\"title\":{\"id\":\"2482\"},\"toolbar\":{\"id\":\"2504\"},\"x_range\":{\"id\":\"2484\"},\"x_scale\":{\"id\":\"2488\"},\"y_range\":{\"id\":\"2486\"},\"y_scale\":{\"id\":\"2490\"}},\"id\":\"2481\",\"subtype\":\"Figure\",\"type\":\"Plot\"},{\"attributes\":{},\"id\":\"2502\",\"type\":\"ResetTool\"},{\"attributes\":{\"axis_label\":null,\"formatter\":{\"id\":\"2519\"},\"ticker\":{\"id\":\"2497\"},\"visible\":false},\"id\":\"2496\",\"type\":\"LinearAxis\"},{\"attributes\":{\"source\":{\"id\":\"2511\"}},\"id\":\"2516\",\"type\":\"CDSView\"},{\"attributes\":{\"end_angle\":{\"expr\":{\"id\":\"2510\"},\"units\":\"rad\"},\"fill_color\":{\"field\":\"color\"},\"line_color\":{\"value\":\"white\"},\"radius\":{\"units\":\"data\",\"value\":0.3},\"start_angle\":{\"expr\":{\"id\":\"2509\"},\"units\":\"rad\"},\"x\":{\"value\":0},\"y\":{\"value\":0.0}},\"id\":\"2513\",\"type\":\"Wedge\"},{\"attributes\":{\"data\":{\"angle\":{\"__ndarray__\":\"BzrpE/khGUAoUoaY1wLiPg==\",\"dtype\":\"float64\",\"order\":\"little\",\"shape\":[2]},\"color\":[\"#440154\",\"#FDE724\"],\"index\":[0,1],\"phase\":[\"Forward\",\"DataLoaderIterInitialize\"],\"value\":{\"__ndarray__\":\"2FWwwv3/WEB5Ej5RfeohPw==\",\"dtype\":\"float64\",\"order\":\"little\",\"shape\":[2]}},\"selected\":{\"id\":\"2523\"},\"selection_policy\":{\"id\":\"2522\"}},\"id\":\"2511\",\"type\":\"ColumnDataSource\"},{\"attributes\":{},\"id\":\"2521\",\"type\":\"BasicTickFormatter\"},{\"attributes\":{\"field\":\"angle\",\"include_zero\":true},\"id\":\"2509\",\"type\":\"CumSum\"},{\"attributes\":{\"width\":900},\"id\":\"2526\",\"type\":\"Paragraph\"}],\"root_ids\":[\"2528\"]},\"title\":\"Bokeh Application\",\"version\":\"2.2.3\"}};\n",
       "  var render_items = [{\"docid\":\"27d7355f-a8ba-4ff5-aa64-11760862f61b\",\"root_ids\":[\"2528\"],\"roots\":{\"2528\":\"b17b8284-7899-4022-9fd9-852ea27111c7\"}}];\n",
       "  root.Bokeh.embed.embed_items_notebook(docs_json, render_items);\n",
       "\n",
       "  }\n",
       "  if (root.Bokeh !== undefined) {\n",
       "    embed_document(root);\n",
       "  } else {\n",
       "    var attempts = 0;\n",
       "    var timer = setInterval(function(root) {\n",
       "      if (root.Bokeh !== undefined) {\n",
       "        clearInterval(timer);\n",
       "        embed_document(root);\n",
       "      } else {\n",
       "        attempts++;\n",
       "        if (attempts > 100) {\n",
       "          clearInterval(timer);\n",
       "          console.log(\"Bokeh: ERROR: Unable to run BokehJS code because BokehJS library is missing\");\n",
       "        }\n",
       "      }\n",
       "    }, 10, root)\n",
       "  }\n",
       "})(window);"
      ],
      "application/vnd.bokehjs_exec.v0+json": ""
     },
     "metadata": {
      "application/vnd.bokehjs_exec.v0+json": {
       "id": "2528"
      }
     },
     "output_type": "display_data"
    }
   ],
   "source": [
    "if analyse_phase == \"training\":\n",
    "    display(Markdown(\"\"\"### Step duration analysis\"\"\"))\n",
    "    report = load_report('StepOutlier')\n",
    "    if report:\n",
    "        parameters = report['RuleParameters']\n",
    "        params = report['RuleParameters'].split('\\n')\n",
    "        stddev = params[3].split(':')[1]\n",
    "        mode = params[1].split(':')[1]\n",
    "        n_outlier = params[2].split(':')[1]\n",
    "        triggered = report['RuleTriggered']\n",
    "        datapoints = report['Datapoints']\n",
    "\n",
    "        text = f\"\"\"The StepOutlier rule measures step durations and checks for outliers. The rule \n",
    "        returns True if duration is larger than {stddev} times the standard deviation. The rule \n",
    "        also takes the parameter mode, that specifies whether steps from training or validation phase \n",
    "        should be checked. In your processing job mode was specified as {mode}. \n",
    "        Typically the first step is taking significantly more time and to avoid the \n",
    "        rule triggering immediately, one can use n_outliers to specify the number of outliers to ignore. \n",
    "        n_outliers was set to {n_outlier}.\n",
    "        The rule analysed {datapoints} datapoints and triggered {triggered} times.\n",
    "        \"\"\"\n",
    "\n",
    "        paragraph = Paragraph(text=text, width=900)\n",
    "        show(column(paragraph))\n",
    "\n",
    "        if report and len(report['Details']['step_details']) > 0:\n",
    "            for node_id in report['Details']['step_details']:\n",
    "                tmp = report['RuleParameters'].split('threshold:')\n",
    "                threshold = tmp[1].split('\\n')[0]\n",
    "                n_outliers = report['Details']['step_details'][node_id]['number_of_outliers']\n",
    "                mean = report['Details']['step_details'][node_id]['step_stats']['mean']\n",
    "                stddev = report['Details']['step_details'][node_id]['stddev']\n",
    "                phase = report['Details']['step_details'][node_id]['phase']\n",
    "                display(Markdown(f\"\"\"**Step durations on node {node_id}:**\"\"\"))\n",
    "                display(Markdown(f\"\"\"The following table is a summary of the statistics of step durations measured on node {node_id}.\n",
    "                The rule has analyzed the step duration from {phase} phase.\n",
    "                The average step duration on node {node_id} was {round(mean, 2)}s. \n",
    "                The rule detected {n_outliers} outliers, where step duration was larger than {threshold} times the standard deviation of {stddev}s\n",
    "                                 \\n\"\"\"))\n",
    "                step_stats_df = pd.DataFrame.from_dict(report['Details']['step_details'][node_id]['step_stats'], orient='index').T\n",
    "                step_stats_df.index = ['Step Durations in [s]']\n",
    "                pretty_print(step_stats_df)\n",
    "\n",
    "            display(Markdown(f\"\"\"The following histogram shows the step durations measured on the different nodes. \n",
    "                You can turn on or turn off the visualization of histograms by selecting or unselecting the labels in the legend.\"\"\"))\n",
    "\n",
    "            plot = figure(plot_height=450, \n",
    "                              plot_width=850, \n",
    "                              title=f\"\"\"Step durations\"\"\")  \n",
    "\n",
    "            colors = bokeh.palettes.viridis(len(report['Details']['step_details']))\n",
    "\n",
    "            for index, node_id in enumerate(report['Details']['step_details']):\n",
    "                probs = report['Details']['step_details'][node_id]['probs']\n",
    "                binedges = report['Details']['step_details'][node_id]['binedges']\n",
    "\n",
    "                plot.quad( top=probs,\n",
    "                        bottom=0,\n",
    "                        left=binedges[:-1],\n",
    "                        right=binedges[1:],\n",
    "                        line_color=\"white\",\n",
    "                        fill_color=colors[index],\n",
    "                        fill_alpha=0.7,\n",
    "                        legend=node_id)\n",
    "\n",
    "            plot.add_layout(Legend(), 'right')    \n",
    "            plot.y_range.start = 0\n",
    "            plot.xaxis.axis_label = f\"\"\"Step durations in [s]\"\"\"\n",
    "            plot.yaxis.axis_label = \"Occurrences\"\n",
    "            plot.grid.grid_line_color = \"white\"\n",
    "            plot.legend.click_policy=\"hide\"\n",
    "            plot.legend.location = 'center_right'\n",
    "            show(plot)\n",
    "\n",
    "        if report['RuleTriggered'] > 0:\n",
    "\n",
    "            text=f\"\"\"To get a better understanding of what may have caused those outliers,\n",
    "            we correlate the timestamps of step outliers with other framework metrics that happened at the same time.\n",
    "            The left chart shows how much time was spent in the different framework\n",
    "            metrics aggregated by event phase. The chart on the right shows the histogram of normal step durations (without\n",
    "            outliers). The following chart shows how much time was spent in the different \n",
    "            framework metrics when step outliers occurred. In this chart framework metrics are not aggregated byphase.\"\"\"\n",
    "            plots = []\n",
    "            if 'phase' in report['Details']:\n",
    "                text = f\"\"\"{text} The chart (in the middle) shows whether step outliers mainly happened during TRAIN or EVAL phase.\n",
    "                \"\"\"\n",
    "\n",
    "                plot = create_piechart(report['Details']['phase'], \n",
    "                                    height=350,\n",
    "                                    width=600,\n",
    "                                    x1=0.2,\n",
    "                                    x2=0.6,\n",
    "                                    radius=0.3, \n",
    "                                    title=\"The ratio between the time spent on the TRAIN/EVAL phase\")\n",
    "                plots.append(plot)\n",
    "\n",
    "            if 'forward_backward' in report['Details'] and  len(report['Details']['forward_backward']) > 0:\n",
    "\n",
    "                event = max(report['Details']['forward_backward'], key=report['Details']['forward_backward'].get)\n",
    "                perc = report['Details']['forward_backward'][event]\n",
    "\n",
    "                text = f\"\"\"{text} The pie chart on the right shows a detailed breakdown. \n",
    "                It shows that {int(perc)}% of the training time was spent on event \"{event}\".\"\"\"\n",
    "\n",
    "                plot = create_piechart(report['Details']['forward_backward'], \n",
    "                                    height=350,\n",
    "                                    width=600,\n",
    "                                    x1=0.2,\n",
    "                                    x2=0.6,\n",
    "                                    radius=0.3, \n",
    "                                    title=\"The Ratio between forward and backward pass\") \n",
    "                plots.append(plot)\n",
    "\n",
    "            if len(plots) > 0:\n",
    "                paragraph = Paragraph(text=text, width=900)\n",
    "                show(column(paragraph, row(plots)))\n",
    "\n",
    "            plots = []\n",
    "            text = \"\"\n",
    "            if 'ratio' in report['Details'] and len(report['Details']['ratio']) > 0:\n",
    "\n",
    "                key = list(report['Details']['ratio'].keys())[0]\n",
    "                ratio = report['Details']['ratio'][key]\n",
    "\n",
    "                text = f\"\"\"The following pie chart shows a breakdown of the CPU/GPU operators executed during the step outliers. \n",
    "                    It shows that {int(ratio)}% of the training time was spent on executing operators in \"{key}\".\"\"\"\n",
    "\n",
    "                plot = create_piechart(report['Details']['ratio'], \n",
    "                                        height=350,\n",
    "                                        width=600,\n",
    "                                        x1=0.2,\n",
    "                                        x2=0.6,\n",
    "                                        radius=0.3, \n",
    "                                        title=\"The ratio between CPU/GPU operators\")\n",
    "                plots.append(plot)\n",
    "\n",
    "\n",
    "            if 'general' in report['Details'] and len(report['Details']['general']) > 0:\n",
    "\n",
    "                event = max(report['Details']['general'], key=report['Details']['general'].get)\n",
    "                perc = report['Details']['general'][event]\n",
    "\n",
    "                plot = create_piechart(report['Details']['general'], \n",
    "                                    height=350,\n",
    "                                    width=600,\n",
    "                                    x1=0.2,\n",
    "                                    x2=0.6,\n",
    "                                    radius=0.3, \n",
    "                                    title=\"General metrics recorded in framework \")\n",
    "                plots.append(plot)\n",
    "\n",
    "            if len(plots) > 0:\n",
    "                paragraph = Paragraph(text=text, width=900)\n",
    "                show(column(paragraph, row(plots)))\n",
    "\n",
    "            plots = []\n",
    "            text = \"\"\n",
    "            if 'horovod' in report['Details'] and len(report['Details']['horovod']) > 0:\n",
    "\n",
    "                event = max(report['Details']['horovod'], key=report['Details']['horovod'].get)\n",
    "                perc = report['Details']['horovod'][event]\n",
    "                text = f\"\"\"The following pie chart shows a detailed breakdown of the Horovod metrics that have been\n",
    "                recorded when step outliers happened. The most expensive function was {event} with {int(perc)}%\"\"\"\n",
    "\n",
    "                plot = create_piechart(report['Details']['horovod'], \n",
    "                                    height=350,\n",
    "                                    width=600,\n",
    "                                    x1=0.2,\n",
    "                                    x2=0.6,\n",
    "                                    radius=0.3, \n",
    "                                    title=\"General metrics recorded in framework \")\n",
    "\n",
    "                paragraph = Paragraph(text=text, width=900)\n",
    "                show(column(paragraph, row(plot)))      "
   ]
  },
  {
   "cell_type": "code",
   "execution_count": 23,
   "metadata": {
    "execution": {
     "iopub.execute_input": "2023-04-06T09:10:35.888721Z",
     "iopub.status.busy": "2023-04-06T09:10:35.888131Z",
     "iopub.status.idle": "2023-04-06T09:10:36.096790Z",
     "shell.execute_reply": "2023-04-06T09:10:36.096297Z"
    },
    "papermill": {
     "duration": 0.255306,
     "end_time": "2023-04-06T09:10:36.096905",
     "exception": false,
     "start_time": "2023-04-06T09:10:35.841599",
     "status": "completed"
    },
    "tags": [
     "hide-input"
    ]
   },
   "outputs": [
    {
     "data": {
      "text/markdown": [
       "### GPU utilization analysis\n",
       "\n"
      ],
      "text/plain": [
       "<IPython.core.display.Markdown object>"
      ]
     },
     "metadata": {},
     "output_type": "display_data"
    },
    {
     "data": {
      "text/markdown": [
       "**Usage per GPU** \n",
       "\n"
      ],
      "text/plain": [
       "<IPython.core.display.Markdown object>"
      ]
     },
     "metadata": {},
     "output_type": "display_data"
    },
    {
     "data": {
      "text/html": [
       "\n",
       "\n",
       "\n",
       "\n",
       "\n",
       "\n",
       "  <div class=\"bk-root\" id=\"43c659b4-90fd-4716-90fd-397e3f5bbaf6\" data-root-id=\"2670\"></div>\n"
      ]
     },
     "metadata": {},
     "output_type": "display_data"
    },
    {
     "data": {
      "application/javascript": [
       "(function(root) {\n",
       "  function embed_document(root) {\n",
       "    \n",
       "  var docs_json = {\"23d3c299-3b29-4795-9c86-c2620c5951e5\":{\"roots\":{\"references\":[{\"attributes\":{\"text\":\"The LowGPUUtilization rule checks for a low and fluctuating GPU usage. If the GPU usage is \\n        consistently low, it might be caused by bottlenecks or a small batch size. If usage is heavily \\n        fluctuating, it can be due to bottlenecks or blocking calls. The rule computed the 95th and 5th \\n        percentile of GPU utilization on 500 continuous datapoints and found 58 cases where \\n        p95 was above 70% and p5 was below 10%. If p95 is high and p5 is low,\\n        it might indicate that the GPU usage is highly fluctuating. If both values are very low, \\n        it would mean that the machine is underutilized. During initialization, the GPU usage is likely zero, \\n        so the rule skipped the first 1000 data points.\\n        The rule analysed 4411 datapoints and triggered 58 times.\",\"width\":800},\"id\":\"2670\",\"type\":\"Paragraph\"}],\"root_ids\":[\"2670\"]},\"title\":\"Bokeh Application\",\"version\":\"2.2.3\"}};\n",
       "  var render_items = [{\"docid\":\"23d3c299-3b29-4795-9c86-c2620c5951e5\",\"root_ids\":[\"2670\"],\"roots\":{\"2670\":\"43c659b4-90fd-4716-90fd-397e3f5bbaf6\"}}];\n",
       "  root.Bokeh.embed.embed_items_notebook(docs_json, render_items);\n",
       "\n",
       "  }\n",
       "  if (root.Bokeh !== undefined) {\n",
       "    embed_document(root);\n",
       "  } else {\n",
       "    var attempts = 0;\n",
       "    var timer = setInterval(function(root) {\n",
       "      if (root.Bokeh !== undefined) {\n",
       "        clearInterval(timer);\n",
       "        embed_document(root);\n",
       "      } else {\n",
       "        attempts++;\n",
       "        if (attempts > 100) {\n",
       "          clearInterval(timer);\n",
       "          console.log(\"Bokeh: ERROR: Unable to run BokehJS code because BokehJS library is missing\");\n",
       "        }\n",
       "      }\n",
       "    }, 10, root)\n",
       "  }\n",
       "})(window);"
      ],
      "application/vnd.bokehjs_exec.v0+json": ""
     },
     "metadata": {
      "application/vnd.bokehjs_exec.v0+json": {
       "id": "2670"
      }
     },
     "output_type": "display_data"
    },
    {
     "data": {
      "text/html": [
       "\n",
       "\n",
       "\n",
       "\n",
       "\n",
       "\n",
       "  <div class=\"bk-root\" id=\"01bdc150-8979-4632-bc15-38dd497a0297\" data-root-id=\"2777\"></div>\n"
      ]
     },
     "metadata": {},
     "output_type": "display_data"
    },
    {
     "data": {
      "application/javascript": [
       "(function(root) {\n",
       "  function embed_document(root) {\n",
       "    \n",
       "  var docs_json = {\"a26a0583-a7a7-497b-9da1-d8fe151f08b3\":{\"roots\":{\"references\":[{\"attributes\":{\"text\":\"Your training job is underutilizing the instance. You may want to consider\\n            to either switch to a smaller instance type or to increase the batch size. \\n            The last time that the LowGPUUtilization rule was triggered in your training job was on 04/06/2023 at 09:09:00.\\n            The following boxplots are a snapshot from the timestamps. \\n            They show the utilization per GPU (without outliers).\\n            To get a better understanding of the workloads throughout the whole training,\\n            you can check the workload histogram in the next section.\",\"width\":800},\"id\":\"2777\",\"type\":\"Paragraph\"}],\"root_ids\":[\"2777\"]},\"title\":\"Bokeh Application\",\"version\":\"2.2.3\"}};\n",
       "  var render_items = [{\"docid\":\"a26a0583-a7a7-497b-9da1-d8fe151f08b3\",\"root_ids\":[\"2777\"],\"roots\":{\"2777\":\"01bdc150-8979-4632-bc15-38dd497a0297\"}}];\n",
       "  root.Bokeh.embed.embed_items_notebook(docs_json, render_items);\n",
       "\n",
       "  }\n",
       "  if (root.Bokeh !== undefined) {\n",
       "    embed_document(root);\n",
       "  } else {\n",
       "    var attempts = 0;\n",
       "    var timer = setInterval(function(root) {\n",
       "      if (root.Bokeh !== undefined) {\n",
       "        clearInterval(timer);\n",
       "        embed_document(root);\n",
       "      } else {\n",
       "        attempts++;\n",
       "        if (attempts > 100) {\n",
       "          clearInterval(timer);\n",
       "          console.log(\"Bokeh: ERROR: Unable to run BokehJS code because BokehJS library is missing\");\n",
       "        }\n",
       "      }\n",
       "    }, 10, root)\n",
       "  }\n",
       "})(window);"
      ],
      "application/vnd.bokehjs_exec.v0+json": ""
     },
     "metadata": {
      "application/vnd.bokehjs_exec.v0+json": {
       "id": "2777"
      }
     },
     "output_type": "display_data"
    },
    {
     "data": {
      "text/markdown": [
       "**GPU utilization of gpu0 on node algo-1:**"
      ],
      "text/plain": [
       "<IPython.core.display.Markdown object>"
      ]
     },
     "metadata": {},
     "output_type": "display_data"
    },
    {
     "data": {
      "text/html": [
       "\n",
       "\n",
       "\n",
       "\n",
       "\n",
       "\n",
       "  <div class=\"bk-root\" id=\"6de633ed-350a-4e56-a8a6-efbec627fac7\" data-root-id=\"2942\"></div>\n"
      ]
     },
     "metadata": {},
     "output_type": "display_data"
    },
    {
     "data": {
      "application/javascript": [
       "(function(root) {\n",
       "  function embed_document(root) {\n",
       "    \n",
       "  var docs_json = {\"f3bbb540-f209-4c5b-ab67-fdeab17f6da3\":{\"roots\":{\"references\":[{\"attributes\":{\"text\":\" The max utilization of gpu0 on node algo-1 was 44.0% and the 95th percentile was only 37.0%. \\n                        gpu0 on node algo-1 is underutilized and the 5th percentile was only 0.0%\",\"width\":900},\"id\":\"2942\",\"type\":\"Paragraph\"}],\"root_ids\":[\"2942\"]},\"title\":\"Bokeh Application\",\"version\":\"2.2.3\"}};\n",
       "  var render_items = [{\"docid\":\"f3bbb540-f209-4c5b-ab67-fdeab17f6da3\",\"root_ids\":[\"2942\"],\"roots\":{\"2942\":\"6de633ed-350a-4e56-a8a6-efbec627fac7\"}}];\n",
       "  root.Bokeh.embed.embed_items_notebook(docs_json, render_items);\n",
       "\n",
       "  }\n",
       "  if (root.Bokeh !== undefined) {\n",
       "    embed_document(root);\n",
       "  } else {\n",
       "    var attempts = 0;\n",
       "    var timer = setInterval(function(root) {\n",
       "      if (root.Bokeh !== undefined) {\n",
       "        clearInterval(timer);\n",
       "        embed_document(root);\n",
       "      } else {\n",
       "        attempts++;\n",
       "        if (attempts > 100) {\n",
       "          clearInterval(timer);\n",
       "          console.log(\"Bokeh: ERROR: Unable to run BokehJS code because BokehJS library is missing\");\n",
       "        }\n",
       "      }\n",
       "    }, 10, root)\n",
       "  }\n",
       "})(window);"
      ],
      "application/vnd.bokehjs_exec.v0+json": ""
     },
     "metadata": {
      "application/vnd.bokehjs_exec.v0+json": {
       "id": "2942"
      }
     },
     "output_type": "display_data"
    },
    {
     "data": {
      "text/html": [
       "\n",
       "\n",
       "\n",
       "\n",
       "\n",
       "\n",
       "  <div class=\"bk-root\" id=\"2b925542-34f3-47cb-b89f-aeeda75adc9d\" data-root-id=\"2884\"></div>\n"
      ]
     },
     "metadata": {},
     "output_type": "display_data"
    },
    {
     "data": {
      "application/javascript": [
       "(function(root) {\n",
       "  function embed_document(root) {\n",
       "    \n",
       "  var docs_json = {\"43e36f21-8c6c-4bf3-b82c-a13a876f57c5\":{\"roots\":{\"references\":[{\"attributes\":{\"below\":[{\"id\":\"2895\"}],\"center\":[{\"id\":\"2898\"},{\"id\":\"2902\"}],\"left\":[{\"id\":\"2899\"}],\"plot_height\":350,\"plot_width\":1000,\"renderers\":[{\"id\":\"2915\"},{\"id\":\"2920\"},{\"id\":\"2925\"},{\"id\":\"2930\"},{\"id\":\"2935\"},{\"id\":\"2940\"}],\"title\":{\"id\":\"2885\"},\"toolbar\":{\"id\":\"2907\"},\"x_range\":{\"id\":\"2887\"},\"x_scale\":{\"id\":\"2891\"},\"y_range\":{\"id\":\"2889\"},\"y_scale\":{\"id\":\"2893\"}},\"id\":\"2884\",\"subtype\":\"Figure\",\"type\":\"Plot\"},{\"attributes\":{\"data\":{},\"selected\":{\"id\":\"3164\"},\"selection_policy\":{\"id\":\"3163\"}},\"id\":\"2917\",\"type\":\"ColumnDataSource\"},{\"attributes\":{\"axis_label\":\"Utilization in %\",\"formatter\":{\"id\":\"3159\"},\"ticker\":{\"id\":\"2900\"}},\"id\":\"2899\",\"type\":\"LinearAxis\"},{\"attributes\":{\"data_source\":{\"id\":\"2932\"},\"glyph\":{\"id\":\"2933\"},\"hover_glyph\":null,\"muted_glyph\":null,\"nonselection_glyph\":{\"id\":\"2934\"},\"selection_glyph\":null,\"view\":{\"id\":\"2936\"}},\"id\":\"2935\",\"type\":\"GlyphRenderer\"},{\"attributes\":{\"text\":\"Node algo-1\"},\"id\":\"2885\",\"type\":\"Title\"},{\"attributes\":{\"source\":{\"id\":\"2917\"}},\"id\":\"2921\",\"type\":\"CDSView\"},{\"attributes\":{},\"id\":\"2891\",\"type\":\"LinearScale\"},{\"attributes\":{\"bottom\":{\"value\":22.0},\"fill_color\":{\"value\":\"#FDE725\"},\"top\":{\"value\":21.0},\"width\":{\"value\":0.7},\"x\":{\"value\":1}},\"id\":\"2923\",\"type\":\"VBar\"},{\"attributes\":{},\"id\":\"2906\",\"type\":\"PanTool\"},{\"attributes\":{},\"id\":\"3165\",\"type\":\"UnionRenderers\"},{\"attributes\":{\"line_alpha\":{\"value\":0.1},\"x0\":{\"value\":1},\"x1\":{\"value\":1},\"y0\":{\"value\":34.0},\"y1\":{\"value\":22.0}},\"id\":\"2914\",\"type\":\"Segment\"},{\"attributes\":{\"source\":{\"id\":\"2932\"}},\"id\":\"2936\",\"type\":\"CDSView\"},{\"attributes\":{\"end\":17},\"id\":\"2887\",\"type\":\"Range1d\"},{\"attributes\":{\"line_alpha\":{\"value\":0.1},\"x0\":{\"value\":1},\"x1\":{\"value\":1},\"y0\":{\"value\":2.0},\"y1\":{\"value\":14.0}},\"id\":\"2919\",\"type\":\"Segment\"},{\"attributes\":{\"data_source\":{\"id\":\"2917\"},\"glyph\":{\"id\":\"2918\"},\"hover_glyph\":null,\"muted_glyph\":null,\"nonselection_glyph\":{\"id\":\"2919\"},\"selection_glyph\":null,\"view\":{\"id\":\"2921\"}},\"id\":\"2920\",\"type\":\"GlyphRenderer\"},{\"attributes\":{\"data\":{},\"selected\":{\"id\":\"3172\"},\"selection_policy\":{\"id\":\"3171\"}},\"id\":\"2937\",\"type\":\"ColumnDataSource\"},{\"attributes\":{\"ticks\":[0,1]},\"id\":\"3049\",\"type\":\"FixedTicker\"},{\"attributes\":{\"axis\":{\"id\":\"2899\"},\"dimension\":1,\"grid_line_color\":\"white\",\"grid_line_width\":0,\"ticker\":null},\"id\":\"2902\",\"type\":\"Grid\"},{\"attributes\":{\"data\":{},\"selected\":{\"id\":\"3166\"},\"selection_policy\":{\"id\":\"3165\"}},\"id\":\"2922\",\"type\":\"ColumnDataSource\"},{\"attributes\":{\"fill_color\":{\"value\":\"#1f77b4\"},\"height\":{\"units\":\"data\",\"value\":0.01},\"width\":{\"units\":\"data\",\"value\":0.2},\"x\":{\"value\":1},\"y\":{\"value\":34.0}},\"id\":\"2938\",\"type\":\"Rect\"},{\"attributes\":{\"bottom\":{\"value\":22.0},\"fill_alpha\":{\"value\":0.1},\"fill_color\":{\"value\":\"#FDE725\"},\"line_alpha\":{\"value\":0.1},\"top\":{\"value\":21.0},\"width\":{\"value\":0.7},\"x\":{\"value\":1}},\"id\":\"2924\",\"type\":\"VBar\"},{\"attributes\":{\"formatter\":{\"id\":\"3160\"},\"major_label_overrides\":{\"1\":\"gpu0\"},\"major_label_text_font_size\":\"10px\",\"ticker\":{\"id\":\"3049\"}},\"id\":\"2895\",\"type\":\"LinearAxis\"},{\"attributes\":{\"fill_alpha\":{\"value\":0.1},\"fill_color\":{\"value\":\"#1f77b4\"},\"height\":{\"units\":\"data\",\"value\":0.01},\"line_alpha\":{\"value\":0.1},\"width\":{\"units\":\"data\",\"value\":0.2},\"x\":{\"value\":1},\"y\":{\"value\":2.0}},\"id\":\"2934\",\"type\":\"Rect\"},{\"attributes\":{},\"id\":\"3172\",\"type\":\"Selection\"},{\"attributes\":{\"active_drag\":\"auto\",\"active_inspect\":\"auto\",\"active_multi\":null,\"active_scroll\":\"auto\",\"active_tap\":\"auto\",\"tools\":[{\"id\":\"2903\"},{\"id\":\"2904\"},{\"id\":\"2905\"},{\"id\":\"2906\"}]},\"id\":\"2907\",\"type\":\"Toolbar\"},{\"attributes\":{\"data_source\":{\"id\":\"2937\"},\"glyph\":{\"id\":\"2938\"},\"hover_glyph\":null,\"muted_glyph\":null,\"nonselection_glyph\":{\"id\":\"2939\"},\"selection_glyph\":null,\"view\":{\"id\":\"2941\"}},\"id\":\"2940\",\"type\":\"GlyphRenderer\"},{\"attributes\":{},\"id\":\"2889\",\"type\":\"DataRange1d\"},{\"attributes\":{\"source\":{\"id\":\"2922\"}},\"id\":\"2926\",\"type\":\"CDSView\"},{\"attributes\":{\"fill_alpha\":{\"value\":0.1},\"fill_color\":{\"value\":\"#1f77b4\"},\"height\":{\"units\":\"data\",\"value\":0.01},\"line_alpha\":{\"value\":0.1},\"width\":{\"units\":\"data\",\"value\":0.2},\"x\":{\"value\":1},\"y\":{\"value\":34.0}},\"id\":\"2939\",\"type\":\"Rect\"},{\"attributes\":{},\"id\":\"2905\",\"type\":\"ResetTool\"},{\"attributes\":{\"x0\":{\"value\":1},\"x1\":{\"value\":1},\"y0\":{\"value\":34.0},\"y1\":{\"value\":22.0}},\"id\":\"2913\",\"type\":\"Segment\"},{\"attributes\":{\"bottom\":{\"value\":21.0},\"fill_color\":{\"value\":\"#440154\"},\"top\":{\"value\":14.0},\"width\":{\"value\":0.7},\"x\":{\"value\":1}},\"id\":\"2928\",\"type\":\"VBar\"},{\"attributes\":{},\"id\":\"3169\",\"type\":\"UnionRenderers\"},{\"attributes\":{\"data_source\":{\"id\":\"2922\"},\"glyph\":{\"id\":\"2923\"},\"hover_glyph\":null,\"muted_glyph\":null,\"nonselection_glyph\":{\"id\":\"2924\"},\"selection_glyph\":null,\"view\":{\"id\":\"2926\"}},\"id\":\"2925\",\"type\":\"GlyphRenderer\"},{\"attributes\":{\"data\":{},\"selected\":{\"id\":\"3162\"},\"selection_policy\":{\"id\":\"3161\"}},\"id\":\"2912\",\"type\":\"ColumnDataSource\"},{\"attributes\":{},\"id\":\"3166\",\"type\":\"Selection\"},{\"attributes\":{},\"id\":\"3170\",\"type\":\"Selection\"},{\"attributes\":{\"axis\":{\"id\":\"2895\"},\"grid_line_color\":null,\"grid_line_width\":0,\"ticker\":null},\"id\":\"2898\",\"type\":\"Grid\"},{\"attributes\":{\"source\":{\"id\":\"2937\"}},\"id\":\"2941\",\"type\":\"CDSView\"},{\"attributes\":{},\"id\":\"3171\",\"type\":\"UnionRenderers\"},{\"attributes\":{},\"id\":\"2904\",\"type\":\"WheelZoomTool\"},{\"attributes\":{\"data\":{},\"selected\":{\"id\":\"3168\"},\"selection_policy\":{\"id\":\"3167\"}},\"id\":\"2927\",\"type\":\"ColumnDataSource\"},{\"attributes\":{\"callback\":null},\"id\":\"2903\",\"type\":\"HoverTool\"},{\"attributes\":{\"bottom\":{\"value\":21.0},\"fill_alpha\":{\"value\":0.1},\"fill_color\":{\"value\":\"#440154\"},\"line_alpha\":{\"value\":0.1},\"top\":{\"value\":14.0},\"width\":{\"value\":0.7},\"x\":{\"value\":1}},\"id\":\"2929\",\"type\":\"VBar\"},{\"attributes\":{},\"id\":\"3168\",\"type\":\"Selection\"},{\"attributes\":{},\"id\":\"3163\",\"type\":\"UnionRenderers\"},{\"attributes\":{\"source\":{\"id\":\"2912\"}},\"id\":\"2916\",\"type\":\"CDSView\"},{\"attributes\":{\"data_source\":{\"id\":\"2912\"},\"glyph\":{\"id\":\"2913\"},\"hover_glyph\":null,\"muted_glyph\":null,\"nonselection_glyph\":{\"id\":\"2914\"},\"selection_glyph\":null,\"view\":{\"id\":\"2916\"}},\"id\":\"2915\",\"type\":\"GlyphRenderer\"},{\"attributes\":{\"source\":{\"id\":\"2927\"}},\"id\":\"2931\",\"type\":\"CDSView\"},{\"attributes\":{},\"id\":\"3167\",\"type\":\"UnionRenderers\"},{\"attributes\":{},\"id\":\"2900\",\"type\":\"BasicTicker\"},{\"attributes\":{},\"id\":\"2893\",\"type\":\"LinearScale\"},{\"attributes\":{\"x0\":{\"value\":1},\"x1\":{\"value\":1},\"y0\":{\"value\":2.0},\"y1\":{\"value\":14.0}},\"id\":\"2918\",\"type\":\"Segment\"},{\"attributes\":{\"fill_color\":{\"value\":\"#1f77b4\"},\"height\":{\"units\":\"data\",\"value\":0.01},\"width\":{\"units\":\"data\",\"value\":0.2},\"x\":{\"value\":1},\"y\":{\"value\":2.0}},\"id\":\"2933\",\"type\":\"Rect\"},{\"attributes\":{\"data_source\":{\"id\":\"2927\"},\"glyph\":{\"id\":\"2928\"},\"hover_glyph\":null,\"muted_glyph\":null,\"nonselection_glyph\":{\"id\":\"2929\"},\"selection_glyph\":null,\"view\":{\"id\":\"2931\"}},\"id\":\"2930\",\"type\":\"GlyphRenderer\"},{\"attributes\":{},\"id\":\"3161\",\"type\":\"UnionRenderers\"},{\"attributes\":{},\"id\":\"3164\",\"type\":\"Selection\"},{\"attributes\":{},\"id\":\"3162\",\"type\":\"Selection\"},{\"attributes\":{},\"id\":\"3160\",\"type\":\"BasicTickFormatter\"},{\"attributes\":{},\"id\":\"3159\",\"type\":\"BasicTickFormatter\"},{\"attributes\":{\"data\":{},\"selected\":{\"id\":\"3170\"},\"selection_policy\":{\"id\":\"3169\"}},\"id\":\"2932\",\"type\":\"ColumnDataSource\"}],\"root_ids\":[\"2884\"]},\"title\":\"Bokeh Application\",\"version\":\"2.2.3\"}};\n",
       "  var render_items = [{\"docid\":\"43e36f21-8c6c-4bf3-b82c-a13a876f57c5\",\"root_ids\":[\"2884\"],\"roots\":{\"2884\":\"2b925542-34f3-47cb-b89f-aeeda75adc9d\"}}];\n",
       "  root.Bokeh.embed.embed_items_notebook(docs_json, render_items);\n",
       "\n",
       "  }\n",
       "  if (root.Bokeh !== undefined) {\n",
       "    embed_document(root);\n",
       "  } else {\n",
       "    var attempts = 0;\n",
       "    var timer = setInterval(function(root) {\n",
       "      if (root.Bokeh !== undefined) {\n",
       "        clearInterval(timer);\n",
       "        embed_document(root);\n",
       "      } else {\n",
       "        attempts++;\n",
       "        if (attempts > 100) {\n",
       "          clearInterval(timer);\n",
       "          console.log(\"Bokeh: ERROR: Unable to run BokehJS code because BokehJS library is missing\");\n",
       "        }\n",
       "      }\n",
       "    }, 10, root)\n",
       "  }\n",
       "})(window);"
      ],
      "application/vnd.bokehjs_exec.v0+json": ""
     },
     "metadata": {
      "application/vnd.bokehjs_exec.v0+json": {
       "id": "2884"
      }
     },
     "output_type": "display_data"
    },
    {
     "data": {
      "text/markdown": [
       "**GPU utilization of gpu0 on node algo-2:**"
      ],
      "text/plain": [
       "<IPython.core.display.Markdown object>"
      ]
     },
     "metadata": {},
     "output_type": "display_data"
    },
    {
     "data": {
      "text/html": [
       "\n",
       "\n",
       "\n",
       "\n",
       "\n",
       "\n",
       "  <div class=\"bk-root\" id=\"5cd5692a-c0df-47ab-bce8-7f23f91cc846\" data-root-id=\"3311\"></div>\n"
      ]
     },
     "metadata": {},
     "output_type": "display_data"
    },
    {
     "data": {
      "application/javascript": [
       "(function(root) {\n",
       "  function embed_document(root) {\n",
       "    \n",
       "  var docs_json = {\"d7baa2fd-3fc4-46b0-a24d-8f02f4650deb\":{\"roots\":{\"references\":[{\"attributes\":{\"text\":\" The max utilization of gpu0 on node algo-2 was 43.0% and the 95th percentile was only 37.0%. \\n                        gpu0 on node algo-2 is underutilized and the 5th percentile was only 0.0%\",\"width\":900},\"id\":\"3311\",\"type\":\"Paragraph\"}],\"root_ids\":[\"3311\"]},\"title\":\"Bokeh Application\",\"version\":\"2.2.3\"}};\n",
       "  var render_items = [{\"docid\":\"d7baa2fd-3fc4-46b0-a24d-8f02f4650deb\",\"root_ids\":[\"3311\"],\"roots\":{\"3311\":\"5cd5692a-c0df-47ab-bce8-7f23f91cc846\"}}];\n",
       "  root.Bokeh.embed.embed_items_notebook(docs_json, render_items);\n",
       "\n",
       "  }\n",
       "  if (root.Bokeh !== undefined) {\n",
       "    embed_document(root);\n",
       "  } else {\n",
       "    var attempts = 0;\n",
       "    var timer = setInterval(function(root) {\n",
       "      if (root.Bokeh !== undefined) {\n",
       "        clearInterval(timer);\n",
       "        embed_document(root);\n",
       "      } else {\n",
       "        attempts++;\n",
       "        if (attempts > 100) {\n",
       "          clearInterval(timer);\n",
       "          console.log(\"Bokeh: ERROR: Unable to run BokehJS code because BokehJS library is missing\");\n",
       "        }\n",
       "      }\n",
       "    }, 10, root)\n",
       "  }\n",
       "})(window);"
      ],
      "application/vnd.bokehjs_exec.v0+json": ""
     },
     "metadata": {
      "application/vnd.bokehjs_exec.v0+json": {
       "id": "3311"
      }
     },
     "output_type": "display_data"
    },
    {
     "data": {
      "text/html": [
       "\n",
       "\n",
       "\n",
       "\n",
       "\n",
       "\n",
       "  <div class=\"bk-root\" id=\"afa71256-c81f-4030-a5fb-9d8870f498a4\" data-root-id=\"3253\"></div>\n"
      ]
     },
     "metadata": {},
     "output_type": "display_data"
    },
    {
     "data": {
      "application/javascript": [
       "(function(root) {\n",
       "  function embed_document(root) {\n",
       "    \n",
       "  var docs_json = {\"67a6889b-4064-4a33-91d4-d4cb14b1b74d\":{\"roots\":{\"references\":[{\"attributes\":{\"below\":[{\"id\":\"3264\"}],\"center\":[{\"id\":\"3267\"},{\"id\":\"3271\"}],\"left\":[{\"id\":\"3268\"}],\"plot_height\":350,\"plot_width\":1000,\"renderers\":[{\"id\":\"3284\"},{\"id\":\"3289\"},{\"id\":\"3294\"},{\"id\":\"3299\"},{\"id\":\"3304\"},{\"id\":\"3309\"}],\"title\":{\"id\":\"3254\"},\"toolbar\":{\"id\":\"3276\"},\"x_range\":{\"id\":\"3256\"},\"x_scale\":{\"id\":\"3260\"},\"y_range\":{\"id\":\"3258\"},\"y_scale\":{\"id\":\"3262\"}},\"id\":\"3253\",\"subtype\":\"Figure\",\"type\":\"Plot\"},{\"attributes\":{\"data\":{},\"selected\":{\"id\":\"3565\"},\"selection_policy\":{\"id\":\"3564\"}},\"id\":\"3286\",\"type\":\"ColumnDataSource\"},{\"attributes\":{},\"id\":\"3573\",\"type\":\"Selection\"},{\"attributes\":{\"callback\":null},\"id\":\"3272\",\"type\":\"HoverTool\"},{\"attributes\":{\"line_alpha\":{\"value\":0.1},\"x0\":{\"value\":1},\"x1\":{\"value\":1},\"y0\":{\"value\":37.0},\"y1\":{\"value\":22.0}},\"id\":\"3283\",\"type\":\"Segment\"},{\"attributes\":{\"source\":{\"id\":\"3286\"}},\"id\":\"3290\",\"type\":\"CDSView\"},{\"attributes\":{\"bottom\":{\"value\":22.0},\"fill_color\":{\"value\":\"#FDE725\"},\"top\":{\"value\":21.0},\"width\":{\"value\":0.7},\"x\":{\"value\":1}},\"id\":\"3292\",\"type\":\"VBar\"},{\"attributes\":{\"end\":17},\"id\":\"3256\",\"type\":\"Range1d\"},{\"attributes\":{},\"id\":\"3273\",\"type\":\"WheelZoomTool\"},{\"attributes\":{\"axis_label\":\"Utilization in %\",\"formatter\":{\"id\":\"3560\"},\"ticker\":{\"id\":\"3269\"}},\"id\":\"3268\",\"type\":\"LinearAxis\"},{\"attributes\":{},\"id\":\"3274\",\"type\":\"ResetTool\"},{\"attributes\":{},\"id\":\"3568\",\"type\":\"UnionRenderers\"},{\"attributes\":{},\"id\":\"3275\",\"type\":\"PanTool\"},{\"attributes\":{\"line_alpha\":{\"value\":0.1},\"x0\":{\"value\":1},\"x1\":{\"value\":1},\"y0\":{\"value\":0.0},\"y1\":{\"value\":12.0}},\"id\":\"3288\",\"type\":\"Segment\"},{\"attributes\":{},\"id\":\"3571\",\"type\":\"Selection\"},{\"attributes\":{\"data_source\":{\"id\":\"3286\"},\"glyph\":{\"id\":\"3287\"},\"hover_glyph\":null,\"muted_glyph\":null,\"nonselection_glyph\":{\"id\":\"3288\"},\"selection_glyph\":null,\"view\":{\"id\":\"3290\"}},\"id\":\"3289\",\"type\":\"GlyphRenderer\"},{\"attributes\":{},\"id\":\"3560\",\"type\":\"BasicTickFormatter\"},{\"attributes\":{},\"id\":\"3564\",\"type\":\"UnionRenderers\"},{\"attributes\":{\"data\":{},\"selected\":{\"id\":\"3567\"},\"selection_policy\":{\"id\":\"3566\"}},\"id\":\"3291\",\"type\":\"ColumnDataSource\"},{\"attributes\":{},\"id\":\"3562\",\"type\":\"UnionRenderers\"},{\"attributes\":{\"axis\":{\"id\":\"3268\"},\"dimension\":1,\"grid_line_color\":\"white\",\"grid_line_width\":0,\"ticker\":null},\"id\":\"3271\",\"type\":\"Grid\"},{\"attributes\":{\"bottom\":{\"value\":22.0},\"fill_alpha\":{\"value\":0.1},\"fill_color\":{\"value\":\"#FDE725\"},\"line_alpha\":{\"value\":0.1},\"top\":{\"value\":21.0},\"width\":{\"value\":0.7},\"x\":{\"value\":1}},\"id\":\"3293\",\"type\":\"VBar\"},{\"attributes\":{\"source\":{\"id\":\"3306\"}},\"id\":\"3310\",\"type\":\"CDSView\"},{\"attributes\":{},\"id\":\"3563\",\"type\":\"Selection\"},{\"attributes\":{},\"id\":\"3572\",\"type\":\"UnionRenderers\"},{\"attributes\":{\"source\":{\"id\":\"3291\"}},\"id\":\"3295\",\"type\":\"CDSView\"},{\"attributes\":{\"fill_color\":{\"value\":\"#1f77b4\"},\"height\":{\"units\":\"data\",\"value\":0.01},\"width\":{\"units\":\"data\",\"value\":0.2},\"x\":{\"value\":1},\"y\":{\"value\":37.0}},\"id\":\"3307\",\"type\":\"Rect\"},{\"attributes\":{\"axis\":{\"id\":\"3264\"},\"grid_line_color\":null,\"grid_line_width\":0,\"ticker\":null},\"id\":\"3267\",\"type\":\"Grid\"},{\"attributes\":{},\"id\":\"3269\",\"type\":\"BasicTicker\"},{\"attributes\":{\"bottom\":{\"value\":21.0},\"fill_color\":{\"value\":\"#440154\"},\"top\":{\"value\":12.0},\"width\":{\"value\":0.7},\"x\":{\"value\":1}},\"id\":\"3297\",\"type\":\"VBar\"},{\"attributes\":{\"data\":{},\"selected\":{\"id\":\"3573\"},\"selection_policy\":{\"id\":\"3572\"}},\"id\":\"3306\",\"type\":\"ColumnDataSource\"},{\"attributes\":{\"data_source\":{\"id\":\"3291\"},\"glyph\":{\"id\":\"3292\"},\"hover_glyph\":null,\"muted_glyph\":null,\"nonselection_glyph\":{\"id\":\"3293\"},\"selection_glyph\":null,\"view\":{\"id\":\"3295\"}},\"id\":\"3294\",\"type\":\"GlyphRenderer\"},{\"attributes\":{\"formatter\":{\"id\":\"3561\"},\"major_label_overrides\":{\"1\":\"gpu0\"},\"major_label_text_font_size\":\"10px\",\"ticker\":{\"id\":\"3434\"}},\"id\":\"3264\",\"type\":\"LinearAxis\"},{\"attributes\":{},\"id\":\"3565\",\"type\":\"Selection\"},{\"attributes\":{},\"id\":\"3566\",\"type\":\"UnionRenderers\"},{\"attributes\":{},\"id\":\"3262\",\"type\":\"LinearScale\"},{\"attributes\":{\"source\":{\"id\":\"3301\"}},\"id\":\"3305\",\"type\":\"CDSView\"},{\"attributes\":{\"data\":{},\"selected\":{\"id\":\"3569\"},\"selection_policy\":{\"id\":\"3568\"}},\"id\":\"3296\",\"type\":\"ColumnDataSource\"},{\"attributes\":{},\"id\":\"3567\",\"type\":\"Selection\"},{\"attributes\":{\"bottom\":{\"value\":21.0},\"fill_alpha\":{\"value\":0.1},\"fill_color\":{\"value\":\"#440154\"},\"line_alpha\":{\"value\":0.1},\"top\":{\"value\":12.0},\"width\":{\"value\":0.7},\"x\":{\"value\":1}},\"id\":\"3298\",\"type\":\"VBar\"},{\"attributes\":{\"fill_alpha\":{\"value\":0.1},\"fill_color\":{\"value\":\"#1f77b4\"},\"height\":{\"units\":\"data\",\"value\":0.01},\"line_alpha\":{\"value\":0.1},\"width\":{\"units\":\"data\",\"value\":0.2},\"x\":{\"value\":1},\"y\":{\"value\":0.0}},\"id\":\"3303\",\"type\":\"Rect\"},{\"attributes\":{\"data_source\":{\"id\":\"3301\"},\"glyph\":{\"id\":\"3302\"},\"hover_glyph\":null,\"muted_glyph\":null,\"nonselection_glyph\":{\"id\":\"3303\"},\"selection_glyph\":null,\"view\":{\"id\":\"3305\"}},\"id\":\"3304\",\"type\":\"GlyphRenderer\"},{\"attributes\":{},\"id\":\"3258\",\"type\":\"DataRange1d\"},{\"attributes\":{},\"id\":\"3260\",\"type\":\"LinearScale\"},{\"attributes\":{\"fill_alpha\":{\"value\":0.1},\"fill_color\":{\"value\":\"#1f77b4\"},\"height\":{\"units\":\"data\",\"value\":0.01},\"line_alpha\":{\"value\":0.1},\"width\":{\"units\":\"data\",\"value\":0.2},\"x\":{\"value\":1},\"y\":{\"value\":37.0}},\"id\":\"3308\",\"type\":\"Rect\"},{\"attributes\":{\"data\":{},\"selected\":{\"id\":\"3571\"},\"selection_policy\":{\"id\":\"3570\"}},\"id\":\"3301\",\"type\":\"ColumnDataSource\"},{\"attributes\":{},\"id\":\"3561\",\"type\":\"BasicTickFormatter\"},{\"attributes\":{\"active_drag\":\"auto\",\"active_inspect\":\"auto\",\"active_multi\":null,\"active_scroll\":\"auto\",\"active_tap\":\"auto\",\"tools\":[{\"id\":\"3272\"},{\"id\":\"3273\"},{\"id\":\"3274\"},{\"id\":\"3275\"}]},\"id\":\"3276\",\"type\":\"Toolbar\"},{\"attributes\":{\"ticks\":[0,1]},\"id\":\"3434\",\"type\":\"FixedTicker\"},{\"attributes\":{\"text\":\"Node algo-2\"},\"id\":\"3254\",\"type\":\"Title\"},{\"attributes\":{\"x0\":{\"value\":1},\"x1\":{\"value\":1},\"y0\":{\"value\":37.0},\"y1\":{\"value\":22.0}},\"id\":\"3282\",\"type\":\"Segment\"},{\"attributes\":{\"source\":{\"id\":\"3281\"}},\"id\":\"3285\",\"type\":\"CDSView\"},{\"attributes\":{},\"id\":\"3569\",\"type\":\"Selection\"},{\"attributes\":{\"source\":{\"id\":\"3296\"}},\"id\":\"3300\",\"type\":\"CDSView\"},{\"attributes\":{\"data\":{},\"selected\":{\"id\":\"3563\"},\"selection_policy\":{\"id\":\"3562\"}},\"id\":\"3281\",\"type\":\"ColumnDataSource\"},{\"attributes\":{\"fill_color\":{\"value\":\"#1f77b4\"},\"height\":{\"units\":\"data\",\"value\":0.01},\"width\":{\"units\":\"data\",\"value\":0.2},\"x\":{\"value\":1},\"y\":{\"value\":0.0}},\"id\":\"3302\",\"type\":\"Rect\"},{\"attributes\":{},\"id\":\"3570\",\"type\":\"UnionRenderers\"},{\"attributes\":{\"data_source\":{\"id\":\"3281\"},\"glyph\":{\"id\":\"3282\"},\"hover_glyph\":null,\"muted_glyph\":null,\"nonselection_glyph\":{\"id\":\"3283\"},\"selection_glyph\":null,\"view\":{\"id\":\"3285\"}},\"id\":\"3284\",\"type\":\"GlyphRenderer\"},{\"attributes\":{\"data_source\":{\"id\":\"3296\"},\"glyph\":{\"id\":\"3297\"},\"hover_glyph\":null,\"muted_glyph\":null,\"nonselection_glyph\":{\"id\":\"3298\"},\"selection_glyph\":null,\"view\":{\"id\":\"3300\"}},\"id\":\"3299\",\"type\":\"GlyphRenderer\"},{\"attributes\":{\"x0\":{\"value\":1},\"x1\":{\"value\":1},\"y0\":{\"value\":0.0},\"y1\":{\"value\":12.0}},\"id\":\"3287\",\"type\":\"Segment\"},{\"attributes\":{\"data_source\":{\"id\":\"3306\"},\"glyph\":{\"id\":\"3307\"},\"hover_glyph\":null,\"muted_glyph\":null,\"nonselection_glyph\":{\"id\":\"3308\"},\"selection_glyph\":null,\"view\":{\"id\":\"3310\"}},\"id\":\"3309\",\"type\":\"GlyphRenderer\"}],\"root_ids\":[\"3253\"]},\"title\":\"Bokeh Application\",\"version\":\"2.2.3\"}};\n",
       "  var render_items = [{\"docid\":\"67a6889b-4064-4a33-91d4-d4cb14b1b74d\",\"root_ids\":[\"3253\"],\"roots\":{\"3253\":\"afa71256-c81f-4030-a5fb-9d8870f498a4\"}}];\n",
       "  root.Bokeh.embed.embed_items_notebook(docs_json, render_items);\n",
       "\n",
       "  }\n",
       "  if (root.Bokeh !== undefined) {\n",
       "    embed_document(root);\n",
       "  } else {\n",
       "    var attempts = 0;\n",
       "    var timer = setInterval(function(root) {\n",
       "      if (root.Bokeh !== undefined) {\n",
       "        clearInterval(timer);\n",
       "        embed_document(root);\n",
       "      } else {\n",
       "        attempts++;\n",
       "        if (attempts > 100) {\n",
       "          clearInterval(timer);\n",
       "          console.log(\"Bokeh: ERROR: Unable to run BokehJS code because BokehJS library is missing\");\n",
       "        }\n",
       "      }\n",
       "    }, 10, root)\n",
       "  }\n",
       "})(window);"
      ],
      "application/vnd.bokehjs_exec.v0+json": ""
     },
     "metadata": {
      "application/vnd.bokehjs_exec.v0+json": {
       "id": "3253"
      }
     },
     "output_type": "display_data"
    }
   ],
   "source": [
    "if analyse_phase == \"training\":\n",
    "    display(Markdown(\"\"\"### GPU utilization analysis\\n\\n\"\"\"))\n",
    "    display(Markdown(\"\"\"**Usage per GPU** \\n\\n\"\"\"))\n",
    "    report = load_report('LowGPUUtilization')\n",
    "    if report:\n",
    "        params = report['RuleParameters'].split('\\n')\n",
    "        threshold_p95 = params[0].split(':')[1]\n",
    "        threshold_p5 = params[1].split(':')[1]\n",
    "        window = params[2].split(':')[1]\n",
    "        patience = params[3].split(':')[1]\n",
    "        violations = report['Violations']\n",
    "        triggered = report['RuleTriggered']\n",
    "        datapoints = report['Datapoints']\n",
    "        \n",
    "        text=Paragraph(text=f\"\"\"The LowGPUUtilization rule checks for a low and fluctuating GPU usage. If the GPU usage is \n",
    "        consistently low, it might be caused by bottlenecks or a small batch size. If usage is heavily \n",
    "        fluctuating, it can be due to bottlenecks or blocking calls. The rule computed the 95th and 5th \n",
    "        percentile of GPU utilization on {window} continuous datapoints and found {violations} cases where \n",
    "        p95 was above {threshold_p95}% and p5 was below {threshold_p5}%. If p95 is high and p5 is low,\n",
    "        it might indicate that the GPU usage is highly fluctuating. If both values are very low, \n",
    "        it would mean that the machine is underutilized. During initialization, the GPU usage is likely zero, \n",
    "        so the rule skipped the first {patience} data points.\n",
    "        The rule analysed {datapoints} datapoints and triggered {triggered} times.\"\"\", width=800)\n",
    "        show(text)\n",
    "\n",
    "        \n",
    "        if len(report['Details']) > 0:\n",
    "            \n",
    "            timestamp = us_since_epoch_to_human_readable_time(report['Details']['last_timestamp'])\n",
    "            date = datetime.datetime.strptime(timestamp, '%Y-%m-%dT%H:%M:%S:%f')\n",
    "            day = date.date().strftime(\"%m/%d/%Y\")\n",
    "            hour = date.time().strftime(\"%H:%M:%S\")\n",
    "            text = Paragraph(text=f\"\"\"Your training job is underutilizing the instance. You may want to consider\n",
    "            to either switch to a smaller instance type or to increase the batch size. \n",
    "            The last time that the LowGPUUtilization rule was triggered in your training job was on {day} at {hour}.\n",
    "            The following boxplots are a snapshot from the timestamps. \n",
    "            They show the utilization per GPU (without outliers).\n",
    "            To get a better understanding of the workloads throughout the whole training,\n",
    "            you can check the workload histogram in the next section.\"\"\", width=800)\n",
    "            show(text)\n",
    "            \n",
    "            del report['Details']['last_timestamp']\n",
    "            \n",
    "            for node_id in report['Details']:\n",
    "                \n",
    "                plot = figure(plot_height=350, \n",
    "                          plot_width=1000,\n",
    "                          toolbar_location='right',\n",
    "                          tools=\"hover,wheel_zoom,reset,pan\", \n",
    "                          title=f\"Node {node_id}\",\n",
    "                          x_range=(0,17),\n",
    "                          )\n",
    "                \n",
    "                for index, key in enumerate(report['Details'][node_id]):\n",
    "                    display(Markdown(f\"\"\"**GPU utilization of {key} on node {node_id}:**\"\"\"))\n",
    "                    text = \"\"\n",
    "                    gpu_max = report['Details'][node_id][key]['gpu_max']\n",
    "                    p_95 = report['Details'][node_id][key]['gpu_95']\n",
    "                    p_5 = report['Details'][node_id][key]['gpu_5']\n",
    "                    text = f\"\"\"{text} The max utilization of {key} on node {node_id} was {gpu_max}%\"\"\"\n",
    "                    if p_95 < int(threshold_p95): \n",
    "                        text = f\"\"\"{text} and the 95th percentile was only {p_95}%. \n",
    "                        {key} on node {node_id} is underutilized\"\"\"\n",
    "                    if p_5 < int(threshold_p5): \n",
    "                        text = f\"\"\"{text} and the 5th percentile was only {p_5}%\"\"\"\n",
    "                    if p_95 - p_5 > 50:\n",
    "                        text = f\"\"\"{text} The difference between 5th percentile {p_5}% and 95th percentile {p_95}% is quite \n",
    "                        significant, which means that utilization on {key} is fluctuating quite a lot.\\n\"\"\"\n",
    "     \n",
    "                    upper = report['Details'][node_id][key]['upper']\n",
    "                    lower = report['Details'][node_id][key]['lower']\n",
    "                    p75 = report['Details'][node_id][key]['p75']\n",
    "                    p25 = report['Details'][node_id][key]['p25']\n",
    "                    p50 = report['Details'][node_id][key]['p50']\n",
    "\n",
    "                    plot.segment(index+1, upper, index+1, p75, line_color=\"black\")\n",
    "                    plot.segment(index+1, lower, index+1, p25, line_color=\"black\")\n",
    "\n",
    "                    plot.vbar(index+1, 0.7, p50, p75, fill_color=\"#FDE725\", line_color=\"black\")\n",
    "                    plot.vbar(index+1, 0.7, p25, p50, fill_color=\"#440154\", line_color=\"black\")\n",
    "\n",
    "                    plot.rect(index+1, lower, 0.2, 0.01, line_color=\"black\")\n",
    "                    plot.rect(index+1, upper, 0.2, 0.01, line_color=\"black\")\n",
    "\n",
    "                    plot.xaxis.major_label_overrides[index+1] = key\n",
    "                    plot.xgrid.grid_line_color = None\n",
    "                    plot.ygrid.grid_line_color = \"white\"\n",
    "                    plot.grid.grid_line_width = 0\n",
    "\n",
    "                    plot.xaxis.major_label_text_font_size=\"10px\"\n",
    "                    text=Paragraph(text=f\"\"\"{text}\"\"\", width=900)\n",
    "                    show(text)\n",
    "                plot.yaxis.axis_label = \"Utilization in %\"\n",
    "                plot.xaxis.ticker = np.arange(index+2)\n",
    "                \n",
    "                show(plot)"
   ]
  },
  {
   "cell_type": "code",
   "execution_count": 24,
   "metadata": {
    "execution": {
     "iopub.execute_input": "2023-04-06T09:10:36.178902Z",
     "iopub.status.busy": "2023-04-06T09:10:36.178396Z",
     "iopub.status.idle": "2023-04-06T09:10:36.312506Z",
     "shell.execute_reply": "2023-04-06T09:10:36.312085Z"
    },
    "papermill": {
     "duration": 0.180854,
     "end_time": "2023-04-06T09:10:36.312620",
     "exception": false,
     "start_time": "2023-04-06T09:10:36.131766",
     "status": "completed"
    },
    "tags": [
     "hide-input"
    ]
   },
   "outputs": [
    {
     "data": {
      "text/markdown": [
       "**Workload balancing**\n",
       "\n"
      ],
      "text/plain": [
       "<IPython.core.display.Markdown object>"
      ]
     },
     "metadata": {},
     "output_type": "display_data"
    },
    {
     "data": {
      "text/html": [
       "\n",
       "\n",
       "\n",
       "\n",
       "\n",
       "\n",
       "  <div class=\"bk-root\" id=\"2d542213-062f-4170-b3bb-8d7bf06beb78\" data-root-id=\"3654\"></div>\n"
      ]
     },
     "metadata": {},
     "output_type": "display_data"
    },
    {
     "data": {
      "application/javascript": [
       "(function(root) {\n",
       "  function embed_document(root) {\n",
       "    \n",
       "  var docs_json = {\"5812167a-1f70-4420-8a33-8cac3a1e831c\":{\"roots\":{\"references\":[{\"attributes\":{\"text\":\"The LoadBalancing rule helps to detect issues in workload balancing \\n        between multiple GPUs. \\n        It computes a histogram of GPU utilization values for each GPU and compares then the \\n        similarity between histograms. The rule checked if the distance of histograms is larger than the \\n        threshold of 0.2.\\n        During initialization utilization is likely zero, so the rule skipped the first 1000 data points.\\n        \",\"width\":900},\"id\":\"3654\",\"type\":\"Paragraph\"}],\"root_ids\":[\"3654\"]},\"title\":\"Bokeh Application\",\"version\":\"2.2.3\"}};\n",
       "  var render_items = [{\"docid\":\"5812167a-1f70-4420-8a33-8cac3a1e831c\",\"root_ids\":[\"3654\"],\"roots\":{\"3654\":\"2d542213-062f-4170-b3bb-8d7bf06beb78\"}}];\n",
       "  root.Bokeh.embed.embed_items_notebook(docs_json, render_items);\n",
       "\n",
       "  }\n",
       "  if (root.Bokeh !== undefined) {\n",
       "    embed_document(root);\n",
       "  } else {\n",
       "    var attempts = 0;\n",
       "    var timer = setInterval(function(root) {\n",
       "      if (root.Bokeh !== undefined) {\n",
       "        clearInterval(timer);\n",
       "        embed_document(root);\n",
       "      } else {\n",
       "        attempts++;\n",
       "        if (attempts > 100) {\n",
       "          clearInterval(timer);\n",
       "          console.log(\"Bokeh: ERROR: Unable to run BokehJS code because BokehJS library is missing\");\n",
       "        }\n",
       "      }\n",
       "    }, 10, root)\n",
       "  }\n",
       "})(window);"
      ],
      "application/vnd.bokehjs_exec.v0+json": ""
     },
     "metadata": {
      "application/vnd.bokehjs_exec.v0+json": {
       "id": "3654"
      }
     },
     "output_type": "display_data"
    },
    {
     "data": {
      "text/html": [
       "\n",
       "\n",
       "\n",
       "\n",
       "\n",
       "\n",
       "  <div class=\"bk-root\" id=\"1b1ec699-8764-42e2-bf21-99a1095594c6\" data-root-id=\"3842\"></div>\n"
      ]
     },
     "metadata": {},
     "output_type": "display_data"
    },
    {
     "data": {
      "application/javascript": [
       "(function(root) {\n",
       "  function embed_document(root) {\n",
       "    \n",
       "  var docs_json = {\"3a2fcd3e-c316-4b3c-ac13-15df045badb7\":{\"roots\":{\"references\":[{\"attributes\":{\"children\":[{\"id\":\"3841\"},{\"id\":\"3793\"}]},\"id\":\"3842\",\"type\":\"Column\"},{\"attributes\":{\"bottom\":{\"value\":0},\"fill_alpha\":{\"value\":0.1},\"fill_color\":{\"value\":\"#440154\"},\"left\":{\"field\":\"left\"},\"line_alpha\":{\"value\":0.1},\"line_color\":{\"value\":\"white\"},\"right\":{\"field\":\"right\"},\"top\":{\"field\":\"top\"}},\"id\":\"3828\",\"type\":\"Quad\"},{\"attributes\":{},\"id\":\"3817\",\"type\":\"HelpTool\"},{\"attributes\":{},\"id\":\"3838\",\"type\":\"Selection\"},{\"attributes\":{},\"id\":\"3802\",\"type\":\"LinearScale\"},{\"attributes\":{},\"id\":\"3800\",\"type\":\"LinearScale\"},{\"attributes\":{},\"id\":\"3809\",\"type\":\"BasicTicker\"},{\"attributes\":{\"axis\":{\"id\":\"3808\"},\"dimension\":1,\"grid_line_color\":\"white\",\"ticker\":null},\"id\":\"3811\",\"type\":\"Grid\"},{\"attributes\":{\"axis\":{\"id\":\"3804\"},\"grid_line_color\":\"white\",\"ticker\":null},\"id\":\"3807\",\"type\":\"Grid\"},{\"attributes\":{\"bottom\":{\"value\":0},\"fill_alpha\":{\"value\":0.8},\"fill_color\":{\"value\":\"#440154\"},\"left\":{\"field\":\"left\"},\"line_color\":{\"value\":\"white\"},\"right\":{\"field\":\"right\"},\"top\":{\"field\":\"top\"}},\"id\":\"3827\",\"type\":\"Quad\"},{\"attributes\":{\"text\":\"Workloads on node algo-1\"},\"id\":\"3794\",\"type\":\"Title\"},{\"attributes\":{\"axis_label\":\"Occurrences\",\"formatter\":{\"id\":\"3833\"},\"ticker\":{\"id\":\"3809\"}},\"id\":\"3808\",\"type\":\"LinearAxis\"},{\"attributes\":{\"label\":{\"value\":\"gpu0\"},\"renderers\":[{\"id\":\"3829\"}]},\"id\":\"3840\",\"type\":\"LegendItem\"},{\"attributes\":{\"click_policy\":\"hide\",\"items\":[{\"id\":\"3840\"}]},\"id\":\"3839\",\"type\":\"Legend\"},{\"attributes\":{\"bottom_units\":\"screen\",\"fill_alpha\":0.5,\"fill_color\":\"lightgrey\",\"left_units\":\"screen\",\"level\":\"overlay\",\"line_alpha\":1.0,\"line_color\":\"black\",\"line_dash\":[4,4],\"line_width\":2,\"right_units\":\"screen\",\"top_units\":\"screen\"},\"id\":\"3818\",\"type\":\"BoxAnnotation\"},{\"attributes\":{\"text\":\"The following histogram shows the workload per GPU on node algo-1. \\n                You can enable/disable the visualization of a workload by clicking on the label in the legend.\\n                \"},\"id\":\"3841\",\"type\":\"Paragraph\"},{\"attributes\":{\"below\":[{\"id\":\"3804\"}],\"center\":[{\"id\":\"3807\"},{\"id\":\"3811\"},{\"id\":\"3839\"}],\"left\":[{\"id\":\"3808\"}],\"plot_height\":450,\"plot_width\":850,\"renderers\":[{\"id\":\"3829\"}],\"title\":{\"id\":\"3794\"},\"toolbar\":{\"id\":\"3819\"},\"x_range\":{\"id\":\"3796\"},\"x_scale\":{\"id\":\"3800\"},\"y_range\":{\"id\":\"3798\"},\"y_scale\":{\"id\":\"3802\"}},\"id\":\"3793\",\"subtype\":\"Figure\",\"type\":\"Plot\"},{\"attributes\":{\"active_drag\":\"auto\",\"active_inspect\":\"auto\",\"active_multi\":null,\"active_scroll\":\"auto\",\"active_tap\":\"auto\",\"tools\":[{\"id\":\"3812\"},{\"id\":\"3813\"},{\"id\":\"3814\"},{\"id\":\"3815\"},{\"id\":\"3816\"},{\"id\":\"3817\"}]},\"id\":\"3819\",\"type\":\"Toolbar\"},{\"attributes\":{\"data\":{\"left\":[0,2,4,6,8,10,12,14,16,18,20,22,24,26,28,30,32,34,36,38,40,42,44,46,48,50,52,54,56,58,60,62,64,66,68,70,72,74,76,78,80,82,84,86,88,90,92,94,96],\"right\":[2,4,6,8,10,12,14,16,18,20,22,24,26,28,30,32,34,36,38,40,42,44,46,48,50,52,54,56,58,60,62,64,66,68,70,72,74,76,78,80,82,84,86,88,90,92,94,96,98],\"top\":[799,44,40,56,57,47,57,61,78,73,1476,777,112,100,101,78,89,87,85,61,51,79,1,0,0,0,0,0,0,0,0,0,0,0,0,0,0,0,0,0,0,0,0,0,0,0,0,0,0]},\"selected\":{\"id\":\"3838\"},\"selection_policy\":{\"id\":\"3837\"}},\"id\":\"3826\",\"type\":\"ColumnDataSource\"},{\"attributes\":{},\"id\":\"3812\",\"type\":\"PanTool\"},{\"attributes\":{},\"id\":\"3835\",\"type\":\"BasicTickFormatter\"},{\"attributes\":{\"data_source\":{\"id\":\"3826\"},\"glyph\":{\"id\":\"3827\"},\"hover_glyph\":null,\"muted_glyph\":null,\"nonselection_glyph\":{\"id\":\"3828\"},\"selection_glyph\":null,\"view\":{\"id\":\"3830\"}},\"id\":\"3829\",\"type\":\"GlyphRenderer\"},{\"attributes\":{\"start\":0},\"id\":\"3798\",\"type\":\"DataRange1d\"},{\"attributes\":{},\"id\":\"3813\",\"type\":\"WheelZoomTool\"},{\"attributes\":{\"source\":{\"id\":\"3826\"}},\"id\":\"3830\",\"type\":\"CDSView\"},{\"attributes\":{\"overlay\":{\"id\":\"3818\"}},\"id\":\"3814\",\"type\":\"BoxZoomTool\"},{\"attributes\":{\"end\":100,\"start\":-1},\"id\":\"3796\",\"type\":\"Range1d\"},{\"attributes\":{},\"id\":\"3833\",\"type\":\"BasicTickFormatter\"},{\"attributes\":{},\"id\":\"3837\",\"type\":\"UnionRenderers\"},{\"attributes\":{\"axis_label\":\"Utilization\",\"formatter\":{\"id\":\"3835\"},\"ticker\":{\"id\":\"3805\"}},\"id\":\"3804\",\"type\":\"LinearAxis\"},{\"attributes\":{},\"id\":\"3815\",\"type\":\"SaveTool\"},{\"attributes\":{},\"id\":\"3805\",\"type\":\"BasicTicker\"},{\"attributes\":{},\"id\":\"3816\",\"type\":\"ResetTool\"}],\"root_ids\":[\"3842\"]},\"title\":\"Bokeh Application\",\"version\":\"2.2.3\"}};\n",
       "  var render_items = [{\"docid\":\"3a2fcd3e-c316-4b3c-ac13-15df045badb7\",\"root_ids\":[\"3842\"],\"roots\":{\"3842\":\"1b1ec699-8764-42e2-bf21-99a1095594c6\"}}];\n",
       "  root.Bokeh.embed.embed_items_notebook(docs_json, render_items);\n",
       "\n",
       "  }\n",
       "  if (root.Bokeh !== undefined) {\n",
       "    embed_document(root);\n",
       "  } else {\n",
       "    var attempts = 0;\n",
       "    var timer = setInterval(function(root) {\n",
       "      if (root.Bokeh !== undefined) {\n",
       "        clearInterval(timer);\n",
       "        embed_document(root);\n",
       "      } else {\n",
       "        attempts++;\n",
       "        if (attempts > 100) {\n",
       "          clearInterval(timer);\n",
       "          console.log(\"Bokeh: ERROR: Unable to run BokehJS code because BokehJS library is missing\");\n",
       "        }\n",
       "      }\n",
       "    }, 10, root)\n",
       "  }\n",
       "})(window);"
      ],
      "application/vnd.bokehjs_exec.v0+json": ""
     },
     "metadata": {
      "application/vnd.bokehjs_exec.v0+json": {
       "id": "3842"
      }
     },
     "output_type": "display_data"
    },
    {
     "data": {
      "text/html": [
       "\n",
       "\n",
       "\n",
       "\n",
       "\n",
       "\n",
       "  <div class=\"bk-root\" id=\"10be22b6-4363-437c-b847-ae2ea743a236\" data-root-id=\"4078\"></div>\n"
      ]
     },
     "metadata": {},
     "output_type": "display_data"
    },
    {
     "data": {
      "application/javascript": [
       "(function(root) {\n",
       "  function embed_document(root) {\n",
       "    \n",
       "  var docs_json = {\"325469c5-5419-42a1-8701-fe4038992b00\":{\"roots\":{\"references\":[{\"attributes\":{\"children\":[{\"id\":\"4077\"},{\"id\":\"4029\"}]},\"id\":\"4078\",\"type\":\"Column\"},{\"attributes\":{},\"id\":\"4069\",\"type\":\"BasicTickFormatter\"},{\"attributes\":{\"bottom\":{\"value\":0},\"fill_alpha\":{\"value\":0.8},\"fill_color\":{\"value\":\"#440154\"},\"left\":{\"field\":\"left\"},\"line_color\":{\"value\":\"white\"},\"right\":{\"field\":\"right\"},\"top\":{\"field\":\"top\"}},\"id\":\"4063\",\"type\":\"Quad\"},{\"attributes\":{\"start\":0},\"id\":\"4034\",\"type\":\"DataRange1d\"},{\"attributes\":{},\"id\":\"4071\",\"type\":\"BasicTickFormatter\"},{\"attributes\":{},\"id\":\"4036\",\"type\":\"LinearScale\"},{\"attributes\":{\"active_drag\":\"auto\",\"active_inspect\":\"auto\",\"active_multi\":null,\"active_scroll\":\"auto\",\"active_tap\":\"auto\",\"tools\":[{\"id\":\"4048\"},{\"id\":\"4049\"},{\"id\":\"4050\"},{\"id\":\"4051\"},{\"id\":\"4052\"},{\"id\":\"4053\"}]},\"id\":\"4055\",\"type\":\"Toolbar\"},{\"attributes\":{},\"id\":\"4048\",\"type\":\"PanTool\"},{\"attributes\":{},\"id\":\"4073\",\"type\":\"UnionRenderers\"},{\"attributes\":{\"below\":[{\"id\":\"4040\"}],\"center\":[{\"id\":\"4043\"},{\"id\":\"4047\"},{\"id\":\"4075\"}],\"left\":[{\"id\":\"4044\"}],\"plot_height\":450,\"plot_width\":850,\"renderers\":[{\"id\":\"4065\"}],\"title\":{\"id\":\"4030\"},\"toolbar\":{\"id\":\"4055\"},\"x_range\":{\"id\":\"4032\"},\"x_scale\":{\"id\":\"4036\"},\"y_range\":{\"id\":\"4034\"},\"y_scale\":{\"id\":\"4038\"}},\"id\":\"4029\",\"subtype\":\"Figure\",\"type\":\"Plot\"},{\"attributes\":{\"overlay\":{\"id\":\"4054\"}},\"id\":\"4050\",\"type\":\"BoxZoomTool\"},{\"attributes\":{},\"id\":\"4074\",\"type\":\"Selection\"},{\"attributes\":{\"label\":{\"value\":\"gpu0\"},\"renderers\":[{\"id\":\"4065\"}]},\"id\":\"4076\",\"type\":\"LegendItem\"},{\"attributes\":{},\"id\":\"4053\",\"type\":\"HelpTool\"},{\"attributes\":{\"data_source\":{\"id\":\"4062\"},\"glyph\":{\"id\":\"4063\"},\"hover_glyph\":null,\"muted_glyph\":null,\"nonselection_glyph\":{\"id\":\"4064\"},\"selection_glyph\":null,\"view\":{\"id\":\"4066\"}},\"id\":\"4065\",\"type\":\"GlyphRenderer\"},{\"attributes\":{\"end\":100,\"start\":-1},\"id\":\"4032\",\"type\":\"Range1d\"},{\"attributes\":{},\"id\":\"4049\",\"type\":\"WheelZoomTool\"},{\"attributes\":{\"text\":\"The following histogram shows the workload per GPU on node algo-2. \\n                You can enable/disable the visualization of a workload by clicking on the label in the legend.\\n                \"},\"id\":\"4077\",\"type\":\"Paragraph\"},{\"attributes\":{},\"id\":\"4052\",\"type\":\"ResetTool\"},{\"attributes\":{\"click_policy\":\"hide\",\"items\":[{\"id\":\"4076\"}]},\"id\":\"4075\",\"type\":\"Legend\"},{\"attributes\":{},\"id\":\"4051\",\"type\":\"SaveTool\"},{\"attributes\":{\"axis\":{\"id\":\"4040\"},\"grid_line_color\":\"white\",\"ticker\":null},\"id\":\"4043\",\"type\":\"Grid\"},{\"attributes\":{\"bottom\":{\"value\":0},\"fill_alpha\":{\"value\":0.1},\"fill_color\":{\"value\":\"#440154\"},\"left\":{\"field\":\"left\"},\"line_alpha\":{\"value\":0.1},\"line_color\":{\"value\":\"white\"},\"right\":{\"field\":\"right\"},\"top\":{\"field\":\"top\"}},\"id\":\"4064\",\"type\":\"Quad\"},{\"attributes\":{\"data\":{\"left\":[0,2,4,6,8,10,12,14,16,18,20,22,24,26,28,30,32,34,36,38,40,42,44,46,48,50,52,54,56,58,60,62,64,66,68,70,72,74,76,78,80,82,84,86,88,90,92,94,96],\"right\":[2,4,6,8,10,12,14,16,18,20,22,24,26,28,30,32,34,36,38,40,42,44,46,48,50,52,54,56,58,60,62,64,66,68,70,72,74,76,78,80,82,84,86,88,90,92,94,96,98],\"top\":[818,40,46,59,64,57,56,44,53,62,1862,397,118,119,109,93,88,74,73,69,42,68,0,0,0,0,0,0,0,0,0,0,0,0,0,0,0,0,0,0,0,0,0,0,0,0,0,0,0]},\"selected\":{\"id\":\"4074\"},\"selection_policy\":{\"id\":\"4073\"}},\"id\":\"4062\",\"type\":\"ColumnDataSource\"},{\"attributes\":{\"text\":\"Workloads on node algo-2\"},\"id\":\"4030\",\"type\":\"Title\"},{\"attributes\":{\"source\":{\"id\":\"4062\"}},\"id\":\"4066\",\"type\":\"CDSView\"},{\"attributes\":{\"axis_label\":\"Occurrences\",\"formatter\":{\"id\":\"4069\"},\"ticker\":{\"id\":\"4045\"}},\"id\":\"4044\",\"type\":\"LinearAxis\"},{\"attributes\":{\"axis\":{\"id\":\"4044\"},\"dimension\":1,\"grid_line_color\":\"white\",\"ticker\":null},\"id\":\"4047\",\"type\":\"Grid\"},{\"attributes\":{},\"id\":\"4045\",\"type\":\"BasicTicker\"},{\"attributes\":{},\"id\":\"4041\",\"type\":\"BasicTicker\"},{\"attributes\":{\"bottom_units\":\"screen\",\"fill_alpha\":0.5,\"fill_color\":\"lightgrey\",\"left_units\":\"screen\",\"level\":\"overlay\",\"line_alpha\":1.0,\"line_color\":\"black\",\"line_dash\":[4,4],\"line_width\":2,\"right_units\":\"screen\",\"top_units\":\"screen\"},\"id\":\"4054\",\"type\":\"BoxAnnotation\"},{\"attributes\":{\"axis_label\":\"Utilization\",\"formatter\":{\"id\":\"4071\"},\"ticker\":{\"id\":\"4041\"}},\"id\":\"4040\",\"type\":\"LinearAxis\"},{\"attributes\":{},\"id\":\"4038\",\"type\":\"LinearScale\"}],\"root_ids\":[\"4078\"]},\"title\":\"Bokeh Application\",\"version\":\"2.2.3\"}};\n",
       "  var render_items = [{\"docid\":\"325469c5-5419-42a1-8701-fe4038992b00\",\"root_ids\":[\"4078\"],\"roots\":{\"4078\":\"10be22b6-4363-437c-b847-ae2ea743a236\"}}];\n",
       "  root.Bokeh.embed.embed_items_notebook(docs_json, render_items);\n",
       "\n",
       "  }\n",
       "  if (root.Bokeh !== undefined) {\n",
       "    embed_document(root);\n",
       "  } else {\n",
       "    var attempts = 0;\n",
       "    var timer = setInterval(function(root) {\n",
       "      if (root.Bokeh !== undefined) {\n",
       "        clearInterval(timer);\n",
       "        embed_document(root);\n",
       "      } else {\n",
       "        attempts++;\n",
       "        if (attempts > 100) {\n",
       "          clearInterval(timer);\n",
       "          console.log(\"Bokeh: ERROR: Unable to run BokehJS code because BokehJS library is missing\");\n",
       "        }\n",
       "      }\n",
       "    }, 10, root)\n",
       "  }\n",
       "})(window);"
      ],
      "application/vnd.bokehjs_exec.v0+json": ""
     },
     "metadata": {
      "application/vnd.bokehjs_exec.v0+json": {
       "id": "4078"
      }
     },
     "output_type": "display_data"
    }
   ],
   "source": [
    " \n",
    "if analyse_phase == \"training\": \n",
    "    display(Markdown(\"\"\"**Workload balancing**\\n\\n\"\"\")) \n",
    "    report = load_report('LoadBalancing')\n",
    "    if report:\n",
    "        params = report['RuleParameters'].split('\\n')\n",
    "        threshold = params[0].split(':')[1]\n",
    "        patience = params[1].split(':')[1]\n",
    "        triggered = report['RuleTriggered']\n",
    "        datapoints = report['Datapoints']\n",
    "    \n",
    "        paragraph = Paragraph(text=f\"\"\"The LoadBalancing rule helps to detect issues in workload balancing \n",
    "        between multiple GPUs. \n",
    "        It computes a histogram of GPU utilization values for each GPU and compares then the \n",
    "        similarity between histograms. The rule checked if the distance of histograms is larger than the \n",
    "        threshold of {threshold}.\n",
    "        During initialization utilization is likely zero, so the rule skipped the first {patience} data points.\n",
    "        \"\"\", width=900)\n",
    "        show(paragraph)\n",
    "        \n",
    "        if len(report['Details']) > 0:\n",
    "            for node_id in report['Details']: \n",
    "                \n",
    "                \n",
    "                text = f\"\"\"The following histogram shows the workload per GPU on node {node_id}. \n",
    "                You can enable/disable the visualization of a workload by clicking on the label in the legend.\n",
    "                \"\"\"\n",
    "                if len(report['Details']) == 1 and len(report['Details'][node_id]['workloads']) == 1:\n",
    "                    text = f\"\"\"{text} Your training job only used one GPU so there is no workload balancing issue.\"\"\"\n",
    "                \n",
    "                plot = figure(plot_height=450, \n",
    "                              plot_width=850, \n",
    "                              x_range=(-1,100),\n",
    "                              title=f\"\"\"Workloads on node {node_id}\"\"\")\n",
    "                \n",
    "                colors = bokeh.palettes.viridis(len(report['Details'][node_id]['workloads']))\n",
    "                \n",
    "                for index, gpu_id2 in enumerate(report['Details'][node_id]['workloads']):\n",
    "                    probs = report['Details'][node_id]['workloads'][gpu_id2]\n",
    "                    plot.quad( top=probs,\n",
    "                                bottom=0,\n",
    "                                left=np.arange(0,98,2),\n",
    "                                right=np.arange(2,100,2),\n",
    "                                line_color=\"white\",\n",
    "                                fill_color=colors[index],\n",
    "                                fill_alpha=0.8,\n",
    "                                legend=gpu_id2 )\n",
    "\n",
    "                    plot.y_range.start = 0\n",
    "                    plot.xaxis.axis_label = f\"\"\"Utilization\"\"\"\n",
    "                    plot.yaxis.axis_label = \"Occurrences\"\n",
    "                    plot.grid.grid_line_color = \"white\"\n",
    "                    plot.legend.click_policy=\"hide\"\n",
    "                \n",
    "                paragraph = Paragraph(text=text)\n",
    "                show(column(paragraph, plot))\n",
    "                \n",
    "                if \"distances\" in report['Details'][node_id]:\n",
    "                    text = f\"\"\"The rule identified workload balancing issues on node {node_id} \n",
    "                    where workloads differed by more than threshold {threshold}. \n",
    "                    \"\"\"\n",
    "                    for index, gpu_id2 in enumerate(report['Details'][node_id]['distances']):\n",
    "                        for gpu_id1 in report['Details'][node_id]['distances'][gpu_id2]:\n",
    "                            distance = round(report['Details'][node_id]['distances'][gpu_id2][gpu_id1], 2)\n",
    "                            text = f\"\"\"{text} The difference of workload between {gpu_id2} and {gpu_id1} is: {distance}.\"\"\"\n",
    "\n",
    "                    paragraph = Paragraph(text=f\"\"\"{text}\"\"\", width=900)\n",
    "                    show(column(paragraph))"
   ]
  },
  {
   "cell_type": "code",
   "execution_count": 25,
   "metadata": {
    "execution": {
     "iopub.execute_input": "2023-04-06T09:10:36.398743Z",
     "iopub.status.busy": "2023-04-06T09:10:36.388192Z",
     "iopub.status.idle": "2023-04-06T09:10:36.520452Z",
     "shell.execute_reply": "2023-04-06T09:10:36.519963Z"
    },
    "papermill": {
     "duration": 0.171086,
     "end_time": "2023-04-06T09:10:36.520571",
     "exception": false,
     "start_time": "2023-04-06T09:10:36.349485",
     "status": "completed"
    },
    "scrolled": true,
    "tags": [
     "hide-input"
    ]
   },
   "outputs": [
    {
     "data": {
      "text/markdown": [
       "### Dataloading analysis\n",
       "\n"
      ],
      "text/plain": [
       "<IPython.core.display.Markdown object>"
      ]
     },
     "metadata": {},
     "output_type": "display_data"
    },
    {
     "data": {
      "text/html": [
       "\n",
       "\n",
       "\n",
       "\n",
       "\n",
       "\n",
       "  <div class=\"bk-root\" id=\"5fe78a24-a23e-4fe2-b77e-f471b2c2885b\" data-root-id=\"4273\"></div>\n"
      ]
     },
     "metadata": {},
     "output_type": "display_data"
    },
    {
     "data": {
      "application/javascript": [
       "(function(root) {\n",
       "  function embed_document(root) {\n",
       "    \n",
       "  var docs_json = {\"f7fd3579-15ab-4f3f-b125-4e0639ec04b3\":{\"roots\":{\"references\":[{\"attributes\":{\"text\":\"The number of dataloader workers can greatly affect the overall performance \\n        of your training job. The rule analyzed the number of dataloading processes that have been running in \\n        parallel on the training instance and compares it against the total number of cores. \\n        The rule checked if the number of processes is smaller than 70% or larger than \\n        200% the total number of cores. Having too few dataloader workers can slowdown data preprocessing and lead to GPU \\n        underutilization. Having too many dataloader workers may hurt the\\n        overall performance if you are running other compute intensive tasks on the CPU.\\n        The rule analysed 2 datapoints and triggered 0 times.\",\"width\":900},\"id\":\"4273\",\"type\":\"Paragraph\"}],\"root_ids\":[\"4273\"]},\"title\":\"Bokeh Application\",\"version\":\"2.2.3\"}};\n",
       "  var render_items = [{\"docid\":\"f7fd3579-15ab-4f3f-b125-4e0639ec04b3\",\"root_ids\":[\"4273\"],\"roots\":{\"4273\":\"5fe78a24-a23e-4fe2-b77e-f471b2c2885b\"}}];\n",
       "  root.Bokeh.embed.embed_items_notebook(docs_json, render_items);\n",
       "\n",
       "  }\n",
       "  if (root.Bokeh !== undefined) {\n",
       "    embed_document(root);\n",
       "  } else {\n",
       "    var attempts = 0;\n",
       "    var timer = setInterval(function(root) {\n",
       "      if (root.Bokeh !== undefined) {\n",
       "        clearInterval(timer);\n",
       "        embed_document(root);\n",
       "      } else {\n",
       "        attempts++;\n",
       "        if (attempts > 100) {\n",
       "          clearInterval(timer);\n",
       "          console.log(\"Bokeh: ERROR: Unable to run BokehJS code because BokehJS library is missing\");\n",
       "        }\n",
       "      }\n",
       "    }, 10, root)\n",
       "  }\n",
       "})(window);"
      ],
      "application/vnd.bokehjs_exec.v0+json": ""
     },
     "metadata": {
      "application/vnd.bokehjs_exec.v0+json": {
       "id": "4273"
      }
     },
     "output_type": "display_data"
    },
    {
     "data": {
      "text/html": [
       "\n",
       "\n",
       "\n",
       "\n",
       "\n",
       "\n",
       "  <div class=\"bk-root\" id=\"59b5da9d-1021-4915-80a1-5fa221883205\" data-root-id=\"4428\"></div>\n"
      ]
     },
     "metadata": {},
     "output_type": "display_data"
    },
    {
     "data": {
      "application/javascript": [
       "(function(root) {\n",
       "  function embed_document(root) {\n",
       "    \n",
       "  var docs_json = {\"eca3844e-0414-4b16-a04e-50ef1f9d63e9\":{\"roots\":{\"references\":[{\"attributes\":{\"text\":\" Your training instance provided 4 CPU cores, however your training job only \\n                ran on average 1 dataloader workers in parallel. We recommend you to increase the number of\\n                dataloader workers. Using pinned memory also improves performance because it enables fast data transfer to CUDA-enabled GPUs.\\n            The rule detected that your training job was not using pinned memory. \\n            In case of using PyTorch Dataloader, you can enable this by setting pin_memory=True.\",\"width\":900},\"id\":\"4428\",\"type\":\"Paragraph\"}],\"root_ids\":[\"4428\"]},\"title\":\"Bokeh Application\",\"version\":\"2.2.3\"}};\n",
       "  var render_items = [{\"docid\":\"eca3844e-0414-4b16-a04e-50ef1f9d63e9\",\"root_ids\":[\"4428\"],\"roots\":{\"4428\":\"59b5da9d-1021-4915-80a1-5fa221883205\"}}];\n",
       "  root.Bokeh.embed.embed_items_notebook(docs_json, render_items);\n",
       "\n",
       "  }\n",
       "  if (root.Bokeh !== undefined) {\n",
       "    embed_document(root);\n",
       "  } else {\n",
       "    var attempts = 0;\n",
       "    var timer = setInterval(function(root) {\n",
       "      if (root.Bokeh !== undefined) {\n",
       "        clearInterval(timer);\n",
       "        embed_document(root);\n",
       "      } else {\n",
       "        attempts++;\n",
       "        if (attempts > 100) {\n",
       "          clearInterval(timer);\n",
       "          console.log(\"Bokeh: ERROR: Unable to run BokehJS code because BokehJS library is missing\");\n",
       "        }\n",
       "      }\n",
       "    }, 10, root)\n",
       "  }\n",
       "})(window);"
      ],
      "application/vnd.bokehjs_exec.v0+json": ""
     },
     "metadata": {
      "application/vnd.bokehjs_exec.v0+json": {
       "id": "4428"
      }
     },
     "output_type": "display_data"
    },
    {
     "data": {
      "text/html": [
       "\n",
       "\n",
       "\n",
       "\n",
       "\n",
       "\n",
       "  <div class=\"bk-root\" id=\"9a7ad4d5-1b24-44b7-bb52-62d86bb5d5ba\" data-root-id=\"4625\"></div>\n"
      ]
     },
     "metadata": {},
     "output_type": "display_data"
    },
    {
     "data": {
      "application/javascript": [
       "(function(root) {\n",
       "  function embed_document(root) {\n",
       "    \n",
       "  var docs_json = {\"387d07ae-fdb5-4938-b6d5-1310045c7a5d\":{\"roots\":{\"references\":[{\"attributes\":{\"children\":[{\"id\":\"4624\"},{\"id\":\"4583\"}]},\"id\":\"4625\",\"type\":\"Column\"},{\"attributes\":{\"text\":\"\"},\"id\":\"4615\",\"type\":\"Title\"},{\"attributes\":{\"start\":0},\"id\":\"4586\",\"type\":\"DataRange1d\"},{\"attributes\":{},\"id\":\"4588\",\"type\":\"LinearScale\"},{\"attributes\":{\"label\":{\"value\":\"Dataloading events\"},\"renderers\":[{\"id\":\"4612\"}]},\"id\":\"4623\",\"type\":\"LegendItem\"},{\"attributes\":{\"below\":[{\"id\":\"4592\"}],\"center\":[{\"id\":\"4595\"},{\"id\":\"4599\"},{\"id\":\"4622\"}],\"left\":[{\"id\":\"4596\"}],\"plot_height\":450,\"plot_width\":850,\"renderers\":[{\"id\":\"4612\"}],\"title\":{\"id\":\"4615\"},\"toolbar\":{\"id\":\"4604\"},\"x_range\":{\"id\":\"4584\"},\"x_scale\":{\"id\":\"4588\"},\"y_range\":{\"id\":\"4586\"},\"y_scale\":{\"id\":\"4590\"}},\"id\":\"4583\",\"subtype\":\"Figure\",\"type\":\"Plot\"},{\"attributes\":{},\"id\":\"4590\",\"type\":\"LinearScale\"},{\"attributes\":{\"axis_label\":\"Dataloading in [s]\",\"formatter\":{\"id\":\"4619\"},\"ticker\":{\"id\":\"4593\"}},\"id\":\"4592\",\"type\":\"LinearAxis\"},{\"attributes\":{},\"id\":\"4597\",\"type\":\"BasicTicker\"},{\"attributes\":{\"text\":\"The following histogram shows the distribution of dataloading times that have been measured throughout your training job. The median dataloading time was 0.1871s. \\n            The 95th percentile was 0.1896s and the 25th percentile was 0.1857s\",\"width\":900},\"id\":\"4624\",\"type\":\"Paragraph\"},{\"attributes\":{},\"id\":\"4593\",\"type\":\"BasicTicker\"},{\"attributes\":{},\"id\":\"4621\",\"type\":\"Selection\"},{\"attributes\":{\"axis\":{\"id\":\"4592\"},\"grid_line_color\":\"white\",\"ticker\":null},\"id\":\"4595\",\"type\":\"Grid\"},{\"attributes\":{\"bottom\":{\"value\":0},\"fill_alpha\":{\"value\":0.1},\"fill_color\":{\"value\":\"#440154\"},\"left\":{\"field\":\"left\"},\"line_alpha\":{\"value\":0.1},\"line_color\":{\"value\":\"white\"},\"right\":{\"field\":\"right\"},\"top\":{\"field\":\"top\"}},\"id\":\"4611\",\"type\":\"Quad\"},{\"attributes\":{\"axis\":{\"id\":\"4596\"},\"dimension\":1,\"grid_line_color\":\"white\",\"ticker\":null},\"id\":\"4599\",\"type\":\"Grid\"},{\"attributes\":{},\"id\":\"4620\",\"type\":\"UnionRenderers\"},{\"attributes\":{\"axis_label\":\"Occurrences\",\"formatter\":{\"id\":\"4617\"},\"ticker\":{\"id\":\"4597\"}},\"id\":\"4596\",\"type\":\"LinearAxis\"},{\"attributes\":{\"end\":0.189824,\"start\":0.184363},\"id\":\"4584\",\"type\":\"Range1d\"},{\"attributes\":{\"click_policy\":\"hide\",\"items\":[{\"id\":\"4623\"}]},\"id\":\"4622\",\"type\":\"Legend\"},{\"attributes\":{\"active_drag\":\"auto\",\"active_inspect\":\"auto\",\"active_multi\":null,\"active_scroll\":\"auto\",\"active_tap\":\"auto\",\"tools\":[{\"id\":\"4600\"},{\"id\":\"4601\"},{\"id\":\"4602\"},{\"id\":\"4603\"}]},\"id\":\"4604\",\"type\":\"Toolbar\"},{\"attributes\":{\"data_source\":{\"id\":\"4609\"},\"glyph\":{\"id\":\"4610\"},\"hover_glyph\":null,\"muted_glyph\":null,\"nonselection_glyph\":{\"id\":\"4611\"},\"selection_glyph\":null,\"view\":{\"id\":\"4613\"}},\"id\":\"4612\",\"type\":\"GlyphRenderer\"},{\"attributes\":{\"source\":{\"id\":\"4609\"}},\"id\":\"4613\",\"type\":\"CDSView\"},{\"attributes\":{\"callback\":null},\"id\":\"4600\",\"type\":\"HoverTool\"},{\"attributes\":{\"bottom\":{\"value\":0},\"fill_alpha\":{\"value\":0.8},\"fill_color\":{\"value\":\"#440154\"},\"left\":{\"field\":\"left\"},\"line_color\":{\"value\":\"white\"},\"right\":{\"field\":\"right\"},\"top\":{\"field\":\"top\"}},\"id\":\"4610\",\"type\":\"Quad\"},{\"attributes\":{},\"id\":\"4619\",\"type\":\"BasicTickFormatter\"},{\"attributes\":{},\"id\":\"4601\",\"type\":\"WheelZoomTool\"},{\"attributes\":{},\"id\":\"4602\",\"type\":\"ResetTool\"},{\"attributes\":{},\"id\":\"4617\",\"type\":\"BasicTickFormatter\"},{\"attributes\":{\"data\":{\"left\":[0.184363,0.18441761,0.18447222,0.18452683,0.18458143999999999,0.18463605,0.18469066,0.18474527,0.18479988,0.18485449,0.1849091,0.18496371,0.18501832,0.18507293,0.18512754,0.18518215,0.18523676,0.18529137,0.18534598,0.18540059,0.1854552,0.18550981,0.18556442,0.18561903,0.18567364,0.18572824999999998,0.18578286,0.18583747,0.18589208,0.18594669,0.1860013,0.18605591,0.18611052,0.18616512999999998,0.18621974,0.18627435,0.18632896,0.18638357,0.18643818,0.18649279,0.1865474,0.18660200999999998,0.18665662,0.18671123,0.18676584,0.18682045,0.18687506,0.18692967,0.18698428,0.18703888999999999,0.1870935,0.18714811,0.18720272,0.18725733,0.18731193999999998,0.18736655,0.18742116,0.18747576999999999,0.18753038,0.18758499,0.1876396,0.18769421,0.18774881999999998,0.18780343,0.18785804,0.18791265,0.18796726,0.18802187,0.18807648,0.18813109,0.18818569999999998,0.18824031,0.18829492,0.18834953,0.18840414,0.18845875,0.18851336,0.18856797,0.18862257999999998,0.18867719,0.1887318,0.18878641,0.18884102,0.18889562999999998,0.18895024,0.18900485,0.18905945999999998,0.18911407,0.18916868,0.18922329,0.1892779,0.18933250999999998,0.18938712,0.18944173,0.18949633999999999,0.18955095,0.18960556,0.18966017,0.18971478,0.18976938999999998],\"right\":[0.18441761,0.18447222,0.18452683,0.18458143999999999,0.18463605,0.18469066,0.18474527,0.18479988,0.18485449,0.1849091,0.18496371,0.18501832,0.18507293,0.18512754,0.18518215,0.18523676,0.18529137,0.18534598,0.18540059,0.1854552,0.18550981,0.18556442,0.18561903,0.18567364,0.18572824999999998,0.18578286,0.18583747,0.18589208,0.18594669,0.1860013,0.18605591,0.18611052,0.18616512999999998,0.18621974,0.18627435,0.18632896,0.18638357,0.18643818,0.18649279,0.1865474,0.18660200999999998,0.18665662,0.18671123,0.18676584,0.18682045,0.18687506,0.18692967,0.18698428,0.18703888999999999,0.1870935,0.18714811,0.18720272,0.18725733,0.18731193999999998,0.18736655,0.18742116,0.18747576999999999,0.18753038,0.18758499,0.1876396,0.18769421,0.18774881999999998,0.18780343,0.18785804,0.18791265,0.18796726,0.18802187,0.18807648,0.18813109,0.18818569999999998,0.18824031,0.18829492,0.18834953,0.18840414,0.18845875,0.18851336,0.18856797,0.18862257999999998,0.18867719,0.1887318,0.18878641,0.18884102,0.18889562999999998,0.18895024,0.18900485,0.18905945999999998,0.18911407,0.18916868,0.18922329,0.1892779,0.18933250999999998,0.18938712,0.18944173,0.18949633999999999,0.18955095,0.18960556,0.18966017,0.18971478,0.18976938999999998,0.189824],\"top\":[1,0,0,0,0,0,0,0,0,0,0,0,0,0,0,0,0,0,0,0,0,0,0,0,0,0,0,0,0,0,0,0,0,0,0,0,0,0,0,0,0,0,0,0,0,0,0,0,0,0,0,0,0,0,0,0,0,0,0,0,0,0,0,0,0,0,0,0,0,0,0,0,0,0,0,0,0,0,0,0,0,0,0,0,0,0,0,0,0,0,0,0,0,0,0,0,0,0,0,1]},\"selected\":{\"id\":\"4621\"},\"selection_policy\":{\"id\":\"4620\"}},\"id\":\"4609\",\"type\":\"ColumnDataSource\"},{\"attributes\":{},\"id\":\"4603\",\"type\":\"PanTool\"}],\"root_ids\":[\"4625\"]},\"title\":\"Bokeh Application\",\"version\":\"2.2.3\"}};\n",
       "  var render_items = [{\"docid\":\"387d07ae-fdb5-4938-b6d5-1310045c7a5d\",\"root_ids\":[\"4625\"],\"roots\":{\"4625\":\"9a7ad4d5-1b24-44b7-bb52-62d86bb5d5ba\"}}];\n",
       "  root.Bokeh.embed.embed_items_notebook(docs_json, render_items);\n",
       "\n",
       "  }\n",
       "  if (root.Bokeh !== undefined) {\n",
       "    embed_document(root);\n",
       "  } else {\n",
       "    var attempts = 0;\n",
       "    var timer = setInterval(function(root) {\n",
       "      if (root.Bokeh !== undefined) {\n",
       "        clearInterval(timer);\n",
       "        embed_document(root);\n",
       "      } else {\n",
       "        attempts++;\n",
       "        if (attempts > 100) {\n",
       "          clearInterval(timer);\n",
       "          console.log(\"Bokeh: ERROR: Unable to run BokehJS code because BokehJS library is missing\");\n",
       "        }\n",
       "      }\n",
       "    }, 10, root)\n",
       "  }\n",
       "})(window);"
      ],
      "application/vnd.bokehjs_exec.v0+json": ""
     },
     "metadata": {
      "application/vnd.bokehjs_exec.v0+json": {
       "id": "4625"
      }
     },
     "output_type": "display_data"
    }
   ],
   "source": [
    "if analyse_phase == \"training\":\n",
    "    display(Markdown(\"\"\"### Dataloading analysis\\n\\n\"\"\"))\n",
    "    report = load_report('Dataloader')\n",
    "    if report:\n",
    "        params = report['RuleParameters'].split(\"\\n\")\n",
    "        min_threshold = params[0].split(':')[1]\n",
    "        max_threshold = params[1].split(':')[1]\n",
    "        triggered = report['RuleTriggered']\n",
    "        datapoints = report['Datapoints']\n",
    "    \n",
    "        text=f\"\"\"The number of dataloader workers can greatly affect the overall performance \n",
    "        of your training job. The rule analyzed the number of dataloading processes that have been running in \n",
    "        parallel on the training instance and compares it against the total number of cores. \n",
    "        The rule checked if the number of processes is smaller than {min_threshold}% or larger than \n",
    "        {max_threshold}% the total number of cores. Having too few dataloader workers can slowdown data preprocessing and lead to GPU \n",
    "        underutilization. Having too many dataloader workers may hurt the\n",
    "        overall performance if you are running other compute intensive tasks on the CPU.\n",
    "        The rule analysed {datapoints} datapoints and triggered {triggered} times.\"\"\"\n",
    "        \n",
    "        paragraph = Paragraph(text=f\"{text}\", width=900)\n",
    "        show(paragraph)\n",
    "        text = \"\"\n",
    "        if 'cores' in report['Details']:\n",
    "            cores = int(report['Details']['cores'])\n",
    "            dataloaders = report['Details']['dataloaders']\n",
    "            if dataloaders < cores: \n",
    "                text=f\"\"\"{text} Your training instance provided {cores} CPU cores, however your training job only \n",
    "                ran on average {dataloaders} dataloader workers in parallel. We recommend you to increase the number of\n",
    "                dataloader workers.\"\"\"\n",
    "            if dataloaders > cores:\n",
    "                text=f\"\"\"{text} Your training instance provided {cores} CPU cores, however your training job ran \n",
    "                on average {dataloaders} dataloader workers. We recommed you to decrease the number of dataloader\n",
    "                workers.\"\"\"\n",
    "        if 'pin_memory' in report['Details'] and report['Details']['pin_memory'] == False:\n",
    "            text=f\"\"\"{text} Using pinned memory also improves performance because it enables fast data transfer to CUDA-enabled GPUs.\n",
    "            The rule detected that your training job was not using pinned memory. \n",
    "            In case of using PyTorch Dataloader, you can enable this by setting pin_memory=True.\"\"\"\n",
    "            \n",
    "        if 'prefetch' in report['Details'] and report['Details']['prefetch'] == False:\n",
    "            text=f\"\"\"{text} It appears that your training job did not perform any data pre-fetching. Pre-fetching can improve your\n",
    "            data input pipeline as it produces the data ahead of time.\"\"\"\n",
    "        paragraph = Paragraph(text=f\"{text}\", width=900)\n",
    "        show(paragraph)\n",
    "        \n",
    "        colors=bokeh.palettes.viridis(10)\n",
    "        if \"dataloading_time\" in report['Details']:\n",
    "            median = round(report['Details'][\"dataloading_time\"]['p50'],4)\n",
    "            p95 = round(report['Details'][\"dataloading_time\"]['p95'],4)\n",
    "            p25 = round(report['Details'][\"dataloading_time\"]['p25'],4)\n",
    "            binedges = report['Details'][\"dataloading_time\"]['binedges']\n",
    "            probs = report['Details'][\"dataloading_time\"]['probs']\n",
    "            text=f\"\"\"The following histogram shows the distribution of dataloading times that have been measured throughout your training job. The median dataloading time was {median}s. \n",
    "            The 95th percentile was {p95}s and the 25th percentile was {p25}s\"\"\"\n",
    "\n",
    "            plot = figure(plot_height=450, \n",
    "                              plot_width=850,\n",
    "                              toolbar_location='right',\n",
    "                              tools=\"hover,wheel_zoom,reset,pan\",\n",
    "                              x_range=(binedges[0], binedges[-1])\n",
    "                              )\n",
    "            \n",
    "            plot.quad( top=probs,\n",
    "                        bottom=0,\n",
    "                        left=binedges[:-1],\n",
    "                        right=binedges[1:],\n",
    "                        line_color=\"white\",\n",
    "                        fill_color=colors[0],\n",
    "                        fill_alpha=0.8,\n",
    "                        legend=\"Dataloading events\" )\n",
    "\n",
    "            plot.y_range.start = 0\n",
    "            plot.xaxis.axis_label = f\"\"\"Dataloading in [s]\"\"\"\n",
    "            plot.yaxis.axis_label = \"Occurrences\"\n",
    "            plot.grid.grid_line_color = \"white\"\n",
    "            plot.legend.click_policy=\"hide\"\n",
    "\n",
    "            paragraph = Paragraph(text=f\"{text}\", width=900)\n",
    "            show(column(paragraph, plot))"
   ]
  },
  {
   "cell_type": "code",
   "execution_count": 26,
   "metadata": {
    "execution": {
     "iopub.execute_input": "2023-04-06T09:10:36.612989Z",
     "iopub.status.busy": "2023-04-06T09:10:36.612478Z",
     "iopub.status.idle": "2023-04-06T09:10:36.976481Z",
     "shell.execute_reply": "2023-04-06T09:10:36.976899Z"
    },
    "papermill": {
     "duration": 0.417449,
     "end_time": "2023-04-06T09:10:36.977041",
     "exception": false,
     "start_time": "2023-04-06T09:10:36.559592",
     "status": "completed"
    },
    "tags": [
     "hide-input"
    ]
   },
   "outputs": [
    {
     "data": {
      "text/markdown": [
       " ### Batch size"
      ],
      "text/plain": [
       "<IPython.core.display.Markdown object>"
      ]
     },
     "metadata": {},
     "output_type": "display_data"
    },
    {
     "data": {
      "text/html": [
       "\n",
       "\n",
       "\n",
       "\n",
       "\n",
       "\n",
       "  <div class=\"bk-root\" id=\"bd241469-aa25-4067-8f68-236393d1781e\" data-root-id=\"4828\"></div>\n"
      ]
     },
     "metadata": {},
     "output_type": "display_data"
    },
    {
     "data": {
      "application/javascript": [
       "(function(root) {\n",
       "  function embed_document(root) {\n",
       "    \n",
       "  var docs_json = {\"47b0dfc7-c191-4be0-9266-89ec4132a2ab\":{\"roots\":{\"references\":[{\"attributes\":{\"text\":\"The BatchSize rule helps to detect if GPU is underutilized because of the batch size being \\n        too small. To detect this the rule analyzes the GPU memory footprint, CPU and GPU utilization. The rule checked if the 95th percentile of CPU utilization is below cpu_threshold_p95 of \\n        70%, the 95th percentile of GPU utilization is below gpu_threshold_p95 of 70% and the 95th percentile of memory footprint         below gpu_memory_threshold_p95 of 70%. In your training job this happened 58 times.         The rule skipped the first 1000 datapoints. The rule computed the percentiles over window size of 500 continuous datapoints.\\n\\n        The rule analysed 4410 datapoints and triggered 58 times.\\n        \",\"width\":800},\"id\":\"4828\",\"type\":\"Paragraph\"}],\"root_ids\":[\"4828\"]},\"title\":\"Bokeh Application\",\"version\":\"2.2.3\"}};\n",
       "  var render_items = [{\"docid\":\"47b0dfc7-c191-4be0-9266-89ec4132a2ab\",\"root_ids\":[\"4828\"],\"roots\":{\"4828\":\"bd241469-aa25-4067-8f68-236393d1781e\"}}];\n",
       "  root.Bokeh.embed.embed_items_notebook(docs_json, render_items);\n",
       "\n",
       "  }\n",
       "  if (root.Bokeh !== undefined) {\n",
       "    embed_document(root);\n",
       "  } else {\n",
       "    var attempts = 0;\n",
       "    var timer = setInterval(function(root) {\n",
       "      if (root.Bokeh !== undefined) {\n",
       "        clearInterval(timer);\n",
       "        embed_document(root);\n",
       "      } else {\n",
       "        attempts++;\n",
       "        if (attempts > 100) {\n",
       "          clearInterval(timer);\n",
       "          console.log(\"Bokeh: ERROR: Unable to run BokehJS code because BokehJS library is missing\");\n",
       "        }\n",
       "      }\n",
       "    }, 10, root)\n",
       "  }\n",
       "})(window);"
      ],
      "application/vnd.bokehjs_exec.v0+json": ""
     },
     "metadata": {
      "application/vnd.bokehjs_exec.v0+json": {
       "id": "4828"
      }
     },
     "output_type": "display_data"
    },
    {
     "data": {
      "text/html": [
       "\n",
       "\n",
       "\n",
       "\n",
       "\n",
       "\n",
       "  <div class=\"bk-root\" id=\"fcccbab6-f44e-4570-bebb-152159de8b08\" data-root-id=\"4991\"></div>\n"
      ]
     },
     "metadata": {},
     "output_type": "display_data"
    },
    {
     "data": {
      "application/javascript": [
       "(function(root) {\n",
       "  function embed_document(root) {\n",
       "    \n",
       "  var docs_json = {\"2134f660-8d7f-432c-b300-40f443084ea3\":{\"roots\":{\"references\":[{\"attributes\":{\"text\":\"Your training job is underutilizing the instance. You may want to consider\\n            either switch to a smaller instance type or to increase the batch size. \\n            The last time the BatchSize rule triggered in your training job was on 04/06/2023 at 08:33:00.\\n            The following boxplots are a snapshot from the timestamps. They the total \\n            CPU utilization, the GPU utilization, and the GPU memory usage per GPU (without outliers).\",\"width\":800},\"id\":\"4991\",\"type\":\"Paragraph\"}],\"root_ids\":[\"4991\"]},\"title\":\"Bokeh Application\",\"version\":\"2.2.3\"}};\n",
       "  var render_items = [{\"docid\":\"2134f660-8d7f-432c-b300-40f443084ea3\",\"root_ids\":[\"4991\"],\"roots\":{\"4991\":\"fcccbab6-f44e-4570-bebb-152159de8b08\"}}];\n",
       "  root.Bokeh.embed.embed_items_notebook(docs_json, render_items);\n",
       "\n",
       "  }\n",
       "  if (root.Bokeh !== undefined) {\n",
       "    embed_document(root);\n",
       "  } else {\n",
       "    var attempts = 0;\n",
       "    var timer = setInterval(function(root) {\n",
       "      if (root.Bokeh !== undefined) {\n",
       "        clearInterval(timer);\n",
       "        embed_document(root);\n",
       "      } else {\n",
       "        attempts++;\n",
       "        if (attempts > 100) {\n",
       "          clearInterval(timer);\n",
       "          console.log(\"Bokeh: ERROR: Unable to run BokehJS code because BokehJS library is missing\");\n",
       "        }\n",
       "      }\n",
       "    }, 10, root)\n",
       "  }\n",
       "})(window);"
      ],
      "application/vnd.bokehjs_exec.v0+json": ""
     },
     "metadata": {
      "application/vnd.bokehjs_exec.v0+json": {
       "id": "4991"
      }
     },
     "output_type": "display_data"
    },
    {
     "data": {
      "text/html": [
       "\n",
       "\n",
       "\n",
       "\n",
       "\n",
       "\n",
       "  <div class=\"bk-root\" id=\"af51cd7c-cf1f-49be-9953-da745a416fd9\" data-root-id=\"5154\"></div>\n"
      ]
     },
     "metadata": {},
     "output_type": "display_data"
    },
    {
     "data": {
      "application/javascript": [
       "(function(root) {\n",
       "  function embed_document(root) {\n",
       "    \n",
       "  var docs_json = {\"ef6eca92-0d16-4882-86bb-b4ed810d42ba\":{\"roots\":{\"references\":[{\"attributes\":{\"below\":[{\"id\":\"5165\"}],\"center\":[{\"id\":\"5168\"},{\"id\":\"5172\"}],\"left\":[{\"id\":\"5169\"}],\"plot_height\":350,\"plot_width\":1000,\"renderers\":[{\"id\":\"5185\"},{\"id\":\"5190\"},{\"id\":\"5195\"},{\"id\":\"5200\"},{\"id\":\"5205\"},{\"id\":\"5210\"},{\"id\":\"5215\"},{\"id\":\"5220\"},{\"id\":\"5225\"},{\"id\":\"5230\"},{\"id\":\"5235\"},{\"id\":\"5240\"},{\"id\":\"5245\"},{\"id\":\"5250\"},{\"id\":\"5255\"},{\"id\":\"5260\"},{\"id\":\"5265\"},{\"id\":\"5270\"}],\"title\":{\"id\":\"5155\"},\"toolbar\":{\"id\":\"5177\"},\"x_range\":{\"id\":\"5157\"},\"x_scale\":{\"id\":\"5161\"},\"y_range\":{\"id\":\"5159\"},\"y_scale\":{\"id\":\"5163\"}},\"id\":\"5154\",\"subtype\":\"Figure\",\"type\":\"Plot\"},{\"attributes\":{\"data_source\":{\"id\":\"5217\"},\"glyph\":{\"id\":\"5218\"},\"hover_glyph\":null,\"muted_glyph\":null,\"nonselection_glyph\":{\"id\":\"5219\"},\"selection_glyph\":null,\"view\":{\"id\":\"5221\"}},\"id\":\"5220\",\"type\":\"GlyphRenderer\"},{\"attributes\":{},\"id\":\"5159\",\"type\":\"DataRange1d\"},{\"attributes\":{},\"id\":\"5445\",\"type\":\"Selection\"},{\"attributes\":{},\"id\":\"5443\",\"type\":\"Selection\"},{\"attributes\":{},\"id\":\"5439\",\"type\":\"BasicTickFormatter\"},{\"attributes\":{},\"id\":\"5438\",\"type\":\"BasicTickFormatter\"},{\"attributes\":{},\"id\":\"5446\",\"type\":\"UnionRenderers\"},{\"attributes\":{},\"id\":\"5444\",\"type\":\"UnionRenderers\"},{\"attributes\":{\"text\":\"Node algo-1\"},\"id\":\"5155\",\"type\":\"Title\"},{\"attributes\":{\"data\":{},\"selected\":{\"id\":\"5469\"},\"selection_policy\":{\"id\":\"5468\"}},\"id\":\"5252\",\"type\":\"ColumnDataSource\"},{\"attributes\":{\"x0\":{\"value\":1},\"x1\":{\"value\":1},\"y0\":{\"value\":29.190625000000022},\"y1\":{\"value\":35.31250000000001}},\"id\":\"5188\",\"type\":\"Segment\"},{\"attributes\":{},\"id\":\"5440\",\"type\":\"UnionRenderers\"},{\"attributes\":{\"data\":{},\"selected\":{\"id\":\"5445\"},\"selection_policy\":{\"id\":\"5444\"}},\"id\":\"5192\",\"type\":\"ColumnDataSource\"},{\"attributes\":{\"data\":{},\"selected\":{\"id\":\"5457\"},\"selection_policy\":{\"id\":\"5456\"}},\"id\":\"5222\",\"type\":\"ColumnDataSource\"},{\"attributes\":{},\"id\":\"5462\",\"type\":\"UnionRenderers\"},{\"attributes\":{\"data_source\":{\"id\":\"5252\"},\"glyph\":{\"id\":\"5253\"},\"hover_glyph\":null,\"muted_glyph\":null,\"nonselection_glyph\":{\"id\":\"5254\"},\"selection_glyph\":null,\"view\":{\"id\":\"5256\"}},\"id\":\"5255\",\"type\":\"GlyphRenderer\"},{\"attributes\":{\"data\":{},\"selected\":{\"id\":\"5447\"},\"selection_policy\":{\"id\":\"5446\"}},\"id\":\"5197\",\"type\":\"ColumnDataSource\"},{\"attributes\":{\"data\":{},\"selected\":{\"id\":\"5459\"},\"selection_policy\":{\"id\":\"5458\"}},\"id\":\"5227\",\"type\":\"ColumnDataSource\"},{\"attributes\":{\"bottom\":{\"value\":18.0},\"fill_color\":{\"value\":\"#440154\"},\"top\":{\"value\":12.0},\"width\":{\"value\":0.7},\"x\":{\"value\":3}},\"id\":\"5258\",\"type\":\"VBar\"},{\"attributes\":{},\"id\":\"5463\",\"type\":\"Selection\"},{\"attributes\":{\"bottom\":{\"value\":37.317499999999995},\"fill_alpha\":{\"value\":0.1},\"fill_color\":{\"value\":\"#440154\"},\"line_alpha\":{\"value\":0.1},\"top\":{\"value\":35.31250000000001},\"width\":{\"value\":0.7},\"x\":{\"value\":1}},\"id\":\"5199\",\"type\":\"VBar\"},{\"attributes\":{\"data_source\":{\"id\":\"5192\"},\"glyph\":{\"id\":\"5193\"},\"hover_glyph\":null,\"muted_glyph\":null,\"nonselection_glyph\":{\"id\":\"5194\"},\"selection_glyph\":null,\"view\":{\"id\":\"5196\"}},\"id\":\"5195\",\"type\":\"GlyphRenderer\"},{\"attributes\":{\"bottom\":{\"value\":22.0},\"fill_alpha\":{\"value\":0.1},\"fill_color\":{\"value\":\"#FDE725\"},\"line_alpha\":{\"value\":0.1},\"top\":{\"value\":21.0},\"width\":{\"value\":0.7},\"x\":{\"value\":2}},\"id\":\"5224\",\"type\":\"VBar\"},{\"attributes\":{},\"id\":\"5464\",\"type\":\"UnionRenderers\"},{\"attributes\":{\"bottom\":{\"value\":37.317499999999995},\"fill_color\":{\"value\":\"#440154\"},\"top\":{\"value\":35.31250000000001},\"width\":{\"value\":0.7},\"x\":{\"value\":1}},\"id\":\"5198\",\"type\":\"VBar\"},{\"attributes\":{\"source\":{\"id\":\"5222\"}},\"id\":\"5226\",\"type\":\"CDSView\"},{\"attributes\":{\"source\":{\"id\":\"5252\"}},\"id\":\"5256\",\"type\":\"CDSView\"},{\"attributes\":{},\"id\":\"5461\",\"type\":\"Selection\"},{\"attributes\":{},\"id\":\"5465\",\"type\":\"Selection\"},{\"attributes\":{\"source\":{\"id\":\"5192\"}},\"id\":\"5196\",\"type\":\"CDSView\"},{\"attributes\":{\"data\":{},\"selected\":{\"id\":\"5471\"},\"selection_policy\":{\"id\":\"5470\"}},\"id\":\"5257\",\"type\":\"ColumnDataSource\"},{\"attributes\":{},\"id\":\"5466\",\"type\":\"UnionRenderers\"},{\"attributes\":{\"data_source\":{\"id\":\"5222\"},\"glyph\":{\"id\":\"5223\"},\"hover_glyph\":null,\"muted_glyph\":null,\"nonselection_glyph\":{\"id\":\"5224\"},\"selection_glyph\":null,\"view\":{\"id\":\"5226\"}},\"id\":\"5225\",\"type\":\"GlyphRenderer\"},{\"attributes\":{\"bottom\":{\"value\":39.39375},\"fill_alpha\":{\"value\":0.1},\"fill_color\":{\"value\":\"#FDE725\"},\"line_alpha\":{\"value\":0.1},\"top\":{\"value\":37.317499999999995},\"width\":{\"value\":0.7},\"x\":{\"value\":1}},\"id\":\"5194\",\"type\":\"VBar\"},{\"attributes\":{\"bottom\":{\"value\":18.0},\"fill_alpha\":{\"value\":0.1},\"fill_color\":{\"value\":\"#440154\"},\"line_alpha\":{\"value\":0.1},\"top\":{\"value\":12.0},\"width\":{\"value\":0.7},\"x\":{\"value\":3}},\"id\":\"5259\",\"type\":\"VBar\"},{\"attributes\":{},\"id\":\"5467\",\"type\":\"Selection\"},{\"attributes\":{\"data_source\":{\"id\":\"5182\"},\"glyph\":{\"id\":\"5183\"},\"hover_glyph\":null,\"muted_glyph\":null,\"nonselection_glyph\":{\"id\":\"5184\"},\"selection_glyph\":null,\"view\":{\"id\":\"5186\"}},\"id\":\"5185\",\"type\":\"GlyphRenderer\"},{\"attributes\":{\"source\":{\"id\":\"5242\"}},\"id\":\"5246\",\"type\":\"CDSView\"},{\"attributes\":{\"source\":{\"id\":\"5257\"}},\"id\":\"5261\",\"type\":\"CDSView\"},{\"attributes\":{},\"id\":\"5468\",\"type\":\"UnionRenderers\"},{\"attributes\":{\"source\":{\"id\":\"5182\"}},\"id\":\"5186\",\"type\":\"CDSView\"},{\"attributes\":{\"bottom\":{\"value\":21.0},\"fill_alpha\":{\"value\":0.1},\"fill_color\":{\"value\":\"#440154\"},\"line_alpha\":{\"value\":0.1},\"top\":{\"value\":14.0},\"width\":{\"value\":0.7},\"x\":{\"value\":2}},\"id\":\"5229\",\"type\":\"VBar\"},{\"attributes\":{\"fill_color\":{\"value\":\"#1f77b4\"},\"height\":{\"units\":\"data\",\"value\":0.01},\"width\":{\"units\":\"data\",\"value\":0.2},\"x\":{\"value\":3},\"y\":{\"value\":6.0}},\"id\":\"5263\",\"type\":\"Rect\"},{\"attributes\":{},\"id\":\"5469\",\"type\":\"Selection\"},{\"attributes\":{\"data_source\":{\"id\":\"5257\"},\"glyph\":{\"id\":\"5258\"},\"hover_glyph\":null,\"muted_glyph\":null,\"nonselection_glyph\":{\"id\":\"5259\"},\"selection_glyph\":null,\"view\":{\"id\":\"5261\"}},\"id\":\"5260\",\"type\":\"GlyphRenderer\"},{\"attributes\":{\"source\":{\"id\":\"5227\"}},\"id\":\"5231\",\"type\":\"CDSView\"},{\"attributes\":{\"bottom\":{\"value\":21.0},\"fill_color\":{\"value\":\"#440154\"},\"top\":{\"value\":14.0},\"width\":{\"value\":0.7},\"x\":{\"value\":2}},\"id\":\"5228\",\"type\":\"VBar\"},{\"attributes\":{},\"id\":\"5470\",\"type\":\"UnionRenderers\"},{\"attributes\":{\"fill_color\":{\"value\":\"#1f77b4\"},\"height\":{\"units\":\"data\",\"value\":0.01},\"width\":{\"units\":\"data\",\"value\":0.2},\"x\":{\"value\":2},\"y\":{\"value\":2.0}},\"id\":\"5233\",\"type\":\"Rect\"},{\"attributes\":{\"data_source\":{\"id\":\"5227\"},\"glyph\":{\"id\":\"5228\"},\"hover_glyph\":null,\"muted_glyph\":null,\"nonselection_glyph\":{\"id\":\"5229\"},\"selection_glyph\":null,\"view\":{\"id\":\"5231\"}},\"id\":\"5230\",\"type\":\"GlyphRenderer\"},{\"attributes\":{\"source\":{\"id\":\"5197\"}},\"id\":\"5201\",\"type\":\"CDSView\"},{\"attributes\":{\"data\":{},\"selected\":{\"id\":\"5473\"},\"selection_policy\":{\"id\":\"5472\"}},\"id\":\"5262\",\"type\":\"ColumnDataSource\"},{\"attributes\":{},\"id\":\"5471\",\"type\":\"Selection\"},{\"attributes\":{\"ticks\":[0,1,2,3]},\"id\":\"5272\",\"type\":\"FixedTicker\"},{\"attributes\":{\"fill_color\":{\"value\":\"#1f77b4\"},\"height\":{\"units\":\"data\",\"value\":0.01},\"width\":{\"units\":\"data\",\"value\":0.2},\"x\":{\"value\":1},\"y\":{\"value\":29.190625000000022}},\"id\":\"5203\",\"type\":\"Rect\"},{\"attributes\":{},\"id\":\"5472\",\"type\":\"UnionRenderers\"},{\"attributes\":{\"data_source\":{\"id\":\"5197\"},\"glyph\":{\"id\":\"5198\"},\"hover_glyph\":null,\"muted_glyph\":null,\"nonselection_glyph\":{\"id\":\"5199\"},\"selection_glyph\":null,\"view\":{\"id\":\"5201\"}},\"id\":\"5200\",\"type\":\"GlyphRenderer\"},{\"attributes\":{\"data_source\":{\"id\":\"5262\"},\"glyph\":{\"id\":\"5263\"},\"hover_glyph\":null,\"muted_glyph\":null,\"nonselection_glyph\":{\"id\":\"5264\"},\"selection_glyph\":null,\"view\":{\"id\":\"5266\"}},\"id\":\"5265\",\"type\":\"GlyphRenderer\"},{\"attributes\":{\"data\":{},\"selected\":{\"id\":\"5461\"},\"selection_policy\":{\"id\":\"5460\"}},\"id\":\"5232\",\"type\":\"ColumnDataSource\"},{\"attributes\":{},\"id\":\"5473\",\"type\":\"Selection\"},{\"attributes\":{\"fill_alpha\":{\"value\":0.1},\"fill_color\":{\"value\":\"#1f77b4\"},\"height\":{\"units\":\"data\",\"value\":0.01},\"line_alpha\":{\"value\":0.1},\"width\":{\"units\":\"data\",\"value\":0.2},\"x\":{\"value\":3},\"y\":{\"value\":6.0}},\"id\":\"5264\",\"type\":\"Rect\"},{\"attributes\":{\"data_source\":{\"id\":\"5232\"},\"glyph\":{\"id\":\"5233\"},\"hover_glyph\":null,\"muted_glyph\":null,\"nonselection_glyph\":{\"id\":\"5234\"},\"selection_glyph\":null,\"view\":{\"id\":\"5236\"}},\"id\":\"5235\",\"type\":\"GlyphRenderer\"},{\"attributes\":{\"data\":{},\"selected\":{\"id\":\"5449\"},\"selection_policy\":{\"id\":\"5448\"}},\"id\":\"5202\",\"type\":\"ColumnDataSource\"},{\"attributes\":{\"source\":{\"id\":\"5267\"}},\"id\":\"5271\",\"type\":\"CDSView\"},{\"attributes\":{},\"id\":\"5474\",\"type\":\"UnionRenderers\"},{\"attributes\":{\"source\":{\"id\":\"5262\"}},\"id\":\"5266\",\"type\":\"CDSView\"},{\"attributes\":{\"fill_alpha\":{\"value\":0.1},\"fill_color\":{\"value\":\"#1f77b4\"},\"height\":{\"units\":\"data\",\"value\":0.01},\"line_alpha\":{\"value\":0.1},\"width\":{\"units\":\"data\",\"value\":0.2},\"x\":{\"value\":2},\"y\":{\"value\":2.0}},\"id\":\"5234\",\"type\":\"Rect\"},{\"attributes\":{},\"id\":\"5475\",\"type\":\"Selection\"},{\"attributes\":{\"data_source\":{\"id\":\"5202\"},\"glyph\":{\"id\":\"5203\"},\"hover_glyph\":null,\"muted_glyph\":null,\"nonselection_glyph\":{\"id\":\"5204\"},\"selection_glyph\":null,\"view\":{\"id\":\"5206\"}},\"id\":\"5205\",\"type\":\"GlyphRenderer\"},{\"attributes\":{\"fill_color\":{\"value\":\"#1f77b4\"},\"height\":{\"units\":\"data\",\"value\":0.01},\"width\":{\"units\":\"data\",\"value\":0.2},\"x\":{\"value\":2},\"y\":{\"value\":34.0}},\"id\":\"5238\",\"type\":\"Rect\"},{\"attributes\":{},\"id\":\"5441\",\"type\":\"Selection\"},{\"attributes\":{},\"id\":\"5161\",\"type\":\"LinearScale\"},{\"attributes\":{\"source\":{\"id\":\"5232\"}},\"id\":\"5236\",\"type\":\"CDSView\"},{\"attributes\":{\"data\":{},\"selected\":{\"id\":\"5475\"},\"selection_policy\":{\"id\":\"5474\"}},\"id\":\"5267\",\"type\":\"ColumnDataSource\"},{\"attributes\":{\"fill_alpha\":{\"value\":0.1},\"fill_color\":{\"value\":\"#1f77b4\"},\"height\":{\"units\":\"data\",\"value\":0.01},\"line_alpha\":{\"value\":0.1},\"width\":{\"units\":\"data\",\"value\":0.2},\"x\":{\"value\":1},\"y\":{\"value\":29.190625000000022}},\"id\":\"5204\",\"type\":\"Rect\"},{\"attributes\":{\"data_source\":{\"id\":\"5267\"},\"glyph\":{\"id\":\"5268\"},\"hover_glyph\":null,\"muted_glyph\":null,\"nonselection_glyph\":{\"id\":\"5269\"},\"selection_glyph\":null,\"view\":{\"id\":\"5271\"}},\"id\":\"5270\",\"type\":\"GlyphRenderer\"},{\"attributes\":{\"axis\":{\"id\":\"5169\"},\"dimension\":1,\"grid_line_color\":\"white\",\"grid_line_width\":0,\"ticker\":null},\"id\":\"5172\",\"type\":\"Grid\"},{\"attributes\":{\"formatter\":{\"id\":\"5439\"},\"major_label_overrides\":{\"1\":\"cpu\",\"2\":\"gpu0\",\"3\":\"gpu0_memory\"},\"major_label_text_font_size\":\"10px\",\"ticker\":{\"id\":\"5272\"}},\"id\":\"5165\",\"type\":\"LinearAxis\"},{\"attributes\":{\"source\":{\"id\":\"5202\"}},\"id\":\"5206\",\"type\":\"CDSView\"},{\"attributes\":{\"data\":{},\"selected\":{\"id\":\"5463\"},\"selection_policy\":{\"id\":\"5462\"}},\"id\":\"5237\",\"type\":\"ColumnDataSource\"},{\"attributes\":{\"fill_alpha\":{\"value\":0.1},\"fill_color\":{\"value\":\"#1f77b4\"},\"height\":{\"units\":\"data\",\"value\":0.01},\"line_alpha\":{\"value\":0.1},\"width\":{\"units\":\"data\",\"value\":0.2},\"x\":{\"value\":3},\"y\":{\"value\":24.0}},\"id\":\"5269\",\"type\":\"Rect\"},{\"attributes\":{},\"id\":\"5163\",\"type\":\"LinearScale\"},{\"attributes\":{\"data_source\":{\"id\":\"5237\"},\"glyph\":{\"id\":\"5238\"},\"hover_glyph\":null,\"muted_glyph\":null,\"nonselection_glyph\":{\"id\":\"5239\"},\"selection_glyph\":null,\"view\":{\"id\":\"5241\"}},\"id\":\"5240\",\"type\":\"GlyphRenderer\"},{\"attributes\":{\"data\":{},\"selected\":{\"id\":\"5451\"},\"selection_policy\":{\"id\":\"5450\"}},\"id\":\"5207\",\"type\":\"ColumnDataSource\"},{\"attributes\":{\"data\":{},\"selected\":{\"id\":\"5441\"},\"selection_policy\":{\"id\":\"5440\"}},\"id\":\"5182\",\"type\":\"ColumnDataSource\"},{\"attributes\":{\"fill_color\":{\"value\":\"#1f77b4\"},\"height\":{\"units\":\"data\",\"value\":0.01},\"width\":{\"units\":\"data\",\"value\":0.2},\"x\":{\"value\":1},\"y\":{\"value\":45.515624999999986}},\"id\":\"5208\",\"type\":\"Rect\"},{\"attributes\":{\"data_source\":{\"id\":\"5187\"},\"glyph\":{\"id\":\"5188\"},\"hover_glyph\":null,\"muted_glyph\":null,\"nonselection_glyph\":{\"id\":\"5189\"},\"selection_glyph\":null,\"view\":{\"id\":\"5191\"}},\"id\":\"5190\",\"type\":\"GlyphRenderer\"},{\"attributes\":{\"bottom\":{\"value\":39.39375},\"fill_color\":{\"value\":\"#FDE725\"},\"top\":{\"value\":37.317499999999995},\"width\":{\"value\":0.7},\"x\":{\"value\":1}},\"id\":\"5193\",\"type\":\"VBar\"},{\"attributes\":{\"data\":{},\"selected\":{\"id\":\"5453\"},\"selection_policy\":{\"id\":\"5452\"}},\"id\":\"5212\",\"type\":\"ColumnDataSource\"},{\"attributes\":{\"fill_alpha\":{\"value\":0.1},\"fill_color\":{\"value\":\"#1f77b4\"},\"height\":{\"units\":\"data\",\"value\":0.01},\"line_alpha\":{\"value\":0.1},\"width\":{\"units\":\"data\",\"value\":0.2},\"x\":{\"value\":2},\"y\":{\"value\":34.0}},\"id\":\"5239\",\"type\":\"Rect\"},{\"attributes\":{},\"id\":\"5170\",\"type\":\"BasicTicker\"},{\"attributes\":{},\"id\":\"5448\",\"type\":\"UnionRenderers\"},{\"attributes\":{},\"id\":\"5449\",\"type\":\"Selection\"},{\"attributes\":{\"data_source\":{\"id\":\"5207\"},\"glyph\":{\"id\":\"5208\"},\"hover_glyph\":null,\"muted_glyph\":null,\"nonselection_glyph\":{\"id\":\"5209\"},\"selection_glyph\":null,\"view\":{\"id\":\"5211\"}},\"id\":\"5210\",\"type\":\"GlyphRenderer\"},{\"attributes\":{\"source\":{\"id\":\"5237\"}},\"id\":\"5241\",\"type\":\"CDSView\"},{\"attributes\":{},\"id\":\"5450\",\"type\":\"UnionRenderers\"},{\"attributes\":{\"fill_alpha\":{\"value\":0.1},\"fill_color\":{\"value\":\"#1f77b4\"},\"height\":{\"units\":\"data\",\"value\":0.01},\"line_alpha\":{\"value\":0.1},\"width\":{\"units\":\"data\",\"value\":0.2},\"x\":{\"value\":1},\"y\":{\"value\":45.515624999999986}},\"id\":\"5209\",\"type\":\"Rect\"},{\"attributes\":{\"x0\":{\"value\":3},\"x1\":{\"value\":3},\"y0\":{\"value\":24.0},\"y1\":{\"value\":18.0}},\"id\":\"5243\",\"type\":\"Segment\"},{\"attributes\":{\"axis\":{\"id\":\"5165\"},\"grid_line_color\":null,\"grid_line_width\":0,\"ticker\":null},\"id\":\"5168\",\"type\":\"Grid\"},{\"attributes\":{},\"id\":\"5447\",\"type\":\"Selection\"},{\"attributes\":{},\"id\":\"5451\",\"type\":\"Selection\"},{\"attributes\":{\"axis_label\":\"Utilization in %\",\"formatter\":{\"id\":\"5438\"},\"ticker\":{\"id\":\"5170\"}},\"id\":\"5169\",\"type\":\"LinearAxis\"},{\"attributes\":{\"source\":{\"id\":\"5207\"}},\"id\":\"5211\",\"type\":\"CDSView\"},{\"attributes\":{\"data\":{},\"selected\":{\"id\":\"5465\"},\"selection_policy\":{\"id\":\"5464\"}},\"id\":\"5242\",\"type\":\"ColumnDataSource\"},{\"attributes\":{\"x0\":{\"value\":3},\"x1\":{\"value\":3},\"y0\":{\"value\":6.0},\"y1\":{\"value\":12.0}},\"id\":\"5248\",\"type\":\"Segment\"},{\"attributes\":{},\"id\":\"5452\",\"type\":\"UnionRenderers\"},{\"attributes\":{\"x0\":{\"value\":2},\"x1\":{\"value\":2},\"y0\":{\"value\":2.0},\"y1\":{\"value\":14.0}},\"id\":\"5218\",\"type\":\"Segment\"},{\"attributes\":{\"line_alpha\":{\"value\":0.1},\"x0\":{\"value\":1},\"x1\":{\"value\":1},\"y0\":{\"value\":45.515624999999986},\"y1\":{\"value\":39.39375}},\"id\":\"5184\",\"type\":\"Segment\"},{\"attributes\":{\"source\":{\"id\":\"5212\"}},\"id\":\"5216\",\"type\":\"CDSView\"},{\"attributes\":{},\"id\":\"5453\",\"type\":\"Selection\"},{\"attributes\":{\"source\":{\"id\":\"5187\"}},\"id\":\"5191\",\"type\":\"CDSView\"},{\"attributes\":{\"callback\":null},\"id\":\"5173\",\"type\":\"HoverTool\"},{\"attributes\":{\"x0\":{\"value\":2},\"x1\":{\"value\":2},\"y0\":{\"value\":34.0},\"y1\":{\"value\":22.0}},\"id\":\"5213\",\"type\":\"Segment\"},{\"attributes\":{},\"id\":\"5454\",\"type\":\"UnionRenderers\"},{\"attributes\":{\"end\":20},\"id\":\"5157\",\"type\":\"Range1d\"},{\"attributes\":{\"bottom\":{\"value\":18.0},\"fill_alpha\":{\"value\":0.1},\"fill_color\":{\"value\":\"#FDE725\"},\"line_alpha\":{\"value\":0.1},\"top\":{\"value\":18.0},\"width\":{\"value\":0.7},\"x\":{\"value\":3}},\"id\":\"5254\",\"type\":\"VBar\"},{\"attributes\":{},\"id\":\"5174\",\"type\":\"WheelZoomTool\"},{\"attributes\":{\"line_alpha\":{\"value\":0.1},\"x0\":{\"value\":3},\"x1\":{\"value\":3},\"y0\":{\"value\":24.0},\"y1\":{\"value\":18.0}},\"id\":\"5244\",\"type\":\"Segment\"},{\"attributes\":{},\"id\":\"5455\",\"type\":\"Selection\"},{\"attributes\":{\"data_source\":{\"id\":\"5242\"},\"glyph\":{\"id\":\"5243\"},\"hover_glyph\":null,\"muted_glyph\":null,\"nonselection_glyph\":{\"id\":\"5244\"},\"selection_glyph\":null,\"view\":{\"id\":\"5246\"}},\"id\":\"5245\",\"type\":\"GlyphRenderer\"},{\"attributes\":{},\"id\":\"5175\",\"type\":\"ResetTool\"},{\"attributes\":{\"data\":{},\"selected\":{\"id\":\"5467\"},\"selection_policy\":{\"id\":\"5466\"}},\"id\":\"5247\",\"type\":\"ColumnDataSource\"},{\"attributes\":{},\"id\":\"5456\",\"type\":\"UnionRenderers\"},{\"attributes\":{\"source\":{\"id\":\"5217\"}},\"id\":\"5221\",\"type\":\"CDSView\"},{\"attributes\":{\"source\":{\"id\":\"5247\"}},\"id\":\"5251\",\"type\":\"CDSView\"},{\"attributes\":{},\"id\":\"5176\",\"type\":\"PanTool\"},{\"attributes\":{\"line_alpha\":{\"value\":0.1},\"x0\":{\"value\":2},\"x1\":{\"value\":2},\"y0\":{\"value\":34.0},\"y1\":{\"value\":22.0}},\"id\":\"5214\",\"type\":\"Segment\"},{\"attributes\":{\"bottom\":{\"value\":18.0},\"fill_color\":{\"value\":\"#FDE725\"},\"top\":{\"value\":18.0},\"width\":{\"value\":0.7},\"x\":{\"value\":3}},\"id\":\"5253\",\"type\":\"VBar\"},{\"attributes\":{\"data_source\":{\"id\":\"5212\"},\"glyph\":{\"id\":\"5213\"},\"hover_glyph\":null,\"muted_glyph\":null,\"nonselection_glyph\":{\"id\":\"5214\"},\"selection_glyph\":null,\"view\":{\"id\":\"5216\"}},\"id\":\"5215\",\"type\":\"GlyphRenderer\"},{\"attributes\":{\"x0\":{\"value\":1},\"x1\":{\"value\":1},\"y0\":{\"value\":45.515624999999986},\"y1\":{\"value\":39.39375}},\"id\":\"5183\",\"type\":\"Segment\"},{\"attributes\":{},\"id\":\"5457\",\"type\":\"Selection\"},{\"attributes\":{\"active_drag\":\"auto\",\"active_inspect\":\"auto\",\"active_multi\":null,\"active_scroll\":\"auto\",\"active_tap\":\"auto\",\"tools\":[{\"id\":\"5173\"},{\"id\":\"5174\"},{\"id\":\"5175\"},{\"id\":\"5176\"}]},\"id\":\"5177\",\"type\":\"Toolbar\"},{\"attributes\":{\"data\":{},\"selected\":{\"id\":\"5455\"},\"selection_policy\":{\"id\":\"5454\"}},\"id\":\"5217\",\"type\":\"ColumnDataSource\"},{\"attributes\":{},\"id\":\"5458\",\"type\":\"UnionRenderers\"},{\"attributes\":{},\"id\":\"5442\",\"type\":\"UnionRenderers\"},{\"attributes\":{},\"id\":\"5459\",\"type\":\"Selection\"},{\"attributes\":{\"bottom\":{\"value\":22.0},\"fill_color\":{\"value\":\"#FDE725\"},\"top\":{\"value\":21.0},\"width\":{\"value\":0.7},\"x\":{\"value\":2}},\"id\":\"5223\",\"type\":\"VBar\"},{\"attributes\":{\"data\":{},\"selected\":{\"id\":\"5443\"},\"selection_policy\":{\"id\":\"5442\"}},\"id\":\"5187\",\"type\":\"ColumnDataSource\"},{\"attributes\":{\"line_alpha\":{\"value\":0.1},\"x0\":{\"value\":3},\"x1\":{\"value\":3},\"y0\":{\"value\":6.0},\"y1\":{\"value\":12.0}},\"id\":\"5249\",\"type\":\"Segment\"},{\"attributes\":{},\"id\":\"5460\",\"type\":\"UnionRenderers\"},{\"attributes\":{\"data_source\":{\"id\":\"5247\"},\"glyph\":{\"id\":\"5248\"},\"hover_glyph\":null,\"muted_glyph\":null,\"nonselection_glyph\":{\"id\":\"5249\"},\"selection_glyph\":null,\"view\":{\"id\":\"5251\"}},\"id\":\"5250\",\"type\":\"GlyphRenderer\"},{\"attributes\":{\"fill_color\":{\"value\":\"#1f77b4\"},\"height\":{\"units\":\"data\",\"value\":0.01},\"width\":{\"units\":\"data\",\"value\":0.2},\"x\":{\"value\":3},\"y\":{\"value\":24.0}},\"id\":\"5268\",\"type\":\"Rect\"},{\"attributes\":{\"line_alpha\":{\"value\":0.1},\"x0\":{\"value\":2},\"x1\":{\"value\":2},\"y0\":{\"value\":2.0},\"y1\":{\"value\":14.0}},\"id\":\"5219\",\"type\":\"Segment\"},{\"attributes\":{\"line_alpha\":{\"value\":0.1},\"x0\":{\"value\":1},\"x1\":{\"value\":1},\"y0\":{\"value\":29.190625000000022},\"y1\":{\"value\":35.31250000000001}},\"id\":\"5189\",\"type\":\"Segment\"}],\"root_ids\":[\"5154\"]},\"title\":\"Bokeh Application\",\"version\":\"2.2.3\"}};\n",
       "  var render_items = [{\"docid\":\"ef6eca92-0d16-4882-86bb-b4ed810d42ba\",\"root_ids\":[\"5154\"],\"roots\":{\"5154\":\"af51cd7c-cf1f-49be-9953-da745a416fd9\"}}];\n",
       "  root.Bokeh.embed.embed_items_notebook(docs_json, render_items);\n",
       "\n",
       "  }\n",
       "  if (root.Bokeh !== undefined) {\n",
       "    embed_document(root);\n",
       "  } else {\n",
       "    var attempts = 0;\n",
       "    var timer = setInterval(function(root) {\n",
       "      if (root.Bokeh !== undefined) {\n",
       "        clearInterval(timer);\n",
       "        embed_document(root);\n",
       "      } else {\n",
       "        attempts++;\n",
       "        if (attempts > 100) {\n",
       "          clearInterval(timer);\n",
       "          console.log(\"Bokeh: ERROR: Unable to run BokehJS code because BokehJS library is missing\");\n",
       "        }\n",
       "      }\n",
       "    }, 10, root)\n",
       "  }\n",
       "})(window);"
      ],
      "application/vnd.bokehjs_exec.v0+json": ""
     },
     "metadata": {
      "application/vnd.bokehjs_exec.v0+json": {
       "id": "5154"
      }
     },
     "output_type": "display_data"
    },
    {
     "data": {
      "text/html": [
       "\n",
       "\n",
       "\n",
       "\n",
       "\n",
       "\n",
       "  <div class=\"bk-root\" id=\"3dcc5125-1cfc-4e1e-8642-b11c5890fcc1\" data-root-id=\"5676\"></div>\n"
      ]
     },
     "metadata": {},
     "output_type": "display_data"
    },
    {
     "data": {
      "application/javascript": [
       "(function(root) {\n",
       "  function embed_document(root) {\n",
       "    \n",
       "  var docs_json = {\"b6f7d6e7-3905-42eb-9714-c6e35b89b39e\":{\"roots\":{\"references\":[{\"attributes\":{\"below\":[{\"id\":\"5687\"}],\"center\":[{\"id\":\"5690\"},{\"id\":\"5694\"}],\"left\":[{\"id\":\"5691\"}],\"plot_height\":350,\"plot_width\":1000,\"renderers\":[{\"id\":\"5707\"},{\"id\":\"5712\"},{\"id\":\"5717\"},{\"id\":\"5722\"},{\"id\":\"5727\"},{\"id\":\"5732\"},{\"id\":\"5737\"},{\"id\":\"5742\"},{\"id\":\"5747\"},{\"id\":\"5752\"},{\"id\":\"5757\"},{\"id\":\"5762\"},{\"id\":\"5767\"},{\"id\":\"5772\"},{\"id\":\"5777\"},{\"id\":\"5782\"},{\"id\":\"5787\"},{\"id\":\"5792\"}],\"title\":{\"id\":\"5677\"},\"toolbar\":{\"id\":\"5699\"},\"x_range\":{\"id\":\"5679\"},\"x_scale\":{\"id\":\"5683\"},\"y_range\":{\"id\":\"5681\"},\"y_scale\":{\"id\":\"5685\"}},\"id\":\"5676\",\"subtype\":\"Figure\",\"type\":\"Plot\"},{\"attributes\":{},\"id\":\"6033\",\"type\":\"Selection\"},{\"attributes\":{},\"id\":\"6034\",\"type\":\"UnionRenderers\"},{\"attributes\":{},\"id\":\"6035\",\"type\":\"Selection\"},{\"attributes\":{},\"id\":\"6036\",\"type\":\"UnionRenderers\"},{\"attributes\":{},\"id\":\"6037\",\"type\":\"Selection\"},{\"attributes\":{},\"id\":\"6032\",\"type\":\"UnionRenderers\"},{\"attributes\":{},\"id\":\"5696\",\"type\":\"WheelZoomTool\"},{\"attributes\":{},\"id\":\"5697\",\"type\":\"ResetTool\"},{\"attributes\":{\"data\":{},\"selected\":{\"id\":\"6027\"},\"selection_policy\":{\"id\":\"6026\"}},\"id\":\"5764\",\"type\":\"ColumnDataSource\"},{\"attributes\":{},\"id\":\"6002\",\"type\":\"UnionRenderers\"},{\"attributes\":{},\"id\":\"5698\",\"type\":\"PanTool\"},{\"attributes\":{\"bottom\":{\"value\":18.0},\"fill_color\":{\"value\":\"#FDE725\"},\"top\":{\"value\":18.0},\"width\":{\"value\":0.7},\"x\":{\"value\":3}},\"id\":\"5775\",\"type\":\"VBar\"},{\"attributes\":{\"data_source\":{\"id\":\"5724\"},\"glyph\":{\"id\":\"5725\"},\"hover_glyph\":null,\"muted_glyph\":null,\"nonselection_glyph\":{\"id\":\"5726\"},\"selection_glyph\":null,\"view\":{\"id\":\"5728\"}},\"id\":\"5727\",\"type\":\"GlyphRenderer\"},{\"attributes\":{\"source\":{\"id\":\"5769\"}},\"id\":\"5773\",\"type\":\"CDSView\"},{\"attributes\":{\"x0\":{\"value\":1},\"x1\":{\"value\":1},\"y0\":{\"value\":29.08124999999999},\"y1\":{\"value\":35.332499999999996}},\"id\":\"5710\",\"type\":\"Segment\"},{\"attributes\":{\"data\":{},\"selected\":{\"id\":\"6029\"},\"selection_policy\":{\"id\":\"6028\"}},\"id\":\"5769\",\"type\":\"ColumnDataSource\"},{\"attributes\":{},\"id\":\"6003\",\"type\":\"Selection\"},{\"attributes\":{\"fill_alpha\":{\"value\":0.1},\"fill_color\":{\"value\":\"#1f77b4\"},\"height\":{\"units\":\"data\",\"value\":0.01},\"line_alpha\":{\"value\":0.1},\"width\":{\"units\":\"data\",\"value\":0.2},\"x\":{\"value\":1},\"y\":{\"value\":29.08124999999999}},\"id\":\"5726\",\"type\":\"Rect\"},{\"attributes\":{\"x0\":{\"value\":3},\"x1\":{\"value\":3},\"y0\":{\"value\":1.0},\"y1\":{\"value\":10.0}},\"id\":\"5770\",\"type\":\"Segment\"},{\"attributes\":{},\"id\":\"6005\",\"type\":\"Selection\"},{\"attributes\":{\"source\":{\"id\":\"5754\"}},\"id\":\"5758\",\"type\":\"CDSView\"},{\"attributes\":{},\"id\":\"6004\",\"type\":\"UnionRenderers\"},{\"attributes\":{\"source\":{\"id\":\"5724\"}},\"id\":\"5728\",\"type\":\"CDSView\"},{\"attributes\":{\"data_source\":{\"id\":\"5754\"},\"glyph\":{\"id\":\"5755\"},\"hover_glyph\":null,\"muted_glyph\":null,\"nonselection_glyph\":{\"id\":\"5756\"},\"selection_glyph\":null,\"view\":{\"id\":\"5758\"}},\"id\":\"5757\",\"type\":\"GlyphRenderer\"},{\"attributes\":{\"source\":{\"id\":\"5759\"}},\"id\":\"5763\",\"type\":\"CDSView\"},{\"attributes\":{},\"id\":\"6006\",\"type\":\"UnionRenderers\"},{\"attributes\":{\"data\":{},\"selected\":{\"id\":\"6013\"},\"selection_policy\":{\"id\":\"6012\"}},\"id\":\"5729\",\"type\":\"ColumnDataSource\"},{\"attributes\":{\"data\":{},\"selected\":{\"id\":\"6025\"},\"selection_policy\":{\"id\":\"6024\"}},\"id\":\"5759\",\"type\":\"ColumnDataSource\"},{\"attributes\":{\"line_alpha\":{\"value\":0.1},\"x0\":{\"value\":3},\"x1\":{\"value\":3},\"y0\":{\"value\":27.0},\"y1\":{\"value\":18.0}},\"id\":\"5766\",\"type\":\"Segment\"},{\"attributes\":{\"data_source\":{\"id\":\"5759\"},\"glyph\":{\"id\":\"5760\"},\"hover_glyph\":null,\"muted_glyph\":null,\"nonselection_glyph\":{\"id\":\"5761\"},\"selection_glyph\":null,\"view\":{\"id\":\"5763\"}},\"id\":\"5762\",\"type\":\"GlyphRenderer\"},{\"attributes\":{\"fill_color\":{\"value\":\"#1f77b4\"},\"height\":{\"units\":\"data\",\"value\":0.01},\"width\":{\"units\":\"data\",\"value\":0.2},\"x\":{\"value\":1},\"y\":{\"value\":45.751250000000006}},\"id\":\"5730\",\"type\":\"Rect\"},{\"attributes\":{},\"id\":\"6007\",\"type\":\"Selection\"},{\"attributes\":{\"data\":{},\"selected\":{\"id\":\"6015\"},\"selection_policy\":{\"id\":\"6014\"}},\"id\":\"5734\",\"type\":\"ColumnDataSource\"},{\"attributes\":{\"x0\":{\"value\":3},\"x1\":{\"value\":3},\"y0\":{\"value\":27.0},\"y1\":{\"value\":18.0}},\"id\":\"5765\",\"type\":\"Segment\"},{\"attributes\":{},\"id\":\"6008\",\"type\":\"UnionRenderers\"},{\"attributes\":{\"data_source\":{\"id\":\"5729\"},\"glyph\":{\"id\":\"5730\"},\"hover_glyph\":null,\"muted_glyph\":null,\"nonselection_glyph\":{\"id\":\"5731\"},\"selection_glyph\":null,\"view\":{\"id\":\"5733\"}},\"id\":\"5732\",\"type\":\"GlyphRenderer\"},{\"attributes\":{},\"id\":\"6009\",\"type\":\"Selection\"},{\"attributes\":{\"fill_alpha\":{\"value\":0.1},\"fill_color\":{\"value\":\"#1f77b4\"},\"height\":{\"units\":\"data\",\"value\":0.01},\"line_alpha\":{\"value\":0.1},\"width\":{\"units\":\"data\",\"value\":0.2},\"x\":{\"value\":1},\"y\":{\"value\":45.751250000000006}},\"id\":\"5731\",\"type\":\"Rect\"},{\"attributes\":{\"fill_alpha\":{\"value\":0.1},\"fill_color\":{\"value\":\"#1f77b4\"},\"height\":{\"units\":\"data\",\"value\":0.01},\"line_alpha\":{\"value\":0.1},\"width\":{\"units\":\"data\",\"value\":0.2},\"x\":{\"value\":2},\"y\":{\"value\":37.0}},\"id\":\"5761\",\"type\":\"Rect\"},{\"attributes\":{\"line_alpha\":{\"value\":0.1},\"x0\":{\"value\":3},\"x1\":{\"value\":3},\"y0\":{\"value\":1.0},\"y1\":{\"value\":10.0}},\"id\":\"5771\",\"type\":\"Segment\"},{\"attributes\":{},\"id\":\"6016\",\"type\":\"UnionRenderers\"},{\"attributes\":{\"data_source\":{\"id\":\"5769\"},\"glyph\":{\"id\":\"5770\"},\"hover_glyph\":null,\"muted_glyph\":null,\"nonselection_glyph\":{\"id\":\"5771\"},\"selection_glyph\":null,\"view\":{\"id\":\"5773\"}},\"id\":\"5772\",\"type\":\"GlyphRenderer\"},{\"attributes\":{\"source\":{\"id\":\"5729\"}},\"id\":\"5733\",\"type\":\"CDSView\"},{\"attributes\":{\"fill_color\":{\"value\":\"#1f77b4\"},\"height\":{\"units\":\"data\",\"value\":0.01},\"width\":{\"units\":\"data\",\"value\":0.2},\"x\":{\"value\":2},\"y\":{\"value\":37.0}},\"id\":\"5760\",\"type\":\"Rect\"},{\"attributes\":{\"data\":{},\"selected\":{\"id\":\"6031\"},\"selection_policy\":{\"id\":\"6030\"}},\"id\":\"5774\",\"type\":\"ColumnDataSource\"},{\"attributes\":{},\"id\":\"6011\",\"type\":\"Selection\"},{\"attributes\":{\"source\":{\"id\":\"5734\"}},\"id\":\"5738\",\"type\":\"CDSView\"},{\"attributes\":{\"bottom\":{\"value\":18.0},\"fill_alpha\":{\"value\":0.1},\"fill_color\":{\"value\":\"#FDE725\"},\"line_alpha\":{\"value\":0.1},\"top\":{\"value\":18.0},\"width\":{\"value\":0.7},\"x\":{\"value\":3}},\"id\":\"5776\",\"type\":\"VBar\"},{\"attributes\":{},\"id\":\"6010\",\"type\":\"UnionRenderers\"},{\"attributes\":{\"x0\":{\"value\":2},\"x1\":{\"value\":2},\"y0\":{\"value\":37.0},\"y1\":{\"value\":22.0}},\"id\":\"5735\",\"type\":\"Segment\"},{\"attributes\":{\"source\":{\"id\":\"5774\"}},\"id\":\"5778\",\"type\":\"CDSView\"},{\"attributes\":{\"data_source\":{\"id\":\"5704\"},\"glyph\":{\"id\":\"5705\"},\"hover_glyph\":null,\"muted_glyph\":null,\"nonselection_glyph\":{\"id\":\"5706\"},\"selection_glyph\":null,\"view\":{\"id\":\"5708\"}},\"id\":\"5707\",\"type\":\"GlyphRenderer\"},{\"attributes\":{\"x0\":{\"value\":2},\"x1\":{\"value\":2},\"y0\":{\"value\":0.0},\"y1\":{\"value\":12.0}},\"id\":\"5740\",\"type\":\"Segment\"},{\"attributes\":{},\"id\":\"6012\",\"type\":\"UnionRenderers\"},{\"attributes\":{\"bottom\":{\"value\":18.0},\"fill_color\":{\"value\":\"#440154\"},\"top\":{\"value\":10.0},\"width\":{\"value\":0.7},\"x\":{\"value\":3}},\"id\":\"5780\",\"type\":\"VBar\"},{\"attributes\":{},\"id\":\"6013\",\"type\":\"Selection\"},{\"attributes\":{\"data_source\":{\"id\":\"5774\"},\"glyph\":{\"id\":\"5775\"},\"hover_glyph\":null,\"muted_glyph\":null,\"nonselection_glyph\":{\"id\":\"5776\"},\"selection_glyph\":null,\"view\":{\"id\":\"5778\"}},\"id\":\"5777\",\"type\":\"GlyphRenderer\"},{\"attributes\":{\"source\":{\"id\":\"5704\"}},\"id\":\"5708\",\"type\":\"CDSView\"},{\"attributes\":{\"ticks\":[0,1,2,3]},\"id\":\"5794\",\"type\":\"FixedTicker\"},{\"attributes\":{\"callback\":null},\"id\":\"5695\",\"type\":\"HoverTool\"},{\"attributes\":{\"data\":{},\"selected\":{\"id\":\"6005\"},\"selection_policy\":{\"id\":\"6004\"}},\"id\":\"5709\",\"type\":\"ColumnDataSource\"},{\"attributes\":{},\"id\":\"6014\",\"type\":\"UnionRenderers\"},{\"attributes\":{\"source\":{\"id\":\"5709\"}},\"id\":\"5713\",\"type\":\"CDSView\"},{\"attributes\":{\"data\":{},\"selected\":{\"id\":\"6019\"},\"selection_policy\":{\"id\":\"6018\"}},\"id\":\"5744\",\"type\":\"ColumnDataSource\"},{\"attributes\":{\"data\":{},\"selected\":{\"id\":\"6033\"},\"selection_policy\":{\"id\":\"6032\"}},\"id\":\"5779\",\"type\":\"ColumnDataSource\"},{\"attributes\":{},\"id\":\"6017\",\"type\":\"Selection\"},{\"attributes\":{\"bottom\":{\"value\":39.5},\"fill_color\":{\"value\":\"#FDE725\"},\"top\":{\"value\":37.37875},\"width\":{\"value\":0.7},\"x\":{\"value\":1}},\"id\":\"5715\",\"type\":\"VBar\"},{\"attributes\":{\"line_alpha\":{\"value\":0.1},\"x0\":{\"value\":2},\"x1\":{\"value\":2},\"y0\":{\"value\":37.0},\"y1\":{\"value\":22.0}},\"id\":\"5736\",\"type\":\"Segment\"},{\"attributes\":{\"line_alpha\":{\"value\":0.1},\"x0\":{\"value\":1},\"x1\":{\"value\":1},\"y0\":{\"value\":45.751250000000006},\"y1\":{\"value\":39.5}},\"id\":\"5706\",\"type\":\"Segment\"},{\"attributes\":{\"bottom\":{\"value\":18.0},\"fill_alpha\":{\"value\":0.1},\"fill_color\":{\"value\":\"#440154\"},\"line_alpha\":{\"value\":0.1},\"top\":{\"value\":10.0},\"width\":{\"value\":0.7},\"x\":{\"value\":3}},\"id\":\"5781\",\"type\":\"VBar\"},{\"attributes\":{\"data_source\":{\"id\":\"5734\"},\"glyph\":{\"id\":\"5735\"},\"hover_glyph\":null,\"muted_glyph\":null,\"nonselection_glyph\":{\"id\":\"5736\"},\"selection_glyph\":null,\"view\":{\"id\":\"5738\"}},\"id\":\"5737\",\"type\":\"GlyphRenderer\"},{\"attributes\":{\"x0\":{\"value\":1},\"x1\":{\"value\":1},\"y0\":{\"value\":45.751250000000006},\"y1\":{\"value\":39.5}},\"id\":\"5705\",\"type\":\"Segment\"},{\"attributes\":{},\"id\":\"6015\",\"type\":\"Selection\"},{\"attributes\":{\"data\":{},\"selected\":{\"id\":\"6017\"},\"selection_policy\":{\"id\":\"6016\"}},\"id\":\"5739\",\"type\":\"ColumnDataSource\"},{\"attributes\":{},\"id\":\"5692\",\"type\":\"BasicTicker\"},{\"attributes\":{\"source\":{\"id\":\"5779\"}},\"id\":\"5783\",\"type\":\"CDSView\"},{\"attributes\":{},\"id\":\"6018\",\"type\":\"UnionRenderers\"},{\"attributes\":{\"source\":{\"id\":\"5739\"}},\"id\":\"5743\",\"type\":\"CDSView\"},{\"attributes\":{},\"id\":\"6020\",\"type\":\"UnionRenderers\"},{\"attributes\":{\"end\":20},\"id\":\"5679\",\"type\":\"Range1d\"},{\"attributes\":{\"fill_color\":{\"value\":\"#1f77b4\"},\"height\":{\"units\":\"data\",\"value\":0.01},\"width\":{\"units\":\"data\",\"value\":0.2},\"x\":{\"value\":3},\"y\":{\"value\":1.0}},\"id\":\"5785\",\"type\":\"Rect\"},{\"attributes\":{\"active_drag\":\"auto\",\"active_inspect\":\"auto\",\"active_multi\":null,\"active_scroll\":\"auto\",\"active_tap\":\"auto\",\"tools\":[{\"id\":\"5695\"},{\"id\":\"5696\"},{\"id\":\"5697\"},{\"id\":\"5698\"}]},\"id\":\"5699\",\"type\":\"Toolbar\"},{\"attributes\":{\"data_source\":{\"id\":\"5779\"},\"glyph\":{\"id\":\"5780\"},\"hover_glyph\":null,\"muted_glyph\":null,\"nonselection_glyph\":{\"id\":\"5781\"},\"selection_glyph\":null,\"view\":{\"id\":\"5783\"}},\"id\":\"5782\",\"type\":\"GlyphRenderer\"},{\"attributes\":{\"line_alpha\":{\"value\":0.1},\"x0\":{\"value\":1},\"x1\":{\"value\":1},\"y0\":{\"value\":29.08124999999999},\"y1\":{\"value\":35.332499999999996}},\"id\":\"5711\",\"type\":\"Segment\"},{\"attributes\":{\"data_source\":{\"id\":\"5709\"},\"glyph\":{\"id\":\"5710\"},\"hover_glyph\":null,\"muted_glyph\":null,\"nonselection_glyph\":{\"id\":\"5711\"},\"selection_glyph\":null,\"view\":{\"id\":\"5713\"}},\"id\":\"5712\",\"type\":\"GlyphRenderer\"},{\"attributes\":{},\"id\":\"6019\",\"type\":\"Selection\"},{\"attributes\":{\"data\":{},\"selected\":{\"id\":\"6003\"},\"selection_policy\":{\"id\":\"6002\"}},\"id\":\"5704\",\"type\":\"ColumnDataSource\"},{\"attributes\":{\"data\":{},\"selected\":{\"id\":\"6007\"},\"selection_policy\":{\"id\":\"6006\"}},\"id\":\"5714\",\"type\":\"ColumnDataSource\"},{\"attributes\":{\"axis\":{\"id\":\"5691\"},\"dimension\":1,\"grid_line_color\":\"white\",\"grid_line_width\":0,\"ticker\":null},\"id\":\"5694\",\"type\":\"Grid\"},{\"attributes\":{\"bottom\":{\"value\":39.5},\"fill_alpha\":{\"value\":0.1},\"fill_color\":{\"value\":\"#FDE725\"},\"line_alpha\":{\"value\":0.1},\"top\":{\"value\":37.37875},\"width\":{\"value\":0.7},\"x\":{\"value\":1}},\"id\":\"5716\",\"type\":\"VBar\"},{\"attributes\":{\"bottom\":{\"value\":22.0},\"fill_color\":{\"value\":\"#FDE725\"},\"top\":{\"value\":21.0},\"width\":{\"value\":0.7},\"x\":{\"value\":2}},\"id\":\"5745\",\"type\":\"VBar\"},{\"attributes\":{\"data\":{},\"selected\":{\"id\":\"6035\"},\"selection_policy\":{\"id\":\"6034\"}},\"id\":\"5784\",\"type\":\"ColumnDataSource\"},{\"attributes\":{\"axis_label\":\"Utilization in %\",\"formatter\":{\"id\":\"6000\"},\"ticker\":{\"id\":\"5692\"}},\"id\":\"5691\",\"type\":\"LinearAxis\"},{\"attributes\":{\"source\":{\"id\":\"5714\"}},\"id\":\"5718\",\"type\":\"CDSView\"},{\"attributes\":{\"line_alpha\":{\"value\":0.1},\"x0\":{\"value\":2},\"x1\":{\"value\":2},\"y0\":{\"value\":0.0},\"y1\":{\"value\":12.0}},\"id\":\"5741\",\"type\":\"Segment\"},{\"attributes\":{},\"id\":\"6021\",\"type\":\"Selection\"},{\"attributes\":{\"data\":{},\"selected\":{\"id\":\"6021\"},\"selection_policy\":{\"id\":\"6020\"}},\"id\":\"5749\",\"type\":\"ColumnDataSource\"},{\"attributes\":{},\"id\":\"6022\",\"type\":\"UnionRenderers\"},{\"attributes\":{\"data_source\":{\"id\":\"5739\"},\"glyph\":{\"id\":\"5740\"},\"hover_glyph\":null,\"muted_glyph\":null,\"nonselection_glyph\":{\"id\":\"5741\"},\"selection_glyph\":null,\"view\":{\"id\":\"5743\"}},\"id\":\"5742\",\"type\":\"GlyphRenderer\"},{\"attributes\":{\"data_source\":{\"id\":\"5784\"},\"glyph\":{\"id\":\"5785\"},\"hover_glyph\":null,\"muted_glyph\":null,\"nonselection_glyph\":{\"id\":\"5786\"},\"selection_glyph\":null,\"view\":{\"id\":\"5788\"}},\"id\":\"5787\",\"type\":\"GlyphRenderer\"},{\"attributes\":{\"text\":\"Node algo-2\"},\"id\":\"5677\",\"type\":\"Title\"},{\"attributes\":{\"bottom\":{\"value\":22.0},\"fill_alpha\":{\"value\":0.1},\"fill_color\":{\"value\":\"#FDE725\"},\"line_alpha\":{\"value\":0.1},\"top\":{\"value\":21.0},\"width\":{\"value\":0.7},\"x\":{\"value\":2}},\"id\":\"5746\",\"type\":\"VBar\"},{\"attributes\":{\"bottom\":{\"value\":21.0},\"fill_alpha\":{\"value\":0.1},\"fill_color\":{\"value\":\"#440154\"},\"line_alpha\":{\"value\":0.1},\"top\":{\"value\":12.0},\"width\":{\"value\":0.7},\"x\":{\"value\":2}},\"id\":\"5751\",\"type\":\"VBar\"},{\"attributes\":{},\"id\":\"6030\",\"type\":\"UnionRenderers\"},{\"attributes\":{\"axis\":{\"id\":\"5687\"},\"grid_line_color\":null,\"grid_line_width\":0,\"ticker\":null},\"id\":\"5690\",\"type\":\"Grid\"},{\"attributes\":{\"source\":{\"id\":\"5764\"}},\"id\":\"5768\",\"type\":\"CDSView\"},{\"attributes\":{\"fill_alpha\":{\"value\":0.1},\"fill_color\":{\"value\":\"#1f77b4\"},\"height\":{\"units\":\"data\",\"value\":0.01},\"line_alpha\":{\"value\":0.1},\"width\":{\"units\":\"data\",\"value\":0.2},\"x\":{\"value\":3},\"y\":{\"value\":1.0}},\"id\":\"5786\",\"type\":\"Rect\"},{\"attributes\":{},\"id\":\"6024\",\"type\":\"UnionRenderers\"},{\"attributes\":{\"data_source\":{\"id\":\"5714\"},\"glyph\":{\"id\":\"5715\"},\"hover_glyph\":null,\"muted_glyph\":null,\"nonselection_glyph\":{\"id\":\"5716\"},\"selection_glyph\":null,\"view\":{\"id\":\"5718\"}},\"id\":\"5717\",\"type\":\"GlyphRenderer\"},{\"attributes\":{\"source\":{\"id\":\"5744\"}},\"id\":\"5748\",\"type\":\"CDSView\"},{\"attributes\":{\"fill_color\":{\"value\":\"#1f77b4\"},\"height\":{\"units\":\"data\",\"value\":0.01},\"width\":{\"units\":\"data\",\"value\":0.2},\"x\":{\"value\":3},\"y\":{\"value\":27.0}},\"id\":\"5790\",\"type\":\"Rect\"},{\"attributes\":{},\"id\":\"6023\",\"type\":\"Selection\"},{\"attributes\":{\"bottom\":{\"value\":37.37875},\"fill_color\":{\"value\":\"#440154\"},\"top\":{\"value\":35.332499999999996},\"width\":{\"value\":0.7},\"x\":{\"value\":1}},\"id\":\"5720\",\"type\":\"VBar\"},{\"attributes\":{\"source\":{\"id\":\"5784\"}},\"id\":\"5788\",\"type\":\"CDSView\"},{\"attributes\":{\"data_source\":{\"id\":\"5744\"},\"glyph\":{\"id\":\"5745\"},\"hover_glyph\":null,\"muted_glyph\":null,\"nonselection_glyph\":{\"id\":\"5746\"},\"selection_glyph\":null,\"view\":{\"id\":\"5748\"}},\"id\":\"5747\",\"type\":\"GlyphRenderer\"},{\"attributes\":{\"fill_color\":{\"value\":\"#1f77b4\"},\"height\":{\"units\":\"data\",\"value\":0.01},\"width\":{\"units\":\"data\",\"value\":0.2},\"x\":{\"value\":1},\"y\":{\"value\":29.08124999999999}},\"id\":\"5725\",\"type\":\"Rect\"},{\"attributes\":{\"data\":{},\"selected\":{\"id\":\"6037\"},\"selection_policy\":{\"id\":\"6036\"}},\"id\":\"5789\",\"type\":\"ColumnDataSource\"},{\"attributes\":{},\"id\":\"6025\",\"type\":\"Selection\"},{\"attributes\":{},\"id\":\"6027\",\"type\":\"Selection\"},{\"attributes\":{},\"id\":\"6026\",\"type\":\"UnionRenderers\"},{\"attributes\":{\"data_source\":{\"id\":\"5789\"},\"glyph\":{\"id\":\"5790\"},\"hover_glyph\":null,\"muted_glyph\":null,\"nonselection_glyph\":{\"id\":\"5791\"},\"selection_glyph\":null,\"view\":{\"id\":\"5793\"}},\"id\":\"5792\",\"type\":\"GlyphRenderer\"},{\"attributes\":{\"data\":{},\"selected\":{\"id\":\"6009\"},\"selection_policy\":{\"id\":\"6008\"}},\"id\":\"5719\",\"type\":\"ColumnDataSource\"},{\"attributes\":{\"bottom\":{\"value\":21.0},\"fill_color\":{\"value\":\"#440154\"},\"top\":{\"value\":12.0},\"width\":{\"value\":0.7},\"x\":{\"value\":2}},\"id\":\"5750\",\"type\":\"VBar\"},{\"attributes\":{\"formatter\":{\"id\":\"6001\"},\"major_label_overrides\":{\"1\":\"cpu\",\"2\":\"gpu0\",\"3\":\"gpu0_memory\"},\"major_label_text_font_size\":\"10px\",\"ticker\":{\"id\":\"5794\"}},\"id\":\"5687\",\"type\":\"LinearAxis\"},{\"attributes\":{\"bottom\":{\"value\":37.37875},\"fill_alpha\":{\"value\":0.1},\"fill_color\":{\"value\":\"#440154\"},\"line_alpha\":{\"value\":0.1},\"top\":{\"value\":35.332499999999996},\"width\":{\"value\":0.7},\"x\":{\"value\":1}},\"id\":\"5721\",\"type\":\"VBar\"},{\"attributes\":{\"source\":{\"id\":\"5749\"}},\"id\":\"5753\",\"type\":\"CDSView\"},{\"attributes\":{\"fill_alpha\":{\"value\":0.1},\"fill_color\":{\"value\":\"#1f77b4\"},\"height\":{\"units\":\"data\",\"value\":0.01},\"line_alpha\":{\"value\":0.1},\"width\":{\"units\":\"data\",\"value\":0.2},\"x\":{\"value\":3},\"y\":{\"value\":27.0}},\"id\":\"5791\",\"type\":\"Rect\"},{\"attributes\":{\"data_source\":{\"id\":\"5764\"},\"glyph\":{\"id\":\"5765\"},\"hover_glyph\":null,\"muted_glyph\":null,\"nonselection_glyph\":{\"id\":\"5766\"},\"selection_glyph\":null,\"view\":{\"id\":\"5768\"}},\"id\":\"5767\",\"type\":\"GlyphRenderer\"},{\"attributes\":{\"data\":{},\"selected\":{\"id\":\"6011\"},\"selection_policy\":{\"id\":\"6010\"}},\"id\":\"5724\",\"type\":\"ColumnDataSource\"},{\"attributes\":{},\"id\":\"6028\",\"type\":\"UnionRenderers\"},{\"attributes\":{\"fill_color\":{\"value\":\"#1f77b4\"},\"height\":{\"units\":\"data\",\"value\":0.01},\"width\":{\"units\":\"data\",\"value\":0.2},\"x\":{\"value\":2},\"y\":{\"value\":0.0}},\"id\":\"5755\",\"type\":\"Rect\"},{\"attributes\":{\"source\":{\"id\":\"5789\"}},\"id\":\"5793\",\"type\":\"CDSView\"},{\"attributes\":{},\"id\":\"5681\",\"type\":\"DataRange1d\"},{\"attributes\":{\"data_source\":{\"id\":\"5749\"},\"glyph\":{\"id\":\"5750\"},\"hover_glyph\":null,\"muted_glyph\":null,\"nonselection_glyph\":{\"id\":\"5751\"},\"selection_glyph\":null,\"view\":{\"id\":\"5753\"}},\"id\":\"5752\",\"type\":\"GlyphRenderer\"},{\"attributes\":{\"source\":{\"id\":\"5719\"}},\"id\":\"5723\",\"type\":\"CDSView\"},{\"attributes\":{},\"id\":\"6029\",\"type\":\"Selection\"},{\"attributes\":{},\"id\":\"5683\",\"type\":\"LinearScale\"},{\"attributes\":{},\"id\":\"6000\",\"type\":\"BasicTickFormatter\"},{\"attributes\":{},\"id\":\"6001\",\"type\":\"BasicTickFormatter\"},{\"attributes\":{},\"id\":\"6031\",\"type\":\"Selection\"},{\"attributes\":{\"data_source\":{\"id\":\"5719\"},\"glyph\":{\"id\":\"5720\"},\"hover_glyph\":null,\"muted_glyph\":null,\"nonselection_glyph\":{\"id\":\"5721\"},\"selection_glyph\":null,\"view\":{\"id\":\"5723\"}},\"id\":\"5722\",\"type\":\"GlyphRenderer\"},{\"attributes\":{\"data\":{},\"selected\":{\"id\":\"6023\"},\"selection_policy\":{\"id\":\"6022\"}},\"id\":\"5754\",\"type\":\"ColumnDataSource\"},{\"attributes\":{},\"id\":\"5685\",\"type\":\"LinearScale\"},{\"attributes\":{\"fill_alpha\":{\"value\":0.1},\"fill_color\":{\"value\":\"#1f77b4\"},\"height\":{\"units\":\"data\",\"value\":0.01},\"line_alpha\":{\"value\":0.1},\"width\":{\"units\":\"data\",\"value\":0.2},\"x\":{\"value\":2},\"y\":{\"value\":0.0}},\"id\":\"5756\",\"type\":\"Rect\"}],\"root_ids\":[\"5676\"]},\"title\":\"Bokeh Application\",\"version\":\"2.2.3\"}};\n",
       "  var render_items = [{\"docid\":\"b6f7d6e7-3905-42eb-9714-c6e35b89b39e\",\"root_ids\":[\"5676\"],\"roots\":{\"5676\":\"3dcc5125-1cfc-4e1e-8642-b11c5890fcc1\"}}];\n",
       "  root.Bokeh.embed.embed_items_notebook(docs_json, render_items);\n",
       "\n",
       "  }\n",
       "  if (root.Bokeh !== undefined) {\n",
       "    embed_document(root);\n",
       "  } else {\n",
       "    var attempts = 0;\n",
       "    var timer = setInterval(function(root) {\n",
       "      if (root.Bokeh !== undefined) {\n",
       "        clearInterval(timer);\n",
       "        embed_document(root);\n",
       "      } else {\n",
       "        attempts++;\n",
       "        if (attempts > 100) {\n",
       "          clearInterval(timer);\n",
       "          console.log(\"Bokeh: ERROR: Unable to run BokehJS code because BokehJS library is missing\");\n",
       "        }\n",
       "      }\n",
       "    }, 10, root)\n",
       "  }\n",
       "})(window);"
      ],
      "application/vnd.bokehjs_exec.v0+json": ""
     },
     "metadata": {
      "application/vnd.bokehjs_exec.v0+json": {
       "id": "5676"
      }
     },
     "output_type": "display_data"
    }
   ],
   "source": [
    "if analyse_phase == \"training\":\n",
    "    display(Markdown(\"\"\" ### Batch size\"\"\"))\n",
    "    report = load_report('BatchSize')\n",
    "    if report:\n",
    "        params = report['RuleParameters'].split('\\n')\n",
    "        cpu_threshold_p95 = int(params[0].split(':')[1])\n",
    "        gpu_threshold_p95 = int(params[1].split(':')[1])\n",
    "        gpu_memory_threshold_p95 = int(params[2].split(':')[1])\n",
    "        patience = int(params[3].split(':')[1])\n",
    "        window = int(params[4].split(':')[1])\n",
    "        violations = report['Violations']\n",
    "        triggered = report['RuleTriggered']\n",
    "        datapoints = report['Datapoints']\n",
    "        \n",
    "        text = Paragraph(text=f\"\"\"The BatchSize rule helps to detect if GPU is underutilized because of the batch size being \n",
    "        too small. To detect this the rule analyzes the GPU memory footprint, CPU and GPU utilization. The rule checked if the 95th percentile of CPU utilization is below cpu_threshold_p95 of \n",
    "        {cpu_threshold_p95}%, the 95th percentile of GPU utilization is below gpu_threshold_p95 of {gpu_threshold_p95}% and the 95th percentile of memory footprint \\\n",
    "        below gpu_memory_threshold_p95 of {gpu_memory_threshold_p95}%. In your training job this happened {violations} times. \\\n",
    "        The rule skipped the first {patience} datapoints. The rule computed the percentiles over window size of {window} continuous datapoints.\\n\n",
    "        The rule analysed {datapoints} datapoints and triggered {triggered} times.\n",
    "        \"\"\", width=800)\n",
    "        show(text)\n",
    "        if len(report['Details']) >0: \n",
    "            timestamp = us_since_epoch_to_human_readable_time(report['Details']['last_timestamp'])\n",
    "            date = datetime.datetime.strptime(timestamp, '%Y-%m-%dT%H:%M:%S:%f')\n",
    "            day = date.date().strftime(\"%m/%d/%Y\")\n",
    "            hour = date.time().strftime(\"%H:%M:%S\")\n",
    "            del report['Details']['last_timestamp']\n",
    "            text = Paragraph(text=f\"\"\"Your training job is underutilizing the instance. You may want to consider\n",
    "            either switch to a smaller instance type or to increase the batch size. \n",
    "            The last time the BatchSize rule triggered in your training job was on {day} at {hour}.\n",
    "            The following boxplots are a snapshot from the timestamps. They the total \n",
    "            CPU utilization, the GPU utilization, and the GPU memory usage per GPU (without outliers).\"\"\", \n",
    "            width=800)\n",
    "            show(text)\n",
    "\n",
    "            for node_id in report['Details']:\n",
    "                xmax = max(20, len(report['Details'][node_id]))\n",
    "                \n",
    "                plot = figure(plot_height=350, \n",
    "                          plot_width=1000,\n",
    "                          toolbar_location='right',\n",
    "                          tools=\"hover,wheel_zoom,reset,pan\", \n",
    "                          title=f\"Node {node_id}\",\n",
    "                          x_range=(0,xmax)\n",
    "                          )\n",
    "                \n",
    "                for index, key in enumerate(report['Details'][node_id]):\n",
    "                        upper = report['Details'][node_id][key]['upper']\n",
    "                        lower = report['Details'][node_id][key]['lower']\n",
    "                        p75 = report['Details'][node_id][key]['p75']\n",
    "                        p25 = report['Details'][node_id][key]['p25']\n",
    "                        p50 = report['Details'][node_id][key]['p50']\n",
    "\n",
    "                        plot.segment(index+1, upper, index+1, p75, line_color=\"black\")\n",
    "                        plot.segment(index+1, lower, index+1, p25, line_color=\"black\")\n",
    "\n",
    "                        plot.vbar(index+1, 0.7, p50, p75, fill_color=\"#FDE725\", line_color=\"black\")\n",
    "                        plot.vbar(index+1, 0.7, p25, p50, fill_color=\"#440154\", line_color=\"black\")\n",
    "\n",
    "                        plot.rect(index+1, lower, 0.2, 0.01, line_color=\"black\")\n",
    "                        plot.rect(index+1, upper, 0.2, 0.01, line_color=\"black\")\n",
    "\n",
    "                        plot.xaxis.major_label_overrides[index+1] = key\n",
    "                        plot.xgrid.grid_line_color = None\n",
    "                        plot.ygrid.grid_line_color = \"white\"\n",
    "                        plot.grid.grid_line_width = 0\n",
    "\n",
    "                        plot.xaxis.major_label_text_font_size=\"10px\"\n",
    "                plot.xaxis.ticker = np.arange(index+2)\n",
    "                plot.yaxis.axis_label = \"Utilization in %\"\n",
    "                show(plot)"
   ]
  },
  {
   "cell_type": "code",
   "execution_count": 27,
   "metadata": {
    "execution": {
     "iopub.execute_input": "2023-04-06T09:10:37.083432Z",
     "iopub.status.busy": "2023-04-06T09:10:37.082789Z",
     "iopub.status.idle": "2023-04-06T09:10:37.138602Z",
     "shell.execute_reply": "2023-04-06T09:10:37.138985Z"
    },
    "papermill": {
     "duration": 0.118795,
     "end_time": "2023-04-06T09:10:37.139122",
     "exception": false,
     "start_time": "2023-04-06T09:10:37.020327",
     "status": "completed"
    },
    "tags": [
     "hide-input"
    ]
   },
   "outputs": [
    {
     "data": {
      "text/markdown": [
       "### CPU bottlenecks\n",
       "\n"
      ],
      "text/plain": [
       "<IPython.core.display.Markdown object>"
      ]
     },
     "metadata": {},
     "output_type": "display_data"
    },
    {
     "data": {
      "text/html": [
       "\n",
       "\n",
       "\n",
       "\n",
       "\n",
       "\n",
       "  <div class=\"bk-root\" id=\"eb10cc47-8772-4d45-ae18-cc7d6f3366d1\" data-root-id=\"6238\"></div>\n"
      ]
     },
     "metadata": {},
     "output_type": "display_data"
    },
    {
     "data": {
      "application/javascript": [
       "(function(root) {\n",
       "  function embed_document(root) {\n",
       "    \n",
       "  var docs_json = {\"5a54b847-3554-456e-b4dd-63cbb7a0002a\":{\"roots\":{\"references\":[{\"attributes\":{\"text\":\"The CPUBottleneck rule checked when the CPU utilization was above cpu_threshold of 90% \\n        and GPU utilization was below gpu_threshold of 10%. \\n        During initialization utilization is likely to be zero, so the rule skipped the first 1000 datapoints.\\n        With this configuration the rule found 471 CPU bottlenecks which is 5% of the total time. This is below the threshold of 50%\\n        The rule analysed 8824 data points and triggered 0 times.\",\"width\":900},\"id\":\"6238\",\"type\":\"Paragraph\"}],\"root_ids\":[\"6238\"]},\"title\":\"Bokeh Application\",\"version\":\"2.2.3\"}};\n",
       "  var render_items = [{\"docid\":\"5a54b847-3554-456e-b4dd-63cbb7a0002a\",\"root_ids\":[\"6238\"],\"roots\":{\"6238\":\"eb10cc47-8772-4d45-ae18-cc7d6f3366d1\"}}];\n",
       "  root.Bokeh.embed.embed_items_notebook(docs_json, render_items);\n",
       "\n",
       "  }\n",
       "  if (root.Bokeh !== undefined) {\n",
       "    embed_document(root);\n",
       "  } else {\n",
       "    var attempts = 0;\n",
       "    var timer = setInterval(function(root) {\n",
       "      if (root.Bokeh !== undefined) {\n",
       "        clearInterval(timer);\n",
       "        embed_document(root);\n",
       "      } else {\n",
       "        attempts++;\n",
       "        if (attempts > 100) {\n",
       "          clearInterval(timer);\n",
       "          console.log(\"Bokeh: ERROR: Unable to run BokehJS code because BokehJS library is missing\");\n",
       "        }\n",
       "      }\n",
       "    }, 10, root)\n",
       "  }\n",
       "})(window);"
      ],
      "application/vnd.bokehjs_exec.v0+json": ""
     },
     "metadata": {
      "application/vnd.bokehjs_exec.v0+json": {
       "id": "6238"
      }
     },
     "output_type": "display_data"
    }
   ],
   "source": [
    "if analyse_phase == \"training\": \n",
    "    display(Markdown(\"\"\"### CPU bottlenecks\\n\\n\"\"\"))\n",
    "\n",
    "    report = load_report('CPUBottleneck')\n",
    "    if report:\n",
    "        params = report['RuleParameters'].split('\\n')\n",
    "        threshold = int(params[0].split(':')[1])\n",
    "        cpu_threshold = int(params[1].split(':')[1])\n",
    "        gpu_threshold = int(params[2].split(':')[1])\n",
    "        patience = int(params[3].split(':')[1])\n",
    "        violations = report['Violations']\n",
    "        triggered = report['RuleTriggered']\n",
    "        datapoints = report['Datapoints']\n",
    "        \n",
    "        if report['Violations'] > 0:\n",
    "            perc = int(report['Violations']/report['Datapoints']*100)\n",
    "        else:\n",
    "            perc = 0\n",
    "        if perc < threshold:\n",
    "            string = 'below'\n",
    "        else:\n",
    "            string = 'above'\n",
    "        text = f\"\"\"The CPUBottleneck rule checked when the CPU utilization was above cpu_threshold of {cpu_threshold}% \n",
    "        and GPU utilization was below gpu_threshold of {gpu_threshold}%. \n",
    "        During initialization utilization is likely to be zero, so the rule skipped the first {patience} datapoints.\n",
    "        With this configuration the rule found {violations} CPU bottlenecks which is {perc}% of the total time. This is {string} the threshold of {threshold}%\n",
    "        The rule analysed {datapoints} data points and triggered {triggered} times.\"\"\"\n",
    "        \n",
    "        paragraph = Paragraph(text=text, width=900)\n",
    "        show(paragraph)\n",
    "        if report:\n",
    "\n",
    "            plots = []\n",
    "            text = \"\"\n",
    "            if report['RuleTriggered'] > 0:\n",
    "\n",
    "                low_gpu = report['Details']['low_gpu_utilization']\n",
    "                cpu_bottleneck = {}\n",
    "                cpu_bottleneck[\"GPU usage above threshold\"] = report[\"Datapoints\"] - report[\"Details\"][\"low_gpu_utilization\"]\n",
    "                cpu_bottleneck[\"GPU usage below threshold\"] = report[\"Details\"][\"low_gpu_utilization\"] - len(report[\"Details\"])\n",
    "                cpu_bottleneck[\"Low GPU usage due to CPU bottlenecks\"] = len(report[\"Details\"][\"bottlenecks\"])\n",
    "\n",
    "                n_bottlenecks = round(len(report['Details']['bottlenecks'])/datapoints * 100, 2)\n",
    "                text = f\"\"\"The following chart (left) shows how many datapoints were below the gpu_threshold of {gpu_threshold}%\n",
    "                and how many of those datapoints were likely caused by a CPU bottleneck. The rule found {low_gpu} out of {datapoints} datapoints which had a GPU utilization \n",
    "                below {gpu_threshold}%. Out of those datapoints {n_bottlenecks}% were likely caused by CPU bottlenecks. \n",
    "                \"\"\"\n",
    "\n",
    "                plot = create_piechart(cpu_bottleneck, \n",
    "                                    height=350,\n",
    "                                    width=600,\n",
    "                                    x1=0.2,\n",
    "                                    x2=0.6,\n",
    "                                    radius=0.3, \n",
    "                                    title=\"Low GPU usage caused by CPU bottlenecks\")\n",
    "\n",
    "                plots.append(plot)\n",
    "\n",
    "                if 'phase' in report['Details']:\n",
    "                    text = f\"\"\"{text} The chart (in the middle) shows whether CPU bottlenecks mainly \n",
    "                    happened during train/validation phase.\n",
    "                    \"\"\"\n",
    "\n",
    "                    plot = create_piechart(report['Details']['phase'], \n",
    "                                        height=350,\n",
    "                                        width=600,\n",
    "                                        x1=0.2,\n",
    "                                        x2=0.6,\n",
    "                                        radius=0.3, \n",
    "                                        title=\"The ratio between time spent on TRAIN/EVAL phase\")\n",
    "                    plots.append(plot)\n",
    "\n",
    "                if 'forward_backward' in report['Details'] and  len(report['Details']['forward_backward']) > 0:\n",
    "\n",
    "                    event = max(report['Details']['forward_backward'], key=report['Details']['forward_backward'].get)\n",
    "                    perc = report['Details']['forward_backward'][event]\n",
    "\n",
    "                    text = f\"\"\"{text} The pie charts on the right shows a more detailed breakdown. \n",
    "                    It shows that {int(perc)}% of the training time was spent on event {event}\"\"\"\n",
    "\n",
    "                    plot = create_piechart(report['Details']['forward_backward'], \n",
    "                                        height=350,\n",
    "                                        width=600,\n",
    "                                        x1=0.2,\n",
    "                                        x2=0.6,\n",
    "                                        radius=0.3, \n",
    "                                        title=\"The ratio between forward and backward pass\") \n",
    "                    plots.append(plot)\n",
    "\n",
    "                if len(plots) > 0:\n",
    "                    paragraph = Paragraph(text=text, width=900)\n",
    "                    show(column(paragraph, row(plots)))\n",
    "\n",
    "                plots = []\n",
    "                text = \"\"\n",
    "                if 'ratio' in report['Details'] and len(report['Details']['ratio']) > 0:\n",
    "\n",
    "                    key = list(report['Details']['ratio'].keys())[0]\n",
    "                    ratio = report['Details']['ratio'][key]\n",
    "\n",
    "                    text = f\"\"\"The following pie chart shows a breakdown of the CPU/GPU operators that happened during CPU bottlenecks. \n",
    "                        It shows that {int(ratio)}% of the training time was spent on executing operators in \"{key}\".\"\"\"\n",
    "\n",
    "                    plot = create_piechart(report['Details']['ratio'], \n",
    "                                            height=350,\n",
    "                                            width=600,\n",
    "                                            x1=0.2,\n",
    "                                            x2=0.6,\n",
    "                                            radius=0.3, \n",
    "                                            title=\"The ratio between CPU/GPU operators\")\n",
    "                    plots.append(plot)\n",
    "\n",
    "\n",
    "                if 'general' in report['Details'] and len(report['Details']['general']) > 0:\n",
    "\n",
    "                    event = max(report['Details']['general'], key=report['Details']['general'].get)\n",
    "                    perc = report['Details']['general'][event]\n",
    "                \n",
    "                    plot = create_piechart(report['Details']['general'], \n",
    "                                        height=350,\n",
    "                                        width=600,\n",
    "                                        x1=0.2,\n",
    "                                        x2=0.6,\n",
    "                                        radius=0.3, \n",
    "                                        title=\"General metrics recorded in framework \")\n",
    "                    plots.append(plot)\n",
    "\n",
    "                if len(plots) > 0:\n",
    "                    paragraph = Paragraph(text=text, width=900)\n",
    "                    show(column(paragraph, row(plots)))\n",
    "\n",
    "                plots = []\n",
    "                text = \"\"\n",
    "                if 'horovod' in report['Details'] and len(report['Details']['horovod']) > 0:\n",
    "\n",
    "                    event = max(report['Details']['horovod'], key=report['Details']['horovod'].get)\n",
    "                    perc = report['Details']['horovod'][event]\n",
    "                    text = f\"\"\"The following pie chart shows a detailed breakdown of the Horovod metrics \n",
    "                    that have been recorded when the CPU bottleneck happened. The most expensive function was \n",
    "                    {event} with {int(perc)}%\"\"\"\n",
    "\n",
    "                    plot = create_piechart(report['Details']['horovod'], \n",
    "                                        height=350,\n",
    "                                        width=600,\n",
    "                                        x1=0.2,\n",
    "                                        x2=0.6,\n",
    "                                        radius=0.3, \n",
    "                                        title=\"General metrics recorded in framework \")\n",
    "\n",
    "                    paragraph = Paragraph(text=text, width=900)\n",
    "                    show(column(paragraph, row(plot)))"
   ]
  },
  {
   "cell_type": "code",
   "execution_count": 28,
   "metadata": {
    "execution": {
     "iopub.execute_input": "2023-04-06T09:10:37.247056Z",
     "iopub.status.busy": "2023-04-06T09:10:37.246506Z",
     "iopub.status.idle": "2023-04-06T09:10:37.302299Z",
     "shell.execute_reply": "2023-04-06T09:10:37.302687Z"
    },
    "papermill": {
     "duration": 0.120048,
     "end_time": "2023-04-06T09:10:37.302820",
     "exception": false,
     "start_time": "2023-04-06T09:10:37.182772",
     "status": "completed"
    },
    "tags": [
     "hide-input"
    ]
   },
   "outputs": [
    {
     "data": {
      "text/markdown": [
       "### I/O bottlenecks\n",
       "\n"
      ],
      "text/plain": [
       "<IPython.core.display.Markdown object>"
      ]
     },
     "metadata": {},
     "output_type": "display_data"
    },
    {
     "data": {
      "text/html": [
       "\n",
       "\n",
       "\n",
       "\n",
       "\n",
       "\n",
       "  <div class=\"bk-root\" id=\"70ac7873-8602-47b2-afb9-2ec8f72e8d56\" data-root-id=\"6481\"></div>\n"
      ]
     },
     "metadata": {},
     "output_type": "display_data"
    },
    {
     "data": {
      "application/javascript": [
       "(function(root) {\n",
       "  function embed_document(root) {\n",
       "    \n",
       "  var docs_json = {\"8c02527d-259a-49e7-859b-1bb6f5f69a0b\":{\"roots\":{\"references\":[{\"attributes\":{\"text\":\"The IOBottleneck rule checked when I/O wait time was above io_threshold of 50% \\n        and GPU utilization was below gpu_threshold of 10. During initialization utilization is likely to be zero, so the rule skipped the first 1000 datapoints. \\n        With this configuration the rule found 43 I/O bottlenecks which is 0% of the total time. This is below the threshold of 50%.\\n        The rule analysed 8824 datapoints and triggered 0 times.\",\"width\":900},\"id\":\"6481\",\"type\":\"Paragraph\"}],\"root_ids\":[\"6481\"]},\"title\":\"Bokeh Application\",\"version\":\"2.2.3\"}};\n",
       "  var render_items = [{\"docid\":\"8c02527d-259a-49e7-859b-1bb6f5f69a0b\",\"root_ids\":[\"6481\"],\"roots\":{\"6481\":\"70ac7873-8602-47b2-afb9-2ec8f72e8d56\"}}];\n",
       "  root.Bokeh.embed.embed_items_notebook(docs_json, render_items);\n",
       "\n",
       "  }\n",
       "  if (root.Bokeh !== undefined) {\n",
       "    embed_document(root);\n",
       "  } else {\n",
       "    var attempts = 0;\n",
       "    var timer = setInterval(function(root) {\n",
       "      if (root.Bokeh !== undefined) {\n",
       "        clearInterval(timer);\n",
       "        embed_document(root);\n",
       "      } else {\n",
       "        attempts++;\n",
       "        if (attempts > 100) {\n",
       "          clearInterval(timer);\n",
       "          console.log(\"Bokeh: ERROR: Unable to run BokehJS code because BokehJS library is missing\");\n",
       "        }\n",
       "      }\n",
       "    }, 10, root)\n",
       "  }\n",
       "})(window);"
      ],
      "application/vnd.bokehjs_exec.v0+json": ""
     },
     "metadata": {
      "application/vnd.bokehjs_exec.v0+json": {
       "id": "6481"
      }
     },
     "output_type": "display_data"
    }
   ],
   "source": [
    "if analyse_phase == \"training\": \n",
    "    display(Markdown(\"\"\"### I/O bottlenecks\\n\\n\"\"\"))\n",
    "\n",
    "    report = load_report('IOBottleneck')\n",
    "    if report:\n",
    "        params = report['RuleParameters'].split('\\n')\n",
    "        threshold = int(params[0].split(':')[1])\n",
    "        io_threshold = int(params[1].split(':')[1])\n",
    "        gpu_threshold = int(params[2].split(':')[1])\n",
    "        patience = int(params[3].split(':')[1])\n",
    "        violations = report['Violations']\n",
    "        triggered = report['RuleTriggered']\n",
    "        datapoints = report['Datapoints']\n",
    "    \n",
    "        if report['Violations'] > 0:\n",
    "            perc = int(report['Violations']/report['Datapoints']*100)\n",
    "        else:\n",
    "            perc = 0\n",
    "        if perc < threshold:\n",
    "            string = 'below'\n",
    "        else:\n",
    "            string = 'above'\n",
    "        text = f\"\"\"The IOBottleneck rule checked when I/O wait time was above io_threshold of {io_threshold}% \n",
    "        and GPU utilization was below gpu_threshold of {gpu_threshold}. During initialization utilization is likely to be zero, so the rule skipped the first {patience} datapoints. \n",
    "        With this configuration the rule found {violations} I/O bottlenecks which is {perc}% of the total time. This is {string} the threshold of {threshold}%.\n",
    "        The rule analysed {datapoints} datapoints and triggered {triggered} times.\"\"\"\n",
    "        paragraph = Paragraph(text=text, width=900)\n",
    "        show(paragraph)\n",
    "        \n",
    "        if report:\n",
    "\n",
    "            plots = []\n",
    "            text = \"\"\n",
    "            if report['RuleTriggered'] > 0:\n",
    "\n",
    "                low_gpu = report['Details']['low_gpu_utilization']\n",
    "                cpu_bottleneck = {}\n",
    "                cpu_bottleneck[\"GPU usage above threshold\"] = report[\"Datapoints\"] - report[\"Details\"][\"low_gpu_utilization\"]\n",
    "                cpu_bottleneck[\"GPU usage below threshold\"] = report[\"Details\"][\"low_gpu_utilization\"] - len(report[\"Details\"])\n",
    "                cpu_bottleneck[\"Low GPU usage due to I/O bottlenecks\"] = len(report[\"Details\"][\"bottlenecks\"])\n",
    "\n",
    "                n_bottlenecks = round(len(report['Details']['bottlenecks'])/datapoints * 100, 2)\n",
    "                text = f\"\"\"The following chart (left) shows how many datapoints were below the gpu_threshold of {gpu_threshold}%\n",
    "                and how many of those datapoints were likely caused by a I/O bottleneck. The rule found {low_gpu} out of {datapoints} datapoints which had a GPU utilization \n",
    "                below {gpu_threshold}%. Out of those datapoints {n_bottlenecks}% were likely caused by I/O bottlenecks. \n",
    "                \"\"\"\n",
    "\n",
    "                plot = create_piechart(cpu_bottleneck, \n",
    "                                    height=350,\n",
    "                                    width=600,\n",
    "                                    x1=0.2,\n",
    "                                    x2=0.6,\n",
    "                                    radius=0.3, \n",
    "                                    title=\"Low GPU usage caused by I/O bottlenecks\")\n",
    "\n",
    "                plots.append(plot)\n",
    "\n",
    "                if 'phase' in report['Details']:\n",
    "                    text = f\"\"\"{text} The chart (in the middle) shows whether I/O bottlenecks mainly happened during the training or validation phase.\n",
    "                    \"\"\"\n",
    "\n",
    "                    plot = create_piechart(report['Details']['phase'], \n",
    "                                        height=350,\n",
    "                                        width=600,\n",
    "                                        x1=0.2,\n",
    "                                        x2=0.6,\n",
    "                                        radius=0.3, \n",
    "                                        title=\"The ratio between the time spent on the TRAIN/EVAL phase\")\n",
    "                    plots.append(plot)\n",
    "\n",
    "                if 'forward_backward' in report['Details'] and  len(report['Details']['forward_backward']) > 0:\n",
    "\n",
    "                    event = max(report['Details']['forward_backward'], key=report['Details']['forward_backward'].get)\n",
    "                    perc = report['Details']['forward_backward'][event]\n",
    "\n",
    "                    text = f\"\"\"{text} The pie charts on the right shows a more detailed breakdown. \n",
    "                    It shows that {int(perc)}% of the training time was spent on event \"{event}\".\"\"\"\n",
    "\n",
    "                    plot = create_piechart(report['Details']['forward_backward'], \n",
    "                                        height=350,\n",
    "                                        width=600,\n",
    "                                        x1=0.2,\n",
    "                                        x2=0.6,\n",
    "                                        radius=0.3, \n",
    "                                        title=\"The ratio between forward and backward pass\") \n",
    "                    plots.append(plot)\n",
    "\n",
    "                if len(plots) > 0:\n",
    "                    paragraph = Paragraph(text=text, width=900)\n",
    "                    show(column(paragraph, row(plots)))\n",
    "\n",
    "                plots = []\n",
    "                text = \"\"\n",
    "                if 'ratio' in report['Details'] and len(report['Details']['ratio']) > 0:\n",
    "\n",
    "                    key = list(report['Details']['ratio'].keys())[0]\n",
    "                    ratio = report['Details']['ratio'][key]\n",
    "\n",
    "                    text = f\"\"\"The following pie chart shows a breakdown of the CPU/GPU operators that happened \n",
    "                    during I/O bottlenecks. It shows that {int(ratio)}% of the training time was spent on executing operators in \"{key}\".\"\"\"\n",
    "\n",
    "                    plot = create_piechart(report['Details']['ratio'], \n",
    "                                            height=350,\n",
    "                                            width=600,\n",
    "                                            x1=0.2,\n",
    "                                            x2=0.6,\n",
    "                                            radius=0.3, \n",
    "                                            title=\"Ratio between CPU/GPU operators\")\n",
    "                    plots.append(plot)\n",
    "\n",
    "\n",
    "                if 'general' in report['Details'] and len(report['Details']['general']) > 0:\n",
    "\n",
    "                    event = max(report['Details']['general'], key=report['Details']['general'].get)\n",
    "                    perc = report['Details']['general'][event]\n",
    "\n",
    "                    plot = create_piechart(report['Details']['general'], \n",
    "                                        height=350,\n",
    "                                        width=600,\n",
    "                                        x1=0.2,\n",
    "                                        x2=0.6,\n",
    "                                        radius=0.3, \n",
    "                                        title=\"General metrics recorded in framework \")\n",
    "                    plots.append(plot)\n",
    "\n",
    "                if len(plots) > 0:\n",
    "                    paragraph = Paragraph(text=text, width=900)\n",
    "                    show(column(paragraph, row(plots)))\n",
    "\n",
    "                plots = []\n",
    "                text = \"\"\n",
    "                if 'horovod' in report['Details'] and len(report['Details']['horovod']) > 0:\n",
    "\n",
    "                    event = max(report['Details']['horovod'], key=report['Details']['horovod'].get)\n",
    "                    perc = report['Details']['horovod'][event]\n",
    "                    text = f\"\"\"The following pie chart shows a detailed breakdown of the Horovod metrics that have been\n",
    "                    recorded when I/O bottleneck happened. The most expensive function was {event} with {int(perc)}%\"\"\"\n",
    "\n",
    "                    plot = create_piechart(report['Details']['horovod'], \n",
    "                                        height=350,\n",
    "                                        width=600,\n",
    "                                        x1=0.2,\n",
    "                                        x2=0.6,\n",
    "                                        radius=0.3, \n",
    "                                        title=\"General metrics recorded in framework \")\n",
    "\n",
    "                    paragraph = Paragraph(text=text, width=900)\n",
    "                    show(column(paragraph, row(plot)))    \n"
   ]
  },
  {
   "cell_type": "code",
   "execution_count": 29,
   "metadata": {
    "execution": {
     "iopub.execute_input": "2023-04-06T09:10:37.406681Z",
     "iopub.status.busy": "2023-04-06T09:10:37.406154Z",
     "iopub.status.idle": "2023-04-06T09:10:37.655954Z",
     "shell.execute_reply": "2023-04-06T09:10:37.656366Z"
    },
    "papermill": {
     "duration": 0.309849,
     "end_time": "2023-04-06T09:10:37.656501",
     "exception": false,
     "start_time": "2023-04-06T09:10:37.346652",
     "status": "completed"
    },
    "tags": [
     "hide-input"
    ]
   },
   "outputs": [
    {
     "data": {
      "text/markdown": [
       "### GPU memory\n",
       "\n"
      ],
      "text/plain": [
       "<IPython.core.display.Markdown object>"
      ]
     },
     "metadata": {},
     "output_type": "display_data"
    },
    {
     "data": {
      "text/html": [
       "\n",
       "\n",
       "\n",
       "\n",
       "\n",
       "\n",
       "  <div class=\"bk-root\" id=\"4f090501-8c0f-464a-8a1f-f008c15c0a31\" data-root-id=\"6724\"></div>\n"
      ]
     },
     "metadata": {},
     "output_type": "display_data"
    },
    {
     "data": {
      "application/javascript": [
       "(function(root) {\n",
       "  function embed_document(root) {\n",
       "    \n",
       "  var docs_json = {\"737d8981-ca6c-4d11-b274-cbdb3c6534fd\":{\"roots\":{\"references\":[{\"attributes\":{\"text\":\"The GPUMemoryIncrease rule helps to detect large increase in memory usage on GPUs. \\n        The rule checked if the moving average of memory increased by more than 5.0%. \\n        So if the moving average increased for instance from 10% to 16.0%, \\n        the rule would have triggered. During initialization utilization  is likely 0, so the rule skipped the first 1000 datapoints.\\n        The moving average was computed on a window size of 10 continuous datapoints. The rule detected 1 violations\\n        where the moving average between previous and current time window increased by more than 5.0%.\\n        The rule analysed 4411 datapoints and triggered 1 times.\",\"width\":900},\"id\":\"6724\",\"type\":\"Paragraph\"}],\"root_ids\":[\"6724\"]},\"title\":\"Bokeh Application\",\"version\":\"2.2.3\"}};\n",
       "  var render_items = [{\"docid\":\"737d8981-ca6c-4d11-b274-cbdb3c6534fd\",\"root_ids\":[\"6724\"],\"roots\":{\"6724\":\"4f090501-8c0f-464a-8a1f-f008c15c0a31\"}}];\n",
       "  root.Bokeh.embed.embed_items_notebook(docs_json, render_items);\n",
       "\n",
       "  }\n",
       "  if (root.Bokeh !== undefined) {\n",
       "    embed_document(root);\n",
       "  } else {\n",
       "    var attempts = 0;\n",
       "    var timer = setInterval(function(root) {\n",
       "      if (root.Bokeh !== undefined) {\n",
       "        clearInterval(timer);\n",
       "        embed_document(root);\n",
       "      } else {\n",
       "        attempts++;\n",
       "        if (attempts > 100) {\n",
       "          clearInterval(timer);\n",
       "          console.log(\"Bokeh: ERROR: Unable to run BokehJS code because BokehJS library is missing\");\n",
       "        }\n",
       "      }\n",
       "    }, 10, root)\n",
       "  }\n",
       "})(window);"
      ],
      "application/vnd.bokehjs_exec.v0+json": ""
     },
     "metadata": {
      "application/vnd.bokehjs_exec.v0+json": {
       "id": "6724"
      }
     },
     "output_type": "display_data"
    },
    {
     "data": {
      "text/html": [
       "\n",
       "\n",
       "\n",
       "\n",
       "\n",
       "\n",
       "  <div class=\"bk-root\" id=\"a297787c-46ac-493b-a585-3fd6260e4ebe\" data-root-id=\"6967\"></div>\n"
      ]
     },
     "metadata": {},
     "output_type": "display_data"
    },
    {
     "data": {
      "application/javascript": [
       "(function(root) {\n",
       "  function embed_document(root) {\n",
       "    \n",
       "  var docs_json = {\"6e2debed-79b1-4952-a8de-0c8f28b0d256\":{\"roots\":{\"references\":[{\"attributes\":{\"text\":\"Your training job triggered memory spikes. \\n            The last time the GPUMemoryIncrease rule triggered in your training job was on 04/06/2023 at 08:50:00.\\n            The following boxplots are a snapshot from the timestamps. They show for each node and GPU the corresponding\\n            memory utilization (without outliers).\",\"width\":900},\"id\":\"6967\",\"type\":\"Paragraph\"}],\"root_ids\":[\"6967\"]},\"title\":\"Bokeh Application\",\"version\":\"2.2.3\"}};\n",
       "  var render_items = [{\"docid\":\"6e2debed-79b1-4952-a8de-0c8f28b0d256\",\"root_ids\":[\"6967\"],\"roots\":{\"6967\":\"a297787c-46ac-493b-a585-3fd6260e4ebe\"}}];\n",
       "  root.Bokeh.embed.embed_items_notebook(docs_json, render_items);\n",
       "\n",
       "  }\n",
       "  if (root.Bokeh !== undefined) {\n",
       "    embed_document(root);\n",
       "  } else {\n",
       "    var attempts = 0;\n",
       "    var timer = setInterval(function(root) {\n",
       "      if (root.Bokeh !== undefined) {\n",
       "        clearInterval(timer);\n",
       "        embed_document(root);\n",
       "      } else {\n",
       "        attempts++;\n",
       "        if (attempts > 100) {\n",
       "          clearInterval(timer);\n",
       "          console.log(\"Bokeh: ERROR: Unable to run BokehJS code because BokehJS library is missing\");\n",
       "        }\n",
       "      }\n",
       "    }, 10, root)\n",
       "  }\n",
       "})(window);"
      ],
      "application/vnd.bokehjs_exec.v0+json": ""
     },
     "metadata": {
      "application/vnd.bokehjs_exec.v0+json": {
       "id": "6967"
      }
     },
     "output_type": "display_data"
    },
    {
     "data": {
      "text/markdown": [
       "**Memory utilization of gpu0 on node algo-2:**"
      ],
      "text/plain": [
       "<IPython.core.display.Markdown object>"
      ]
     },
     "metadata": {},
     "output_type": "display_data"
    },
    {
     "data": {
      "text/html": [
       "\n",
       "\n",
       "\n",
       "\n",
       "\n",
       "\n",
       "  <div class=\"bk-root\" id=\"06d22474-5eb2-4662-bf25-8192343ee295\" data-root-id=\"7238\"></div>\n"
      ]
     },
     "metadata": {},
     "output_type": "display_data"
    },
    {
     "data": {
      "application/javascript": [
       "(function(root) {\n",
       "  function embed_document(root) {\n",
       "    \n",
       "  var docs_json = {\"86c864cb-78d3-4c92-ac81-2998243c4fa1\":{\"roots\":{\"references\":[{\"attributes\":{\"text\":\" The max memory utilization of gpu0 on node algo-2 was 36.0%. The 95th percentile was only 30%. The 5th percentile was only 0.0%.\",\"width\":900},\"id\":\"7238\",\"type\":\"Paragraph\"}],\"root_ids\":[\"7238\"]},\"title\":\"Bokeh Application\",\"version\":\"2.2.3\"}};\n",
       "  var render_items = [{\"docid\":\"86c864cb-78d3-4c92-ac81-2998243c4fa1\",\"root_ids\":[\"7238\"],\"roots\":{\"7238\":\"06d22474-5eb2-4662-bf25-8192343ee295\"}}];\n",
       "  root.Bokeh.embed.embed_items_notebook(docs_json, render_items);\n",
       "\n",
       "  }\n",
       "  if (root.Bokeh !== undefined) {\n",
       "    embed_document(root);\n",
       "  } else {\n",
       "    var attempts = 0;\n",
       "    var timer = setInterval(function(root) {\n",
       "      if (root.Bokeh !== undefined) {\n",
       "        clearInterval(timer);\n",
       "        embed_document(root);\n",
       "      } else {\n",
       "        attempts++;\n",
       "        if (attempts > 100) {\n",
       "          clearInterval(timer);\n",
       "          console.log(\"Bokeh: ERROR: Unable to run BokehJS code because BokehJS library is missing\");\n",
       "        }\n",
       "      }\n",
       "    }, 10, root)\n",
       "  }\n",
       "})(window);"
      ],
      "application/vnd.bokehjs_exec.v0+json": ""
     },
     "metadata": {
      "application/vnd.bokehjs_exec.v0+json": {
       "id": "7238"
      }
     },
     "output_type": "display_data"
    },
    {
     "data": {
      "text/html": [
       "\n",
       "\n",
       "\n",
       "\n",
       "\n",
       "\n",
       "  <div class=\"bk-root\" id=\"db984f99-724d-4516-be1c-497336580332\" data-root-id=\"7210\"></div>\n"
      ]
     },
     "metadata": {},
     "output_type": "display_data"
    },
    {
     "data": {
      "application/javascript": [
       "(function(root) {\n",
       "  function embed_document(root) {\n",
       "    \n",
       "  var docs_json = {\"d7284f0b-e480-41a0-8067-af7223362a45\":{\"roots\":{\"references\":[{\"attributes\":{\"below\":[{\"id\":\"7221\"}],\"center\":[{\"id\":\"7224\"},{\"id\":\"7228\"}],\"left\":[{\"id\":\"7225\"}],\"plot_height\":350,\"plot_width\":1000,\"renderers\":[{\"id\":\"7484\"},{\"id\":\"7489\"},{\"id\":\"7494\"},{\"id\":\"7499\"},{\"id\":\"7504\"},{\"id\":\"7509\"}],\"title\":{\"id\":\"7211\"},\"toolbar\":{\"id\":\"7233\"},\"x_range\":{\"id\":\"7213\"},\"x_scale\":{\"id\":\"7217\"},\"y_range\":{\"id\":\"7215\"},\"y_scale\":{\"id\":\"7219\"}},\"id\":\"7210\",\"subtype\":\"Figure\",\"type\":\"Plot\"},{\"attributes\":{},\"id\":\"7230\",\"type\":\"WheelZoomTool\"},{\"attributes\":{\"data\":{},\"selected\":{\"id\":\"7768\"},\"selection_policy\":{\"id\":\"7767\"}},\"id\":\"7501\",\"type\":\"ColumnDataSource\"},{\"attributes\":{\"data_source\":{\"id\":\"7481\"},\"glyph\":{\"id\":\"7482\"},\"hover_glyph\":null,\"muted_glyph\":null,\"nonselection_glyph\":{\"id\":\"7483\"},\"selection_glyph\":null,\"view\":{\"id\":\"7485\"}},\"id\":\"7484\",\"type\":\"GlyphRenderer\"},{\"attributes\":{},\"id\":\"7231\",\"type\":\"ResetTool\"},{\"attributes\":{},\"id\":\"7762\",\"type\":\"Selection\"},{\"attributes\":{\"data_source\":{\"id\":\"7501\"},\"glyph\":{\"id\":\"7502\"},\"hover_glyph\":null,\"muted_glyph\":null,\"nonselection_glyph\":{\"id\":\"7503\"},\"selection_glyph\":null,\"view\":{\"id\":\"7505\"}},\"id\":\"7504\",\"type\":\"GlyphRenderer\"},{\"attributes\":{},\"id\":\"7232\",\"type\":\"PanTool\"},{\"attributes\":{},\"id\":\"7765\",\"type\":\"UnionRenderers\"},{\"attributes\":{\"source\":{\"id\":\"7491\"}},\"id\":\"7495\",\"type\":\"CDSView\"},{\"attributes\":{\"line_alpha\":{\"value\":0.1},\"x0\":{\"value\":1},\"x1\":{\"value\":1},\"y0\":{\"value\":36.0},\"y1\":{\"value\":18.0}},\"id\":\"7483\",\"type\":\"Segment\"},{\"attributes\":{\"fill_alpha\":{\"value\":0.1},\"fill_color\":{\"value\":\"#1f77b4\"},\"height\":{\"units\":\"data\",\"value\":0.01},\"line_alpha\":{\"value\":0.1},\"width\":{\"units\":\"data\",\"value\":0.2},\"x\":{\"value\":1},\"y\":{\"value\":0.0}},\"id\":\"7503\",\"type\":\"Rect\"},{\"attributes\":{\"bottom\":{\"value\":18.0},\"fill_color\":{\"value\":\"#FDE725\"},\"top\":{\"value\":18.0},\"width\":{\"value\":0.7},\"x\":{\"value\":1}},\"id\":\"7492\",\"type\":\"VBar\"},{\"attributes\":{},\"id\":\"7758\",\"type\":\"BasicTickFormatter\"},{\"attributes\":{},\"id\":\"7764\",\"type\":\"Selection\"},{\"attributes\":{},\"id\":\"7217\",\"type\":\"LinearScale\"},{\"attributes\":{\"source\":{\"id\":\"7501\"}},\"id\":\"7505\",\"type\":\"CDSView\"},{\"attributes\":{\"ticks\":[0,1]},\"id\":\"7511\",\"type\":\"FixedTicker\"},{\"attributes\":{\"data\":{},\"selected\":{\"id\":\"7760\"},\"selection_policy\":{\"id\":\"7759\"}},\"id\":\"7481\",\"type\":\"ColumnDataSource\"},{\"attributes\":{\"line_alpha\":{\"value\":0.1},\"x0\":{\"value\":1},\"x1\":{\"value\":1},\"y0\":{\"value\":0.0},\"y1\":{\"value\":0.0}},\"id\":\"7488\",\"type\":\"Segment\"},{\"attributes\":{},\"id\":\"7766\",\"type\":\"Selection\"},{\"attributes\":{\"formatter\":{\"id\":\"7758\"},\"major_label_overrides\":{\"1\":\"gpu0\"},\"major_label_text_font_size\":\"10px\",\"ticker\":{\"id\":\"7511\"}},\"id\":\"7221\",\"type\":\"LinearAxis\"},{\"attributes\":{},\"id\":\"7226\",\"type\":\"BasicTicker\"},{\"attributes\":{\"data\":{},\"selected\":{\"id\":\"7770\"},\"selection_policy\":{\"id\":\"7769\"}},\"id\":\"7506\",\"type\":\"ColumnDataSource\"},{\"attributes\":{\"fill_color\":{\"value\":\"#1f77b4\"},\"height\":{\"units\":\"data\",\"value\":0.01},\"width\":{\"units\":\"data\",\"value\":0.2},\"x\":{\"value\":1},\"y\":{\"value\":36.0}},\"id\":\"7507\",\"type\":\"Rect\"},{\"attributes\":{\"data_source\":{\"id\":\"7486\"},\"glyph\":{\"id\":\"7487\"},\"hover_glyph\":null,\"muted_glyph\":null,\"nonselection_glyph\":{\"id\":\"7488\"},\"selection_glyph\":null,\"view\":{\"id\":\"7490\"}},\"id\":\"7489\",\"type\":\"GlyphRenderer\"},{\"attributes\":{\"data_source\":{\"id\":\"7506\"},\"glyph\":{\"id\":\"7507\"},\"hover_glyph\":null,\"muted_glyph\":null,\"nonselection_glyph\":{\"id\":\"7508\"},\"selection_glyph\":null,\"view\":{\"id\":\"7510\"}},\"id\":\"7509\",\"type\":\"GlyphRenderer\"},{\"attributes\":{\"active_drag\":\"auto\",\"active_inspect\":\"auto\",\"active_multi\":null,\"active_scroll\":\"auto\",\"active_tap\":\"auto\",\"tools\":[{\"id\":\"7229\"},{\"id\":\"7230\"},{\"id\":\"7231\"},{\"id\":\"7232\"}]},\"id\":\"7233\",\"type\":\"Toolbar\"},{\"attributes\":{\"data\":{},\"selected\":{\"id\":\"7764\"},\"selection_policy\":{\"id\":\"7763\"}},\"id\":\"7491\",\"type\":\"ColumnDataSource\"},{\"attributes\":{\"text\":\"Node algo-2\"},\"id\":\"7211\",\"type\":\"Title\"},{\"attributes\":{\"bottom\":{\"value\":18.0},\"fill_alpha\":{\"value\":0.1},\"fill_color\":{\"value\":\"#FDE725\"},\"line_alpha\":{\"value\":0.1},\"top\":{\"value\":18.0},\"width\":{\"value\":0.7},\"x\":{\"value\":1}},\"id\":\"7493\",\"type\":\"VBar\"},{\"attributes\":{},\"id\":\"7767\",\"type\":\"UnionRenderers\"},{\"attributes\":{\"source\":{\"id\":\"7481\"}},\"id\":\"7485\",\"type\":\"CDSView\"},{\"attributes\":{\"fill_alpha\":{\"value\":0.1},\"fill_color\":{\"value\":\"#1f77b4\"},\"height\":{\"units\":\"data\",\"value\":0.01},\"line_alpha\":{\"value\":0.1},\"width\":{\"units\":\"data\",\"value\":0.2},\"x\":{\"value\":1},\"y\":{\"value\":36.0}},\"id\":\"7508\",\"type\":\"Rect\"},{\"attributes\":{},\"id\":\"7215\",\"type\":\"DataRange1d\"},{\"attributes\":{\"bottom\":{\"value\":18.0},\"fill_color\":{\"value\":\"#440154\"},\"top\":{\"value\":0.0},\"width\":{\"value\":0.7},\"x\":{\"value\":1}},\"id\":\"7497\",\"type\":\"VBar\"},{\"attributes\":{\"source\":{\"id\":\"7496\"}},\"id\":\"7500\",\"type\":\"CDSView\"},{\"attributes\":{},\"id\":\"7770\",\"type\":\"Selection\"},{\"attributes\":{\"data_source\":{\"id\":\"7491\"},\"glyph\":{\"id\":\"7492\"},\"hover_glyph\":null,\"muted_glyph\":null,\"nonselection_glyph\":{\"id\":\"7493\"},\"selection_glyph\":null,\"view\":{\"id\":\"7495\"}},\"id\":\"7494\",\"type\":\"GlyphRenderer\"},{\"attributes\":{\"end\":17},\"id\":\"7213\",\"type\":\"Range1d\"},{\"attributes\":{},\"id\":\"7760\",\"type\":\"Selection\"},{\"attributes\":{},\"id\":\"7769\",\"type\":\"UnionRenderers\"},{\"attributes\":{\"x0\":{\"value\":1},\"x1\":{\"value\":1},\"y0\":{\"value\":0.0},\"y1\":{\"value\":0.0}},\"id\":\"7487\",\"type\":\"Segment\"},{\"attributes\":{\"source\":{\"id\":\"7506\"}},\"id\":\"7510\",\"type\":\"CDSView\"},{\"attributes\":{\"data\":{},\"selected\":{\"id\":\"7766\"},\"selection_policy\":{\"id\":\"7765\"}},\"id\":\"7496\",\"type\":\"ColumnDataSource\"},{\"attributes\":{},\"id\":\"7761\",\"type\":\"UnionRenderers\"},{\"attributes\":{},\"id\":\"7768\",\"type\":\"Selection\"},{\"attributes\":{\"callback\":null},\"id\":\"7229\",\"type\":\"HoverTool\"},{\"attributes\":{\"x0\":{\"value\":1},\"x1\":{\"value\":1},\"y0\":{\"value\":36.0},\"y1\":{\"value\":18.0}},\"id\":\"7482\",\"type\":\"Segment\"},{\"attributes\":{\"bottom\":{\"value\":18.0},\"fill_alpha\":{\"value\":0.1},\"fill_color\":{\"value\":\"#440154\"},\"line_alpha\":{\"value\":0.1},\"top\":{\"value\":0.0},\"width\":{\"value\":0.7},\"x\":{\"value\":1}},\"id\":\"7498\",\"type\":\"VBar\"},{\"attributes\":{\"axis_label\":\"Utilization in %\",\"formatter\":{\"id\":\"7757\"},\"ticker\":{\"id\":\"7226\"}},\"id\":\"7225\",\"type\":\"LinearAxis\"},{\"attributes\":{},\"id\":\"7219\",\"type\":\"LinearScale\"},{\"attributes\":{},\"id\":\"7763\",\"type\":\"UnionRenderers\"},{\"attributes\":{\"source\":{\"id\":\"7486\"}},\"id\":\"7490\",\"type\":\"CDSView\"},{\"attributes\":{\"fill_color\":{\"value\":\"#1f77b4\"},\"height\":{\"units\":\"data\",\"value\":0.01},\"width\":{\"units\":\"data\",\"value\":0.2},\"x\":{\"value\":1},\"y\":{\"value\":0.0}},\"id\":\"7502\",\"type\":\"Rect\"},{\"attributes\":{\"data\":{},\"selected\":{\"id\":\"7762\"},\"selection_policy\":{\"id\":\"7761\"}},\"id\":\"7486\",\"type\":\"ColumnDataSource\"},{\"attributes\":{\"axis\":{\"id\":\"7225\"},\"dimension\":1,\"grid_line_color\":\"white\",\"grid_line_width\":0,\"ticker\":null},\"id\":\"7228\",\"type\":\"Grid\"},{\"attributes\":{\"data_source\":{\"id\":\"7496\"},\"glyph\":{\"id\":\"7497\"},\"hover_glyph\":null,\"muted_glyph\":null,\"nonselection_glyph\":{\"id\":\"7498\"},\"selection_glyph\":null,\"view\":{\"id\":\"7500\"}},\"id\":\"7499\",\"type\":\"GlyphRenderer\"},{\"attributes\":{},\"id\":\"7757\",\"type\":\"BasicTickFormatter\"},{\"attributes\":{},\"id\":\"7759\",\"type\":\"UnionRenderers\"},{\"attributes\":{\"axis\":{\"id\":\"7221\"},\"grid_line_color\":null,\"grid_line_width\":0,\"ticker\":null},\"id\":\"7224\",\"type\":\"Grid\"}],\"root_ids\":[\"7210\"]},\"title\":\"Bokeh Application\",\"version\":\"2.2.3\"}};\n",
       "  var render_items = [{\"docid\":\"d7284f0b-e480-41a0-8067-af7223362a45\",\"root_ids\":[\"7210\"],\"roots\":{\"7210\":\"db984f99-724d-4516-be1c-497336580332\"}}];\n",
       "  root.Bokeh.embed.embed_items_notebook(docs_json, render_items);\n",
       "\n",
       "  }\n",
       "  if (root.Bokeh !== undefined) {\n",
       "    embed_document(root);\n",
       "  } else {\n",
       "    var attempts = 0;\n",
       "    var timer = setInterval(function(root) {\n",
       "      if (root.Bokeh !== undefined) {\n",
       "        clearInterval(timer);\n",
       "        embed_document(root);\n",
       "      } else {\n",
       "        attempts++;\n",
       "        if (attempts > 100) {\n",
       "          clearInterval(timer);\n",
       "          console.log(\"Bokeh: ERROR: Unable to run BokehJS code because BokehJS library is missing\");\n",
       "        }\n",
       "      }\n",
       "    }, 10, root)\n",
       "  }\n",
       "})(window);"
      ],
      "application/vnd.bokehjs_exec.v0+json": ""
     },
     "metadata": {
      "application/vnd.bokehjs_exec.v0+json": {
       "id": "7210"
      }
     },
     "output_type": "display_data"
    }
   ],
   "source": [
    "if analyse_phase == \"training\":\n",
    "    display(Markdown(\"\"\"### GPU memory\\n\\n\"\"\"))\n",
    "    \n",
    "    report = load_report('GPUMemoryIncrease')\n",
    "    if report:\n",
    "        params = report['RuleParameters'].split('\\n')\n",
    "        increase = float(params[0].split(':')[1])\n",
    "        patience = params[1].split(':')[1]\n",
    "        window = params[2].split(':')[1]\n",
    "        violations = report['Violations']\n",
    "        triggered = report['RuleTriggered']\n",
    "        datapoints = report['Datapoints']\n",
    "    \n",
    "        text=Paragraph(text=f\"\"\"The GPUMemoryIncrease rule helps to detect large increase in memory usage on GPUs. \n",
    "        The rule checked if the moving average of memory increased by more than {increase}%. \n",
    "        So if the moving average increased for instance from 10% to {11+increase}%, \n",
    "        the rule would have triggered. During initialization utilization  is likely 0, so the rule skipped the first {patience} datapoints.\n",
    "        The moving average was computed on a window size of {window} continuous datapoints. The rule detected {violations} violations\n",
    "        where the moving average between previous and current time window increased by more than {increase}%.\n",
    "        The rule analysed {datapoints} datapoints and triggered {triggered} times.\"\"\",\n",
    "                       width=900)\n",
    "        show(text)\n",
    "\n",
    "        if len(report['Details']) > 0:\n",
    "            \n",
    "            timestamp = us_since_epoch_to_human_readable_time(report['Details']['last_timestamp'])\n",
    "            date = datetime.datetime.strptime(timestamp, '%Y-%m-%dT%H:%M:%S:%f')\n",
    "            day = date.date().strftime(\"%m/%d/%Y\")\n",
    "            hour = date.time().strftime(\"%H:%M:%S\")\n",
    "            text = Paragraph(text=f\"\"\"Your training job triggered memory spikes. \n",
    "            The last time the GPUMemoryIncrease rule triggered in your training job was on {day} at {hour}.\n",
    "            The following boxplots are a snapshot from the timestamps. They show for each node and GPU the corresponding\n",
    "            memory utilization (without outliers).\"\"\", width=900)\n",
    "            show(text)\n",
    "            \n",
    "            del report['Details']['last_timestamp']\n",
    "            \n",
    "            for node_id in report['Details']:\n",
    "    \n",
    "                plot = figure(plot_height=350, \n",
    "                          plot_width=1000,\n",
    "                          toolbar_location='right',\n",
    "                          tools=\"hover,wheel_zoom,reset,pan\", \n",
    "                          title=f\"Node {node_id}\",\n",
    "                          x_range=(0,17),\n",
    "                          )\n",
    "\n",
    "                for index, key in enumerate(report['Details'][node_id]):\n",
    "                    display(Markdown(f\"\"\"**Memory utilization of {key} on node {node_id}:**\"\"\"))\n",
    "                    text = \"\"\n",
    "                    gpu_max = report['Details'][node_id][key]['gpu_max']\n",
    "                    text = f\"\"\"{text} The max memory utilization of {key} on node {node_id} was {gpu_max}%.\"\"\"\n",
    "                    \n",
    "                    p_95 = int(report['Details'][node_id][key]['p95'])\n",
    "                    p_5 = report['Details'][node_id][key]['p05']\n",
    "                    if p_95 < int(50): \n",
    "                        text = f\"\"\"{text} The 95th percentile was only {p_95}%.\"\"\"\n",
    "                    if p_5 < int(5): \n",
    "                        text = f\"\"\"{text} The 5th percentile was only {p_5}%.\"\"\"\n",
    "                    if p_95 - p_5 > 50:\n",
    "                        text = f\"\"\"{text} The difference between 5th percentile {p_5}% and 95th percentile {p_95}% is quite \n",
    "                        significant, which means that memory utilization on {key} is fluctuating quite a lot.\"\"\"\n",
    "                        \n",
    "                    text = Paragraph(text=f\"\"\"{text}\"\"\", width=900)\n",
    "                    show(text)\n",
    "                    \n",
    "                    upper = report['Details'][node_id][key]['upper']\n",
    "                    lower = report['Details'][node_id][key]['lower']\n",
    "                    p75 = report['Details'][node_id][key]['p75']\n",
    "                    p25 = report['Details'][node_id][key]['p25']\n",
    "                    p50 = report['Details'][node_id][key]['p50']\n",
    "\n",
    "                    plot.segment(index+1, upper, index+1, p75, line_color=\"black\")\n",
    "                    plot.segment(index+1, lower, index+1, p25, line_color=\"black\")\n",
    "\n",
    "                    plot.vbar(index+1, 0.7, p50, p75, fill_color=\"#FDE725\", line_color=\"black\")\n",
    "                    plot.vbar(index+1, 0.7, p25, p50, fill_color=\"#440154\", line_color=\"black\")\n",
    "\n",
    "                    plot.rect(index+1, lower, 0.2, 0.01, line_color=\"black\")\n",
    "                    plot.rect(index+1, upper, 0.2, 0.01, line_color=\"black\")\n",
    "\n",
    "                    plot.xaxis.major_label_overrides[index+1] = key\n",
    "                    plot.xgrid.grid_line_color = None\n",
    "                    plot.ygrid.grid_line_color = \"white\"\n",
    "                    plot.grid.grid_line_width = 0\n",
    "\n",
    "                    plot.xaxis.major_label_text_font_size=\"10px\"\n",
    "                plot.xaxis.ticker = np.arange(index+2)\n",
    "                plot.yaxis.axis_label = \"Utilization in %\"\n",
    "                show(plot)"
   ]
  }
 ],
 "metadata": {
  "celltoolbar": "Tags",
  "kernelspec": {
   "display_name": "Python 3",
   "language": "python",
   "name": "python3"
  },
  "language_info": {
   "codemirror_mode": {
    "name": "ipython",
    "version": 3
   },
   "file_extension": ".py",
   "mimetype": "text/x-python",
   "name": "python",
   "nbconvert_exporter": "python",
   "pygments_lexer": "ipython3",
   "version": "3.7.10"
  },
  "papermill": {
   "duration": 5.441146,
   "end_time": "2023-04-06T09:10:38.009566",
   "environment_variables": {},
   "exception": null,
   "input_path": "/opt/ml/code/profiler_report.ipynb",
   "output_path": "/opt/ml/processing/output/rule/profiler-output/.sagemaker-ignore/out.tmp",
   "parameters": {
    "processing_job_arn": "arn:aws:sagemaker:us-east-1:432255178055:processing-job/main-2023-04-06-08-31-59-8-profilerreport-7d29c6cc"
   },
   "start_time": "2023-04-06T09:10:32.568420",
   "version": "2.1.2"
  }
 },
 "nbformat": 4,
 "nbformat_minor": 4
}